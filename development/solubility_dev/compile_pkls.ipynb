{
 "cells": [
  {
   "cell_type": "code",
   "execution_count": 1,
   "id": "887bb21a-e6db-4561-b5fd-8b587db9dc13",
   "metadata": {},
   "outputs": [],
   "source": [
    "import pathlib\n",
    "import pandas as pd\n",
    "from datetime import datetime"
   ]
  },
  {
   "cell_type": "code",
   "execution_count": 2,
   "id": "1ab7208d-c168-4547-a0e4-f83d6fccd266",
   "metadata": {},
   "outputs": [],
   "source": [
    "indf = pd.read_csv('filtered_aq_soldb.csv')"
   ]
  },
  {
   "cell_type": "code",
   "execution_count": 3,
   "id": "176efbac-8c74-4a71-b0f7-486b9bfced36",
   "metadata": {},
   "outputs": [
    {
     "data": {
      "text/plain": [
       "(8797, 7)"
      ]
     },
     "execution_count": 3,
     "metadata": {},
     "output_type": "execute_result"
    }
   ],
   "source": [
    "indf.shape"
   ]
  },
  {
   "cell_type": "code",
   "execution_count": 15,
   "id": "f851716c-ca17-4849-9601-44365e5d157a",
   "metadata": {},
   "outputs": [
    {
     "data": {
      "text/html": [
       "<div>\n",
       "<style scoped>\n",
       "    .dataframe tbody tr th:only-of-type {\n",
       "        vertical-align: middle;\n",
       "    }\n",
       "\n",
       "    .dataframe tbody tr th {\n",
       "        vertical-align: top;\n",
       "    }\n",
       "\n",
       "    .dataframe thead th {\n",
       "        text-align: right;\n",
       "    }\n",
       "</style>\n",
       "<table border=\"1\" class=\"dataframe\">\n",
       "  <thead>\n",
       "    <tr style=\"text-align: right;\">\n",
       "      <th></th>\n",
       "      <th>Unnamed: 0</th>\n",
       "      <th>ID</th>\n",
       "      <th>Name</th>\n",
       "      <th>InChIKey</th>\n",
       "      <th>SMILES</th>\n",
       "      <th>Solubility</th>\n",
       "      <th>natoms</th>\n",
       "    </tr>\n",
       "  </thead>\n",
       "  <tbody>\n",
       "    <tr>\n",
       "      <th>0</th>\n",
       "      <td>1</td>\n",
       "      <td>A-4</td>\n",
       "      <td>Benzo[cd]indol-2(1H)-one</td>\n",
       "      <td>GPYLCFQEKPUWLD-UHFFFAOYSA-N</td>\n",
       "      <td>O=C1Nc2cccc3cccc1c23</td>\n",
       "      <td>-3.254767</td>\n",
       "      <td>20.0</td>\n",
       "    </tr>\n",
       "    <tr>\n",
       "      <th>1</th>\n",
       "      <td>2</td>\n",
       "      <td>A-5</td>\n",
       "      <td>4-chlorobenzaldehyde</td>\n",
       "      <td>AVPYQKSLYISFPO-UHFFFAOYSA-N</td>\n",
       "      <td>Clc1ccc(C=O)cc1</td>\n",
       "      <td>-2.177078</td>\n",
       "      <td>14.0</td>\n",
       "    </tr>\n",
       "    <tr>\n",
       "      <th>2</th>\n",
       "      <td>4</td>\n",
       "      <td>A-9</td>\n",
       "      <td>4-({4-[bis(oxiran-2-ylmethyl)amino]phenyl}meth...</td>\n",
       "      <td>FAUAZXVRLVIARB-UHFFFAOYSA-N</td>\n",
       "      <td>C1OC1CN(CC2CO2)c3ccc(Cc4ccc(cc4)N(CC5CO5)CC6CO...</td>\n",
       "      <td>-4.662065</td>\n",
       "      <td>61.0</td>\n",
       "    </tr>\n",
       "    <tr>\n",
       "      <th>3</th>\n",
       "      <td>5</td>\n",
       "      <td>A-10</td>\n",
       "      <td>vinyltoluene</td>\n",
       "      <td>JZHGRUMIRATHIU-UHFFFAOYSA-N</td>\n",
       "      <td>Cc1cccc(C=C)c1</td>\n",
       "      <td>-3.123150</td>\n",
       "      <td>19.0</td>\n",
       "    </tr>\n",
       "    <tr>\n",
       "      <th>4</th>\n",
       "      <td>6</td>\n",
       "      <td>A-11</td>\n",
       "      <td>3-(3-ethylcyclopentyl)propanoic acid</td>\n",
       "      <td>WVRFSLWCFASCIS-UHFFFAOYSA-N</td>\n",
       "      <td>CCC1CCC(CCC(O)=O)C1</td>\n",
       "      <td>-3.286116</td>\n",
       "      <td>30.0</td>\n",
       "    </tr>\n",
       "    <tr>\n",
       "      <th>...</th>\n",
       "      <td>...</td>\n",
       "      <td>...</td>\n",
       "      <td>...</td>\n",
       "      <td>...</td>\n",
       "      <td>...</td>\n",
       "      <td>...</td>\n",
       "      <td>...</td>\n",
       "    </tr>\n",
       "    <tr>\n",
       "      <th>8792</th>\n",
       "      <td>9977</td>\n",
       "      <td>I-84</td>\n",
       "      <td>tetracaine</td>\n",
       "      <td>GKCBAIGFKIBETG-UHFFFAOYSA-N</td>\n",
       "      <td>C(c1ccc(cc1)NCCCC)(=O)OCCN(C)C</td>\n",
       "      <td>-3.010000</td>\n",
       "      <td>43.0</td>\n",
       "    </tr>\n",
       "    <tr>\n",
       "      <th>8793</th>\n",
       "      <td>9978</td>\n",
       "      <td>I-85</td>\n",
       "      <td>tetracycline</td>\n",
       "      <td>OFVLGDICTFRJMM-WESIUVDSSA-N</td>\n",
       "      <td>OC1=C(C(C2=C(O)[C@@](C(C(C(N)=O)=C(O)[C@H]3N(C...</td>\n",
       "      <td>-2.930000</td>\n",
       "      <td>56.0</td>\n",
       "    </tr>\n",
       "    <tr>\n",
       "      <th>8794</th>\n",
       "      <td>9979</td>\n",
       "      <td>I-86</td>\n",
       "      <td>thymol</td>\n",
       "      <td>MGSRCZKZVOBKFT-UHFFFAOYSA-N</td>\n",
       "      <td>c1(cc(ccc1C(C)C)C)O</td>\n",
       "      <td>-2.190000</td>\n",
       "      <td>25.0</td>\n",
       "    </tr>\n",
       "    <tr>\n",
       "      <th>8795</th>\n",
       "      <td>9980</td>\n",
       "      <td>I-93</td>\n",
       "      <td>verapamil</td>\n",
       "      <td>SGTNSNPWRIOYBX-UHFFFAOYSA-N</td>\n",
       "      <td>COc1ccc(CCN(C)CCCC(C#N)(C(C)C)c2ccc(OC)c(OC)c2...</td>\n",
       "      <td>-3.980000</td>\n",
       "      <td>71.0</td>\n",
       "    </tr>\n",
       "    <tr>\n",
       "      <th>8796</th>\n",
       "      <td>9981</td>\n",
       "      <td>I-94</td>\n",
       "      <td>warfarin</td>\n",
       "      <td>PJVWKTKQMONHTI-UHFFFAOYSA-N</td>\n",
       "      <td>CC(=O)CC(c1ccccc1)c1c(O)c2ccccc2oc1=O</td>\n",
       "      <td>-4.780000</td>\n",
       "      <td>39.0</td>\n",
       "    </tr>\n",
       "  </tbody>\n",
       "</table>\n",
       "<p>8796 rows × 7 columns</p>\n",
       "</div>"
      ],
      "text/plain": [
       "      Unnamed: 0    ID                                               Name  \\\n",
       "0              1   A-4                           Benzo[cd]indol-2(1H)-one   \n",
       "1              2   A-5                               4-chlorobenzaldehyde   \n",
       "2              4   A-9  4-({4-[bis(oxiran-2-ylmethyl)amino]phenyl}meth...   \n",
       "3              5  A-10                                       vinyltoluene   \n",
       "4              6  A-11               3-(3-ethylcyclopentyl)propanoic acid   \n",
       "...          ...   ...                                                ...   \n",
       "8792        9977  I-84                                         tetracaine   \n",
       "8793        9978  I-85                                       tetracycline   \n",
       "8794        9979  I-86                                             thymol   \n",
       "8795        9980  I-93                                          verapamil   \n",
       "8796        9981  I-94                                           warfarin   \n",
       "\n",
       "                         InChIKey  \\\n",
       "0     GPYLCFQEKPUWLD-UHFFFAOYSA-N   \n",
       "1     AVPYQKSLYISFPO-UHFFFAOYSA-N   \n",
       "2     FAUAZXVRLVIARB-UHFFFAOYSA-N   \n",
       "3     JZHGRUMIRATHIU-UHFFFAOYSA-N   \n",
       "4     WVRFSLWCFASCIS-UHFFFAOYSA-N   \n",
       "...                           ...   \n",
       "8792  GKCBAIGFKIBETG-UHFFFAOYSA-N   \n",
       "8793  OFVLGDICTFRJMM-WESIUVDSSA-N   \n",
       "8794  MGSRCZKZVOBKFT-UHFFFAOYSA-N   \n",
       "8795  SGTNSNPWRIOYBX-UHFFFAOYSA-N   \n",
       "8796  PJVWKTKQMONHTI-UHFFFAOYSA-N   \n",
       "\n",
       "                                                 SMILES  Solubility  natoms  \n",
       "0                                  O=C1Nc2cccc3cccc1c23   -3.254767    20.0  \n",
       "1                                       Clc1ccc(C=O)cc1   -2.177078    14.0  \n",
       "2     C1OC1CN(CC2CO2)c3ccc(Cc4ccc(cc4)N(CC5CO5)CC6CO...   -4.662065    61.0  \n",
       "3                                        Cc1cccc(C=C)c1   -3.123150    19.0  \n",
       "4                                   CCC1CCC(CCC(O)=O)C1   -3.286116    30.0  \n",
       "...                                                 ...         ...     ...  \n",
       "8792                     C(c1ccc(cc1)NCCCC)(=O)OCCN(C)C   -3.010000    43.0  \n",
       "8793  OC1=C(C(C2=C(O)[C@@](C(C(C(N)=O)=C(O)[C@H]3N(C...   -2.930000    56.0  \n",
       "8794                                c1(cc(ccc1C(C)C)C)O   -2.190000    25.0  \n",
       "8795  COc1ccc(CCN(C)CCCC(C#N)(C(C)C)c2ccc(OC)c(OC)c2...   -3.980000    71.0  \n",
       "8796              CC(=O)CC(c1ccccc1)c1c(O)c2ccccc2oc1=O   -4.780000    39.0  \n",
       "\n",
       "[8796 rows x 7 columns]"
      ]
     },
     "execution_count": 15,
     "metadata": {},
     "output_type": "execute_result"
    }
   ],
   "source": [
    "indf"
   ]
  },
  {
   "cell_type": "code",
   "execution_count": 6,
   "id": "ec8fad0b-a0ec-44d8-ab45-1004963551e9",
   "metadata": {},
   "outputs": [
    {
     "name": "stdout",
     "output_type": "stream",
     "text": [
      "8796\n"
     ]
    },
    {
     "data": {
      "text/plain": [
       "0.9998863248834831"
      ]
     },
     "execution_count": 6,
     "metadata": {},
     "output_type": "execute_result"
    }
   ],
   "source": [
    "savedir = pathlib.Path(\n",
    "    'completed_pickles')\n",
    "df_paths = [x for x in savedir.glob('*pkl')]\n",
    "print(len(df_paths))\n",
    "len(df_paths) / indf.shape[0]"
   ]
  },
  {
   "cell_type": "code",
   "execution_count": 7,
   "id": "d399b009-5a2b-4f91-bd8d-c948e62cf8f0",
   "metadata": {},
   "outputs": [
    {
     "name": "stdout",
     "output_type": "stream",
     "text": [
      "2024-10-19 22:33:19.541091\n"
     ]
    }
   ],
   "source": [
    "print(datetime.now())"
   ]
  },
  {
   "cell_type": "code",
   "execution_count": 8,
   "id": "afa1d52d-83ce-415a-9b20-01ed3bac964b",
   "metadata": {},
   "outputs": [
    {
     "name": "stdout",
     "output_type": "stream",
     "text": [
      "2024-10-19 17:48:40.786993\n"
     ]
    }
   ],
   "source": [
    "last_dt = datetime.fromisoformat('2024-10-16 14:21:22.921116')\n",
    "for p in df_paths:\n",
    "    dt = datetime.fromtimestamp(p.stat().st_mtime)\n",
    "    if last_dt < dt:\n",
    "        last_dt = dt\n",
    "    #print(p, dt)\n",
    "print(last_dt)"
   ]
  },
  {
   "cell_type": "code",
   "execution_count": 9,
   "id": "217c7163-eebf-4dd5-9f68-208d884441a0",
   "metadata": {},
   "outputs": [],
   "source": [
    "dfs = [pd.read_pickle(x) for x in savedir.glob('*pkl')]"
   ]
  },
  {
   "cell_type": "code",
   "execution_count": 10,
   "id": "c55800ed-15a6-4daa-b3c5-19f53ca715f0",
   "metadata": {},
   "outputs": [],
   "source": [
    "compiled_df = pd.concat(dfs)"
   ]
  },
  {
   "cell_type": "code",
   "execution_count": 11,
   "id": "6ecb2c20-9414-453f-a17d-f11c660fc425",
   "metadata": {},
   "outputs": [
    {
     "data": {
      "text/plain": [
       "Index(['energy', 'free_energy', 'forces', 'dipole', 'charges', 'xtb_mol2',\n",
       "       'uff_energy', 'uff_mol2', 'smiles', 'total_charge',\n",
       "       'total_unpaired_electrons', 'n_atoms', 'xtb_solvent', 'sas',\n",
       "       'born_radii', 'error'],\n",
       "      dtype='object')"
      ]
     },
     "execution_count": 11,
     "metadata": {},
     "output_type": "execute_result"
    }
   ],
   "source": [
    "compiled_df.columns"
   ]
  },
  {
   "cell_type": "code",
   "execution_count": 12,
   "id": "c71da348-6a22-4398-abf1-16ceeb733849",
   "metadata": {},
   "outputs": [
    {
     "data": {
      "text/plain": [
       "total_charge\n",
       " 0.0    214758\n",
       "-1.0       999\n",
       " 2.0       723\n",
       " 1.0       302\n",
       "-2.0       174\n",
       "Name: count, dtype: int64"
      ]
     },
     "execution_count": 12,
     "metadata": {},
     "output_type": "execute_result"
    }
   ],
   "source": [
    "compiled_df.total_charge.value_counts()"
   ]
  },
  {
   "cell_type": "code",
   "execution_count": 13,
   "id": "90b7e0fd-5a75-4611-aed6-c97c588200fb",
   "metadata": {},
   "outputs": [
    {
     "data": {
      "text/plain": [
       "error\n",
       "                                216956\n",
       "XTB-Python Relaxation Failed         1\n",
       "Name: count, dtype: int64"
      ]
     },
     "execution_count": 13,
     "metadata": {},
     "output_type": "execute_result"
    }
   ],
   "source": [
    "compiled_df.error.value_counts()"
   ]
  },
  {
   "cell_type": "code",
   "execution_count": 16,
   "id": "2ebc2354-6f20-46aa-96da-85dbd6c8c2be",
   "metadata": {},
   "outputs": [
    {
     "data": {
      "text/plain": [
       "21    XTB-Python Relaxation Failed\n",
       "Name: error, dtype: object"
      ]
     },
     "execution_count": 16,
     "metadata": {},
     "output_type": "execute_result"
    }
   ],
   "source": [
    "compiled_df[compiled_df.error != ''].error"
   ]
  },
  {
   "cell_type": "code",
   "execution_count": 17,
   "id": "cabd7465-94c4-4af8-9d8f-7fc0f7713e84",
   "metadata": {},
   "outputs": [
    {
     "data": {
      "text/plain": [
       "21    C(Cc1ccccc1)c2ccccc2\n",
       "Name: smiles, dtype: object"
      ]
     },
     "execution_count": 17,
     "metadata": {},
     "output_type": "execute_result"
    }
   ],
   "source": [
    "compiled_df[compiled_df.error != ''].smiles"
   ]
  },
  {
   "cell_type": "code",
   "execution_count": 108,
   "id": "ce898ff4-546a-4fed-a12b-3888309f42ed",
   "metadata": {},
   "outputs": [
    {
     "data": {
      "text/plain": [
       "smiles\n",
       "CCCCCCCCCCCCCCCCCCCCO                                          50\n",
       "CCO[P](=O)(OCC)O[P](=O)(OCC)OCC                                50\n",
       "CSCCC(NC(C)=O)C(=O)O                                           50\n",
       "FC(F)C(F)(F)OC1=C(Cl)C=C(NC(=O)NC(=O)C2=C(F)C=CC=C2F)C=C1Cl    50\n",
       "Nc1ccc(cc1Cl)C2(c3ccc(N)c(Cl)c3)c4ccccc4c5ccccc25              50\n",
       "                                                               ..\n",
       "CCOC(=O)COC(=O)C1=CC=CC=C1OC(C)=O                               1\n",
       "Cc1ccc2C(=O)c3ccccc3C(=O)c2c1N                                  1\n",
       "CC12CCC3C(CCC4=CC(=CC=C34)O)C1CCC2(O)C#C                        1\n",
       "CC1=C2C=CC3=C(C=CC=C3)C2=C(C)C4=C1C=CC=C4                       1\n",
       "O=C1C=CC(=O)C=C1                                                1\n",
       "Name: count, Length: 8293, dtype: int64"
      ]
     },
     "execution_count": 108,
     "metadata": {},
     "output_type": "execute_result"
    }
   ],
   "source": [
    "compiled_df.smiles.value_counts()"
   ]
  },
  {
   "cell_type": "code",
   "execution_count": 21,
   "id": "f532c822-885f-4ae7-ad8c-de6a385f5311",
   "metadata": {},
   "outputs": [],
   "source": [
    "mindf = compiled_df.sort_values('energy').drop_duplicates('smiles')"
   ]
  },
  {
   "cell_type": "code",
   "execution_count": 23,
   "id": "af87c51a-37ea-4456-9150-8f214081a5e8",
   "metadata": {},
   "outputs": [
    {
     "data": {
      "text/plain": [
       "(8796, 16)"
      ]
     },
     "execution_count": 23,
     "metadata": {},
     "output_type": "execute_result"
    }
   ],
   "source": [
    "mindf.shape"
   ]
  },
  {
   "cell_type": "code",
   "execution_count": 24,
   "id": "5f1b561a-98f8-4dcd-9cf1-218b8703df69",
   "metadata": {},
   "outputs": [],
   "source": [
    "merged = pd.merge(mindf,indf,left_on='smiles',right_on='SMILES')"
   ]
  },
  {
   "cell_type": "code",
   "execution_count": 28,
   "id": "46bfab6a-73d6-452e-950b-e8825e8aa4a3",
   "metadata": {},
   "outputs": [],
   "source": [
    "merged.to_pickle('merged_all_data.pkl')"
   ]
  },
  {
   "cell_type": "code",
   "execution_count": 105,
   "id": "f8ea3956-1d31-41ca-85a9-cd60e0ebd256",
   "metadata": {},
   "outputs": [
    {
     "data": {
      "text/plain": [
       "<matplotlib.collections.PathCollection at 0x7f3cf5fe3a50>"
      ]
     },
     "execution_count": 105,
     "metadata": {},
     "output_type": "execute_result"
    },
    {
     "data": {
      "image/png": "[encoded data removed]",
      "text/plain": [
       "<Figure size 640x480 with 1 Axes>"
      ]
     },
     "metadata": {},
     "output_type": "display_data"
    }
   ],
   "source": [
    "import matplotlib.pyplot as plt\n",
    "plt.scatter(compiled_df.iloc[0]['sas'],\n",
    "            compiled_df.iloc[0]['born_radii'])"
   ]
  },
  {
   "cell_type": "code",
   "execution_count": null,
   "id": "e8f0f9ac-cec9-4416-8176-6ecbc45c7ba3",
   "metadata": {},
   "outputs": [],
   "source": []
  }
 ],
 "metadata": {
  "kernelspec": {
   "display_name": "Python 3 (ipykernel)",
   "language": "python",
   "name": "python3"
  },
  "language_info": {
   "codemirror_mode": {
    "name": "ipython",
    "version": 3
   },
   "file_extension": ".py",
   "mimetype": "text/x-python",
   "name": "python",
   "nbconvert_exporter": "python",
   "pygments_lexer": "ipython3",
   "version": "3.11.10"
  }
 },
 "nbformat": 4,
 "nbformat_minor": 5
}
