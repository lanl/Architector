{
 "cells": [
  {
   "cell_type": "markdown",
   "id": "44159819",
   "metadata": {},
   "source": [
    "# Need to install an additional package\n",
    "\n",
    "`conda install executorlib`"
   ]
  },
  {
   "cell_type": "markdown",
   "id": "8ce90290-eb42-479a-984a-9053f49b476b",
   "metadata": {},
   "source": [
    "## Download AqSolDb v1 the first time you run:"
   ]
  },
  {
   "cell_type": "code",
   "execution_count": 2,
   "id": "9ca328a6-e28d-4098-907f-f62ce2c43386",
   "metadata": {},
   "outputs": [],
   "source": [
    "# !curl https://www.amdlab.nl/database/AqSolDB/data/AqSolDB_v1.0_min.csv > AqSolDB_v1.0_min.csv"
   ]
  },
  {
   "cell_type": "code",
   "execution_count": 1,
   "id": "ee331cc4-7983-4f02-842e-ac66e46bae17",
   "metadata": {},
   "outputs": [],
   "source": [
    "import pandas as pd\n",
    "from tqdm import tqdm\n",
    "from architector.io_obabel import get_obmol_smiles, get_OBMol_coords_anums_graph\n",
    "import architector.io_ptable as io_ptable\n",
    "from architector import convert_io_molecule, view_structures\n",
    "from architector.io_obabel import generate_obmol_conformers\n",
    "from executorlib import Executor\n",
    "import numpy as np"
   ]
  },
  {
   "cell_type": "code",
   "execution_count": 2,
   "id": "305af5a7-3841-4b62-83ca-11f1cf0cfa83",
   "metadata": {},
   "outputs": [],
   "source": [
    "df = pd.read_csv('AqSolDB_v1.0_min.csv')"
   ]
  },
  {
   "cell_type": "code",
   "execution_count": 3,
   "id": "48be044d-026a-4398-9517-f327bad15785",
   "metadata": {},
   "outputs": [
    {
     "data": {
      "text/html": [
       "<div>\n",
       "<style scoped>\n",
       "    .dataframe tbody tr th:only-of-type {\n",
       "        vertical-align: middle;\n",
       "    }\n",
       "\n",
       "    .dataframe tbody tr th {\n",
       "        vertical-align: top;\n",
       "    }\n",
       "\n",
       "    .dataframe thead th {\n",
       "        text-align: right;\n",
       "    }\n",
       "</style>\n",
       "<table border=\"1\" class=\"dataframe\">\n",
       "  <thead>\n",
       "    <tr style=\"text-align: right;\">\n",
       "      <th></th>\n",
       "      <th>ID</th>\n",
       "      <th>Name</th>\n",
       "      <th>InChIKey</th>\n",
       "      <th>SMILES</th>\n",
       "      <th>Solubility</th>\n",
       "    </tr>\n",
       "  </thead>\n",
       "  <tbody>\n",
       "    <tr>\n",
       "      <th>0</th>\n",
       "      <td>A-3</td>\n",
       "      <td>N,N,N-trimethyloctadecan-1-aminium bromide</td>\n",
       "      <td>SZEMGTQCPRNXEG-UHFFFAOYSA-M</td>\n",
       "      <td>[Br-].CCCCCCCCCCCCCCCCCC[N+](C)(C)C</td>\n",
       "      <td>-3.616127</td>\n",
       "    </tr>\n",
       "    <tr>\n",
       "      <th>1</th>\n",
       "      <td>A-4</td>\n",
       "      <td>Benzo[cd]indol-2(1H)-one</td>\n",
       "      <td>GPYLCFQEKPUWLD-UHFFFAOYSA-N</td>\n",
       "      <td>O=C1Nc2cccc3cccc1c23</td>\n",
       "      <td>-3.254767</td>\n",
       "    </tr>\n",
       "    <tr>\n",
       "      <th>2</th>\n",
       "      <td>A-5</td>\n",
       "      <td>4-chlorobenzaldehyde</td>\n",
       "      <td>AVPYQKSLYISFPO-UHFFFAOYSA-N</td>\n",
       "      <td>Clc1ccc(C=O)cc1</td>\n",
       "      <td>-2.177078</td>\n",
       "    </tr>\n",
       "    <tr>\n",
       "      <th>3</th>\n",
       "      <td>A-8</td>\n",
       "      <td>zinc bis[2-hydroxy-3,5-bis(1-phenylethyl)benzo...</td>\n",
       "      <td>XTUPUYCJWKHGSW-UHFFFAOYSA-L</td>\n",
       "      <td>[Zn++].CC(c1ccccc1)c2cc(C(C)c3ccccc3)c(O)c(c2)...</td>\n",
       "      <td>-3.924409</td>\n",
       "    </tr>\n",
       "    <tr>\n",
       "      <th>4</th>\n",
       "      <td>A-9</td>\n",
       "      <td>4-({4-[bis(oxiran-2-ylmethyl)amino]phenyl}meth...</td>\n",
       "      <td>FAUAZXVRLVIARB-UHFFFAOYSA-N</td>\n",
       "      <td>C1OC1CN(CC2CO2)c3ccc(Cc4ccc(cc4)N(CC5CO5)CC6CO...</td>\n",
       "      <td>-4.662065</td>\n",
       "    </tr>\n",
       "    <tr>\n",
       "      <th>...</th>\n",
       "      <td>...</td>\n",
       "      <td>...</td>\n",
       "      <td>...</td>\n",
       "      <td>...</td>\n",
       "      <td>...</td>\n",
       "    </tr>\n",
       "    <tr>\n",
       "      <th>9977</th>\n",
       "      <td>I-84</td>\n",
       "      <td>tetracaine</td>\n",
       "      <td>GKCBAIGFKIBETG-UHFFFAOYSA-N</td>\n",
       "      <td>C(c1ccc(cc1)NCCCC)(=O)OCCN(C)C</td>\n",
       "      <td>-3.010000</td>\n",
       "    </tr>\n",
       "    <tr>\n",
       "      <th>9978</th>\n",
       "      <td>I-85</td>\n",
       "      <td>tetracycline</td>\n",
       "      <td>OFVLGDICTFRJMM-WESIUVDSSA-N</td>\n",
       "      <td>OC1=C(C(C2=C(O)[C@@](C(C(C(N)=O)=C(O)[C@H]3N(C...</td>\n",
       "      <td>-2.930000</td>\n",
       "    </tr>\n",
       "    <tr>\n",
       "      <th>9979</th>\n",
       "      <td>I-86</td>\n",
       "      <td>thymol</td>\n",
       "      <td>MGSRCZKZVOBKFT-UHFFFAOYSA-N</td>\n",
       "      <td>c1(cc(ccc1C(C)C)C)O</td>\n",
       "      <td>-2.190000</td>\n",
       "    </tr>\n",
       "    <tr>\n",
       "      <th>9980</th>\n",
       "      <td>I-93</td>\n",
       "      <td>verapamil</td>\n",
       "      <td>SGTNSNPWRIOYBX-UHFFFAOYSA-N</td>\n",
       "      <td>COc1ccc(CCN(C)CCCC(C#N)(C(C)C)c2ccc(OC)c(OC)c2...</td>\n",
       "      <td>-3.980000</td>\n",
       "    </tr>\n",
       "    <tr>\n",
       "      <th>9981</th>\n",
       "      <td>I-94</td>\n",
       "      <td>warfarin</td>\n",
       "      <td>PJVWKTKQMONHTI-UHFFFAOYSA-N</td>\n",
       "      <td>CC(=O)CC(c1ccccc1)c1c(O)c2ccccc2oc1=O</td>\n",
       "      <td>-4.780000</td>\n",
       "    </tr>\n",
       "  </tbody>\n",
       "</table>\n",
       "<p>9982 rows × 5 columns</p>\n",
       "</div>"
      ],
      "text/plain": [
       "        ID                                               Name  \\\n",
       "0      A-3         N,N,N-trimethyloctadecan-1-aminium bromide   \n",
       "1      A-4                           Benzo[cd]indol-2(1H)-one   \n",
       "2      A-5                               4-chlorobenzaldehyde   \n",
       "3      A-8  zinc bis[2-hydroxy-3,5-bis(1-phenylethyl)benzo...   \n",
       "4      A-9  4-({4-[bis(oxiran-2-ylmethyl)amino]phenyl}meth...   \n",
       "...    ...                                                ...   \n",
       "9977  I-84                                         tetracaine   \n",
       "9978  I-85                                       tetracycline   \n",
       "9979  I-86                                             thymol   \n",
       "9980  I-93                                          verapamil   \n",
       "9981  I-94                                           warfarin   \n",
       "\n",
       "                         InChIKey  \\\n",
       "0     SZEMGTQCPRNXEG-UHFFFAOYSA-M   \n",
       "1     GPYLCFQEKPUWLD-UHFFFAOYSA-N   \n",
       "2     AVPYQKSLYISFPO-UHFFFAOYSA-N   \n",
       "3     XTUPUYCJWKHGSW-UHFFFAOYSA-L   \n",
       "4     FAUAZXVRLVIARB-UHFFFAOYSA-N   \n",
       "...                           ...   \n",
       "9977  GKCBAIGFKIBETG-UHFFFAOYSA-N   \n",
       "9978  OFVLGDICTFRJMM-WESIUVDSSA-N   \n",
       "9979  MGSRCZKZVOBKFT-UHFFFAOYSA-N   \n",
       "9980  SGTNSNPWRIOYBX-UHFFFAOYSA-N   \n",
       "9981  PJVWKTKQMONHTI-UHFFFAOYSA-N   \n",
       "\n",
       "                                                 SMILES  Solubility  \n",
       "0                   [Br-].CCCCCCCCCCCCCCCCCC[N+](C)(C)C   -3.616127  \n",
       "1                                  O=C1Nc2cccc3cccc1c23   -3.254767  \n",
       "2                                       Clc1ccc(C=O)cc1   -2.177078  \n",
       "3     [Zn++].CC(c1ccccc1)c2cc(C(C)c3ccccc3)c(O)c(c2)...   -3.924409  \n",
       "4     C1OC1CN(CC2CO2)c3ccc(Cc4ccc(cc4)N(CC5CO5)CC6CO...   -4.662065  \n",
       "...                                                 ...         ...  \n",
       "9977                     C(c1ccc(cc1)NCCCC)(=O)OCCN(C)C   -3.010000  \n",
       "9978  OC1=C(C(C2=C(O)[C@@](C(C(C(N)=O)=C(O)[C@H]3N(C...   -2.930000  \n",
       "9979                                c1(cc(ccc1C(C)C)C)O   -2.190000  \n",
       "9980  COc1ccc(CCN(C)CCCC(C#N)(C(C)C)c2ccc(OC)c(OC)c2...   -3.980000  \n",
       "9981              CC(=O)CC(c1ccccc1)c1c(O)c2ccccc2oc1=O   -4.780000  \n",
       "\n",
       "[9982 rows x 5 columns]"
      ]
     },
     "execution_count": 3,
     "metadata": {},
     "output_type": "execute_result"
    }
   ],
   "source": [
    "df"
   ]
  },
  {
   "cell_type": "code",
   "execution_count": 4,
   "id": "2ead2917-a732-496d-a2bc-276272b82437",
   "metadata": {},
   "outputs": [],
   "source": [
    "f1 = (df.SMILES.str.count('\\.') < 1) # Remove any disjoint components"
   ]
  },
  {
   "cell_type": "code",
   "execution_count": 5,
   "id": "644b040b-a189-454b-8b70-87cf60935a5d",
   "metadata": {},
   "outputs": [
    {
     "name": "stderr",
     "output_type": "stream",
     "text": [
      "100%|████████████████████████████████████████████████████████████████| 9982/9982 [00:09<00:00, 1096.15it/s]\n"
     ]
    }
   ],
   "source": [
    "f2 = pd.Series([True]*df.shape[0])\n",
    "natoms = pd.Series([0.0]*df.shape[0])\n",
    "for i,row in tqdm(df.iterrows(), total=df.shape[0]):\n",
    "    obmol = get_obmol_smiles(row['SMILES'], build=False)\n",
    "    _ , syms, _  = get_OBMol_coords_anums_graph(obmol, get_types=True)\n",
    "    natoms.loc[i] = len(syms)\n",
    "    mets = [x for x in syms if x in io_ptable.all_metals]\n",
    "    if len(mets) > 0:\n",
    "        f2[i] = False"
   ]
  },
  {
   "cell_type": "code",
   "execution_count": 6,
   "id": "d2e08573-95d6-4bb4-aa3a-dd2b18ef70b1",
   "metadata": {},
   "outputs": [],
   "source": [
    "df['natoms'] = natoms"
   ]
  },
  {
   "cell_type": "code",
   "execution_count": 11,
   "id": "2c4f1e59-ad31-4630-be7d-8e43c6421e5b",
   "metadata": {},
   "outputs": [],
   "source": [
    "f3 = df.natoms < 400 # Size limit - only 1 larger"
   ]
  },
  {
   "cell_type": "code",
   "execution_count": 12,
   "id": "dcc56629-4007-4a03-b490-bef96370871d",
   "metadata": {},
   "outputs": [
    {
     "name": "stdout",
     "output_type": "stream",
     "text": [
      "(8796, 6)\n"
     ]
    }
   ],
   "source": [
    "fdf = df[(f2) & (f1) & (f3)]\n",
    "print(fdf.shape)"
   ]
  },
  {
   "cell_type": "code",
   "execution_count": 13,
   "id": "ca0aa06e-7d67-4d5b-8f1f-0bd93f516594",
   "metadata": {},
   "outputs": [
    {
     "data": {
      "text/plain": [
       "SMILES\n",
       "CC(=O)CC(c1ccccc1)c1c(O)c2ccccc2oc1=O                                                      1\n",
       "O=C1Nc2cccc3cccc1c23                                                                       1\n",
       "Clc1ccc(C=O)cc1                                                                            1\n",
       "C1OC1CN(CC2CO2)c3ccc(Cc4ccc(cc4)N(CC5CO5)CC6CO6)cc3                                        1\n",
       "Cc1cccc(C=C)c1                                                                             1\n",
       "                                                                                          ..\n",
       "OC(=O)C1CCCCC1                                                                             1\n",
       "C(CCCN=C\\C=C\\c1ccccc1)CCN=C/C=C/c2ccccc2                                                   1\n",
       "CC(C)(C)CC(C)(C)c1cc(Cc2cc(cc(n3nc4ccccc4n3)c2O)C(C)(C)CC(C)(C)C)c(O)c(c1)n5nc6ccccc6n5    1\n",
       "C1CN(CCO1)Sc2sc3ccccc3n2                                                                   1\n",
       "CC1(C)[C@H]2C[C@@H]3O[C@]3(C)[C@@H]1C2                                                     1\n",
       "Name: count, Length: 8796, dtype: int64"
      ]
     },
     "execution_count": 13,
     "metadata": {},
     "output_type": "execute_result"
    }
   ],
   "source": [
    "fdf.SMILES.value_counts()"
   ]
  },
  {
   "cell_type": "code",
   "execution_count": 14,
   "id": "57f4dd9d-f8b0-439d-8904-adcfca8e0434",
   "metadata": {},
   "outputs": [
    {
     "data": {
      "text/plain": [
       "<Axes: >"
      ]
     },
     "execution_count": 14,
     "metadata": {},
     "output_type": "execute_result"
    },
    {
     "data": {
      "image/png": "[encoded data removed]",
      "text/plain": [
       "<Figure size 640x480 with 1 Axes>"
      ]
     },
     "metadata": {},
     "output_type": "display_data"
    }
   ],
   "source": [
    "fdf.natoms.hist()"
   ]
  },
  {
   "cell_type": "code",
   "execution_count": 15,
   "id": "f8ca945b-1511-496a-b2ae-12ff0a09607c",
   "metadata": {},
   "outputs": [],
   "source": [
    "fdf.to_csv('filtered_aq_soldb.csv')"
   ]
  },
  {
   "cell_type": "code",
   "execution_count": 16,
   "id": "475134ef-ea63-4b37-9091-e7b4aec9c83f",
   "metadata": {},
   "outputs": [],
   "source": [
    "def gen_confs(smi, totaln=50):\n",
    "    inmol = convert_io_molecule(smi)\n",
    "    confs, energies = generate_obmol_conformers(inmol, return_energies=True, conf_cutoff=totaln*100)\n",
    "    energies = np.array(energies)\n",
    "    confs = np.array(confs)\n",
    "    inds = np.argsort(energies)[0:totaln]\n",
    "    energies = energies[inds]\n",
    "    confs = confs[inds]\n",
    "    out_confs = []\n",
    "    for i,conf in enumerate(confs):\n",
    "        tmol = convert_io_molecule(conf)\n",
    "        tmol.charge = inmol.charge\n",
    "        tmol.uhf = 0\n",
    "        tmol.xtb_charge = inmol.charge\n",
    "        tmol.xtb_uhf = 0\n",
    "        tconf = tmol.write_mol2('UFF_Energy={}'.format(energies[i]), writestring=True)\n",
    "        out_confs.append(tconf)\n",
    "    return out_confs"
   ]
  },
  {
   "cell_type": "code",
   "execution_count": 17,
   "id": "112ebacb-098b-4575-ba4c-77340ecf0aeb",
   "metadata": {},
   "outputs": [
    {
     "data": {
      "text/plain": [
       "'CO[C@H]1C[C@@H](O[C@@H](C)[C@@H]1O)OC2[C@H](C)O[C@H](C[C@@H]2OC)OC3[C@@H](C)/C=C/C=C/4CO[C@@H]5[C@H](O)C(=C[C@@H](C(=O)O[C@H]6C[C@@H](C\\\\C=C3/C)O[C@@]7(C6)O[C@@H]([C@@H](C)C=C7)C8CCCCC8)[C@]45O)C'"
      ]
     },
     "execution_count": 17,
     "metadata": {},
     "output_type": "execute_result"
    }
   ],
   "source": [
    "fdf[fdf.natoms > 100].SMILES.values[1]"
   ]
  },
  {
   "cell_type": "code",
   "execution_count": 18,
   "id": "8f8e60b5-ea5d-4d07-bdd7-0fb46e84da9e",
   "metadata": {},
   "outputs": [],
   "source": [
    "confs = gen_confs('[O-]CCCCC')\n",
    "#confs = gen_confs(fdf[fdf.natoms > 100].SMILES.values[1])"
   ]
  },
  {
   "cell_type": "code",
   "execution_count": 19,
   "id": "7a54da56-4ccf-46d9-a058-cfbbbf3a8a1e",
   "metadata": {},
   "outputs": [
    {
     "data": {
      "text/plain": [
       "['@<TRIPOS>MOLECULE\\nUFF_Energy=0.18325400322895535 Charge: -1 Unpaired_Electrons: 0 XTB_Unpaired_Electrons: 0 XTB_Charge: -1\\n    17    16     1     0     0\\nSMALL\\nNoCharges\\n****\\nGenerated from Architector\\n\\n@<TRIPOS>ATOM\\n     1 O1        2.5614   -0.4492    2.6016   O.3       1 RES1   0.0000\\n     2 C1        2.1702   -1.4784    1.8678   C.3       1 RES1   0.0000\\n     3 C2        2.7027   -1.2748    0.4234   C.3       1 RES1   0.0000\\n     4 C3        2.3497   -2.3768   -0.5923   C.3       1 RES1   0.0000\\n     5 C4        2.8826   -2.1597   -2.0105   C.3       1 RES1   0.0000\\n     6 C5        2.5068   -3.2752   -2.9740   C.3       1 RES1   0.0000\\n     7 H1        2.4765   -2.4919    2.1697   H         1 RES1   0.0000\\n     8 H2        1.0859   -1.6255    1.7400   H         1 RES1   0.0000\\n     9 H3        2.3124   -0.3194    0.0493   H         1 RES1   0.0000\\n    10 H4        3.7959   -1.1530    0.4376   H         1 RES1   0.0000\\n    11 H5        2.7359   -3.3300   -0.2106   H         1 RES1   0.0000\\n    12 H6        1.2597   -2.4919   -0.6424   H         1 RES1   0.0000\\n    13 H7        2.4711   -1.2179   -2.3942   H         1 RES1   0.0000\\n    14 H8        3.9705   -2.0355   -1.9978   H         1 RES1   0.0000\\n    15 H9        1.4196   -3.3829   -3.0406   H         1 RES1   0.0000\\n    16 H10       2.8863   -3.0497   -3.9755   H         1 RES1   0.0000\\n    17 H11       2.9320   -4.2349   -2.6673   H         1 RES1   0.0000\\n@<TRIPOS>BOND\\n     1     1     2    1\\n     2     2     3    1\\n     3     2     7    1\\n     4     2     8    1\\n     5     3     4    1\\n     6     3     9    1\\n     7     3    10    1\\n     8     4     5    1\\n     9     4    11    1\\n    10     4    12    1\\n    11     5     6    1\\n    12     5    13    1\\n    13     5    14    1\\n    14     6    15    1\\n    15     6    16    1\\n    16     6    17    1\\n@<TRIPOS>SUBSTRUCTURE\\n     1 RES1       17 GROUP             0 ****  ****    0  \\n',\n",
       " '@<TRIPOS>MOLECULE\\nUFF_Energy=0.20876015108203883 Charge: -1 Unpaired_Electrons: 0 XTB_Unpaired_Electrons: 0 XTB_Charge: -1\\n    17    16     1     0     0\\nSMALL\\nNoCharges\\n****\\nGenerated from Architector\\n\\n@<TRIPOS>ATOM\\n     1 O1        2.6743   -2.6074    2.3389   O.3       1 RES1   0.0000\\n     2 C1        2.1702   -1.4784    1.8678   C.3       1 RES1   0.0000\\n     3 C2        2.7027   -1.2748    0.4234   C.3       1 RES1   0.0000\\n     4 C3        2.3497   -2.3768   -0.5923   C.3       1 RES1   0.0000\\n     5 C4        2.8826   -2.1597   -2.0105   C.3       1 RES1   0.0000\\n     6 C5        2.5068   -3.2752   -2.9740   C.3       1 RES1   0.0000\\n     7 H1        1.0761   -1.3689    1.8117   H         1 RES1   0.0000\\n     8 H2        2.4393   -0.5470    2.3910   H         1 RES1   0.0000\\n     9 H3        2.3124   -0.3194    0.0493   H         1 RES1   0.0000\\n    10 H4        3.7959   -1.1530    0.4376   H         1 RES1   0.0000\\n    11 H5        2.7359   -3.3300   -0.2106   H         1 RES1   0.0000\\n    12 H6        1.2597   -2.4919   -0.6424   H         1 RES1   0.0000\\n    13 H7        2.4711   -1.2179   -2.3942   H         1 RES1   0.0000\\n    14 H8        3.9705   -2.0355   -1.9978   H         1 RES1   0.0000\\n    15 H9        1.4196   -3.3829   -3.0406   H         1 RES1   0.0000\\n    16 H10       2.8863   -3.0497   -3.9755   H         1 RES1   0.0000\\n    17 H11       2.9320   -4.2349   -2.6673   H         1 RES1   0.0000\\n@<TRIPOS>BOND\\n     1     1     2    1\\n     2     2     3    1\\n     3     2     7    1\\n     4     2     8    1\\n     5     3     4    1\\n     6     3     9    1\\n     7     3    10    1\\n     8     4     5    1\\n     9     4    11    1\\n    10     4    12    1\\n    11     5     6    1\\n    12     5    13    1\\n    13     5    14    1\\n    14     6    15    1\\n    15     6    16    1\\n    16     6    17    1\\n@<TRIPOS>SUBSTRUCTURE\\n     1 RES1       17 GROUP             0 ****  ****    0  \\n',\n",
       " '@<TRIPOS>MOLECULE\\nUFF_Energy=0.21051468442087024 Charge: -1 Unpaired_Electrons: 0 XTB_Unpaired_Electrons: 0 XTB_Charge: -1\\n    17    16     1     0     0\\nSMALL\\nNoCharges\\n****\\nGenerated from Architector\\n\\n@<TRIPOS>ATOM\\n     1 O1        0.8726    0.1137    0.0128   O.3       1 RES1   0.0000\\n     2 C1        2.1929    0.1534    0.0894   C.3       1 RES1   0.0000\\n     3 C2        2.7027   -1.2748    0.4234   C.3       1 RES1   0.0000\\n     4 C3        2.3497   -2.3768   -0.5923   C.3       1 RES1   0.0000\\n     5 C4        2.8826   -2.1597   -2.0105   C.3       1 RES1   0.0000\\n     6 C5        2.5068   -3.2752   -2.9740   C.3       1 RES1   0.0000\\n     7 H1        2.7653    0.4878   -0.7897   H         1 RES1   0.0000\\n     8 H2        2.6353    0.7904    0.8718   H         1 RES1   0.0000\\n     9 H3        3.7951   -1.2308    0.5227   H         1 RES1   0.0000\\n    10 H4        2.3363   -1.5847    1.4132   H         1 RES1   0.0000\\n    11 H5        2.7359   -3.3300   -0.2106   H         1 RES1   0.0000\\n    12 H6        1.2597   -2.4919   -0.6424   H         1 RES1   0.0000\\n    13 H7        2.4711   -1.2179   -2.3942   H         1 RES1   0.0000\\n    14 H8        3.9705   -2.0355   -1.9978   H         1 RES1   0.0000\\n    15 H9        1.4196   -3.3829   -3.0406   H         1 RES1   0.0000\\n    16 H10       2.8863   -3.0497   -3.9755   H         1 RES1   0.0000\\n    17 H11       2.9320   -4.2349   -2.6673   H         1 RES1   0.0000\\n@<TRIPOS>BOND\\n     1     1     2    1\\n     2     2     3    1\\n     3     2     7    1\\n     4     2     8    1\\n     5     3     4    1\\n     6     3     9    1\\n     7     3    10    1\\n     8     4     5    1\\n     9     4    11    1\\n    10     4    12    1\\n    11     5     6    1\\n    12     5    13    1\\n    13     5    14    1\\n    14     6    15    1\\n    15     6    16    1\\n    16     6    17    1\\n@<TRIPOS>SUBSTRUCTURE\\n     1 RES1       17 GROUP             0 ****  ****    0  \\n',\n",
       " '@<TRIPOS>MOLECULE\\nUFF_Energy=0.21120982440406763 Charge: -1 Unpaired_Electrons: 0 XTB_Unpaired_Electrons: 0 XTB_Charge: -1\\n    17    16     1     0     0\\nSMALL\\nNoCharges\\n****\\nGenerated from Architector\\n\\n@<TRIPOS>ATOM\\n     1 O1        0.9266    0.2034    0.0973   O.3       1 RES1   0.0000\\n     2 C1        2.2486    0.1645    0.0580   C.3       1 RES1   0.0000\\n     3 C2        2.7027   -1.2748    0.4234   C.3       1 RES1   0.0000\\n     4 C3        2.3497   -2.3768   -0.5923   C.3       1 RES1   0.0000\\n     5 C4        2.8826   -2.1597   -2.0105   C.3       1 RES1   0.0000\\n     6 C5        4.4015   -2.1286   -2.0865   C.3       1 RES1   0.0000\\n     7 H1        2.7589    0.4195   -0.8837   H         1 RES1   0.0000\\n     8 H2        2.7949    0.8099    0.7642   H         1 RES1   0.0000\\n     9 H3        3.7920   -1.2630    0.5588   H         1 RES1   0.0000\\n    10 H4        2.2943   -1.5623    1.4035   H         1 RES1   0.0000\\n    11 H5        2.7359   -3.3300   -0.2106   H         1 RES1   0.0000\\n    12 H6        1.2597   -2.4919   -0.6424   H         1 RES1   0.0000\\n    13 H7        2.5212   -2.9785   -2.6449   H         1 RES1   0.0000\\n    14 H8        2.4739   -1.2382   -2.4381   H         1 RES1   0.0000\\n    15 H9        4.8299   -3.0629   -1.7102   H         1 RES1   0.0000\\n    16 H10       4.7228   -2.0035   -3.1253   H         1 RES1   0.0000\\n    17 H11       4.8185   -1.2988   -1.5090   H         1 RES1   0.0000\\n@<TRIPOS>BOND\\n     1     1     2    1\\n     2     2     3    1\\n     3     2     7    1\\n     4     2     8    1\\n     5     3     4    1\\n     6     3     9    1\\n     7     3    10    1\\n     8     4     5    1\\n     9     4    11    1\\n    10     4    12    1\\n    11     5     6    1\\n    12     5    13    1\\n    13     5    14    1\\n    14     6    15    1\\n    15     6    16    1\\n    16     6    17    1\\n@<TRIPOS>SUBSTRUCTURE\\n     1 RES1       17 GROUP             0 ****  ****    0  \\n',\n",
       " '@<TRIPOS>MOLECULE\\nUFF_Energy=0.21189146703796927 Charge: -1 Unpaired_Electrons: 0 XTB_Unpaired_Electrons: 0 XTB_Charge: -1\\n    17    16     1     0     0\\nSMALL\\nNoCharges\\n****\\nGenerated from Architector\\n\\n@<TRIPOS>ATOM\\n     1 O1        2.5811    0.9678    1.0572   O.3       1 RES1   0.0000\\n     2 C1        2.1929    0.1534    0.0894   C.3       1 RES1   0.0000\\n     3 C2        2.7027   -1.2748    0.4234   C.3       1 RES1   0.0000\\n     4 C3        2.3497   -2.3768   -0.5923   C.3       1 RES1   0.0000\\n     5 C4        2.8826   -2.1597   -2.0105   C.3       1 RES1   0.0000\\n     6 C5        2.5068   -3.2752   -2.9740   C.3       1 RES1   0.0000\\n     7 H1        1.1168    0.0556   -0.1217   H         1 RES1   0.0000\\n     8 H2        2.5796    0.3506   -0.9232   H         1 RES1   0.0000\\n     9 H3        3.7951   -1.2308    0.5227   H         1 RES1   0.0000\\n    10 H4        2.3363   -1.5847    1.4132   H         1 RES1   0.0000\\n    11 H5        2.7359   -3.3300   -0.2106   H         1 RES1   0.0000\\n    12 H6        1.2597   -2.4919   -0.6424   H         1 RES1   0.0000\\n    13 H7        2.4711   -1.2179   -2.3942   H         1 RES1   0.0000\\n    14 H8        3.9705   -2.0355   -1.9978   H         1 RES1   0.0000\\n    15 H9        1.4196   -3.3829   -3.0406   H         1 RES1   0.0000\\n    16 H10       2.8863   -3.0497   -3.9755   H         1 RES1   0.0000\\n    17 H11       2.9320   -4.2349   -2.6673   H         1 RES1   0.0000\\n@<TRIPOS>BOND\\n     1     1     2    1\\n     2     2     3    1\\n     3     2     7    1\\n     4     2     8    1\\n     5     3     4    1\\n     6     3     9    1\\n     7     3    10    1\\n     8     4     5    1\\n     9     4    11    1\\n    10     4    12    1\\n    11     5     6    1\\n    12     5    13    1\\n    13     5    14    1\\n    14     6    15    1\\n    15     6    16    1\\n    16     6    17    1\\n@<TRIPOS>SUBSTRUCTURE\\n     1 RES1       17 GROUP             0 ****  ****    0  \\n',\n",
       " '@<TRIPOS>MOLECULE\\nUFF_Energy=0.21237173862740133 Charge: -1 Unpaired_Electrons: 0 XTB_Unpaired_Electrons: 0 XTB_Charge: -1\\n    17    16     1     0     0\\nSMALL\\nNoCharges\\n****\\nGenerated from Architector\\n\\n@<TRIPOS>ATOM\\n     1 O1        4.3380   -0.0586    1.5603   O.3       1 RES1   0.0000\\n     2 C1        4.2162   -1.0286    0.6687   C.3       1 RES1   0.0000\\n     3 C2        2.7027   -1.2748    0.4234   C.3       1 RES1   0.0000\\n     4 C3        2.3497   -2.3768   -0.5923   C.3       1 RES1   0.0000\\n     5 C4        2.8826   -2.1597   -2.0105   C.3       1 RES1   0.0000\\n     6 C5        2.5068   -3.2752   -2.9740   C.3       1 RES1   0.0000\\n     7 H1        4.6724   -0.8963   -0.3246   H         1 RES1   0.0000\\n     8 H2        4.6124   -2.0196    0.9419   H         1 RES1   0.0000\\n     9 H3        2.2396   -1.5281    1.3859   H         1 RES1   0.0000\\n    10 H4        2.2147   -0.3413    0.1064   H         1 RES1   0.0000\\n    11 H5        2.7359   -3.3300   -0.2106   H         1 RES1   0.0000\\n    12 H6        1.2597   -2.4919   -0.6424   H         1 RES1   0.0000\\n    13 H7        2.4711   -1.2179   -2.3942   H         1 RES1   0.0000\\n    14 H8        3.9705   -2.0355   -1.9978   H         1 RES1   0.0000\\n    15 H9        1.4196   -3.3829   -3.0406   H         1 RES1   0.0000\\n    16 H10       2.8863   -3.0497   -3.9755   H         1 RES1   0.0000\\n    17 H11       2.9320   -4.2349   -2.6673   H         1 RES1   0.0000\\n@<TRIPOS>BOND\\n     1     1     2    1\\n     2     2     3    1\\n     3     2     7    1\\n     4     2     8    1\\n     5     3     4    1\\n     6     3     9    1\\n     7     3    10    1\\n     8     4     5    1\\n     9     4    11    1\\n    10     4    12    1\\n    11     5     6    1\\n    12     5    13    1\\n    13     5    14    1\\n    14     6    15    1\\n    15     6    16    1\\n    16     6    17    1\\n@<TRIPOS>SUBSTRUCTURE\\n     1 RES1       17 GROUP             0 ****  ****    0  \\n',\n",
       " '@<TRIPOS>MOLECULE\\nUFF_Energy=0.21307419785632833 Charge: -1 Unpaired_Electrons: 0 XTB_Unpaired_Electrons: 0 XTB_Charge: -1\\n    17    16     1     0     0\\nSMALL\\nNoCharges\\n****\\nGenerated from Architector\\n\\n@<TRIPOS>ATOM\\n     1 O1        2.5614   -0.4492    2.6016   O.3       1 RES1   0.0000\\n     2 C1        2.1702   -1.4784    1.8678   C.3       1 RES1   0.0000\\n     3 C2        2.7027   -1.2748    0.4234   C.3       1 RES1   0.0000\\n     4 C3        2.3497   -2.3768   -0.5923   C.3       1 RES1   0.0000\\n     5 C4        2.8826   -2.1597   -2.0105   C.3       1 RES1   0.0000\\n     6 C5        4.3993   -2.0656   -2.0777   C.3       1 RES1   0.0000\\n     7 H1        2.4765   -2.4919    2.1697   H         1 RES1   0.0000\\n     8 H2        1.0859   -1.6255    1.7400   H         1 RES1   0.0000\\n     9 H3        2.3124   -0.3194    0.0493   H         1 RES1   0.0000\\n    10 H4        3.7959   -1.1530    0.4376   H         1 RES1   0.0000\\n    11 H5        2.7359   -3.3300   -0.2106   H         1 RES1   0.0000\\n    12 H6        1.2597   -2.4919   -0.6424   H         1 RES1   0.0000\\n    13 H7        2.5604   -3.0029   -2.6339   H         1 RES1   0.0000\\n    14 H8        2.4383   -1.2631   -2.4553   H         1 RES1   0.0000\\n    15 H9        4.8642   -2.9750   -1.6839   H         1 RES1   0.0000\\n    16 H10       4.7221   -1.9434   -3.1164   H         1 RES1   0.0000\\n    17 H11       4.7770   -1.2100   -1.5110   H         1 RES1   0.0000\\n@<TRIPOS>BOND\\n     1     1     2    1\\n     2     2     3    1\\n     3     2     7    1\\n     4     2     8    1\\n     5     3     4    1\\n     6     3     9    1\\n     7     3    10    1\\n     8     4     5    1\\n     9     4    11    1\\n    10     4    12    1\\n    11     5     6    1\\n    12     5    13    1\\n    13     5    14    1\\n    14     6    15    1\\n    15     6    16    1\\n    16     6    17    1\\n@<TRIPOS>SUBSTRUCTURE\\n     1 RES1       17 GROUP             0 ****  ****    0  \\n',\n",
       " '@<TRIPOS>MOLECULE\\nUFF_Energy=0.213127959386512 Charge: -1 Unpaired_Electrons: 0 XTB_Unpaired_Electrons: 0 XTB_Charge: -1\\n    17    16     1     0     0\\nSMALL\\nNoCharges\\n****\\nGenerated from Architector\\n\\n@<TRIPOS>ATOM\\n     1 O1        0.8495   -1.5413    1.8165   O.3       1 RES1   0.0000\\n     2 C1        2.1702   -1.4784    1.8678   C.3       1 RES1   0.0000\\n     3 C2        2.7027   -1.2748    0.4234   C.3       1 RES1   0.0000\\n     4 C3        2.3497   -2.3768   -0.5923   C.3       1 RES1   0.0000\\n     5 C4        2.8826   -2.1597   -2.0105   C.3       1 RES1   0.0000\\n     6 C5        2.5068   -3.2752   -2.9740   C.3       1 RES1   0.0000\\n     7 H1        2.6403   -0.6960    2.4833   H         1 RES1   0.0000\\n     8 H2        2.7053   -2.3699    2.2321   H         1 RES1   0.0000\\n     9 H3        2.3124   -0.3194    0.0493   H         1 RES1   0.0000\\n    10 H4        3.7959   -1.1530    0.4376   H         1 RES1   0.0000\\n    11 H5        2.7359   -3.3300   -0.2106   H         1 RES1   0.0000\\n    12 H6        1.2597   -2.4919   -0.6424   H         1 RES1   0.0000\\n    13 H7        2.4711   -1.2179   -2.3942   H         1 RES1   0.0000\\n    14 H8        3.9705   -2.0355   -1.9978   H         1 RES1   0.0000\\n    15 H9        1.4196   -3.3829   -3.0406   H         1 RES1   0.0000\\n    16 H10       2.8863   -3.0497   -3.9755   H         1 RES1   0.0000\\n    17 H11       2.9320   -4.2349   -2.6673   H         1 RES1   0.0000\\n@<TRIPOS>BOND\\n     1     1     2    1\\n     2     2     3    1\\n     3     2     7    1\\n     4     2     8    1\\n     5     3     4    1\\n     6     3     9    1\\n     7     3    10    1\\n     8     4     5    1\\n     9     4    11    1\\n    10     4    12    1\\n    11     5     6    1\\n    12     5    13    1\\n    13     5    14    1\\n    14     6    15    1\\n    15     6    16    1\\n    16     6    17    1\\n@<TRIPOS>SUBSTRUCTURE\\n     1 RES1       17 GROUP             0 ****  ****    0  \\n',\n",
       " '@<TRIPOS>MOLECULE\\nUFF_Energy=0.21719935798410406 Charge: -1 Unpaired_Electrons: 0 XTB_Unpaired_Electrons: 0 XTB_Charge: -1\\n    17    16     1     0     0\\nSMALL\\nNoCharges\\n****\\nGenerated from Architector\\n\\n@<TRIPOS>ATOM\\n     1 O1        2.5614   -0.4492    2.6016   O.3       1 RES1   0.0000\\n     2 C1        2.1702   -1.4784    1.8678   C.3       1 RES1   0.0000\\n     3 C2        2.7027   -1.2748    0.4234   C.3       1 RES1   0.0000\\n     4 C3        2.3497   -2.3768   -0.5923   C.3       1 RES1   0.0000\\n     5 C4        2.8826   -2.1597   -2.0105   C.3       1 RES1   0.0000\\n     6 C5        2.3723   -0.8814   -2.6581   C.3       1 RES1   0.0000\\n     7 H1        2.4765   -2.4919    2.1697   H         1 RES1   0.0000\\n     8 H2        1.0859   -1.6255    1.7400   H         1 RES1   0.0000\\n     9 H3        2.3124   -0.3194    0.0493   H         1 RES1   0.0000\\n    10 H4        3.7959   -1.1530    0.4376   H         1 RES1   0.0000\\n    11 H5        2.7359   -3.3300   -0.2106   H         1 RES1   0.0000\\n    12 H6        1.2597   -2.4919   -0.6424   H         1 RES1   0.0000\\n    13 H7        3.9776   -2.1111   -1.9649   H         1 RES1   0.0000\\n    14 H8        2.6408   -3.0168   -2.6477   H         1 RES1   0.0000\\n    15 H9        2.6478   -0.0056   -2.0621   H         1 RES1   0.0000\\n    16 H10       2.8109   -0.7643   -3.6540   H         1 RES1   0.0000\\n    17 H11       1.2850   -0.8932   -2.7746   H         1 RES1   0.0000\\n@<TRIPOS>BOND\\n     1     1     2    1\\n     2     2     3    1\\n     3     2     7    1\\n     4     2     8    1\\n     5     3     4    1\\n     6     3     9    1\\n     7     3    10    1\\n     8     4     5    1\\n     9     4    11    1\\n    10     4    12    1\\n    11     5     6    1\\n    12     5    13    1\\n    13     5    14    1\\n    14     6    15    1\\n    15     6    16    1\\n    16     6    17    1\\n@<TRIPOS>SUBSTRUCTURE\\n     1 RES1       17 GROUP             0 ****  ****    0  \\n',\n",
       " '@<TRIPOS>MOLECULE\\nUFF_Energy=0.2205733291689039 Charge: -1 Unpaired_Electrons: 0 XTB_Unpaired_Electrons: 0 XTB_Charge: -1\\n    17    16     1     0     0\\nSMALL\\nNoCharges\\n****\\nGenerated from Architector\\n\\n@<TRIPOS>ATOM\\n     1 O1        2.5811    0.9678    1.0572   O.3       1 RES1   0.0000\\n     2 C1        2.1929    0.1534    0.0894   C.3       1 RES1   0.0000\\n     3 C2        2.7027   -1.2748    0.4234   C.3       1 RES1   0.0000\\n     4 C3        2.3497   -2.3768   -0.5923   C.3       1 RES1   0.0000\\n     5 C4        2.8826   -2.1597   -2.0105   C.3       1 RES1   0.0000\\n     6 C5        4.3993   -2.0656   -2.0777   C.3       1 RES1   0.0000\\n     7 H1        1.1168    0.0556   -0.1217   H         1 RES1   0.0000\\n     8 H2        2.5796    0.3506   -0.9232   H         1 RES1   0.0000\\n     9 H3        3.7951   -1.2308    0.5227   H         1 RES1   0.0000\\n    10 H4        2.3363   -1.5847    1.4132   H         1 RES1   0.0000\\n    11 H5        2.7359   -3.3300   -0.2106   H         1 RES1   0.0000\\n    12 H6        1.2597   -2.4919   -0.6424   H         1 RES1   0.0000\\n    13 H7        2.5604   -3.0029   -2.6339   H         1 RES1   0.0000\\n    14 H8        2.4383   -1.2631   -2.4553   H         1 RES1   0.0000\\n    15 H9        4.8642   -2.9750   -1.6839   H         1 RES1   0.0000\\n    16 H10       4.7221   -1.9434   -3.1164   H         1 RES1   0.0000\\n    17 H11       4.7770   -1.2100   -1.5110   H         1 RES1   0.0000\\n@<TRIPOS>BOND\\n     1     1     2    1\\n     2     2     3    1\\n     3     2     7    1\\n     4     2     8    1\\n     5     3     4    1\\n     6     3     9    1\\n     7     3    10    1\\n     8     4     5    1\\n     9     4    11    1\\n    10     4    12    1\\n    11     5     6    1\\n    12     5    13    1\\n    13     5    14    1\\n    14     6    15    1\\n    15     6    16    1\\n    16     6    17    1\\n@<TRIPOS>SUBSTRUCTURE\\n     1 RES1       17 GROUP             0 ****  ****    0  \\n',\n",
       " '@<TRIPOS>MOLECULE\\nUFF_Energy=0.22398928462247505 Charge: -1 Unpaired_Electrons: 0 XTB_Unpaired_Electrons: 0 XTB_Charge: -1\\n    17    16     1     0     0\\nSMALL\\nNoCharges\\n****\\nGenerated from Architector\\n\\n@<TRIPOS>ATOM\\n     1 O1        0.8726    0.1137    0.0128   O.3       1 RES1   0.0000\\n     2 C1        2.1929    0.1534    0.0894   C.3       1 RES1   0.0000\\n     3 C2        2.7027   -1.2748    0.4234   C.3       1 RES1   0.0000\\n     4 C3        2.3497   -2.3768   -0.5923   C.3       1 RES1   0.0000\\n     5 C4        2.8826   -2.1597   -2.0105   C.3       1 RES1   0.0000\\n     6 C5        4.3993   -2.0656   -2.0777   C.3       1 RES1   0.0000\\n     7 H1        2.7653    0.4878   -0.7897   H         1 RES1   0.0000\\n     8 H2        2.6353    0.7904    0.8718   H         1 RES1   0.0000\\n     9 H3        3.7951   -1.2308    0.5227   H         1 RES1   0.0000\\n    10 H4        2.3363   -1.5847    1.4132   H         1 RES1   0.0000\\n    11 H5        2.7359   -3.3300   -0.2106   H         1 RES1   0.0000\\n    12 H6        1.2597   -2.4919   -0.6424   H         1 RES1   0.0000\\n    13 H7        2.5604   -3.0029   -2.6339   H         1 RES1   0.0000\\n    14 H8        2.4383   -1.2631   -2.4553   H         1 RES1   0.0000\\n    15 H9        4.8642   -2.9750   -1.6839   H         1 RES1   0.0000\\n    16 H10       4.7221   -1.9434   -3.1164   H         1 RES1   0.0000\\n    17 H11       4.7770   -1.2100   -1.5110   H         1 RES1   0.0000\\n@<TRIPOS>BOND\\n     1     1     2    1\\n     2     2     3    1\\n     3     2     7    1\\n     4     2     8    1\\n     5     3     4    1\\n     6     3     9    1\\n     7     3    10    1\\n     8     4     5    1\\n     9     4    11    1\\n    10     4    12    1\\n    11     5     6    1\\n    12     5    13    1\\n    13     5    14    1\\n    14     6    15    1\\n    15     6    16    1\\n    16     6    17    1\\n@<TRIPOS>SUBSTRUCTURE\\n     1 RES1       17 GROUP             0 ****  ****    0  \\n',\n",
       " '@<TRIPOS>MOLECULE\\nUFF_Energy=0.22697881934597047 Charge: -1 Unpaired_Electrons: 0 XTB_Unpaired_Electrons: 0 XTB_Charge: -1\\n    17    16     1     0     0\\nSMALL\\nNoCharges\\n****\\nGenerated from Architector\\n\\n@<TRIPOS>ATOM\\n     1 O1        4.7493   -2.1512    1.1228   O.3       1 RES1   0.0000\\n     2 C1        4.2162   -1.0286    0.6687   C.3       1 RES1   0.0000\\n     3 C2        2.7027   -1.2748    0.4234   C.3       1 RES1   0.0000\\n     4 C3        2.3497   -2.3768   -0.5923   C.3       1 RES1   0.0000\\n     5 C4        2.8826   -2.1597   -2.0105   C.3       1 RES1   0.0000\\n     6 C5        2.5068   -3.2752   -2.9740   C.3       1 RES1   0.0000\\n     7 H1        4.2849   -0.1205    1.2875   H         1 RES1   0.0000\\n     8 H2        4.5891   -0.6448   -0.2943   H         1 RES1   0.0000\\n     9 H3        2.2396   -1.5281    1.3859   H         1 RES1   0.0000\\n    10 H4        2.2147   -0.3413    0.1064   H         1 RES1   0.0000\\n    11 H5        2.7359   -3.3300   -0.2106   H         1 RES1   0.0000\\n    12 H6        1.2597   -2.4919   -0.6424   H         1 RES1   0.0000\\n    13 H7        2.4711   -1.2179   -2.3942   H         1 RES1   0.0000\\n    14 H8        3.9705   -2.0355   -1.9978   H         1 RES1   0.0000\\n    15 H9        1.4196   -3.3829   -3.0406   H         1 RES1   0.0000\\n    16 H10       2.8863   -3.0497   -3.9755   H         1 RES1   0.0000\\n    17 H11       2.9320   -4.2349   -2.6673   H         1 RES1   0.0000\\n@<TRIPOS>BOND\\n     1     1     2    1\\n     2     2     3    1\\n     3     2     7    1\\n     4     2     8    1\\n     5     3     4    1\\n     6     3     9    1\\n     7     3    10    1\\n     8     4     5    1\\n     9     4    11    1\\n    10     4    12    1\\n    11     5     6    1\\n    12     5    13    1\\n    13     5    14    1\\n    14     6    15    1\\n    15     6    16    1\\n    16     6    17    1\\n@<TRIPOS>SUBSTRUCTURE\\n     1 RES1       17 GROUP             0 ****  ****    0  \\n',\n",
       " '@<TRIPOS>MOLECULE\\nUFF_Energy=0.23305490084815655 Charge: -1 Unpaired_Electrons: 0 XTB_Unpaired_Electrons: 0 XTB_Charge: -1\\n    17    16     1     0     0\\nSMALL\\nNoCharges\\n****\\nGenerated from Architector\\n\\n@<TRIPOS>ATOM\\n     1 O1        4.3380   -0.0586    1.5603   O.3       1 RES1   0.0000\\n     2 C1        4.2162   -1.0286    0.6687   C.3       1 RES1   0.0000\\n     3 C2        2.7027   -1.2748    0.4234   C.3       1 RES1   0.0000\\n     4 C3        2.3497   -2.3768   -0.5923   C.3       1 RES1   0.0000\\n     5 C4        2.8826   -2.1597   -2.0105   C.3       1 RES1   0.0000\\n     6 C5        2.3723   -0.8814   -2.6581   C.3       1 RES1   0.0000\\n     7 H1        4.6724   -0.8963   -0.3246   H         1 RES1   0.0000\\n     8 H2        4.6124   -2.0196    0.9419   H         1 RES1   0.0000\\n     9 H3        2.2396   -1.5281    1.3859   H         1 RES1   0.0000\\n    10 H4        2.2147   -0.3413    0.1064   H         1 RES1   0.0000\\n    11 H5        2.7359   -3.3300   -0.2106   H         1 RES1   0.0000\\n    12 H6        1.2597   -2.4919   -0.6424   H         1 RES1   0.0000\\n    13 H7        3.9776   -2.1111   -1.9649   H         1 RES1   0.0000\\n    14 H8        2.6408   -3.0168   -2.6477   H         1 RES1   0.0000\\n    15 H9        2.6478   -0.0056   -2.0621   H         1 RES1   0.0000\\n    16 H10       2.8109   -0.7643   -3.6540   H         1 RES1   0.0000\\n    17 H11       1.2850   -0.8932   -2.7746   H         1 RES1   0.0000\\n@<TRIPOS>BOND\\n     1     1     2    1\\n     2     2     3    1\\n     3     2     7    1\\n     4     2     8    1\\n     5     3     4    1\\n     6     3     9    1\\n     7     3    10    1\\n     8     4     5    1\\n     9     4    11    1\\n    10     4    12    1\\n    11     5     6    1\\n    12     5    13    1\\n    13     5    14    1\\n    14     6    15    1\\n    15     6    16    1\\n    16     6    17    1\\n@<TRIPOS>SUBSTRUCTURE\\n     1 RES1       17 GROUP             0 ****  ****    0  \\n',\n",
       " '@<TRIPOS>MOLECULE\\nUFF_Energy=0.2383121975647334 Charge: -1 Unpaired_Electrons: 0 XTB_Unpaired_Electrons: 0 XTB_Charge: -1\\n    17    16     1     0     0\\nSMALL\\nNoCharges\\n****\\nGenerated from Architector\\n\\n@<TRIPOS>ATOM\\n     1 O1        2.6743   -2.6074    2.3389   O.3       1 RES1   0.0000\\n     2 C1        2.1702   -1.4784    1.8678   C.3       1 RES1   0.0000\\n     3 C2        2.7027   -1.2748    0.4234   C.3       1 RES1   0.0000\\n     4 C3        2.3497   -2.3768   -0.5923   C.3       1 RES1   0.0000\\n     5 C4        2.8826   -2.1597   -2.0105   C.3       1 RES1   0.0000\\n     6 C5        4.3993   -2.0656   -2.0777   C.3       1 RES1   0.0000\\n     7 H1        1.0761   -1.3689    1.8117   H         1 RES1   0.0000\\n     8 H2        2.4393   -0.5470    2.3910   H         1 RES1   0.0000\\n     9 H3        2.3124   -0.3194    0.0493   H         1 RES1   0.0000\\n    10 H4        3.7959   -1.1530    0.4376   H         1 RES1   0.0000\\n    11 H5        2.7359   -3.3300   -0.2106   H         1 RES1   0.0000\\n    12 H6        1.2597   -2.4919   -0.6424   H         1 RES1   0.0000\\n    13 H7        2.5604   -3.0029   -2.6339   H         1 RES1   0.0000\\n    14 H8        2.4383   -1.2631   -2.4553   H         1 RES1   0.0000\\n    15 H9        4.8642   -2.9750   -1.6839   H         1 RES1   0.0000\\n    16 H10       4.7221   -1.9434   -3.1164   H         1 RES1   0.0000\\n    17 H11       4.7770   -1.2100   -1.5110   H         1 RES1   0.0000\\n@<TRIPOS>BOND\\n     1     1     2    1\\n     2     2     3    1\\n     3     2     7    1\\n     4     2     8    1\\n     5     3     4    1\\n     6     3     9    1\\n     7     3    10    1\\n     8     4     5    1\\n     9     4    11    1\\n    10     4    12    1\\n    11     5     6    1\\n    12     5    13    1\\n    13     5    14    1\\n    14     6    15    1\\n    15     6    16    1\\n    16     6    17    1\\n@<TRIPOS>SUBSTRUCTURE\\n     1 RES1       17 GROUP             0 ****  ****    0  \\n',\n",
       " '@<TRIPOS>MOLECULE\\nUFF_Energy=0.24347429376503796 Charge: -1 Unpaired_Electrons: 0 XTB_Unpaired_Electrons: 0 XTB_Charge: -1\\n    17    16     1     0     0\\nSMALL\\nNoCharges\\n****\\nGenerated from Architector\\n\\n@<TRIPOS>ATOM\\n     1 O1        2.6743   -2.6074    2.3389   O.3       1 RES1   0.0000\\n     2 C1        2.1702   -1.4784    1.8678   C.3       1 RES1   0.0000\\n     3 C2        2.7027   -1.2748    0.4234   C.3       1 RES1   0.0000\\n     4 C3        2.3497   -2.3768   -0.5923   C.3       1 RES1   0.0000\\n     5 C4        2.8826   -2.1597   -2.0105   C.3       1 RES1   0.0000\\n     6 C5        2.3723   -0.8814   -2.6581   C.3       1 RES1   0.0000\\n     7 H1        1.0761   -1.3689    1.8117   H         1 RES1   0.0000\\n     8 H2        2.4393   -0.5470    2.3910   H         1 RES1   0.0000\\n     9 H3        2.3124   -0.3194    0.0493   H         1 RES1   0.0000\\n    10 H4        3.7959   -1.1530    0.4376   H         1 RES1   0.0000\\n    11 H5        2.7359   -3.3300   -0.2106   H         1 RES1   0.0000\\n    12 H6        1.2597   -2.4919   -0.6424   H         1 RES1   0.0000\\n    13 H7        3.9776   -2.1111   -1.9649   H         1 RES1   0.0000\\n    14 H8        2.6408   -3.0168   -2.6477   H         1 RES1   0.0000\\n    15 H9        2.6478   -0.0056   -2.0621   H         1 RES1   0.0000\\n    16 H10       2.8109   -0.7643   -3.6540   H         1 RES1   0.0000\\n    17 H11       1.2850   -0.8932   -2.7746   H         1 RES1   0.0000\\n@<TRIPOS>BOND\\n     1     1     2    1\\n     2     2     3    1\\n     3     2     7    1\\n     4     2     8    1\\n     5     3     4    1\\n     6     3     9    1\\n     7     3    10    1\\n     8     4     5    1\\n     9     4    11    1\\n    10     4    12    1\\n    11     5     6    1\\n    12     5    13    1\\n    13     5    14    1\\n    14     6    15    1\\n    15     6    16    1\\n    16     6    17    1\\n@<TRIPOS>SUBSTRUCTURE\\n     1 RES1       17 GROUP             0 ****  ****    0  \\n',\n",
       " '@<TRIPOS>MOLECULE\\nUFF_Energy=0.24370003233513404 Charge: -1 Unpaired_Electrons: 0 XTB_Unpaired_Electrons: 0 XTB_Charge: -1\\n    17    16     1     0     0\\nSMALL\\nNoCharges\\n****\\nGenerated from Architector\\n\\n@<TRIPOS>ATOM\\n     1 O1        0.8495   -1.5413    1.8165   O.3       1 RES1   0.0000\\n     2 C1        2.1702   -1.4784    1.8678   C.3       1 RES1   0.0000\\n     3 C2        2.7027   -1.2748    0.4234   C.3       1 RES1   0.0000\\n     4 C3        2.3497   -2.3768   -0.5923   C.3       1 RES1   0.0000\\n     5 C4        2.8826   -2.1597   -2.0105   C.3       1 RES1   0.0000\\n     6 C5        4.3993   -2.0656   -2.0777   C.3       1 RES1   0.0000\\n     7 H1        2.6403   -0.6960    2.4833   H         1 RES1   0.0000\\n     8 H2        2.7053   -2.3699    2.2321   H         1 RES1   0.0000\\n     9 H3        2.3124   -0.3194    0.0493   H         1 RES1   0.0000\\n    10 H4        3.7959   -1.1530    0.4376   H         1 RES1   0.0000\\n    11 H5        2.7359   -3.3300   -0.2106   H         1 RES1   0.0000\\n    12 H6        1.2597   -2.4919   -0.6424   H         1 RES1   0.0000\\n    13 H7        2.5604   -3.0029   -2.6339   H         1 RES1   0.0000\\n    14 H8        2.4383   -1.2631   -2.4553   H         1 RES1   0.0000\\n    15 H9        4.8642   -2.9750   -1.6839   H         1 RES1   0.0000\\n    16 H10       4.7221   -1.9434   -3.1164   H         1 RES1   0.0000\\n    17 H11       4.7770   -1.2100   -1.5110   H         1 RES1   0.0000\\n@<TRIPOS>BOND\\n     1     1     2    1\\n     2     2     3    1\\n     3     2     7    1\\n     4     2     8    1\\n     5     3     4    1\\n     6     3     9    1\\n     7     3    10    1\\n     8     4     5    1\\n     9     4    11    1\\n    10     4    12    1\\n    11     5     6    1\\n    12     5    13    1\\n    13     5    14    1\\n    14     6    15    1\\n    15     6    16    1\\n    16     6    17    1\\n@<TRIPOS>SUBSTRUCTURE\\n     1 RES1       17 GROUP             0 ****  ****    0  \\n',\n",
       " '@<TRIPOS>MOLECULE\\nUFF_Energy=0.24689129950930339 Charge: -1 Unpaired_Electrons: 0 XTB_Unpaired_Electrons: 0 XTB_Charge: -1\\n    17    16     1     0     0\\nSMALL\\nNoCharges\\n****\\nGenerated from Architector\\n\\n@<TRIPOS>ATOM\\n     1 O1        0.8495   -1.5413    1.8165   O.3       1 RES1   0.0000\\n     2 C1        2.1702   -1.4784    1.8678   C.3       1 RES1   0.0000\\n     3 C2        2.7027   -1.2748    0.4234   C.3       1 RES1   0.0000\\n     4 C3        2.3497   -2.3768   -0.5923   C.3       1 RES1   0.0000\\n     5 C4        2.8826   -2.1597   -2.0105   C.3       1 RES1   0.0000\\n     6 C5        2.3723   -0.8814   -2.6581   C.3       1 RES1   0.0000\\n     7 H1        2.6403   -0.6960    2.4833   H         1 RES1   0.0000\\n     8 H2        2.7053   -2.3699    2.2321   H         1 RES1   0.0000\\n     9 H3        2.3124   -0.3194    0.0493   H         1 RES1   0.0000\\n    10 H4        3.7959   -1.1530    0.4376   H         1 RES1   0.0000\\n    11 H5        2.7359   -3.3300   -0.2106   H         1 RES1   0.0000\\n    12 H6        1.2597   -2.4919   -0.6424   H         1 RES1   0.0000\\n    13 H7        3.9776   -2.1111   -1.9649   H         1 RES1   0.0000\\n    14 H8        2.6408   -3.0168   -2.6477   H         1 RES1   0.0000\\n    15 H9        2.6478   -0.0056   -2.0621   H         1 RES1   0.0000\\n    16 H10       2.8109   -0.7643   -3.6540   H         1 RES1   0.0000\\n    17 H11       1.2850   -0.8932   -2.7746   H         1 RES1   0.0000\\n@<TRIPOS>BOND\\n     1     1     2    1\\n     2     2     3    1\\n     3     2     7    1\\n     4     2     8    1\\n     5     3     4    1\\n     6     3     9    1\\n     7     3    10    1\\n     8     4     5    1\\n     9     4    11    1\\n    10     4    12    1\\n    11     5     6    1\\n    12     5    13    1\\n    13     5    14    1\\n    14     6    15    1\\n    15     6    16    1\\n    16     6    17    1\\n@<TRIPOS>SUBSTRUCTURE\\n     1 RES1       17 GROUP             0 ****  ****    0  \\n',\n",
       " '@<TRIPOS>MOLECULE\\nUFF_Energy=0.2505879776529672 Charge: -1 Unpaired_Electrons: 0 XTB_Unpaired_Electrons: 0 XTB_Charge: -1\\n    17    16     1     0     0\\nSMALL\\nNoCharges\\n****\\nGenerated from Architector\\n\\n@<TRIPOS>ATOM\\n     1 O1        4.7493   -2.1512    1.1228   O.3       1 RES1   0.0000\\n     2 C1        4.2162   -1.0286    0.6687   C.3       1 RES1   0.0000\\n     3 C2        2.7027   -1.2748    0.4234   C.3       1 RES1   0.0000\\n     4 C3        2.3497   -2.3768   -0.5923   C.3       1 RES1   0.0000\\n     5 C4        2.8826   -2.1597   -2.0105   C.3       1 RES1   0.0000\\n     6 C5        2.3723   -0.8814   -2.6581   C.3       1 RES1   0.0000\\n     7 H1        4.2849   -0.1205    1.2875   H         1 RES1   0.0000\\n     8 H2        4.5891   -0.6448   -0.2943   H         1 RES1   0.0000\\n     9 H3        2.2396   -1.5281    1.3859   H         1 RES1   0.0000\\n    10 H4        2.2147   -0.3413    0.1064   H         1 RES1   0.0000\\n    11 H5        2.7359   -3.3300   -0.2106   H         1 RES1   0.0000\\n    12 H6        1.2597   -2.4919   -0.6424   H         1 RES1   0.0000\\n    13 H7        3.9776   -2.1111   -1.9649   H         1 RES1   0.0000\\n    14 H8        2.6408   -3.0168   -2.6477   H         1 RES1   0.0000\\n    15 H9        2.6478   -0.0056   -2.0621   H         1 RES1   0.0000\\n    16 H10       2.8109   -0.7643   -3.6540   H         1 RES1   0.0000\\n    17 H11       1.2850   -0.8932   -2.7746   H         1 RES1   0.0000\\n@<TRIPOS>BOND\\n     1     1     2    1\\n     2     2     3    1\\n     3     2     7    1\\n     4     2     8    1\\n     5     3     4    1\\n     6     3     9    1\\n     7     3    10    1\\n     8     4     5    1\\n     9     4    11    1\\n    10     4    12    1\\n    11     5     6    1\\n    12     5    13    1\\n    13     5    14    1\\n    14     6    15    1\\n    15     6    16    1\\n    16     6    17    1\\n@<TRIPOS>SUBSTRUCTURE\\n     1 RES1       17 GROUP             0 ****  ****    0  \\n',\n",
       " '@<TRIPOS>MOLECULE\\nUFF_Energy=0.5491443171911894 Charge: -1 Unpaired_Electrons: 0 XTB_Unpaired_Electrons: 0 XTB_Charge: -1\\n    17    16     1     0     0\\nSMALL\\nNoCharges\\n****\\nGenerated from Architector\\n\\n@<TRIPOS>ATOM\\n     1 O1        2.7179    0.5194   -1.0687   O.3       1 RES1   0.0000\\n     2 C1        2.1929    0.1534    0.0894   C.3       1 RES1   0.0000\\n     3 C2        2.7027   -1.2748    0.4234   C.3       1 RES1   0.0000\\n     4 C3        2.3497   -2.3768   -0.5923   C.3       1 RES1   0.0000\\n     5 C4        2.8826   -2.1597   -2.0105   C.3       1 RES1   0.0000\\n     6 C5        2.5068   -3.2752   -2.9740   C.3       1 RES1   0.0000\\n     7 H1        2.3926    0.7687    0.9803   H         1 RES1   0.0000\\n     8 H2        1.0957    0.0706    0.1438   H         1 RES1   0.0000\\n     9 H3        3.7951   -1.2308    0.5227   H         1 RES1   0.0000\\n    10 H4        2.3363   -1.5847    1.4132   H         1 RES1   0.0000\\n    11 H5        2.7359   -3.3300   -0.2106   H         1 RES1   0.0000\\n    12 H6        1.2597   -2.4919   -0.6424   H         1 RES1   0.0000\\n    13 H7        2.4711   -1.2179   -2.3942   H         1 RES1   0.0000\\n    14 H8        3.9705   -2.0355   -1.9978   H         1 RES1   0.0000\\n    15 H9        1.4196   -3.3829   -3.0406   H         1 RES1   0.0000\\n    16 H10       2.8863   -3.0497   -3.9755   H         1 RES1   0.0000\\n    17 H11       2.9320   -4.2349   -2.6673   H         1 RES1   0.0000\\n@<TRIPOS>BOND\\n     1     1     2    1\\n     2     2     3    1\\n     3     2     7    1\\n     4     2     8    1\\n     5     3     4    1\\n     6     3     9    1\\n     7     3    10    1\\n     8     4     5    1\\n     9     4    11    1\\n    10     4    12    1\\n    11     5     6    1\\n    12     5    13    1\\n    13     5    14    1\\n    14     6    15    1\\n    15     6    16    1\\n    16     6    17    1\\n@<TRIPOS>SUBSTRUCTURE\\n     1 RES1       17 GROUP             0 ****  ****    0  \\n',\n",
       " '@<TRIPOS>MOLECULE\\nUFF_Energy=0.5508860931462248 Charge: -1 Unpaired_Electrons: 0 XTB_Unpaired_Electrons: 0 XTB_Charge: -1\\n    17    16     1     0     0\\nSMALL\\nNoCharges\\n****\\nGenerated from Architector\\n\\n@<TRIPOS>ATOM\\n     1 O1        4.7698   -0.6794   -0.4812   O.3       1 RES1   0.0000\\n     2 C1        4.2162   -1.0286    0.6687   C.3       1 RES1   0.0000\\n     3 C2        2.7027   -1.2748    0.4234   C.3       1 RES1   0.0000\\n     4 C3        2.3497   -2.3768   -0.5923   C.3       1 RES1   0.0000\\n     5 C4        2.8826   -2.1597   -2.0105   C.3       1 RES1   0.0000\\n     6 C5        2.5068   -3.2752   -2.9740   C.3       1 RES1   0.0000\\n     7 H1        4.5939   -1.9221    1.1894   H         1 RES1   0.0000\\n     8 H2        4.2430   -0.2920    1.4874   H         1 RES1   0.0000\\n     9 H3        2.2396   -1.5281    1.3859   H         1 RES1   0.0000\\n    10 H4        2.2147   -0.3413    0.1064   H         1 RES1   0.0000\\n    11 H5        2.7359   -3.3300   -0.2106   H         1 RES1   0.0000\\n    12 H6        1.2597   -2.4919   -0.6424   H         1 RES1   0.0000\\n    13 H7        2.4711   -1.2179   -2.3942   H         1 RES1   0.0000\\n    14 H8        3.9705   -2.0355   -1.9978   H         1 RES1   0.0000\\n    15 H9        1.4196   -3.3829   -3.0406   H         1 RES1   0.0000\\n    16 H10       2.8863   -3.0497   -3.9755   H         1 RES1   0.0000\\n    17 H11       2.9320   -4.2349   -2.6673   H         1 RES1   0.0000\\n@<TRIPOS>BOND\\n     1     1     2    1\\n     2     2     3    1\\n     3     2     7    1\\n     4     2     8    1\\n     5     3     4    1\\n     6     3     9    1\\n     7     3    10    1\\n     8     4     5    1\\n     9     4    11    1\\n    10     4    12    1\\n    11     5     6    1\\n    12     5    13    1\\n    13     5    14    1\\n    14     6    15    1\\n    15     6    16    1\\n    16     6    17    1\\n@<TRIPOS>SUBSTRUCTURE\\n     1 RES1       17 GROUP             0 ****  ****    0  \\n',\n",
       " '@<TRIPOS>MOLECULE\\nUFF_Energy=0.562495429451728 Charge: -1 Unpaired_Electrons: 0 XTB_Unpaired_Electrons: 0 XTB_Charge: -1\\n    17    16     1     0     0\\nSMALL\\nNoCharges\\n****\\nGenerated from Architector\\n\\n@<TRIPOS>ATOM\\n     1 O1        2.7179    0.5194   -1.0687   O.3       1 RES1   0.0000\\n     2 C1        2.1929    0.1534    0.0894   C.3       1 RES1   0.0000\\n     3 C2        2.7027   -1.2748    0.4234   C.3       1 RES1   0.0000\\n     4 C3        2.3497   -2.3768   -0.5923   C.3       1 RES1   0.0000\\n     5 C4        2.8826   -2.1597   -2.0105   C.3       1 RES1   0.0000\\n     6 C5        4.3993   -2.0656   -2.0777   C.3       1 RES1   0.0000\\n     7 H1        2.3926    0.7687    0.9803   H         1 RES1   0.0000\\n     8 H2        1.0957    0.0706    0.1438   H         1 RES1   0.0000\\n     9 H3        3.7951   -1.2308    0.5227   H         1 RES1   0.0000\\n    10 H4        2.3363   -1.5847    1.4132   H         1 RES1   0.0000\\n    11 H5        2.7359   -3.3300   -0.2106   H         1 RES1   0.0000\\n    12 H6        1.2597   -2.4919   -0.6424   H         1 RES1   0.0000\\n    13 H7        2.5604   -3.0029   -2.6339   H         1 RES1   0.0000\\n    14 H8        2.4383   -1.2631   -2.4553   H         1 RES1   0.0000\\n    15 H9        4.8642   -2.9750   -1.6839   H         1 RES1   0.0000\\n    16 H10       4.7221   -1.9434   -3.1164   H         1 RES1   0.0000\\n    17 H11       4.7770   -1.2100   -1.5110   H         1 RES1   0.0000\\n@<TRIPOS>BOND\\n     1     1     2    1\\n     2     2     3    1\\n     3     2     7    1\\n     4     2     8    1\\n     5     3     4    1\\n     6     3     9    1\\n     7     3    10    1\\n     8     4     5    1\\n     9     4    11    1\\n    10     4    12    1\\n    11     5     6    1\\n    12     5    13    1\\n    13     5    14    1\\n    14     6    15    1\\n    15     6    16    1\\n    16     6    17    1\\n@<TRIPOS>SUBSTRUCTURE\\n     1 RES1       17 GROUP             0 ****  ****    0  \\n',\n",
       " '@<TRIPOS>MOLECULE\\nUFF_Energy=0.6092707386042998 Charge: -1 Unpaired_Electrons: 0 XTB_Unpaired_Electrons: 0 XTB_Charge: -1\\n    17    16     1     0     0\\nSMALL\\nNoCharges\\n****\\nGenerated from Architector\\n\\n@<TRIPOS>ATOM\\n     1 O1        4.7698   -0.6794   -0.4812   O.3       1 RES1   0.0000\\n     2 C1        4.2162   -1.0286    0.6687   C.3       1 RES1   0.0000\\n     3 C2        2.7027   -1.2748    0.4234   C.3       1 RES1   0.0000\\n     4 C3        2.3497   -2.3768   -0.5923   C.3       1 RES1   0.0000\\n     5 C4        2.8826   -2.1597   -2.0105   C.3       1 RES1   0.0000\\n     6 C5        2.3723   -0.8814   -2.6581   C.3       1 RES1   0.0000\\n     7 H1        4.5939   -1.9221    1.1894   H         1 RES1   0.0000\\n     8 H2        4.2430   -0.2920    1.4874   H         1 RES1   0.0000\\n     9 H3        2.2396   -1.5281    1.3859   H         1 RES1   0.0000\\n    10 H4        2.2147   -0.3413    0.1064   H         1 RES1   0.0000\\n    11 H5        2.7359   -3.3300   -0.2106   H         1 RES1   0.0000\\n    12 H6        1.2597   -2.4919   -0.6424   H         1 RES1   0.0000\\n    13 H7        3.9776   -2.1111   -1.9649   H         1 RES1   0.0000\\n    14 H8        2.6408   -3.0168   -2.6477   H         1 RES1   0.0000\\n    15 H9        2.6478   -0.0056   -2.0621   H         1 RES1   0.0000\\n    16 H10       2.8109   -0.7643   -3.6540   H         1 RES1   0.0000\\n    17 H11       1.2850   -0.8932   -2.7746   H         1 RES1   0.0000\\n@<TRIPOS>BOND\\n     1     1     2    1\\n     2     2     3    1\\n     3     2     7    1\\n     4     2     8    1\\n     5     3     4    1\\n     6     3     9    1\\n     7     3    10    1\\n     8     4     5    1\\n     9     4    11    1\\n    10     4    12    1\\n    11     5     6    1\\n    12     5    13    1\\n    13     5    14    1\\n    14     6    15    1\\n    15     6    16    1\\n    16     6    17    1\\n@<TRIPOS>SUBSTRUCTURE\\n     1 RES1       17 GROUP             0 ****  ****    0  \\n',\n",
       " '@<TRIPOS>MOLECULE\\nUFF_Energy=1.4352784014805406 Charge: -1 Unpaired_Electrons: 0 XTB_Unpaired_Electrons: 0 XTB_Charge: -1\\n    17    16     1     0     0\\nSMALL\\nNoCharges\\n****\\nGenerated from Architector\\n\\n@<TRIPOS>ATOM\\n     1 O1        0.8726    0.1137    0.0128   O.3       1 RES1   0.0000\\n     2 C1        2.1929    0.1534    0.0894   C.3       1 RES1   0.0000\\n     3 C2        2.7027   -1.2748    0.4234   C.3       1 RES1   0.0000\\n     4 C3        2.3497   -2.3768   -0.5923   C.3       1 RES1   0.0000\\n     5 C4        2.8826   -2.1597   -2.0105   C.3       1 RES1   0.0000\\n     6 C5        2.3723   -0.8814   -2.6581   C.3       1 RES1   0.0000\\n     7 H1        2.7653    0.4878   -0.7897   H         1 RES1   0.0000\\n     8 H2        2.6353    0.7904    0.8718   H         1 RES1   0.0000\\n     9 H3        3.7951   -1.2308    0.5227   H         1 RES1   0.0000\\n    10 H4        2.3363   -1.5847    1.4132   H         1 RES1   0.0000\\n    11 H5        2.7359   -3.3300   -0.2106   H         1 RES1   0.0000\\n    12 H6        1.2597   -2.4919   -0.6424   H         1 RES1   0.0000\\n    13 H7        3.9776   -2.1111   -1.9649   H         1 RES1   0.0000\\n    14 H8        2.6408   -3.0168   -2.6477   H         1 RES1   0.0000\\n    15 H9        2.6478   -0.0056   -2.0621   H         1 RES1   0.0000\\n    16 H10       2.8109   -0.7643   -3.6540   H         1 RES1   0.0000\\n    17 H11       1.2850   -0.8932   -2.7746   H         1 RES1   0.0000\\n@<TRIPOS>BOND\\n     1     1     2    1\\n     2     2     3    1\\n     3     2     7    1\\n     4     2     8    1\\n     5     3     4    1\\n     6     3     9    1\\n     7     3    10    1\\n     8     4     5    1\\n     9     4    11    1\\n    10     4    12    1\\n    11     5     6    1\\n    12     5    13    1\\n    13     5    14    1\\n    14     6    15    1\\n    15     6    16    1\\n    16     6    17    1\\n@<TRIPOS>SUBSTRUCTURE\\n     1 RES1       17 GROUP             0 ****  ****    0  \\n',\n",
       " '@<TRIPOS>MOLECULE\\nUFF_Energy=1.5031295017243453 Charge: -1 Unpaired_Electrons: 0 XTB_Unpaired_Electrons: 0 XTB_Charge: -1\\n    17    16     1     0     0\\nSMALL\\nNoCharges\\n****\\nGenerated from Architector\\n\\n@<TRIPOS>ATOM\\n     1 O1        4.7493   -2.1512    1.1228   O.3       1 RES1   0.0000\\n     2 C1        4.2162   -1.0286    0.6687   C.3       1 RES1   0.0000\\n     3 C2        2.7027   -1.2748    0.4234   C.3       1 RES1   0.0000\\n     4 C3        2.3497   -2.3768   -0.5923   C.3       1 RES1   0.0000\\n     5 C4        2.8826   -2.1597   -2.0105   C.3       1 RES1   0.0000\\n     6 C5        4.3993   -2.0656   -2.0777   C.3       1 RES1   0.0000\\n     7 H1        4.2849   -0.1205    1.2875   H         1 RES1   0.0000\\n     8 H2        4.5891   -0.6448   -0.2943   H         1 RES1   0.0000\\n     9 H3        2.2396   -1.5281    1.3859   H         1 RES1   0.0000\\n    10 H4        2.2147   -0.3413    0.1064   H         1 RES1   0.0000\\n    11 H5        2.7359   -3.3300   -0.2106   H         1 RES1   0.0000\\n    12 H6        1.2597   -2.4919   -0.6424   H         1 RES1   0.0000\\n    13 H7        2.5604   -3.0029   -2.6339   H         1 RES1   0.0000\\n    14 H8        2.4383   -1.2631   -2.4553   H         1 RES1   0.0000\\n    15 H9        4.8642   -2.9750   -1.6839   H         1 RES1   0.0000\\n    16 H10       4.7221   -1.9434   -3.1164   H         1 RES1   0.0000\\n    17 H11       4.7770   -1.2100   -1.5110   H         1 RES1   0.0000\\n@<TRIPOS>BOND\\n     1     1     2    1\\n     2     2     3    1\\n     3     2     7    1\\n     4     2     8    1\\n     5     3     4    1\\n     6     3     9    1\\n     7     3    10    1\\n     8     4     5    1\\n     9     4    11    1\\n    10     4    12    1\\n    11     5     6    1\\n    12     5    13    1\\n    13     5    14    1\\n    14     6    15    1\\n    15     6    16    1\\n    16     6    17    1\\n@<TRIPOS>SUBSTRUCTURE\\n     1 RES1       17 GROUP             0 ****  ****    0  \\n',\n",
       " '@<TRIPOS>MOLECULE\\nUFF_Energy=2.2762482628554976 Charge: -1 Unpaired_Electrons: 0 XTB_Unpaired_Electrons: 0 XTB_Charge: -1\\n    17    16     1     0     0\\nSMALL\\nNoCharges\\n****\\nGenerated from Architector\\n\\n@<TRIPOS>ATOM\\n     1 O1        4.3380   -0.0586    1.5603   O.3       1 RES1   0.0000\\n     2 C1        4.2162   -1.0286    0.6687   C.3       1 RES1   0.0000\\n     3 C2        2.7027   -1.2748    0.4234   C.3       1 RES1   0.0000\\n     4 C3        2.3497   -2.3768   -0.5923   C.3       1 RES1   0.0000\\n     5 C4        2.8826   -2.1597   -2.0105   C.3       1 RES1   0.0000\\n     6 C5        4.3993   -2.0656   -2.0777   C.3       1 RES1   0.0000\\n     7 H1        4.6724   -0.8963   -0.3246   H         1 RES1   0.0000\\n     8 H2        4.6124   -2.0196    0.9419   H         1 RES1   0.0000\\n     9 H3        2.2396   -1.5281    1.3859   H         1 RES1   0.0000\\n    10 H4        2.2147   -0.3413    0.1064   H         1 RES1   0.0000\\n    11 H5        2.7359   -3.3300   -0.2106   H         1 RES1   0.0000\\n    12 H6        1.2597   -2.4919   -0.6424   H         1 RES1   0.0000\\n    13 H7        2.5604   -3.0029   -2.6339   H         1 RES1   0.0000\\n    14 H8        2.4383   -1.2631   -2.4553   H         1 RES1   0.0000\\n    15 H9        4.8642   -2.9750   -1.6839   H         1 RES1   0.0000\\n    16 H10       4.7221   -1.9434   -3.1164   H         1 RES1   0.0000\\n    17 H11       4.7770   -1.2100   -1.5110   H         1 RES1   0.0000\\n@<TRIPOS>BOND\\n     1     1     2    1\\n     2     2     3    1\\n     3     2     7    1\\n     4     2     8    1\\n     5     3     4    1\\n     6     3     9    1\\n     7     3    10    1\\n     8     4     5    1\\n     9     4    11    1\\n    10     4    12    1\\n    11     5     6    1\\n    12     5    13    1\\n    13     5    14    1\\n    14     6    15    1\\n    15     6    16    1\\n    16     6    17    1\\n@<TRIPOS>SUBSTRUCTURE\\n     1 RES1       17 GROUP             0 ****  ****    0  \\n']"
      ]
     },
     "execution_count": 19,
     "metadata": {},
     "output_type": "execute_result"
    }
   ],
   "source": [
    "confs"
   ]
  },
  {
   "cell_type": "code",
   "execution_count": 20,
   "id": "df4ba26f-4813-4290-bf97-894cebd90802",
   "metadata": {},
   "outputs": [
    {
     "data": {
      "application/3dmoljs_load.v0": "<div id=\"3dmolviewer_17296362986769657\"  style=\"position: relative; width: 800px; height: 600px;\">\n        <p id=\"3dmolwarning_17296362986769657\" style=\"background-color:#ffcccc;color:black\">3Dmol.js failed to load for some reason.  Please check your browser console for error messages.<br></p>\n        </div>\n<script>\n\nvar loadScriptAsync = function(uri){\n  return new Promise((resolve, reject) => {\n    //this is to ignore the existence of requirejs amd\n    var savedexports, savedmodule;\n    if (typeof exports !== 'undefined') savedexports = exports;\n    else exports = {}\n    if (typeof module !== 'undefined') savedmodule = module;\n    else module = {}\n\n    var tag = document.createElement('script');\n    tag.src = uri;\n    tag.async = true;\n    tag.onload = () => {\n        exports = savedexports;\n        module = savedmodule;\n        resolve();\n    };\n  var firstScriptTag = document.getElementsByTagName('script')[0];\n  firstScriptTag.parentNode.insertBefore(tag, firstScriptTag);\n});\n};\n\nif(typeof $3Dmolpromise === 'undefined') {\n$3Dmolpromise = null;\n  $3Dmolpromise = loadScriptAsync('https://cdnjs.cloudflare.com/ajax/libs/3Dmol/2.4.0/3Dmol-min.js');\n}\n\nvar viewer_17296362986769657 = null;\nvar warn = document.getElementById(\"3dmolwarning_17296362986769657\");\nif(warn) {\n    warn.parentNode.removeChild(warn);\n}\n$3Dmolpromise.then(function() {\nvar viewergrid_17296362986769657 = null;\nviewergrid_17296362986769657 = $3Dmol.createViewerGrid(document.getElementById(\"3dmolviewer_17296362986769657\"),{rows: 3, cols: 4, control_all: false},{backgroundColor:\"white\"});\nviewer_17296362986769657 = viewergrid_17296362986769657[0][0];\nviewergrid_17296362986769657[0][0].zoomTo();viewergrid_17296362986769657[0][1].zoomTo();viewergrid_17296362986769657[0][2].zoomTo();viewergrid_17296362986769657[0][3].zoomTo();viewergrid_17296362986769657[1][0].zoomTo();viewergrid_17296362986769657[1][1].zoomTo();viewergrid_17296362986769657[1][2].zoomTo();viewergrid_17296362986769657[1][3].zoomTo();viewergrid_17296362986769657[2][0].zoomTo();viewergrid_17296362986769657[2][1].zoomTo();viewergrid_17296362986769657[2][2].zoomTo();viewergrid_17296362986769657[2][3].zoomTo();\tviewergrid_17296362986769657[0][0].addModel(\"@<TRIPOS>MOLECULE\\ntmp.mol2 Charge: -1 Unpaired_Electrons: 0 XTB_Unpaired_Electrons: 0 XTB_Charge: -1\\n    17    16     1     0     0\\nSMALL\\nNoCharges\\n****\\nGenerated from Architector\\n\\n@<TRIPOS>ATOM\\n     1 O1        2.5614   -0.4492    2.6016   O.3       1 RES1   0.0000\\n     2 C1        2.1702   -1.4784    1.8678   C.3       1 RES1   0.0000\\n     3 C2        2.7027   -1.2748    0.4234   C.3       1 RES1   0.0000\\n     4 C3        2.3497   -2.3768   -0.5923   C.3       1 RES1   0.0000\\n     5 C4        2.8826   -2.1597   -2.0105   C.3       1 RES1   0.0000\\n     6 C5        2.5068   -3.2752   -2.9740   C.3       1 RES1   0.0000\\n     7 H1        2.4765   -2.4919    2.1697   H         1 RES1   0.0000\\n     8 H2        1.0859   -1.6255    1.7400   H         1 RES1   0.0000\\n     9 H3        2.3124   -0.3194    0.0493   H         1 RES1   0.0000\\n    10 H4        3.7959   -1.1530    0.4376   H         1 RES1   0.0000\\n    11 H5        2.7359   -3.3300   -0.2106   H         1 RES1   0.0000\\n    12 H6        1.2597   -2.4919   -0.6424   H         1 RES1   0.0000\\n    13 H7        2.4711   -1.2179   -2.3942   H         1 RES1   0.0000\\n    14 H8        3.9705   -2.0355   -1.9978   H         1 RES1   0.0000\\n    15 H9        1.4196   -3.3829   -3.0406   H         1 RES1   0.0000\\n    16 H10       2.8863   -3.0497   -3.9755   H         1 RES1   0.0000\\n    17 H11       2.9320   -4.2349   -2.6673   H         1 RES1   0.0000\\n@<TRIPOS>BOND\\n     1     1     2    1\\n     2     2     3    1\\n     3     2     7    1\\n     4     2     8    1\\n     5     3     4    1\\n     6     3     9    1\\n     7     3    10    1\\n     8     4     5    1\\n     9     4    11    1\\n    10     4    12    1\\n    11     5     6    1\\n    12     5    13    1\\n    13     5    14    1\\n    14     6    15    1\\n    15     6    16    1\\n    16     6    17    1\\n@<TRIPOS>SUBSTRUCTURE\\n     1 RES1       17 GROUP             0 ****  ****    0  \\n\",\"mol2\",{\"keepH\": true});\n\tviewergrid_17296362986769657[0][0].addStyle({\"sphere\": {\"colorscheme\": \"Jmol\", \"scale\": 0.3}});\n\tviewergrid_17296362986769657[0][0].addStyle({\"stick\": {\"colorscheme\": \"Jmol\", \"radius\": 0.25}});\n\tviewergrid_17296362986769657[0][0].zoomTo();\n\tviewergrid_17296362986769657[0][1].addModel(\"@<TRIPOS>MOLECULE\\ntmp.mol2 Charge: -1 Unpaired_Electrons: 0 XTB_Unpaired_Electrons: 0 XTB_Charge: -1\\n    17    16     1     0     0\\nSMALL\\nNoCharges\\n****\\nGenerated from Architector\\n\\n@<TRIPOS>ATOM\\n     1 O1        2.6743   -2.6074    2.3389   O.3       1 RES1   0.0000\\n     2 C1        2.1702   -1.4784    1.8678   C.3       1 RES1   0.0000\\n     3 C2        2.7027   -1.2748    0.4234   C.3       1 RES1   0.0000\\n     4 C3        2.3497   -2.3768   -0.5923   C.3       1 RES1   0.0000\\n     5 C4        2.8826   -2.1597   -2.0105   C.3       1 RES1   0.0000\\n     6 C5        2.5068   -3.2752   -2.9740   C.3       1 RES1   0.0000\\n     7 H1        1.0761   -1.3689    1.8117   H         1 RES1   0.0000\\n     8 H2        2.4393   -0.5470    2.3910   H         1 RES1   0.0000\\n     9 H3        2.3124   -0.3194    0.0493   H         1 RES1   0.0000\\n    10 H4        3.7959   -1.1530    0.4376   H         1 RES1   0.0000\\n    11 H5        2.7359   -3.3300   -0.2106   H         1 RES1   0.0000\\n    12 H6        1.2597   -2.4919   -0.6424   H         1 RES1   0.0000\\n    13 H7        2.4711   -1.2179   -2.3942   H         1 RES1   0.0000\\n    14 H8        3.9705   -2.0355   -1.9978   H         1 RES1   0.0000\\n    15 H9        1.4196   -3.3829   -3.0406   H         1 RES1   0.0000\\n    16 H10       2.8863   -3.0497   -3.9755   H         1 RES1   0.0000\\n    17 H11       2.9320   -4.2349   -2.6673   H         1 RES1   0.0000\\n@<TRIPOS>BOND\\n     1     1     2    1\\n     2     2     3    1\\n     3     2     7    1\\n     4     2     8    1\\n     5     3     4    1\\n     6     3     9    1\\n     7     3    10    1\\n     8     4     5    1\\n     9     4    11    1\\n    10     4    12    1\\n    11     5     6    1\\n    12     5    13    1\\n    13     5    14    1\\n    14     6    15    1\\n    15     6    16    1\\n    16     6    17    1\\n@<TRIPOS>SUBSTRUCTURE\\n     1 RES1       17 GROUP             0 ****  ****    0  \\n\",\"mol2\",{\"keepH\": true});\n\tviewergrid_17296362986769657[0][1].addStyle({\"sphere\": {\"colorscheme\": \"Jmol\", \"scale\": 0.3}});\n\tviewergrid_17296362986769657[0][1].addStyle({\"stick\": {\"colorscheme\": \"Jmol\", \"radius\": 0.25}});\n\tviewergrid_17296362986769657[0][1].zoomTo();\n\tviewergrid_17296362986769657[0][2].addModel(\"@<TRIPOS>MOLECULE\\ntmp.mol2 Charge: -1 Unpaired_Electrons: 0 XTB_Unpaired_Electrons: 0 XTB_Charge: -1\\n    17    16     1     0     0\\nSMALL\\nNoCharges\\n****\\nGenerated from Architector\\n\\n@<TRIPOS>ATOM\\n     1 O1        0.8726    0.1137    0.0128   O.3       1 RES1   0.0000\\n     2 C1        2.1929    0.1534    0.0894   C.3       1 RES1   0.0000\\n     3 C2        2.7027   -1.2748    0.4234   C.3       1 RES1   0.0000\\n     4 C3        2.3497   -2.3768   -0.5923   C.3       1 RES1   0.0000\\n     5 C4        2.8826   -2.1597   -2.0105   C.3       1 RES1   0.0000\\n     6 C5        2.5068   -3.2752   -2.9740   C.3       1 RES1   0.0000\\n     7 H1        2.7653    0.4878   -0.7897   H         1 RES1   0.0000\\n     8 H2        2.6353    0.7904    0.8718   H         1 RES1   0.0000\\n     9 H3        3.7951   -1.2308    0.5227   H         1 RES1   0.0000\\n    10 H4        2.3363   -1.5847    1.4132   H         1 RES1   0.0000\\n    11 H5        2.7359   -3.3300   -0.2106   H         1 RES1   0.0000\\n    12 H6        1.2597   -2.4919   -0.6424   H         1 RES1   0.0000\\n    13 H7        2.4711   -1.2179   -2.3942   H         1 RES1   0.0000\\n    14 H8        3.9705   -2.0355   -1.9978   H         1 RES1   0.0000\\n    15 H9        1.4196   -3.3829   -3.0406   H         1 RES1   0.0000\\n    16 H10       2.8863   -3.0497   -3.9755   H         1 RES1   0.0000\\n    17 H11       2.9320   -4.2349   -2.6673   H         1 RES1   0.0000\\n@<TRIPOS>BOND\\n     1     1     2    1\\n     2     2     3    1\\n     3     2     7    1\\n     4     2     8    1\\n     5     3     4    1\\n     6     3     9    1\\n     7     3    10    1\\n     8     4     5    1\\n     9     4    11    1\\n    10     4    12    1\\n    11     5     6    1\\n    12     5    13    1\\n    13     5    14    1\\n    14     6    15    1\\n    15     6    16    1\\n    16     6    17    1\\n@<TRIPOS>SUBSTRUCTURE\\n     1 RES1       17 GROUP             0 ****  ****    0  \\n\",\"mol2\",{\"keepH\": true});\n\tviewergrid_17296362986769657[0][2].addStyle({\"sphere\": {\"colorscheme\": \"Jmol\", \"scale\": 0.3}});\n\tviewergrid_17296362986769657[0][2].addStyle({\"stick\": {\"colorscheme\": \"Jmol\", \"radius\": 0.25}});\n\tviewergrid_17296362986769657[0][2].zoomTo();\n\tviewergrid_17296362986769657[0][3].addModel(\"@<TRIPOS>MOLECULE\\ntmp.mol2 Charge: -1 Unpaired_Electrons: 0 XTB_Unpaired_Electrons: 0 XTB_Charge: -1\\n    17    16     1     0     0\\nSMALL\\nNoCharges\\n****\\nGenerated from Architector\\n\\n@<TRIPOS>ATOM\\n     1 O1        0.9266    0.2034    0.0973   O.3       1 RES1   0.0000\\n     2 C1        2.2486    0.1645    0.0580   C.3       1 RES1   0.0000\\n     3 C2        2.7027   -1.2748    0.4234   C.3       1 RES1   0.0000\\n     4 C3        2.3497   -2.3768   -0.5923   C.3       1 RES1   0.0000\\n     5 C4        2.8826   -2.1597   -2.0105   C.3       1 RES1   0.0000\\n     6 C5        4.4015   -2.1286   -2.0865   C.3       1 RES1   0.0000\\n     7 H1        2.7589    0.4195   -0.8837   H         1 RES1   0.0000\\n     8 H2        2.7949    0.8099    0.7642   H         1 RES1   0.0000\\n     9 H3        3.7920   -1.2630    0.5588   H         1 RES1   0.0000\\n    10 H4        2.2943   -1.5623    1.4035   H         1 RES1   0.0000\\n    11 H5        2.7359   -3.3300   -0.2106   H         1 RES1   0.0000\\n    12 H6        1.2597   -2.4919   -0.6424   H         1 RES1   0.0000\\n    13 H7        2.5212   -2.9785   -2.6449   H         1 RES1   0.0000\\n    14 H8        2.4739   -1.2382   -2.4381   H         1 RES1   0.0000\\n    15 H9        4.8299   -3.0629   -1.7102   H         1 RES1   0.0000\\n    16 H10       4.7228   -2.0035   -3.1253   H         1 RES1   0.0000\\n    17 H11       4.8185   -1.2988   -1.5090   H         1 RES1   0.0000\\n@<TRIPOS>BOND\\n     1     1     2    1\\n     2     2     3    1\\n     3     2     7    1\\n     4     2     8    1\\n     5     3     4    1\\n     6     3     9    1\\n     7     3    10    1\\n     8     4     5    1\\n     9     4    11    1\\n    10     4    12    1\\n    11     5     6    1\\n    12     5    13    1\\n    13     5    14    1\\n    14     6    15    1\\n    15     6    16    1\\n    16     6    17    1\\n@<TRIPOS>SUBSTRUCTURE\\n     1 RES1       17 GROUP             0 ****  ****    0  \\n\",\"mol2\",{\"keepH\": true});\n\tviewergrid_17296362986769657[0][3].addStyle({\"sphere\": {\"colorscheme\": \"Jmol\", \"scale\": 0.3}});\n\tviewergrid_17296362986769657[0][3].addStyle({\"stick\": {\"colorscheme\": \"Jmol\", \"radius\": 0.25}});\n\tviewergrid_17296362986769657[0][3].zoomTo();\n\tviewergrid_17296362986769657[1][0].addModel(\"@<TRIPOS>MOLECULE\\ntmp.mol2 Charge: -1 Unpaired_Electrons: 0 XTB_Unpaired_Electrons: 0 XTB_Charge: -1\\n    17    16     1     0     0\\nSMALL\\nNoCharges\\n****\\nGenerated from Architector\\n\\n@<TRIPOS>ATOM\\n     1 O1        2.5811    0.9678    1.0572   O.3       1 RES1   0.0000\\n     2 C1        2.1929    0.1534    0.0894   C.3       1 RES1   0.0000\\n     3 C2        2.7027   -1.2748    0.4234   C.3       1 RES1   0.0000\\n     4 C3        2.3497   -2.3768   -0.5923   C.3       1 RES1   0.0000\\n     5 C4        2.8826   -2.1597   -2.0105   C.3       1 RES1   0.0000\\n     6 C5        2.5068   -3.2752   -2.9740   C.3       1 RES1   0.0000\\n     7 H1        1.1168    0.0556   -0.1217   H         1 RES1   0.0000\\n     8 H2        2.5796    0.3506   -0.9232   H         1 RES1   0.0000\\n     9 H3        3.7951   -1.2308    0.5227   H         1 RES1   0.0000\\n    10 H4        2.3363   -1.5847    1.4132   H         1 RES1   0.0000\\n    11 H5        2.7359   -3.3300   -0.2106   H         1 RES1   0.0000\\n    12 H6        1.2597   -2.4919   -0.6424   H         1 RES1   0.0000\\n    13 H7        2.4711   -1.2179   -2.3942   H         1 RES1   0.0000\\n    14 H8        3.9705   -2.0355   -1.9978   H         1 RES1   0.0000\\n    15 H9        1.4196   -3.3829   -3.0406   H         1 RES1   0.0000\\n    16 H10       2.8863   -3.0497   -3.9755   H         1 RES1   0.0000\\n    17 H11       2.9320   -4.2349   -2.6673   H         1 RES1   0.0000\\n@<TRIPOS>BOND\\n     1     1     2    1\\n     2     2     3    1\\n     3     2     7    1\\n     4     2     8    1\\n     5     3     4    1\\n     6     3     9    1\\n     7     3    10    1\\n     8     4     5    1\\n     9     4    11    1\\n    10     4    12    1\\n    11     5     6    1\\n    12     5    13    1\\n    13     5    14    1\\n    14     6    15    1\\n    15     6    16    1\\n    16     6    17    1\\n@<TRIPOS>SUBSTRUCTURE\\n     1 RES1       17 GROUP             0 ****  ****    0  \\n\",\"mol2\",{\"keepH\": true});\n\tviewergrid_17296362986769657[1][0].addStyle({\"sphere\": {\"colorscheme\": \"Jmol\", \"scale\": 0.3}});\n\tviewergrid_17296362986769657[1][0].addStyle({\"stick\": {\"colorscheme\": \"Jmol\", \"radius\": 0.25}});\n\tviewergrid_17296362986769657[1][0].zoomTo();\n\tviewergrid_17296362986769657[1][1].addModel(\"@<TRIPOS>MOLECULE\\ntmp.mol2 Charge: -1 Unpaired_Electrons: 0 XTB_Unpaired_Electrons: 0 XTB_Charge: -1\\n    17    16     1     0     0\\nSMALL\\nNoCharges\\n****\\nGenerated from Architector\\n\\n@<TRIPOS>ATOM\\n     1 O1        4.3380   -0.0586    1.5603   O.3       1 RES1   0.0000\\n     2 C1        4.2162   -1.0286    0.6687   C.3       1 RES1   0.0000\\n     3 C2        2.7027   -1.2748    0.4234   C.3       1 RES1   0.0000\\n     4 C3        2.3497   -2.3768   -0.5923   C.3       1 RES1   0.0000\\n     5 C4        2.8826   -2.1597   -2.0105   C.3       1 RES1   0.0000\\n     6 C5        2.5068   -3.2752   -2.9740   C.3       1 RES1   0.0000\\n     7 H1        4.6724   -0.8963   -0.3246   H         1 RES1   0.0000\\n     8 H2        4.6124   -2.0196    0.9419   H         1 RES1   0.0000\\n     9 H3        2.2396   -1.5281    1.3859   H         1 RES1   0.0000\\n    10 H4        2.2147   -0.3413    0.1064   H         1 RES1   0.0000\\n    11 H5        2.7359   -3.3300   -0.2106   H         1 RES1   0.0000\\n    12 H6        1.2597   -2.4919   -0.6424   H         1 RES1   0.0000\\n    13 H7        2.4711   -1.2179   -2.3942   H         1 RES1   0.0000\\n    14 H8        3.9705   -2.0355   -1.9978   H         1 RES1   0.0000\\n    15 H9        1.4196   -3.3829   -3.0406   H         1 RES1   0.0000\\n    16 H10       2.8863   -3.0497   -3.9755   H         1 RES1   0.0000\\n    17 H11       2.9320   -4.2349   -2.6673   H         1 RES1   0.0000\\n@<TRIPOS>BOND\\n     1     1     2    1\\n     2     2     3    1\\n     3     2     7    1\\n     4     2     8    1\\n     5     3     4    1\\n     6     3     9    1\\n     7     3    10    1\\n     8     4     5    1\\n     9     4    11    1\\n    10     4    12    1\\n    11     5     6    1\\n    12     5    13    1\\n    13     5    14    1\\n    14     6    15    1\\n    15     6    16    1\\n    16     6    17    1\\n@<TRIPOS>SUBSTRUCTURE\\n     1 RES1       17 GROUP             0 ****  ****    0  \\n\",\"mol2\",{\"keepH\": true});\n\tviewergrid_17296362986769657[1][1].addStyle({\"sphere\": {\"colorscheme\": \"Jmol\", \"scale\": 0.3}});\n\tviewergrid_17296362986769657[1][1].addStyle({\"stick\": {\"colorscheme\": \"Jmol\", \"radius\": 0.25}});\n\tviewergrid_17296362986769657[1][1].zoomTo();\n\tviewergrid_17296362986769657[1][2].addModel(\"@<TRIPOS>MOLECULE\\ntmp.mol2 Charge: -1 Unpaired_Electrons: 0 XTB_Unpaired_Electrons: 0 XTB_Charge: -1\\n    17    16     1     0     0\\nSMALL\\nNoCharges\\n****\\nGenerated from Architector\\n\\n@<TRIPOS>ATOM\\n     1 O1        2.5614   -0.4492    2.6016   O.3       1 RES1   0.0000\\n     2 C1        2.1702   -1.4784    1.8678   C.3       1 RES1   0.0000\\n     3 C2        2.7027   -1.2748    0.4234   C.3       1 RES1   0.0000\\n     4 C3        2.3497   -2.3768   -0.5923   C.3       1 RES1   0.0000\\n     5 C4        2.8826   -2.1597   -2.0105   C.3       1 RES1   0.0000\\n     6 C5        4.3993   -2.0656   -2.0777   C.3       1 RES1   0.0000\\n     7 H1        2.4765   -2.4919    2.1697   H         1 RES1   0.0000\\n     8 H2        1.0859   -1.6255    1.7400   H         1 RES1   0.0000\\n     9 H3        2.3124   -0.3194    0.0493   H         1 RES1   0.0000\\n    10 H4        3.7959   -1.1530    0.4376   H         1 RES1   0.0000\\n    11 H5        2.7359   -3.3300   -0.2106   H         1 RES1   0.0000\\n    12 H6        1.2597   -2.4919   -0.6424   H         1 RES1   0.0000\\n    13 H7        2.5604   -3.0029   -2.6339   H         1 RES1   0.0000\\n    14 H8        2.4383   -1.2631   -2.4553   H         1 RES1   0.0000\\n    15 H9        4.8642   -2.9750   -1.6839   H         1 RES1   0.0000\\n    16 H10       4.7221   -1.9434   -3.1164   H         1 RES1   0.0000\\n    17 H11       4.7770   -1.2100   -1.5110   H         1 RES1   0.0000\\n@<TRIPOS>BOND\\n     1     1     2    1\\n     2     2     3    1\\n     3     2     7    1\\n     4     2     8    1\\n     5     3     4    1\\n     6     3     9    1\\n     7     3    10    1\\n     8     4     5    1\\n     9     4    11    1\\n    10     4    12    1\\n    11     5     6    1\\n    12     5    13    1\\n    13     5    14    1\\n    14     6    15    1\\n    15     6    16    1\\n    16     6    17    1\\n@<TRIPOS>SUBSTRUCTURE\\n     1 RES1       17 GROUP             0 ****  ****    0  \\n\",\"mol2\",{\"keepH\": true});\n\tviewergrid_17296362986769657[1][2].addStyle({\"sphere\": {\"colorscheme\": \"Jmol\", \"scale\": 0.3}});\n\tviewergrid_17296362986769657[1][2].addStyle({\"stick\": {\"colorscheme\": \"Jmol\", \"radius\": 0.25}});\n\tviewergrid_17296362986769657[1][2].zoomTo();\n\tviewergrid_17296362986769657[1][3].addModel(\"@<TRIPOS>MOLECULE\\ntmp.mol2 Charge: -1 Unpaired_Electrons: 0 XTB_Unpaired_Electrons: 0 XTB_Charge: -1\\n    17    16     1     0     0\\nSMALL\\nNoCharges\\n****\\nGenerated from Architector\\n\\n@<TRIPOS>ATOM\\n     1 O1        0.8495   -1.5413    1.8165   O.3       1 RES1   0.0000\\n     2 C1        2.1702   -1.4784    1.8678   C.3       1 RES1   0.0000\\n     3 C2        2.7027   -1.2748    0.4234   C.3       1 RES1   0.0000\\n     4 C3        2.3497   -2.3768   -0.5923   C.3       1 RES1   0.0000\\n     5 C4        2.8826   -2.1597   -2.0105   C.3       1 RES1   0.0000\\n     6 C5        2.5068   -3.2752   -2.9740   C.3       1 RES1   0.0000\\n     7 H1        2.6403   -0.6960    2.4833   H         1 RES1   0.0000\\n     8 H2        2.7053   -2.3699    2.2321   H         1 RES1   0.0000\\n     9 H3        2.3124   -0.3194    0.0493   H         1 RES1   0.0000\\n    10 H4        3.7959   -1.1530    0.4376   H         1 RES1   0.0000\\n    11 H5        2.7359   -3.3300   -0.2106   H         1 RES1   0.0000\\n    12 H6        1.2597   -2.4919   -0.6424   H         1 RES1   0.0000\\n    13 H7        2.4711   -1.2179   -2.3942   H         1 RES1   0.0000\\n    14 H8        3.9705   -2.0355   -1.9978   H         1 RES1   0.0000\\n    15 H9        1.4196   -3.3829   -3.0406   H         1 RES1   0.0000\\n    16 H10       2.8863   -3.0497   -3.9755   H         1 RES1   0.0000\\n    17 H11       2.9320   -4.2349   -2.6673   H         1 RES1   0.0000\\n@<TRIPOS>BOND\\n     1     1     2    1\\n     2     2     3    1\\n     3     2     7    1\\n     4     2     8    1\\n     5     3     4    1\\n     6     3     9    1\\n     7     3    10    1\\n     8     4     5    1\\n     9     4    11    1\\n    10     4    12    1\\n    11     5     6    1\\n    12     5    13    1\\n    13     5    14    1\\n    14     6    15    1\\n    15     6    16    1\\n    16     6    17    1\\n@<TRIPOS>SUBSTRUCTURE\\n     1 RES1       17 GROUP             0 ****  ****    0  \\n\",\"mol2\",{\"keepH\": true});\n\tviewergrid_17296362986769657[1][3].addStyle({\"sphere\": {\"colorscheme\": \"Jmol\", \"scale\": 0.3}});\n\tviewergrid_17296362986769657[1][3].addStyle({\"stick\": {\"colorscheme\": \"Jmol\", \"radius\": 0.25}});\n\tviewergrid_17296362986769657[1][3].zoomTo();\n\tviewergrid_17296362986769657[2][0].addModel(\"@<TRIPOS>MOLECULE\\ntmp.mol2 Charge: -1 Unpaired_Electrons: 0 XTB_Unpaired_Electrons: 0 XTB_Charge: -1\\n    17    16     1     0     0\\nSMALL\\nNoCharges\\n****\\nGenerated from Architector\\n\\n@<TRIPOS>ATOM\\n     1 O1        2.5614   -0.4492    2.6016   O.3       1 RES1   0.0000\\n     2 C1        2.1702   -1.4784    1.8678   C.3       1 RES1   0.0000\\n     3 C2        2.7027   -1.2748    0.4234   C.3       1 RES1   0.0000\\n     4 C3        2.3497   -2.3768   -0.5923   C.3       1 RES1   0.0000\\n     5 C4        2.8826   -2.1597   -2.0105   C.3       1 RES1   0.0000\\n     6 C5        2.3723   -0.8814   -2.6581   C.3       1 RES1   0.0000\\n     7 H1        2.4765   -2.4919    2.1697   H         1 RES1   0.0000\\n     8 H2        1.0859   -1.6255    1.7400   H         1 RES1   0.0000\\n     9 H3        2.3124   -0.3194    0.0493   H         1 RES1   0.0000\\n    10 H4        3.7959   -1.1530    0.4376   H         1 RES1   0.0000\\n    11 H5        2.7359   -3.3300   -0.2106   H         1 RES1   0.0000\\n    12 H6        1.2597   -2.4919   -0.6424   H         1 RES1   0.0000\\n    13 H7        3.9776   -2.1111   -1.9649   H         1 RES1   0.0000\\n    14 H8        2.6408   -3.0168   -2.6477   H         1 RES1   0.0000\\n    15 H9        2.6478   -0.0056   -2.0621   H         1 RES1   0.0000\\n    16 H10       2.8109   -0.7643   -3.6540   H         1 RES1   0.0000\\n    17 H11       1.2850   -0.8932   -2.7746   H         1 RES1   0.0000\\n@<TRIPOS>BOND\\n     1     1     2    1\\n     2     2     3    1\\n     3     2     7    1\\n     4     2     8    1\\n     5     3     4    1\\n     6     3     9    1\\n     7     3    10    1\\n     8     4     5    1\\n     9     4    11    1\\n    10     4    12    1\\n    11     5     6    1\\n    12     5    13    1\\n    13     5    14    1\\n    14     6    15    1\\n    15     6    16    1\\n    16     6    17    1\\n@<TRIPOS>SUBSTRUCTURE\\n     1 RES1       17 GROUP             0 ****  ****    0  \\n\",\"mol2\",{\"keepH\": true});\n\tviewergrid_17296362986769657[2][0].addStyle({\"sphere\": {\"colorscheme\": \"Jmol\", \"scale\": 0.3}});\n\tviewergrid_17296362986769657[2][0].addStyle({\"stick\": {\"colorscheme\": \"Jmol\", \"radius\": 0.25}});\n\tviewergrid_17296362986769657[2][0].zoomTo();\n\tviewergrid_17296362986769657[2][1].addModel(\"@<TRIPOS>MOLECULE\\ntmp.mol2 Charge: -1 Unpaired_Electrons: 0 XTB_Unpaired_Electrons: 0 XTB_Charge: -1\\n    17    16     1     0     0\\nSMALL\\nNoCharges\\n****\\nGenerated from Architector\\n\\n@<TRIPOS>ATOM\\n     1 O1        2.5811    0.9678    1.0572   O.3       1 RES1   0.0000\\n     2 C1        2.1929    0.1534    0.0894   C.3       1 RES1   0.0000\\n     3 C2        2.7027   -1.2748    0.4234   C.3       1 RES1   0.0000\\n     4 C3        2.3497   -2.3768   -0.5923   C.3       1 RES1   0.0000\\n     5 C4        2.8826   -2.1597   -2.0105   C.3       1 RES1   0.0000\\n     6 C5        4.3993   -2.0656   -2.0777   C.3       1 RES1   0.0000\\n     7 H1        1.1168    0.0556   -0.1217   H         1 RES1   0.0000\\n     8 H2        2.5796    0.3506   -0.9232   H         1 RES1   0.0000\\n     9 H3        3.7951   -1.2308    0.5227   H         1 RES1   0.0000\\n    10 H4        2.3363   -1.5847    1.4132   H         1 RES1   0.0000\\n    11 H5        2.7359   -3.3300   -0.2106   H         1 RES1   0.0000\\n    12 H6        1.2597   -2.4919   -0.6424   H         1 RES1   0.0000\\n    13 H7        2.5604   -3.0029   -2.6339   H         1 RES1   0.0000\\n    14 H8        2.4383   -1.2631   -2.4553   H         1 RES1   0.0000\\n    15 H9        4.8642   -2.9750   -1.6839   H         1 RES1   0.0000\\n    16 H10       4.7221   -1.9434   -3.1164   H         1 RES1   0.0000\\n    17 H11       4.7770   -1.2100   -1.5110   H         1 RES1   0.0000\\n@<TRIPOS>BOND\\n     1     1     2    1\\n     2     2     3    1\\n     3     2     7    1\\n     4     2     8    1\\n     5     3     4    1\\n     6     3     9    1\\n     7     3    10    1\\n     8     4     5    1\\n     9     4    11    1\\n    10     4    12    1\\n    11     5     6    1\\n    12     5    13    1\\n    13     5    14    1\\n    14     6    15    1\\n    15     6    16    1\\n    16     6    17    1\\n@<TRIPOS>SUBSTRUCTURE\\n     1 RES1       17 GROUP             0 ****  ****    0  \\n\",\"mol2\",{\"keepH\": true});\n\tviewergrid_17296362986769657[2][1].addStyle({\"sphere\": {\"colorscheme\": \"Jmol\", \"scale\": 0.3}});\n\tviewergrid_17296362986769657[2][1].addStyle({\"stick\": {\"colorscheme\": \"Jmol\", \"radius\": 0.25}});\n\tviewergrid_17296362986769657[2][1].zoomTo();\nviewergrid_17296362986769657[2][3].render();\nviewergrid_17296362986769657[2][2].render();\nviewergrid_17296362986769657[2][1].render();\nviewergrid_17296362986769657[2][0].render();\nviewergrid_17296362986769657[1][3].render();\nviewergrid_17296362986769657[1][2].render();\nviewergrid_17296362986769657[1][1].render();\nviewergrid_17296362986769657[1][0].render();\nviewergrid_17296362986769657[0][3].render();\nviewergrid_17296362986769657[0][2].render();\nviewergrid_17296362986769657[0][1].render();\nviewergrid_17296362986769657[0][0].render();\n});\n</script>",
      "text/html": [
       "<div id=\"3dmolviewer_17296362986769657\"  style=\"position: relative; width: 800px; height: 600px;\">\n",
       "        <p id=\"3dmolwarning_17296362986769657\" style=\"background-color:#ffcccc;color:black\">3Dmol.js failed to load for some reason.  Please check your browser console for error messages.<br></p>\n",
       "        </div>\n",
       "<script>\n",
       "\n",
       "var loadScriptAsync = function(uri){\n",
       "  return new Promise((resolve, reject) => {\n",
       "    //this is to ignore the existence of requirejs amd\n",
       "    var savedexports, savedmodule;\n",
       "    if (typeof exports !== 'undefined') savedexports = exports;\n",
       "    else exports = {}\n",
       "    if (typeof module !== 'undefined') savedmodule = module;\n",
       "    else module = {}\n",
       "\n",
       "    var tag = document.createElement('script');\n",
       "    tag.src = uri;\n",
       "    tag.async = true;\n",
       "    tag.onload = () => {\n",
       "        exports = savedexports;\n",
       "        module = savedmodule;\n",
       "        resolve();\n",
       "    };\n",
       "  var firstScriptTag = document.getElementsByTagName('script')[0];\n",
       "  firstScriptTag.parentNode.insertBefore(tag, firstScriptTag);\n",
       "});\n",
       "};\n",
       "\n",
       "if(typeof $3Dmolpromise === 'undefined') {\n",
       "$3Dmolpromise = null;\n",
       "  $3Dmolpromise = loadScriptAsync('https://cdnjs.cloudflare.com/ajax/libs/3Dmol/2.4.0/3Dmol-min.js');\n",
       "}\n",
       "\n",
       "var viewer_17296362986769657 = null;\n",
       "var warn = document.getElementById(\"3dmolwarning_17296362986769657\");\n",
       "if(warn) {\n",
       "    warn.parentNode.removeChild(warn);\n",
       "}\n",
       "$3Dmolpromise.then(function() {\n",
       "var viewergrid_17296362986769657 = null;\n",
       "viewergrid_17296362986769657 = $3Dmol.createViewerGrid(document.getElementById(\"3dmolviewer_17296362986769657\"),{rows: 3, cols: 4, control_all: false},{backgroundColor:\"white\"});\n",
       "viewer_17296362986769657 = viewergrid_17296362986769657[0][0];\n",
       "viewergrid_17296362986769657[0][0].zoomTo();viewergrid_17296362986769657[0][1].zoomTo();viewergrid_17296362986769657[0][2].zoomTo();viewergrid_17296362986769657[0][3].zoomTo();viewergrid_17296362986769657[1][0].zoomTo();viewergrid_17296362986769657[1][1].zoomTo();viewergrid_17296362986769657[1][2].zoomTo();viewergrid_17296362986769657[1][3].zoomTo();viewergrid_17296362986769657[2][0].zoomTo();viewergrid_17296362986769657[2][1].zoomTo();viewergrid_17296362986769657[2][2].zoomTo();viewergrid_17296362986769657[2][3].zoomTo();\tviewergrid_17296362986769657[0][0].addModel(\"@<TRIPOS>MOLECULE\\ntmp.mol2 Charge: -1 Unpaired_Electrons: 0 XTB_Unpaired_Electrons: 0 XTB_Charge: -1\\n    17    16     1     0     0\\nSMALL\\nNoCharges\\n****\\nGenerated from Architector\\n\\n@<TRIPOS>ATOM\\n     1 O1        2.5614   -0.4492    2.6016   O.3       1 RES1   0.0000\\n     2 C1        2.1702   -1.4784    1.8678   C.3       1 RES1   0.0000\\n     3 C2        2.7027   -1.2748    0.4234   C.3       1 RES1   0.0000\\n     4 C3        2.3497   -2.3768   -0.5923   C.3       1 RES1   0.0000\\n     5 C4        2.8826   -2.1597   -2.0105   C.3       1 RES1   0.0000\\n     6 C5        2.5068   -3.2752   -2.9740   C.3       1 RES1   0.0000\\n     7 H1        2.4765   -2.4919    2.1697   H         1 RES1   0.0000\\n     8 H2        1.0859   -1.6255    1.7400   H         1 RES1   0.0000\\n     9 H3        2.3124   -0.3194    0.0493   H         1 RES1   0.0000\\n    10 H4        3.7959   -1.1530    0.4376   H         1 RES1   0.0000\\n    11 H5        2.7359   -3.3300   -0.2106   H         1 RES1   0.0000\\n    12 H6        1.2597   -2.4919   -0.6424   H         1 RES1   0.0000\\n    13 H7        2.4711   -1.2179   -2.3942   H         1 RES1   0.0000\\n    14 H8        3.9705   -2.0355   -1.9978   H         1 RES1   0.0000\\n    15 H9        1.4196   -3.3829   -3.0406   H         1 RES1   0.0000\\n    16 H10       2.8863   -3.0497   -3.9755   H         1 RES1   0.0000\\n    17 H11       2.9320   -4.2349   -2.6673   H         1 RES1   0.0000\\n@<TRIPOS>BOND\\n     1     1     2    1\\n     2     2     3    1\\n     3     2     7    1\\n     4     2     8    1\\n     5     3     4    1\\n     6     3     9    1\\n     7     3    10    1\\n     8     4     5    1\\n     9     4    11    1\\n    10     4    12    1\\n    11     5     6    1\\n    12     5    13    1\\n    13     5    14    1\\n    14     6    15    1\\n    15     6    16    1\\n    16     6    17    1\\n@<TRIPOS>SUBSTRUCTURE\\n     1 RES1       17 GROUP             0 ****  ****    0  \\n\",\"mol2\",{\"keepH\": true});\n",
       "\tviewergrid_17296362986769657[0][0].addStyle({\"sphere\": {\"colorscheme\": \"Jmol\", \"scale\": 0.3}});\n",
       "\tviewergrid_17296362986769657[0][0].addStyle({\"stick\": {\"colorscheme\": \"Jmol\", \"radius\": 0.25}});\n",
       "\tviewergrid_17296362986769657[0][0].zoomTo();\n",
       "\tviewergrid_17296362986769657[0][1].addModel(\"@<TRIPOS>MOLECULE\\ntmp.mol2 Charge: -1 Unpaired_Electrons: 0 XTB_Unpaired_Electrons: 0 XTB_Charge: -1\\n    17    16     1     0     0\\nSMALL\\nNoCharges\\n****\\nGenerated from Architector\\n\\n@<TRIPOS>ATOM\\n     1 O1        2.6743   -2.6074    2.3389   O.3       1 RES1   0.0000\\n     2 C1        2.1702   -1.4784    1.8678   C.3       1 RES1   0.0000\\n     3 C2        2.7027   -1.2748    0.4234   C.3       1 RES1   0.0000\\n     4 C3        2.3497   -2.3768   -0.5923   C.3       1 RES1   0.0000\\n     5 C4        2.8826   -2.1597   -2.0105   C.3       1 RES1   0.0000\\n     6 C5        2.5068   -3.2752   -2.9740   C.3       1 RES1   0.0000\\n     7 H1        1.0761   -1.3689    1.8117   H         1 RES1   0.0000\\n     8 H2        2.4393   -0.5470    2.3910   H         1 RES1   0.0000\\n     9 H3        2.3124   -0.3194    0.0493   H         1 RES1   0.0000\\n    10 H4        3.7959   -1.1530    0.4376   H         1 RES1   0.0000\\n    11 H5        2.7359   -3.3300   -0.2106   H         1 RES1   0.0000\\n    12 H6        1.2597   -2.4919   -0.6424   H         1 RES1   0.0000\\n    13 H7        2.4711   -1.2179   -2.3942   H         1 RES1   0.0000\\n    14 H8        3.9705   -2.0355   -1.9978   H         1 RES1   0.0000\\n    15 H9        1.4196   -3.3829   -3.0406   H         1 RES1   0.0000\\n    16 H10       2.8863   -3.0497   -3.9755   H         1 RES1   0.0000\\n    17 H11       2.9320   -4.2349   -2.6673   H         1 RES1   0.0000\\n@<TRIPOS>BOND\\n     1     1     2    1\\n     2     2     3    1\\n     3     2     7    1\\n     4     2     8    1\\n     5     3     4    1\\n     6     3     9    1\\n     7     3    10    1\\n     8     4     5    1\\n     9     4    11    1\\n    10     4    12    1\\n    11     5     6    1\\n    12     5    13    1\\n    13     5    14    1\\n    14     6    15    1\\n    15     6    16    1\\n    16     6    17    1\\n@<TRIPOS>SUBSTRUCTURE\\n     1 RES1       17 GROUP             0 ****  ****    0  \\n\",\"mol2\",{\"keepH\": true});\n",
       "\tviewergrid_17296362986769657[0][1].addStyle({\"sphere\": {\"colorscheme\": \"Jmol\", \"scale\": 0.3}});\n",
       "\tviewergrid_17296362986769657[0][1].addStyle({\"stick\": {\"colorscheme\": \"Jmol\", \"radius\": 0.25}});\n",
       "\tviewergrid_17296362986769657[0][1].zoomTo();\n",
       "\tviewergrid_17296362986769657[0][2].addModel(\"@<TRIPOS>MOLECULE\\ntmp.mol2 Charge: -1 Unpaired_Electrons: 0 XTB_Unpaired_Electrons: 0 XTB_Charge: -1\\n    17    16     1     0     0\\nSMALL\\nNoCharges\\n****\\nGenerated from Architector\\n\\n@<TRIPOS>ATOM\\n     1 O1        0.8726    0.1137    0.0128   O.3       1 RES1   0.0000\\n     2 C1        2.1929    0.1534    0.0894   C.3       1 RES1   0.0000\\n     3 C2        2.7027   -1.2748    0.4234   C.3       1 RES1   0.0000\\n     4 C3        2.3497   -2.3768   -0.5923   C.3       1 RES1   0.0000\\n     5 C4        2.8826   -2.1597   -2.0105   C.3       1 RES1   0.0000\\n     6 C5        2.5068   -3.2752   -2.9740   C.3       1 RES1   0.0000\\n     7 H1        2.7653    0.4878   -0.7897   H         1 RES1   0.0000\\n     8 H2        2.6353    0.7904    0.8718   H         1 RES1   0.0000\\n     9 H3        3.7951   -1.2308    0.5227   H         1 RES1   0.0000\\n    10 H4        2.3363   -1.5847    1.4132   H         1 RES1   0.0000\\n    11 H5        2.7359   -3.3300   -0.2106   H         1 RES1   0.0000\\n    12 H6        1.2597   -2.4919   -0.6424   H         1 RES1   0.0000\\n    13 H7        2.4711   -1.2179   -2.3942   H         1 RES1   0.0000\\n    14 H8        3.9705   -2.0355   -1.9978   H         1 RES1   0.0000\\n    15 H9        1.4196   -3.3829   -3.0406   H         1 RES1   0.0000\\n    16 H10       2.8863   -3.0497   -3.9755   H         1 RES1   0.0000\\n    17 H11       2.9320   -4.2349   -2.6673   H         1 RES1   0.0000\\n@<TRIPOS>BOND\\n     1     1     2    1\\n     2     2     3    1\\n     3     2     7    1\\n     4     2     8    1\\n     5     3     4    1\\n     6     3     9    1\\n     7     3    10    1\\n     8     4     5    1\\n     9     4    11    1\\n    10     4    12    1\\n    11     5     6    1\\n    12     5    13    1\\n    13     5    14    1\\n    14     6    15    1\\n    15     6    16    1\\n    16     6    17    1\\n@<TRIPOS>SUBSTRUCTURE\\n     1 RES1       17 GROUP             0 ****  ****    0  \\n\",\"mol2\",{\"keepH\": true});\n",
       "\tviewergrid_17296362986769657[0][2].addStyle({\"sphere\": {\"colorscheme\": \"Jmol\", \"scale\": 0.3}});\n",
       "\tviewergrid_17296362986769657[0][2].addStyle({\"stick\": {\"colorscheme\": \"Jmol\", \"radius\": 0.25}});\n",
       "\tviewergrid_17296362986769657[0][2].zoomTo();\n",
       "\tviewergrid_17296362986769657[0][3].addModel(\"@<TRIPOS>MOLECULE\\ntmp.mol2 Charge: -1 Unpaired_Electrons: 0 XTB_Unpaired_Electrons: 0 XTB_Charge: -1\\n    17    16     1     0     0\\nSMALL\\nNoCharges\\n****\\nGenerated from Architector\\n\\n@<TRIPOS>ATOM\\n     1 O1        0.9266    0.2034    0.0973   O.3       1 RES1   0.0000\\n     2 C1        2.2486    0.1645    0.0580   C.3       1 RES1   0.0000\\n     3 C2        2.7027   -1.2748    0.4234   C.3       1 RES1   0.0000\\n     4 C3        2.3497   -2.3768   -0.5923   C.3       1 RES1   0.0000\\n     5 C4        2.8826   -2.1597   -2.0105   C.3       1 RES1   0.0000\\n     6 C5        4.4015   -2.1286   -2.0865   C.3       1 RES1   0.0000\\n     7 H1        2.7589    0.4195   -0.8837   H         1 RES1   0.0000\\n     8 H2        2.7949    0.8099    0.7642   H         1 RES1   0.0000\\n     9 H3        3.7920   -1.2630    0.5588   H         1 RES1   0.0000\\n    10 H4        2.2943   -1.5623    1.4035   H         1 RES1   0.0000\\n    11 H5        2.7359   -3.3300   -0.2106   H         1 RES1   0.0000\\n    12 H6        1.2597   -2.4919   -0.6424   H         1 RES1   0.0000\\n    13 H7        2.5212   -2.9785   -2.6449   H         1 RES1   0.0000\\n    14 H8        2.4739   -1.2382   -2.4381   H         1 RES1   0.0000\\n    15 H9        4.8299   -3.0629   -1.7102   H         1 RES1   0.0000\\n    16 H10       4.7228   -2.0035   -3.1253   H         1 RES1   0.0000\\n    17 H11       4.8185   -1.2988   -1.5090   H         1 RES1   0.0000\\n@<TRIPOS>BOND\\n     1     1     2    1\\n     2     2     3    1\\n     3     2     7    1\\n     4     2     8    1\\n     5     3     4    1\\n     6     3     9    1\\n     7     3    10    1\\n     8     4     5    1\\n     9     4    11    1\\n    10     4    12    1\\n    11     5     6    1\\n    12     5    13    1\\n    13     5    14    1\\n    14     6    15    1\\n    15     6    16    1\\n    16     6    17    1\\n@<TRIPOS>SUBSTRUCTURE\\n     1 RES1       17 GROUP             0 ****  ****    0  \\n\",\"mol2\",{\"keepH\": true});\n",
       "\tviewergrid_17296362986769657[0][3].addStyle({\"sphere\": {\"colorscheme\": \"Jmol\", \"scale\": 0.3}});\n",
       "\tviewergrid_17296362986769657[0][3].addStyle({\"stick\": {\"colorscheme\": \"Jmol\", \"radius\": 0.25}});\n",
       "\tviewergrid_17296362986769657[0][3].zoomTo();\n",
       "\tviewergrid_17296362986769657[1][0].addModel(\"@<TRIPOS>MOLECULE\\ntmp.mol2 Charge: -1 Unpaired_Electrons: 0 XTB_Unpaired_Electrons: 0 XTB_Charge: -1\\n    17    16     1     0     0\\nSMALL\\nNoCharges\\n****\\nGenerated from Architector\\n\\n@<TRIPOS>ATOM\\n     1 O1        2.5811    0.9678    1.0572   O.3       1 RES1   0.0000\\n     2 C1        2.1929    0.1534    0.0894   C.3       1 RES1   0.0000\\n     3 C2        2.7027   -1.2748    0.4234   C.3       1 RES1   0.0000\\n     4 C3        2.3497   -2.3768   -0.5923   C.3       1 RES1   0.0000\\n     5 C4        2.8826   -2.1597   -2.0105   C.3       1 RES1   0.0000\\n     6 C5        2.5068   -3.2752   -2.9740   C.3       1 RES1   0.0000\\n     7 H1        1.1168    0.0556   -0.1217   H         1 RES1   0.0000\\n     8 H2        2.5796    0.3506   -0.9232   H         1 RES1   0.0000\\n     9 H3        3.7951   -1.2308    0.5227   H         1 RES1   0.0000\\n    10 H4        2.3363   -1.5847    1.4132   H         1 RES1   0.0000\\n    11 H5        2.7359   -3.3300   -0.2106   H         1 RES1   0.0000\\n    12 H6        1.2597   -2.4919   -0.6424   H         1 RES1   0.0000\\n    13 H7        2.4711   -1.2179   -2.3942   H         1 RES1   0.0000\\n    14 H8        3.9705   -2.0355   -1.9978   H         1 RES1   0.0000\\n    15 H9        1.4196   -3.3829   -3.0406   H         1 RES1   0.0000\\n    16 H10       2.8863   -3.0497   -3.9755   H         1 RES1   0.0000\\n    17 H11       2.9320   -4.2349   -2.6673   H         1 RES1   0.0000\\n@<TRIPOS>BOND\\n     1     1     2    1\\n     2     2     3    1\\n     3     2     7    1\\n     4     2     8    1\\n     5     3     4    1\\n     6     3     9    1\\n     7     3    10    1\\n     8     4     5    1\\n     9     4    11    1\\n    10     4    12    1\\n    11     5     6    1\\n    12     5    13    1\\n    13     5    14    1\\n    14     6    15    1\\n    15     6    16    1\\n    16     6    17    1\\n@<TRIPOS>SUBSTRUCTURE\\n     1 RES1       17 GROUP             0 ****  ****    0  \\n\",\"mol2\",{\"keepH\": true});\n",
       "\tviewergrid_17296362986769657[1][0].addStyle({\"sphere\": {\"colorscheme\": \"Jmol\", \"scale\": 0.3}});\n",
       "\tviewergrid_17296362986769657[1][0].addStyle({\"stick\": {\"colorscheme\": \"Jmol\", \"radius\": 0.25}});\n",
       "\tviewergrid_17296362986769657[1][0].zoomTo();\n",
       "\tviewergrid_17296362986769657[1][1].addModel(\"@<TRIPOS>MOLECULE\\ntmp.mol2 Charge: -1 Unpaired_Electrons: 0 XTB_Unpaired_Electrons: 0 XTB_Charge: -1\\n    17    16     1     0     0\\nSMALL\\nNoCharges\\n****\\nGenerated from Architector\\n\\n@<TRIPOS>ATOM\\n     1 O1        4.3380   -0.0586    1.5603   O.3       1 RES1   0.0000\\n     2 C1        4.2162   -1.0286    0.6687   C.3       1 RES1   0.0000\\n     3 C2        2.7027   -1.2748    0.4234   C.3       1 RES1   0.0000\\n     4 C3        2.3497   -2.3768   -0.5923   C.3       1 RES1   0.0000\\n     5 C4        2.8826   -2.1597   -2.0105   C.3       1 RES1   0.0000\\n     6 C5        2.5068   -3.2752   -2.9740   C.3       1 RES1   0.0000\\n     7 H1        4.6724   -0.8963   -0.3246   H         1 RES1   0.0000\\n     8 H2        4.6124   -2.0196    0.9419   H         1 RES1   0.0000\\n     9 H3        2.2396   -1.5281    1.3859   H         1 RES1   0.0000\\n    10 H4        2.2147   -0.3413    0.1064   H         1 RES1   0.0000\\n    11 H5        2.7359   -3.3300   -0.2106   H         1 RES1   0.0000\\n    12 H6        1.2597   -2.4919   -0.6424   H         1 RES1   0.0000\\n    13 H7        2.4711   -1.2179   -2.3942   H         1 RES1   0.0000\\n    14 H8        3.9705   -2.0355   -1.9978   H         1 RES1   0.0000\\n    15 H9        1.4196   -3.3829   -3.0406   H         1 RES1   0.0000\\n    16 H10       2.8863   -3.0497   -3.9755   H         1 RES1   0.0000\\n    17 H11       2.9320   -4.2349   -2.6673   H         1 RES1   0.0000\\n@<TRIPOS>BOND\\n     1     1     2    1\\n     2     2     3    1\\n     3     2     7    1\\n     4     2     8    1\\n     5     3     4    1\\n     6     3     9    1\\n     7     3    10    1\\n     8     4     5    1\\n     9     4    11    1\\n    10     4    12    1\\n    11     5     6    1\\n    12     5    13    1\\n    13     5    14    1\\n    14     6    15    1\\n    15     6    16    1\\n    16     6    17    1\\n@<TRIPOS>SUBSTRUCTURE\\n     1 RES1       17 GROUP             0 ****  ****    0  \\n\",\"mol2\",{\"keepH\": true});\n",
       "\tviewergrid_17296362986769657[1][1].addStyle({\"sphere\": {\"colorscheme\": \"Jmol\", \"scale\": 0.3}});\n",
       "\tviewergrid_17296362986769657[1][1].addStyle({\"stick\": {\"colorscheme\": \"Jmol\", \"radius\": 0.25}});\n",
       "\tviewergrid_17296362986769657[1][1].zoomTo();\n",
       "\tviewergrid_17296362986769657[1][2].addModel(\"@<TRIPOS>MOLECULE\\ntmp.mol2 Charge: -1 Unpaired_Electrons: 0 XTB_Unpaired_Electrons: 0 XTB_Charge: -1\\n    17    16     1     0     0\\nSMALL\\nNoCharges\\n****\\nGenerated from Architector\\n\\n@<TRIPOS>ATOM\\n     1 O1        2.5614   -0.4492    2.6016   O.3       1 RES1   0.0000\\n     2 C1        2.1702   -1.4784    1.8678   C.3       1 RES1   0.0000\\n     3 C2        2.7027   -1.2748    0.4234   C.3       1 RES1   0.0000\\n     4 C3        2.3497   -2.3768   -0.5923   C.3       1 RES1   0.0000\\n     5 C4        2.8826   -2.1597   -2.0105   C.3       1 RES1   0.0000\\n     6 C5        4.3993   -2.0656   -2.0777   C.3       1 RES1   0.0000\\n     7 H1        2.4765   -2.4919    2.1697   H         1 RES1   0.0000\\n     8 H2        1.0859   -1.6255    1.7400   H         1 RES1   0.0000\\n     9 H3        2.3124   -0.3194    0.0493   H         1 RES1   0.0000\\n    10 H4        3.7959   -1.1530    0.4376   H         1 RES1   0.0000\\n    11 H5        2.7359   -3.3300   -0.2106   H         1 RES1   0.0000\\n    12 H6        1.2597   -2.4919   -0.6424   H         1 RES1   0.0000\\n    13 H7        2.5604   -3.0029   -2.6339   H         1 RES1   0.0000\\n    14 H8        2.4383   -1.2631   -2.4553   H         1 RES1   0.0000\\n    15 H9        4.8642   -2.9750   -1.6839   H         1 RES1   0.0000\\n    16 H10       4.7221   -1.9434   -3.1164   H         1 RES1   0.0000\\n    17 H11       4.7770   -1.2100   -1.5110   H         1 RES1   0.0000\\n@<TRIPOS>BOND\\n     1     1     2    1\\n     2     2     3    1\\n     3     2     7    1\\n     4     2     8    1\\n     5     3     4    1\\n     6     3     9    1\\n     7     3    10    1\\n     8     4     5    1\\n     9     4    11    1\\n    10     4    12    1\\n    11     5     6    1\\n    12     5    13    1\\n    13     5    14    1\\n    14     6    15    1\\n    15     6    16    1\\n    16     6    17    1\\n@<TRIPOS>SUBSTRUCTURE\\n     1 RES1       17 GROUP             0 ****  ****    0  \\n\",\"mol2\",{\"keepH\": true});\n",
       "\tviewergrid_17296362986769657[1][2].addStyle({\"sphere\": {\"colorscheme\": \"Jmol\", \"scale\": 0.3}});\n",
       "\tviewergrid_17296362986769657[1][2].addStyle({\"stick\": {\"colorscheme\": \"Jmol\", \"radius\": 0.25}});\n",
       "\tviewergrid_17296362986769657[1][2].zoomTo();\n",
       "\tviewergrid_17296362986769657[1][3].addModel(\"@<TRIPOS>MOLECULE\\ntmp.mol2 Charge: -1 Unpaired_Electrons: 0 XTB_Unpaired_Electrons: 0 XTB_Charge: -1\\n    17    16     1     0     0\\nSMALL\\nNoCharges\\n****\\nGenerated from Architector\\n\\n@<TRIPOS>ATOM\\n     1 O1        0.8495   -1.5413    1.8165   O.3       1 RES1   0.0000\\n     2 C1        2.1702   -1.4784    1.8678   C.3       1 RES1   0.0000\\n     3 C2        2.7027   -1.2748    0.4234   C.3       1 RES1   0.0000\\n     4 C3        2.3497   -2.3768   -0.5923   C.3       1 RES1   0.0000\\n     5 C4        2.8826   -2.1597   -2.0105   C.3       1 RES1   0.0000\\n     6 C5        2.5068   -3.2752   -2.9740   C.3       1 RES1   0.0000\\n     7 H1        2.6403   -0.6960    2.4833   H         1 RES1   0.0000\\n     8 H2        2.7053   -2.3699    2.2321   H         1 RES1   0.0000\\n     9 H3        2.3124   -0.3194    0.0493   H         1 RES1   0.0000\\n    10 H4        3.7959   -1.1530    0.4376   H         1 RES1   0.0000\\n    11 H5        2.7359   -3.3300   -0.2106   H         1 RES1   0.0000\\n    12 H6        1.2597   -2.4919   -0.6424   H         1 RES1   0.0000\\n    13 H7        2.4711   -1.2179   -2.3942   H         1 RES1   0.0000\\n    14 H8        3.9705   -2.0355   -1.9978   H         1 RES1   0.0000\\n    15 H9        1.4196   -3.3829   -3.0406   H         1 RES1   0.0000\\n    16 H10       2.8863   -3.0497   -3.9755   H         1 RES1   0.0000\\n    17 H11       2.9320   -4.2349   -2.6673   H         1 RES1   0.0000\\n@<TRIPOS>BOND\\n     1     1     2    1\\n     2     2     3    1\\n     3     2     7    1\\n     4     2     8    1\\n     5     3     4    1\\n     6     3     9    1\\n     7     3    10    1\\n     8     4     5    1\\n     9     4    11    1\\n    10     4    12    1\\n    11     5     6    1\\n    12     5    13    1\\n    13     5    14    1\\n    14     6    15    1\\n    15     6    16    1\\n    16     6    17    1\\n@<TRIPOS>SUBSTRUCTURE\\n     1 RES1       17 GROUP             0 ****  ****    0  \\n\",\"mol2\",{\"keepH\": true});\n",
       "\tviewergrid_17296362986769657[1][3].addStyle({\"sphere\": {\"colorscheme\": \"Jmol\", \"scale\": 0.3}});\n",
       "\tviewergrid_17296362986769657[1][3].addStyle({\"stick\": {\"colorscheme\": \"Jmol\", \"radius\": 0.25}});\n",
       "\tviewergrid_17296362986769657[1][3].zoomTo();\n",
       "\tviewergrid_17296362986769657[2][0].addModel(\"@<TRIPOS>MOLECULE\\ntmp.mol2 Charge: -1 Unpaired_Electrons: 0 XTB_Unpaired_Electrons: 0 XTB_Charge: -1\\n    17    16     1     0     0\\nSMALL\\nNoCharges\\n****\\nGenerated from Architector\\n\\n@<TRIPOS>ATOM\\n     1 O1        2.5614   -0.4492    2.6016   O.3       1 RES1   0.0000\\n     2 C1        2.1702   -1.4784    1.8678   C.3       1 RES1   0.0000\\n     3 C2        2.7027   -1.2748    0.4234   C.3       1 RES1   0.0000\\n     4 C3        2.3497   -2.3768   -0.5923   C.3       1 RES1   0.0000\\n     5 C4        2.8826   -2.1597   -2.0105   C.3       1 RES1   0.0000\\n     6 C5        2.3723   -0.8814   -2.6581   C.3       1 RES1   0.0000\\n     7 H1        2.4765   -2.4919    2.1697   H         1 RES1   0.0000\\n     8 H2        1.0859   -1.6255    1.7400   H         1 RES1   0.0000\\n     9 H3        2.3124   -0.3194    0.0493   H         1 RES1   0.0000\\n    10 H4        3.7959   -1.1530    0.4376   H         1 RES1   0.0000\\n    11 H5        2.7359   -3.3300   -0.2106   H         1 RES1   0.0000\\n    12 H6        1.2597   -2.4919   -0.6424   H         1 RES1   0.0000\\n    13 H7        3.9776   -2.1111   -1.9649   H         1 RES1   0.0000\\n    14 H8        2.6408   -3.0168   -2.6477   H         1 RES1   0.0000\\n    15 H9        2.6478   -0.0056   -2.0621   H         1 RES1   0.0000\\n    16 H10       2.8109   -0.7643   -3.6540   H         1 RES1   0.0000\\n    17 H11       1.2850   -0.8932   -2.7746   H         1 RES1   0.0000\\n@<TRIPOS>BOND\\n     1     1     2    1\\n     2     2     3    1\\n     3     2     7    1\\n     4     2     8    1\\n     5     3     4    1\\n     6     3     9    1\\n     7     3    10    1\\n     8     4     5    1\\n     9     4    11    1\\n    10     4    12    1\\n    11     5     6    1\\n    12     5    13    1\\n    13     5    14    1\\n    14     6    15    1\\n    15     6    16    1\\n    16     6    17    1\\n@<TRIPOS>SUBSTRUCTURE\\n     1 RES1       17 GROUP             0 ****  ****    0  \\n\",\"mol2\",{\"keepH\": true});\n",
       "\tviewergrid_17296362986769657[2][0].addStyle({\"sphere\": {\"colorscheme\": \"Jmol\", \"scale\": 0.3}});\n",
       "\tviewergrid_17296362986769657[2][0].addStyle({\"stick\": {\"colorscheme\": \"Jmol\", \"radius\": 0.25}});\n",
       "\tviewergrid_17296362986769657[2][0].zoomTo();\n",
       "\tviewergrid_17296362986769657[2][1].addModel(\"@<TRIPOS>MOLECULE\\ntmp.mol2 Charge: -1 Unpaired_Electrons: 0 XTB_Unpaired_Electrons: 0 XTB_Charge: -1\\n    17    16     1     0     0\\nSMALL\\nNoCharges\\n****\\nGenerated from Architector\\n\\n@<TRIPOS>ATOM\\n     1 O1        2.5811    0.9678    1.0572   O.3       1 RES1   0.0000\\n     2 C1        2.1929    0.1534    0.0894   C.3       1 RES1   0.0000\\n     3 C2        2.7027   -1.2748    0.4234   C.3       1 RES1   0.0000\\n     4 C3        2.3497   -2.3768   -0.5923   C.3       1 RES1   0.0000\\n     5 C4        2.8826   -2.1597   -2.0105   C.3       1 RES1   0.0000\\n     6 C5        4.3993   -2.0656   -2.0777   C.3       1 RES1   0.0000\\n     7 H1        1.1168    0.0556   -0.1217   H         1 RES1   0.0000\\n     8 H2        2.5796    0.3506   -0.9232   H         1 RES1   0.0000\\n     9 H3        3.7951   -1.2308    0.5227   H         1 RES1   0.0000\\n    10 H4        2.3363   -1.5847    1.4132   H         1 RES1   0.0000\\n    11 H5        2.7359   -3.3300   -0.2106   H         1 RES1   0.0000\\n    12 H6        1.2597   -2.4919   -0.6424   H         1 RES1   0.0000\\n    13 H7        2.5604   -3.0029   -2.6339   H         1 RES1   0.0000\\n    14 H8        2.4383   -1.2631   -2.4553   H         1 RES1   0.0000\\n    15 H9        4.8642   -2.9750   -1.6839   H         1 RES1   0.0000\\n    16 H10       4.7221   -1.9434   -3.1164   H         1 RES1   0.0000\\n    17 H11       4.7770   -1.2100   -1.5110   H         1 RES1   0.0000\\n@<TRIPOS>BOND\\n     1     1     2    1\\n     2     2     3    1\\n     3     2     7    1\\n     4     2     8    1\\n     5     3     4    1\\n     6     3     9    1\\n     7     3    10    1\\n     8     4     5    1\\n     9     4    11    1\\n    10     4    12    1\\n    11     5     6    1\\n    12     5    13    1\\n    13     5    14    1\\n    14     6    15    1\\n    15     6    16    1\\n    16     6    17    1\\n@<TRIPOS>SUBSTRUCTURE\\n     1 RES1       17 GROUP             0 ****  ****    0  \\n\",\"mol2\",{\"keepH\": true});\n",
       "\tviewergrid_17296362986769657[2][1].addStyle({\"sphere\": {\"colorscheme\": \"Jmol\", \"scale\": 0.3}});\n",
       "\tviewergrid_17296362986769657[2][1].addStyle({\"stick\": {\"colorscheme\": \"Jmol\", \"radius\": 0.25}});\n",
       "\tviewergrid_17296362986769657[2][1].zoomTo();\n",
       "viewergrid_17296362986769657[2][3].render();\n",
       "viewergrid_17296362986769657[2][2].render();\n",
       "viewergrid_17296362986769657[2][1].render();\n",
       "viewergrid_17296362986769657[2][0].render();\n",
       "viewergrid_17296362986769657[1][3].render();\n",
       "viewergrid_17296362986769657[1][2].render();\n",
       "viewergrid_17296362986769657[1][1].render();\n",
       "viewergrid_17296362986769657[1][0].render();\n",
       "viewergrid_17296362986769657[0][3].render();\n",
       "viewergrid_17296362986769657[0][2].render();\n",
       "viewergrid_17296362986769657[0][1].render();\n",
       "viewergrid_17296362986769657[0][0].render();\n",
       "});\n",
       "</script>"
      ]
     },
     "metadata": {},
     "output_type": "display_data"
    }
   ],
   "source": [
    "view_structures(confs[0:10])"
   ]
  },
  {
   "cell_type": "code",
   "execution_count": 21,
   "id": "690e90bb-c8a3-4b3d-98d0-9b957ab90cd5",
   "metadata": {},
   "outputs": [
    {
     "data": {
      "text/plain": [
       "25"
      ]
     },
     "execution_count": 21,
     "metadata": {},
     "output_type": "execute_result"
    }
   ],
   "source": [
    "len(confs)"
   ]
  },
  {
   "cell_type": "code",
   "execution_count": 12,
   "id": "e8507261-31d6-46e5-85d7-7aaa1c84a628",
   "metadata": {},
   "outputs": [
    {
     "name": "stdout",
     "output_type": "stream",
     "text": [
      "@<TRIPOS>MOLECULE\n",
      "UFF_Energy=0.18387233505621525 Charge: -1 Unpaired_Electrons: 0 XTB_Unpaired_Electrons: 0 XTB_Charge: -1\n",
      "    17    16     1     0     0\n",
      "SMALL\n",
      "NoCharges\n",
      "****\n",
      "Generated from Architector\n",
      "\n",
      "@<TRIPOS>ATOM\n",
      "     1 O1        2.5957    2.3900    1.1867   O.3       1 RES1   0.0000\n",
      "     2 C1        2.2034    1.4242    2.0047   C.3       1 RES1   0.0000\n",
      "     3 C2        2.7363    0.0752    1.4492   C.3       1 RES1   0.0000\n",
      "     4 C3        2.3843   -1.1815    2.2648   C.3       1 RES1   0.0000\n",
      "     5 C4        2.9167   -2.5023    1.7041   C.3       1 RES1   0.0000\n",
      "     6 C5        2.5410   -3.7117    2.5470   C.3       1 RES1   0.0000\n",
      "     7 H1        2.5089    1.4664    3.0600   H         1 RES1   0.0000\n",
      "     8 H2        1.1186    1.2647    2.1157   H         1 RES1   0.0000\n",
      "     9 H3        2.3437   -0.0502    0.4308   H         1 RES1   0.0000\n",
      "    10 H4        3.8288    0.1191    1.3326   H         1 RES1   0.0000\n",
      "    11 H5        2.7709   -1.0483    3.2831   H         1 RES1   0.0000\n",
      "    12 H6        1.2951   -1.2592    2.3644   H         1 RES1   0.0000\n",
      "    13 H7        2.5056   -2.6421    0.6967   H         1 RES1   0.0000\n",
      "    14 H8        4.0048   -2.4598    1.5874   H         1 RES1   0.0000\n",
      "    15 H9        1.4536   -3.8025    2.6360   H         1 RES1   0.0000\n",
      "    16 H10       2.9195   -4.6275    2.0809   H         1 RES1   0.0000\n",
      "    17 H11       2.9669   -3.6522    3.5527   H         1 RES1   0.0000\n",
      "@<TRIPOS>BOND\n",
      "     1     1     2    1\n",
      "     2     2     3    1\n",
      "     3     2     7    1\n",
      "     4     2     8    1\n",
      "     5     3     4    1\n",
      "     6     3     9    1\n",
      "     7     3    10    1\n",
      "     8     4     5    1\n",
      "     9     4    11    1\n",
      "    10     4    12    1\n",
      "    11     5     6    1\n",
      "    12     5    13    1\n",
      "    13     5    14    1\n",
      "    14     6    15    1\n",
      "    15     6    16    1\n",
      "    16     6    17    1\n",
      "@<TRIPOS>SUBSTRUCTURE\n",
      "     1 RES1       17 GROUP             0 ****  ****    0  \n",
      "\n"
     ]
    }
   ],
   "source": [
    "print(confs[0])"
   ]
  },
  {
   "cell_type": "code",
   "execution_count": 22,
   "id": "5910242a-03f6-4649-84e2-f89d019b2ad0",
   "metadata": {},
   "outputs": [
    {
     "name": "stdout",
     "output_type": "stream",
     "text": [
      "Confomers: 50\n"
     ]
    },
    {
     "data": {
      "application/3dmoljs_load.v0": "<div id=\"3dmolviewer_17296363027359507\"  style=\"position: relative; width: 200px; height: 200px;\">\n        <p id=\"3dmolwarning_17296363027359507\" style=\"background-color:#ffcccc;color:black\">3Dmol.js failed to load for some reason.  Please check your browser console for error messages.<br></p>\n        </div>\n<script>\n\nvar loadScriptAsync = function(uri){\n  return new Promise((resolve, reject) => {\n    //this is to ignore the existence of requirejs amd\n    var savedexports, savedmodule;\n    if (typeof exports !== 'undefined') savedexports = exports;\n    else exports = {}\n    if (typeof module !== 'undefined') savedmodule = module;\n    else module = {}\n\n    var tag = document.createElement('script');\n    tag.src = uri;\n    tag.async = true;\n    tag.onload = () => {\n        exports = savedexports;\n        module = savedmodule;\n        resolve();\n    };\n  var firstScriptTag = document.getElementsByTagName('script')[0];\n  firstScriptTag.parentNode.insertBefore(tag, firstScriptTag);\n});\n};\n\nif(typeof $3Dmolpromise === 'undefined') {\n$3Dmolpromise = null;\n  $3Dmolpromise = loadScriptAsync('https://cdnjs.cloudflare.com/ajax/libs/3Dmol/2.4.0/3Dmol-min.js');\n}\n\nvar viewer_17296363027359507 = null;\nvar warn = document.getElementById(\"3dmolwarning_17296363027359507\");\nif(warn) {\n    warn.parentNode.removeChild(warn);\n}\n$3Dmolpromise.then(function() {\nviewer_17296363027359507 = $3Dmol.createViewer(document.getElementById(\"3dmolviewer_17296363027359507\"),{backgroundColor:\"white\"});\nviewer_17296363027359507.zoomTo();\n\tviewer_17296363027359507.addModel(\"@<TRIPOS>MOLECULE\\ntmp.mol2\\n    29    28     1     0     0\\nSMALL\\nNoCharges\\n****\\nGenerated from Architector\\n\\n@<TRIPOS>ATOM\\n     1 C1        1.2063    0.1889   -0.0953   C.3       1 RES1   0.0000\\n     2 C2        0.3363    0.1313    1.1287   C.2       1 RES1   0.0000\\n     3 C3       -0.7082    1.2081    1.2435   C.3       1 RES1   0.0000\\n     4 C4        0.4978   -0.7759    2.1128   C.2       1 RES1   0.0000\\n     5 C5        1.6072   -1.7872    2.2272   C.3       1 RES1   0.0000\\n     6 C6        2.7789   -1.2525    3.0698   C.3       1 RES1   0.0000\\n     7 C7        2.5274   -1.1875    4.5659   C.2       1 RES1   0.0000\\n     8 C8        2.9058   -2.4160    5.3551   C.3       1 RES1   0.0000\\n     9 C9        2.0594   -0.1085    5.2282   C.2       1 RES1   0.0000\\n    10 C10       1.6296    1.2126    4.6769   C.3       1 RES1   0.0000\\n    11 O1        0.2660    1.4079    5.0129   O.3       1 RES1   0.0000\\n    12 H1        0.8762    0.9745   -0.7829   H         1 RES1   0.0000\\n    13 H2        1.1592   -0.7570   -0.6452   H         1 RES1   0.0000\\n    14 H3        2.2475    0.4003    0.1712   H         1 RES1   0.0000\\n    15 H4       -1.4507    0.9822    2.0150   H         1 RES1   0.0000\\n    16 H5       -0.2284    2.1581    1.5068   H         1 RES1   0.0000\\n    17 H6       -1.2428    1.3410    0.2982   H         1 RES1   0.0000\\n    18 H7       -0.1830   -0.7579    2.9598   H         1 RES1   0.0000\\n    19 H8        1.2077   -2.7126    2.6597   H         1 RES1   0.0000\\n    20 H9        1.9824   -2.0541    1.2329   H         1 RES1   0.0000\\n    21 H10       3.6500   -1.8973    2.8918   H         1 RES1   0.0000\\n    22 H11       3.0910   -0.2687    2.6971   H         1 RES1   0.0000\\n    23 H12       3.3900   -2.1415    6.3002   H         1 RES1   0.0000\\n    24 H13       2.0183   -3.0159    5.5762   H         1 RES1   0.0000\\n    25 H14       3.6168   -3.0447    4.8101   H         1 RES1   0.0000\\n    26 H15       1.9512   -0.1746    6.3120   H         1 RES1   0.0000\\n    27 H16       2.2104    2.0173    5.1384   H         1 RES1   0.0000\\n    28 H17       1.7404    1.2997    3.5950   H         1 RES1   0.0000\\n    29 H18      -0.2111    0.6121    4.7116   H         1 RES1   0.0000\\n@<TRIPOS>BOND\\n     1     1     2    1\\n     2     1    12    1\\n     3     1    13    1\\n     4     1    14    1\\n     5     2     3    1\\n     6     2     4    2\\n     7     3    15    1\\n     8     3    16    1\\n     9     3    17    1\\n    10     4     5    1\\n    11     4    18    1\\n    12     5     6    1\\n    13     5    19    1\\n    14     5    20    1\\n    15     6     7    1\\n    16     6    21    1\\n    17     6    22    1\\n    18     7     8    1\\n    19     7     9    2\\n    20     8    23    1\\n    21     8    24    1\\n    22     8    25    1\\n    23     9    10    1\\n    24     9    26    1\\n    25    10    11    1\\n    26    10    27    1\\n    27    10    28    1\\n    28    11    29    1\\n@<TRIPOS>SUBSTRUCTURE\\n     1 RES1       29 GROUP             0 ****  ****    0  \\n\",\"mol2\",{\"keepH\": true});\n\tviewer_17296363027359507.addStyle({\"sphere\": {\"colorscheme\": \"Jmol\", \"scale\": 0.3}});\n\tviewer_17296363027359507.addStyle({\"stick\": {\"colorscheme\": \"Jmol\", \"radius\": 0.25}});\n\tviewer_17296363027359507.zoomTo();\nviewer_17296363027359507.render();\n});\n</script>",
      "text/html": [
       "<div id=\"3dmolviewer_17296363027359507\"  style=\"position: relative; width: 200px; height: 200px;\">\n",
       "        <p id=\"3dmolwarning_17296363027359507\" style=\"background-color:#ffcccc;color:black\">3Dmol.js failed to load for some reason.  Please check your browser console for error messages.<br></p>\n",
       "        </div>\n",
       "<script>\n",
       "\n",
       "var loadScriptAsync = function(uri){\n",
       "  return new Promise((resolve, reject) => {\n",
       "    //this is to ignore the existence of requirejs amd\n",
       "    var savedexports, savedmodule;\n",
       "    if (typeof exports !== 'undefined') savedexports = exports;\n",
       "    else exports = {}\n",
       "    if (typeof module !== 'undefined') savedmodule = module;\n",
       "    else module = {}\n",
       "\n",
       "    var tag = document.createElement('script');\n",
       "    tag.src = uri;\n",
       "    tag.async = true;\n",
       "    tag.onload = () => {\n",
       "        exports = savedexports;\n",
       "        module = savedmodule;\n",
       "        resolve();\n",
       "    };\n",
       "  var firstScriptTag = document.getElementsByTagName('script')[0];\n",
       "  firstScriptTag.parentNode.insertBefore(tag, firstScriptTag);\n",
       "});\n",
       "};\n",
       "\n",
       "if(typeof $3Dmolpromise === 'undefined') {\n",
       "$3Dmolpromise = null;\n",
       "  $3Dmolpromise = loadScriptAsync('https://cdnjs.cloudflare.com/ajax/libs/3Dmol/2.4.0/3Dmol-min.js');\n",
       "}\n",
       "\n",
       "var viewer_17296363027359507 = null;\n",
       "var warn = document.getElementById(\"3dmolwarning_17296363027359507\");\n",
       "if(warn) {\n",
       "    warn.parentNode.removeChild(warn);\n",
       "}\n",
       "$3Dmolpromise.then(function() {\n",
       "viewer_17296363027359507 = $3Dmol.createViewer(document.getElementById(\"3dmolviewer_17296363027359507\"),{backgroundColor:\"white\"});\n",
       "viewer_17296363027359507.zoomTo();\n",
       "\tviewer_17296363027359507.addModel(\"@<TRIPOS>MOLECULE\\ntmp.mol2\\n    29    28     1     0     0\\nSMALL\\nNoCharges\\n****\\nGenerated from Architector\\n\\n@<TRIPOS>ATOM\\n     1 C1        1.2063    0.1889   -0.0953   C.3       1 RES1   0.0000\\n     2 C2        0.3363    0.1313    1.1287   C.2       1 RES1   0.0000\\n     3 C3       -0.7082    1.2081    1.2435   C.3       1 RES1   0.0000\\n     4 C4        0.4978   -0.7759    2.1128   C.2       1 RES1   0.0000\\n     5 C5        1.6072   -1.7872    2.2272   C.3       1 RES1   0.0000\\n     6 C6        2.7789   -1.2525    3.0698   C.3       1 RES1   0.0000\\n     7 C7        2.5274   -1.1875    4.5659   C.2       1 RES1   0.0000\\n     8 C8        2.9058   -2.4160    5.3551   C.3       1 RES1   0.0000\\n     9 C9        2.0594   -0.1085    5.2282   C.2       1 RES1   0.0000\\n    10 C10       1.6296    1.2126    4.6769   C.3       1 RES1   0.0000\\n    11 O1        0.2660    1.4079    5.0129   O.3       1 RES1   0.0000\\n    12 H1        0.8762    0.9745   -0.7829   H         1 RES1   0.0000\\n    13 H2        1.1592   -0.7570   -0.6452   H         1 RES1   0.0000\\n    14 H3        2.2475    0.4003    0.1712   H         1 RES1   0.0000\\n    15 H4       -1.4507    0.9822    2.0150   H         1 RES1   0.0000\\n    16 H5       -0.2284    2.1581    1.5068   H         1 RES1   0.0000\\n    17 H6       -1.2428    1.3410    0.2982   H         1 RES1   0.0000\\n    18 H7       -0.1830   -0.7579    2.9598   H         1 RES1   0.0000\\n    19 H8        1.2077   -2.7126    2.6597   H         1 RES1   0.0000\\n    20 H9        1.9824   -2.0541    1.2329   H         1 RES1   0.0000\\n    21 H10       3.6500   -1.8973    2.8918   H         1 RES1   0.0000\\n    22 H11       3.0910   -0.2687    2.6971   H         1 RES1   0.0000\\n    23 H12       3.3900   -2.1415    6.3002   H         1 RES1   0.0000\\n    24 H13       2.0183   -3.0159    5.5762   H         1 RES1   0.0000\\n    25 H14       3.6168   -3.0447    4.8101   H         1 RES1   0.0000\\n    26 H15       1.9512   -0.1746    6.3120   H         1 RES1   0.0000\\n    27 H16       2.2104    2.0173    5.1384   H         1 RES1   0.0000\\n    28 H17       1.7404    1.2997    3.5950   H         1 RES1   0.0000\\n    29 H18      -0.2111    0.6121    4.7116   H         1 RES1   0.0000\\n@<TRIPOS>BOND\\n     1     1     2    1\\n     2     1    12    1\\n     3     1    13    1\\n     4     1    14    1\\n     5     2     3    1\\n     6     2     4    2\\n     7     3    15    1\\n     8     3    16    1\\n     9     3    17    1\\n    10     4     5    1\\n    11     4    18    1\\n    12     5     6    1\\n    13     5    19    1\\n    14     5    20    1\\n    15     6     7    1\\n    16     6    21    1\\n    17     6    22    1\\n    18     7     8    1\\n    19     7     9    2\\n    20     8    23    1\\n    21     8    24    1\\n    22     8    25    1\\n    23     9    10    1\\n    24     9    26    1\\n    25    10    11    1\\n    26    10    27    1\\n    27    10    28    1\\n    28    11    29    1\\n@<TRIPOS>SUBSTRUCTURE\\n     1 RES1       29 GROUP             0 ****  ****    0  \\n\",\"mol2\",{\"keepH\": true});\n",
       "\tviewer_17296363027359507.addStyle({\"sphere\": {\"colorscheme\": \"Jmol\", \"scale\": 0.3}});\n",
       "\tviewer_17296363027359507.addStyle({\"stick\": {\"colorscheme\": \"Jmol\", \"radius\": 0.25}});\n",
       "\tviewer_17296363027359507.zoomTo();\n",
       "viewer_17296363027359507.render();\n",
       "});\n",
       "</script>"
      ]
     },
     "metadata": {},
     "output_type": "display_data"
    },
    {
     "data": {
      "application/3dmoljs_load.v0": "<div id=\"3dmolviewer_17296363027531168\"  style=\"position: relative; width: 800px; height: 200px;\">\n        <p id=\"3dmolwarning_17296363027531168\" style=\"background-color:#ffcccc;color:black\">3Dmol.js failed to load for some reason.  Please check your browser console for error messages.<br></p>\n        </div>\n<script>\n\nvar loadScriptAsync = function(uri){\n  return new Promise((resolve, reject) => {\n    //this is to ignore the existence of requirejs amd\n    var savedexports, savedmodule;\n    if (typeof exports !== 'undefined') savedexports = exports;\n    else exports = {}\n    if (typeof module !== 'undefined') savedmodule = module;\n    else module = {}\n\n    var tag = document.createElement('script');\n    tag.src = uri;\n    tag.async = true;\n    tag.onload = () => {\n        exports = savedexports;\n        module = savedmodule;\n        resolve();\n    };\n  var firstScriptTag = document.getElementsByTagName('script')[0];\n  firstScriptTag.parentNode.insertBefore(tag, firstScriptTag);\n});\n};\n\nif(typeof $3Dmolpromise === 'undefined') {\n$3Dmolpromise = null;\n  $3Dmolpromise = loadScriptAsync('https://cdnjs.cloudflare.com/ajax/libs/3Dmol/2.4.0/3Dmol-min.js');\n}\n\nvar viewer_17296363027531168 = null;\nvar warn = document.getElementById(\"3dmolwarning_17296363027531168\");\nif(warn) {\n    warn.parentNode.removeChild(warn);\n}\n$3Dmolpromise.then(function() {\nvar viewergrid_17296363027531168 = null;\nviewergrid_17296363027531168 = $3Dmol.createViewerGrid(document.getElementById(\"3dmolviewer_17296363027531168\"),{rows: 1, cols: 4, control_all: false},{backgroundColor:\"white\"});\nviewer_17296363027531168 = viewergrid_17296363027531168[0][0];\nviewergrid_17296363027531168[0][0].zoomTo();viewergrid_17296363027531168[0][1].zoomTo();viewergrid_17296363027531168[0][2].zoomTo();viewergrid_17296363027531168[0][3].zoomTo();\tviewergrid_17296363027531168[0][0].addModel(\"@<TRIPOS>MOLECULE\\ntmp.mol2 Charge: 0 Unpaired_Electrons: 0 XTB_Unpaired_Electrons: 0 XTB_Charge: 0\\n    29    28     1     0     0\\nSMALL\\nNoCharges\\n****\\nGenerated from Architector\\n\\n@<TRIPOS>ATOM\\n     1 C1        0.1828   -0.3957   -0.1223   C.3       1 RES1   0.0000\\n     2 C2       -0.1716   -0.5499    1.3292   C.2       1 RES1   0.0000\\n     3 C3       -1.2435    0.3682    1.8489   C.3       1 RES1   0.0000\\n     4 C4        0.4575   -1.4046    2.1626   C.2       1 RES1   0.0000\\n     5 C5        1.6751   -2.2324    1.8550   C.3       1 RES1   0.0000\\n     6 C6        2.8455   -1.8945    2.7976   C.3       1 RES1   0.0000\\n     7 C7        2.5887   -2.1137    4.2796   C.2       1 RES1   0.0000\\n     8 C8        2.2436   -3.5170    4.6956   C.3       1 RES1   0.0000\\n     9 C9        2.7187   -1.1705    5.2385   C.2       1 RES1   0.0000\\n    10 C10       3.0678    0.2745    5.0922   C.3       1 RES1   0.0000\\n    11 O1        1.8606    1.0061    4.9272   O.3       1 RES1   0.0000\\n    12 H1       -0.4873    0.3107   -0.6237   H         1 RES1   0.0000\\n    13 H2        0.0848   -1.3531   -0.6448   H         1 RES1   0.0000\\n    14 H3        1.2039   -0.0229   -0.2410   H         1 RES1   0.0000\\n    15 H4       -1.6636    0.0172    2.7973   H         1 RES1   0.0000\\n    16 H5       -0.8208    1.3657    2.0158   H         1 RES1   0.0000\\n    17 H6       -2.0703    0.4594    1.1364   H         1 RES1   0.0000\\n    18 H7        0.1235   -1.4667    3.1941   H         1 RES1   0.0000\\n    19 H8        1.4138   -3.2949    1.9274   H         1 RES1   0.0000\\n    20 H9        2.0031   -2.0601    0.8250   H         1 RES1   0.0000\\n    21 H10       3.7056   -2.5093    2.5008   H         1 RES1   0.0000\\n    22 H11       3.1775   -0.8625    2.6243   H         1 RES1   0.0000\\n    23 H12       2.7997   -3.8052    5.5967   H         1 RES1   0.0000\\n    24 H13       1.1713   -3.6033    4.9056   H         1 RES1   0.0000\\n    25 H14       2.4983   -4.2494    3.9238   H         1 RES1   0.0000\\n    26 H15       2.5418   -1.4634    6.2741   H         1 RES1   0.0000\\n    27 H16       3.5576    0.6347    6.0008   H         1 RES1   0.0000\\n    28 H17       3.7294    0.4893    4.2523   H         1 RES1   0.0000\\n    29 H18       1.3532    0.5527    4.2354   H         1 RES1   0.0000\\n@<TRIPOS>BOND\\n     1     1     2    1\\n     2     1    12    1\\n     3     1    13    1\\n     4     1    14    1\\n     5     2     3    1\\n     6     2     4    2\\n     7     3    15    1\\n     8     3    16    1\\n     9     3    17    1\\n    10     4     5    1\\n    11     4    18    1\\n    12     5     6    1\\n    13     5    19    1\\n    14     5    20    1\\n    15     6     7    1\\n    16     6    21    1\\n    17     6    22    1\\n    18     7     8    1\\n    19     7     9    2\\n    20     8    23    1\\n    21     8    24    1\\n    22     8    25    1\\n    23     9    10    1\\n    24     9    26    1\\n    25    10    11    1\\n    26    10    27    1\\n    27    10    28    1\\n    28    11    29    1\\n@<TRIPOS>SUBSTRUCTURE\\n     1 RES1       29 GROUP             0 ****  ****    0  \\n\",\"mol2\",{\"keepH\": true});\n\tviewergrid_17296363027531168[0][0].addStyle({\"sphere\": {\"colorscheme\": \"Jmol\", \"scale\": 0.3}});\n\tviewergrid_17296363027531168[0][0].addStyle({\"stick\": {\"colorscheme\": \"Jmol\", \"radius\": 0.25}});\n\tviewergrid_17296363027531168[0][0].zoomTo();\n\tviewergrid_17296363027531168[0][1].addModel(\"@<TRIPOS>MOLECULE\\ntmp.mol2 Charge: 0 Unpaired_Electrons: 0 XTB_Unpaired_Electrons: 0 XTB_Charge: 0\\n    29    28     1     0     0\\nSMALL\\nNoCharges\\n****\\nGenerated from Architector\\n\\n@<TRIPOS>ATOM\\n     1 C1        0.3340   -0.1788   -0.0142   C.3       1 RES1   0.0000\\n     2 C2        1.4164   -1.1318   -0.4340   C.2       1 RES1   0.0000\\n     3 C3        1.7478   -1.1510   -1.9009   C.3       1 RES1   0.0000\\n     4 C4        2.0312   -1.9813    0.4153   C.2       1 RES1   0.0000\\n     5 C5        1.6751   -2.2324    1.8550   C.3       1 RES1   0.0000\\n     6 C6        2.8455   -1.8945    2.7976   C.3       1 RES1   0.0000\\n     7 C7        2.5887   -2.1137    4.2796   C.2       1 RES1   0.0000\\n     8 C8        2.9289   -3.4750    4.8205   C.3       1 RES1   0.0000\\n     9 C9        2.1547   -1.1675    5.1412   C.2       1 RES1   0.0000\\n    10 C10       1.7724    0.2497    4.8641   C.3       1 RES1   0.0000\\n    11 O1        0.4153    0.4242    5.2480   O.3       1 RES1   0.0000\\n    12 H1        0.0134    0.4534   -0.8491   H         1 RES1   0.0000\\n    13 H2        0.6970    0.4918    0.7717   H         1 RES1   0.0000\\n    14 H3       -0.5458   -0.7171    0.3489   H         1 RES1   0.0000\\n    15 H4        2.7173   -1.6200   -2.0990   H         1 RES1   0.0000\\n    16 H5        0.9816   -1.7188   -2.4412   H         1 RES1   0.0000\\n    17 H6        1.7816   -0.1377   -2.3153   H         1 RES1   0.0000\\n    18 H7        2.8184   -2.6231    0.0309   H         1 RES1   0.0000\\n    19 H8        0.7874   -1.6425    2.1128   H         1 RES1   0.0000\\n    20 H9        1.4068   -3.2831    2.0038   H         1 RES1   0.0000\\n    21 H10       3.7056   -2.5093    2.5008   H         1 RES1   0.0000\\n    22 H11       3.1775   -0.8625    2.6243   H         1 RES1   0.0000\\n    23 H12       3.4673   -3.3933    5.7733   H         1 RES1   0.0000\\n    24 H13       2.0182   -4.0624    4.9845   H         1 RES1   0.0000\\n    25 H14       3.5777   -4.0369    4.1423   H         1 RES1   0.0000\\n    26 H15       2.0451   -1.4408    6.1914   H         1 RES1   0.0000\\n    27 H16       2.3824    0.9265    5.4682   H         1 RES1   0.0000\\n    28 H17       1.8857    0.5448    3.8204   H         1 RES1   0.0000\\n    29 H18      -0.0832   -0.3047    4.8460   H         1 RES1   0.0000\\n@<TRIPOS>BOND\\n     1     1     2    1\\n     2     1    12    1\\n     3     1    13    1\\n     4     1    14    1\\n     5     2     3    1\\n     6     2     4    2\\n     7     3    15    1\\n     8     3    16    1\\n     9     3    17    1\\n    10     4     5    1\\n    11     4    18    1\\n    12     5     6    1\\n    13     5    19    1\\n    14     5    20    1\\n    15     6     7    1\\n    16     6    21    1\\n    17     6    22    1\\n    18     7     8    1\\n    19     7     9    2\\n    20     8    23    1\\n    21     8    24    1\\n    22     8    25    1\\n    23     9    10    1\\n    24     9    26    1\\n    25    10    11    1\\n    26    10    27    1\\n    27    10    28    1\\n    28    11    29    1\\n@<TRIPOS>SUBSTRUCTURE\\n     1 RES1       29 GROUP             0 ****  ****    0  \\n\",\"mol2\",{\"keepH\": true});\n\tviewergrid_17296363027531168[0][1].addStyle({\"sphere\": {\"colorscheme\": \"Jmol\", \"scale\": 0.3}});\n\tviewergrid_17296363027531168[0][1].addStyle({\"stick\": {\"colorscheme\": \"Jmol\", \"radius\": 0.25}});\n\tviewergrid_17296363027531168[0][1].zoomTo();\n\tviewergrid_17296363027531168[0][2].addModel(\"@<TRIPOS>MOLECULE\\ntmp.mol2 Charge: 0 Unpaired_Electrons: 0 XTB_Unpaired_Electrons: 0 XTB_Charge: 0\\n    29    28     1     0     0\\nSMALL\\nNoCharges\\n****\\nGenerated from Architector\\n\\n@<TRIPOS>ATOM\\n     1 C1       -1.1401   -3.2792    2.5540   C.3       1 RES1   0.0000\\n     2 C2        0.0614   -4.1526    2.3313   C.2       1 RES1   0.0000\\n     3 C3       -0.1267   -5.6188    2.6084   C.3       1 RES1   0.0000\\n     4 C4        1.2706   -3.6768    1.9675   C.2       1 RES1   0.0000\\n     5 C5        1.6751   -2.2324    1.8550   C.3       1 RES1   0.0000\\n     6 C6        2.8455   -1.8945    2.7976   C.3       1 RES1   0.0000\\n     7 C7        2.5887   -2.1137    4.2796   C.2       1 RES1   0.0000\\n     8 C8        2.9289   -3.4750    4.8205   C.3       1 RES1   0.0000\\n     9 C9        2.1547   -1.1675    5.1412   C.2       1 RES1   0.0000\\n    10 C10       1.7724    0.2497    4.8641   C.3       1 RES1   0.0000\\n    11 O1        0.4153    0.4242    5.2480   O.3       1 RES1   0.0000\\n    12 H1       -2.0282   -3.8751    2.7901   H         1 RES1   0.0000\\n    13 H2       -1.3718   -2.7074    1.6493   H         1 RES1   0.0000\\n    14 H3       -0.9760   -2.5880    3.3854   H         1 RES1   0.0000\\n    15 H4        0.6594   -6.2293    2.1521   H         1 RES1   0.0000\\n    16 H5       -0.1031   -5.7920    3.6905   H         1 RES1   0.0000\\n    17 H6       -1.0873   -5.9773    2.2232   H         1 RES1   0.0000\\n    18 H7        2.0812   -4.3818    1.8082   H         1 RES1   0.0000\\n    19 H8        1.9411   -2.0148    0.8137   H         1 RES1   0.0000\\n    20 H9        0.8328   -1.5799    2.1059   H         1 RES1   0.0000\\n    21 H10       3.7056   -2.5093    2.5008   H         1 RES1   0.0000\\n    22 H11       3.1775   -0.8625    2.6243   H         1 RES1   0.0000\\n    23 H12       3.4673   -3.3933    5.7733   H         1 RES1   0.0000\\n    24 H13       2.0182   -4.0624    4.9845   H         1 RES1   0.0000\\n    25 H14       3.5777   -4.0369    4.1423   H         1 RES1   0.0000\\n    26 H15       2.0451   -1.4408    6.1914   H         1 RES1   0.0000\\n    27 H16       2.3824    0.9265    5.4682   H         1 RES1   0.0000\\n    28 H17       1.8857    0.5448    3.8204   H         1 RES1   0.0000\\n    29 H18      -0.0832   -0.3047    4.8460   H         1 RES1   0.0000\\n@<TRIPOS>BOND\\n     1     1     2    1\\n     2     1    12    1\\n     3     1    13    1\\n     4     1    14    1\\n     5     2     3    1\\n     6     2     4    2\\n     7     3    15    1\\n     8     3    16    1\\n     9     3    17    1\\n    10     4     5    1\\n    11     4    18    1\\n    12     5     6    1\\n    13     5    19    1\\n    14     5    20    1\\n    15     6     7    1\\n    16     6    21    1\\n    17     6    22    1\\n    18     7     8    1\\n    19     7     9    2\\n    20     8    23    1\\n    21     8    24    1\\n    22     8    25    1\\n    23     9    10    1\\n    24     9    26    1\\n    25    10    11    1\\n    26    10    27    1\\n    27    10    28    1\\n    28    11    29    1\\n@<TRIPOS>SUBSTRUCTURE\\n     1 RES1       29 GROUP             0 ****  ****    0  \\n\",\"mol2\",{\"keepH\": true});\n\tviewergrid_17296363027531168[0][2].addStyle({\"sphere\": {\"colorscheme\": \"Jmol\", \"scale\": 0.3}});\n\tviewergrid_17296363027531168[0][2].addStyle({\"stick\": {\"colorscheme\": \"Jmol\", \"radius\": 0.25}});\n\tviewergrid_17296363027531168[0][2].zoomTo();\n\tviewergrid_17296363027531168[0][3].addModel(\"@<TRIPOS>MOLECULE\\ntmp.mol2 Charge: 0 Unpaired_Electrons: 0 XTB_Unpaired_Electrons: 0 XTB_Charge: 0\\n    29    28     1     0     0\\nSMALL\\nNoCharges\\n****\\nGenerated from Architector\\n\\n@<TRIPOS>ATOM\\n     1 C1       -1.0496   -3.3034    2.8239   C.3       1 RES1   0.0000\\n     2 C2       -0.7592   -1.8597    2.5282   C.2       1 RES1   0.0000\\n     3 C3       -1.9343   -0.9231    2.5894   C.3       1 RES1   0.0000\\n     4 C4        0.4575   -1.4046    2.1626   C.2       1 RES1   0.0000\\n     5 C5        1.6751   -2.2324    1.8550   C.3       1 RES1   0.0000\\n     6 C6        2.8455   -1.8945    2.7976   C.3       1 RES1   0.0000\\n     7 C7        2.5887   -2.1137    4.2796   C.2       1 RES1   0.0000\\n     8 C8        2.0234   -0.9446    5.0379   C.3       1 RES1   0.0000\\n     9 C9        2.7602   -3.2840    4.9331   C.2       1 RES1   0.0000\\n    10 C10       3.2810   -4.5829    4.4107   C.3       1 RES1   0.0000\\n    11 O1        4.4426   -4.9243    5.1548   O.3       1 RES1   0.0000\\n    12 H1       -2.0849   -3.4427    3.1530   H         1 RES1   0.0000\\n    13 H2       -0.4069   -3.6661    3.6329   H         1 RES1   0.0000\\n    14 H3       -0.8987   -3.9252    1.9371   H         1 RES1   0.0000\\n    15 H4       -1.6239    0.1243    2.6661   H         1 RES1   0.0000\\n    16 H5       -2.5354   -1.0311    1.6791   H         1 RES1   0.0000\\n    17 H6       -2.5734   -1.1410    3.4518   H         1 RES1   0.0000\\n    18 H7        0.5842   -0.3405    1.9868   H         1 RES1   0.0000\\n    19 H8        1.4138   -3.2949    1.9274   H         1 RES1   0.0000\\n    20 H9        2.0031   -2.0601    0.8250   H         1 RES1   0.0000\\n    21 H10       3.7056   -2.5093    2.5008   H         1 RES1   0.0000\\n    22 H11       3.1775   -0.8625    2.6243   H         1 RES1   0.0000\\n    23 H12       1.2058   -1.2646    5.6963   H         1 RES1   0.0000\\n    24 H13       2.7995   -0.4721    5.6509   H         1 RES1   0.0000\\n    25 H14       1.6076   -0.1837    4.3708   H         1 RES1   0.0000\\n    26 H15       2.5042   -3.3227    5.9926   H         1 RES1   0.0000\\n    27 H16       2.5397   -5.3717    4.5639   H         1 RES1   0.0000\\n    28 H17       3.5324   -4.5667    3.3497   H         1 RES1   0.0000\\n    29 H18       5.0096   -4.1369    5.1617   H         1 RES1   0.0000\\n@<TRIPOS>BOND\\n     1     1     2    1\\n     2     1    12    1\\n     3     1    13    1\\n     4     1    14    1\\n     5     2     3    1\\n     6     2     4    2\\n     7     3    15    1\\n     8     3    16    1\\n     9     3    17    1\\n    10     4     5    1\\n    11     4    18    1\\n    12     5     6    1\\n    13     5    19    1\\n    14     5    20    1\\n    15     6     7    1\\n    16     6    21    1\\n    17     6    22    1\\n    18     7     8    1\\n    19     7     9    2\\n    20     8    23    1\\n    21     8    24    1\\n    22     8    25    1\\n    23     9    10    1\\n    24     9    26    1\\n    25    10    11    1\\n    26    10    27    1\\n    27    10    28    1\\n    28    11    29    1\\n@<TRIPOS>SUBSTRUCTURE\\n     1 RES1       29 GROUP             0 ****  ****    0  \\n\",\"mol2\",{\"keepH\": true});\n\tviewergrid_17296363027531168[0][3].addStyle({\"sphere\": {\"colorscheme\": \"Jmol\", \"scale\": 0.3}});\n\tviewergrid_17296363027531168[0][3].addStyle({\"stick\": {\"colorscheme\": \"Jmol\", \"radius\": 0.25}});\n\tviewergrid_17296363027531168[0][3].zoomTo();\nviewergrid_17296363027531168[0][3].render();\nviewergrid_17296363027531168[0][2].render();\nviewergrid_17296363027531168[0][1].render();\nviewergrid_17296363027531168[0][0].render();\n});\n</script>",
      "text/html": [
       "<div id=\"3dmolviewer_17296363027531168\"  style=\"position: relative; width: 800px; height: 200px;\">\n",
       "        <p id=\"3dmolwarning_17296363027531168\" style=\"background-color:#ffcccc;color:black\">3Dmol.js failed to load for some reason.  Please check your browser console for error messages.<br></p>\n",
       "        </div>\n",
       "<script>\n",
       "\n",
       "var loadScriptAsync = function(uri){\n",
       "  return new Promise((resolve, reject) => {\n",
       "    //this is to ignore the existence of requirejs amd\n",
       "    var savedexports, savedmodule;\n",
       "    if (typeof exports !== 'undefined') savedexports = exports;\n",
       "    else exports = {}\n",
       "    if (typeof module !== 'undefined') savedmodule = module;\n",
       "    else module = {}\n",
       "\n",
       "    var tag = document.createElement('script');\n",
       "    tag.src = uri;\n",
       "    tag.async = true;\n",
       "    tag.onload = () => {\n",
       "        exports = savedexports;\n",
       "        module = savedmodule;\n",
       "        resolve();\n",
       "    };\n",
       "  var firstScriptTag = document.getElementsByTagName('script')[0];\n",
       "  firstScriptTag.parentNode.insertBefore(tag, firstScriptTag);\n",
       "});\n",
       "};\n",
       "\n",
       "if(typeof $3Dmolpromise === 'undefined') {\n",
       "$3Dmolpromise = null;\n",
       "  $3Dmolpromise = loadScriptAsync('https://cdnjs.cloudflare.com/ajax/libs/3Dmol/2.4.0/3Dmol-min.js');\n",
       "}\n",
       "\n",
       "var viewer_17296363027531168 = null;\n",
       "var warn = document.getElementById(\"3dmolwarning_17296363027531168\");\n",
       "if(warn) {\n",
       "    warn.parentNode.removeChild(warn);\n",
       "}\n",
       "$3Dmolpromise.then(function() {\n",
       "var viewergrid_17296363027531168 = null;\n",
       "viewergrid_17296363027531168 = $3Dmol.createViewerGrid(document.getElementById(\"3dmolviewer_17296363027531168\"),{rows: 1, cols: 4, control_all: false},{backgroundColor:\"white\"});\n",
       "viewer_17296363027531168 = viewergrid_17296363027531168[0][0];\n",
       "viewergrid_17296363027531168[0][0].zoomTo();viewergrid_17296363027531168[0][1].zoomTo();viewergrid_17296363027531168[0][2].zoomTo();viewergrid_17296363027531168[0][3].zoomTo();\tviewergrid_17296363027531168[0][0].addModel(\"@<TRIPOS>MOLECULE\\ntmp.mol2 Charge: 0 Unpaired_Electrons: 0 XTB_Unpaired_Electrons: 0 XTB_Charge: 0\\n    29    28     1     0     0\\nSMALL\\nNoCharges\\n****\\nGenerated from Architector\\n\\n@<TRIPOS>ATOM\\n     1 C1        0.1828   -0.3957   -0.1223   C.3       1 RES1   0.0000\\n     2 C2       -0.1716   -0.5499    1.3292   C.2       1 RES1   0.0000\\n     3 C3       -1.2435    0.3682    1.8489   C.3       1 RES1   0.0000\\n     4 C4        0.4575   -1.4046    2.1626   C.2       1 RES1   0.0000\\n     5 C5        1.6751   -2.2324    1.8550   C.3       1 RES1   0.0000\\n     6 C6        2.8455   -1.8945    2.7976   C.3       1 RES1   0.0000\\n     7 C7        2.5887   -2.1137    4.2796   C.2       1 RES1   0.0000\\n     8 C8        2.2436   -3.5170    4.6956   C.3       1 RES1   0.0000\\n     9 C9        2.7187   -1.1705    5.2385   C.2       1 RES1   0.0000\\n    10 C10       3.0678    0.2745    5.0922   C.3       1 RES1   0.0000\\n    11 O1        1.8606    1.0061    4.9272   O.3       1 RES1   0.0000\\n    12 H1       -0.4873    0.3107   -0.6237   H         1 RES1   0.0000\\n    13 H2        0.0848   -1.3531   -0.6448   H         1 RES1   0.0000\\n    14 H3        1.2039   -0.0229   -0.2410   H         1 RES1   0.0000\\n    15 H4       -1.6636    0.0172    2.7973   H         1 RES1   0.0000\\n    16 H5       -0.8208    1.3657    2.0158   H         1 RES1   0.0000\\n    17 H6       -2.0703    0.4594    1.1364   H         1 RES1   0.0000\\n    18 H7        0.1235   -1.4667    3.1941   H         1 RES1   0.0000\\n    19 H8        1.4138   -3.2949    1.9274   H         1 RES1   0.0000\\n    20 H9        2.0031   -2.0601    0.8250   H         1 RES1   0.0000\\n    21 H10       3.7056   -2.5093    2.5008   H         1 RES1   0.0000\\n    22 H11       3.1775   -0.8625    2.6243   H         1 RES1   0.0000\\n    23 H12       2.7997   -3.8052    5.5967   H         1 RES1   0.0000\\n    24 H13       1.1713   -3.6033    4.9056   H         1 RES1   0.0000\\n    25 H14       2.4983   -4.2494    3.9238   H         1 RES1   0.0000\\n    26 H15       2.5418   -1.4634    6.2741   H         1 RES1   0.0000\\n    27 H16       3.5576    0.6347    6.0008   H         1 RES1   0.0000\\n    28 H17       3.7294    0.4893    4.2523   H         1 RES1   0.0000\\n    29 H18       1.3532    0.5527    4.2354   H         1 RES1   0.0000\\n@<TRIPOS>BOND\\n     1     1     2    1\\n     2     1    12    1\\n     3     1    13    1\\n     4     1    14    1\\n     5     2     3    1\\n     6     2     4    2\\n     7     3    15    1\\n     8     3    16    1\\n     9     3    17    1\\n    10     4     5    1\\n    11     4    18    1\\n    12     5     6    1\\n    13     5    19    1\\n    14     5    20    1\\n    15     6     7    1\\n    16     6    21    1\\n    17     6    22    1\\n    18     7     8    1\\n    19     7     9    2\\n    20     8    23    1\\n    21     8    24    1\\n    22     8    25    1\\n    23     9    10    1\\n    24     9    26    1\\n    25    10    11    1\\n    26    10    27    1\\n    27    10    28    1\\n    28    11    29    1\\n@<TRIPOS>SUBSTRUCTURE\\n     1 RES1       29 GROUP             0 ****  ****    0  \\n\",\"mol2\",{\"keepH\": true});\n",
       "\tviewergrid_17296363027531168[0][0].addStyle({\"sphere\": {\"colorscheme\": \"Jmol\", \"scale\": 0.3}});\n",
       "\tviewergrid_17296363027531168[0][0].addStyle({\"stick\": {\"colorscheme\": \"Jmol\", \"radius\": 0.25}});\n",
       "\tviewergrid_17296363027531168[0][0].zoomTo();\n",
       "\tviewergrid_17296363027531168[0][1].addModel(\"@<TRIPOS>MOLECULE\\ntmp.mol2 Charge: 0 Unpaired_Electrons: 0 XTB_Unpaired_Electrons: 0 XTB_Charge: 0\\n    29    28     1     0     0\\nSMALL\\nNoCharges\\n****\\nGenerated from Architector\\n\\n@<TRIPOS>ATOM\\n     1 C1        0.3340   -0.1788   -0.0142   C.3       1 RES1   0.0000\\n     2 C2        1.4164   -1.1318   -0.4340   C.2       1 RES1   0.0000\\n     3 C3        1.7478   -1.1510   -1.9009   C.3       1 RES1   0.0000\\n     4 C4        2.0312   -1.9813    0.4153   C.2       1 RES1   0.0000\\n     5 C5        1.6751   -2.2324    1.8550   C.3       1 RES1   0.0000\\n     6 C6        2.8455   -1.8945    2.7976   C.3       1 RES1   0.0000\\n     7 C7        2.5887   -2.1137    4.2796   C.2       1 RES1   0.0000\\n     8 C8        2.9289   -3.4750    4.8205   C.3       1 RES1   0.0000\\n     9 C9        2.1547   -1.1675    5.1412   C.2       1 RES1   0.0000\\n    10 C10       1.7724    0.2497    4.8641   C.3       1 RES1   0.0000\\n    11 O1        0.4153    0.4242    5.2480   O.3       1 RES1   0.0000\\n    12 H1        0.0134    0.4534   -0.8491   H         1 RES1   0.0000\\n    13 H2        0.6970    0.4918    0.7717   H         1 RES1   0.0000\\n    14 H3       -0.5458   -0.7171    0.3489   H         1 RES1   0.0000\\n    15 H4        2.7173   -1.6200   -2.0990   H         1 RES1   0.0000\\n    16 H5        0.9816   -1.7188   -2.4412   H         1 RES1   0.0000\\n    17 H6        1.7816   -0.1377   -2.3153   H         1 RES1   0.0000\\n    18 H7        2.8184   -2.6231    0.0309   H         1 RES1   0.0000\\n    19 H8        0.7874   -1.6425    2.1128   H         1 RES1   0.0000\\n    20 H9        1.4068   -3.2831    2.0038   H         1 RES1   0.0000\\n    21 H10       3.7056   -2.5093    2.5008   H         1 RES1   0.0000\\n    22 H11       3.1775   -0.8625    2.6243   H         1 RES1   0.0000\\n    23 H12       3.4673   -3.3933    5.7733   H         1 RES1   0.0000\\n    24 H13       2.0182   -4.0624    4.9845   H         1 RES1   0.0000\\n    25 H14       3.5777   -4.0369    4.1423   H         1 RES1   0.0000\\n    26 H15       2.0451   -1.4408    6.1914   H         1 RES1   0.0000\\n    27 H16       2.3824    0.9265    5.4682   H         1 RES1   0.0000\\n    28 H17       1.8857    0.5448    3.8204   H         1 RES1   0.0000\\n    29 H18      -0.0832   -0.3047    4.8460   H         1 RES1   0.0000\\n@<TRIPOS>BOND\\n     1     1     2    1\\n     2     1    12    1\\n     3     1    13    1\\n     4     1    14    1\\n     5     2     3    1\\n     6     2     4    2\\n     7     3    15    1\\n     8     3    16    1\\n     9     3    17    1\\n    10     4     5    1\\n    11     4    18    1\\n    12     5     6    1\\n    13     5    19    1\\n    14     5    20    1\\n    15     6     7    1\\n    16     6    21    1\\n    17     6    22    1\\n    18     7     8    1\\n    19     7     9    2\\n    20     8    23    1\\n    21     8    24    1\\n    22     8    25    1\\n    23     9    10    1\\n    24     9    26    1\\n    25    10    11    1\\n    26    10    27    1\\n    27    10    28    1\\n    28    11    29    1\\n@<TRIPOS>SUBSTRUCTURE\\n     1 RES1       29 GROUP             0 ****  ****    0  \\n\",\"mol2\",{\"keepH\": true});\n",
       "\tviewergrid_17296363027531168[0][1].addStyle({\"sphere\": {\"colorscheme\": \"Jmol\", \"scale\": 0.3}});\n",
       "\tviewergrid_17296363027531168[0][1].addStyle({\"stick\": {\"colorscheme\": \"Jmol\", \"radius\": 0.25}});\n",
       "\tviewergrid_17296363027531168[0][1].zoomTo();\n",
       "\tviewergrid_17296363027531168[0][2].addModel(\"@<TRIPOS>MOLECULE\\ntmp.mol2 Charge: 0 Unpaired_Electrons: 0 XTB_Unpaired_Electrons: 0 XTB_Charge: 0\\n    29    28     1     0     0\\nSMALL\\nNoCharges\\n****\\nGenerated from Architector\\n\\n@<TRIPOS>ATOM\\n     1 C1       -1.1401   -3.2792    2.5540   C.3       1 RES1   0.0000\\n     2 C2        0.0614   -4.1526    2.3313   C.2       1 RES1   0.0000\\n     3 C3       -0.1267   -5.6188    2.6084   C.3       1 RES1   0.0000\\n     4 C4        1.2706   -3.6768    1.9675   C.2       1 RES1   0.0000\\n     5 C5        1.6751   -2.2324    1.8550   C.3       1 RES1   0.0000\\n     6 C6        2.8455   -1.8945    2.7976   C.3       1 RES1   0.0000\\n     7 C7        2.5887   -2.1137    4.2796   C.2       1 RES1   0.0000\\n     8 C8        2.9289   -3.4750    4.8205   C.3       1 RES1   0.0000\\n     9 C9        2.1547   -1.1675    5.1412   C.2       1 RES1   0.0000\\n    10 C10       1.7724    0.2497    4.8641   C.3       1 RES1   0.0000\\n    11 O1        0.4153    0.4242    5.2480   O.3       1 RES1   0.0000\\n    12 H1       -2.0282   -3.8751    2.7901   H         1 RES1   0.0000\\n    13 H2       -1.3718   -2.7074    1.6493   H         1 RES1   0.0000\\n    14 H3       -0.9760   -2.5880    3.3854   H         1 RES1   0.0000\\n    15 H4        0.6594   -6.2293    2.1521   H         1 RES1   0.0000\\n    16 H5       -0.1031   -5.7920    3.6905   H         1 RES1   0.0000\\n    17 H6       -1.0873   -5.9773    2.2232   H         1 RES1   0.0000\\n    18 H7        2.0812   -4.3818    1.8082   H         1 RES1   0.0000\\n    19 H8        1.9411   -2.0148    0.8137   H         1 RES1   0.0000\\n    20 H9        0.8328   -1.5799    2.1059   H         1 RES1   0.0000\\n    21 H10       3.7056   -2.5093    2.5008   H         1 RES1   0.0000\\n    22 H11       3.1775   -0.8625    2.6243   H         1 RES1   0.0000\\n    23 H12       3.4673   -3.3933    5.7733   H         1 RES1   0.0000\\n    24 H13       2.0182   -4.0624    4.9845   H         1 RES1   0.0000\\n    25 H14       3.5777   -4.0369    4.1423   H         1 RES1   0.0000\\n    26 H15       2.0451   -1.4408    6.1914   H         1 RES1   0.0000\\n    27 H16       2.3824    0.9265    5.4682   H         1 RES1   0.0000\\n    28 H17       1.8857    0.5448    3.8204   H         1 RES1   0.0000\\n    29 H18      -0.0832   -0.3047    4.8460   H         1 RES1   0.0000\\n@<TRIPOS>BOND\\n     1     1     2    1\\n     2     1    12    1\\n     3     1    13    1\\n     4     1    14    1\\n     5     2     3    1\\n     6     2     4    2\\n     7     3    15    1\\n     8     3    16    1\\n     9     3    17    1\\n    10     4     5    1\\n    11     4    18    1\\n    12     5     6    1\\n    13     5    19    1\\n    14     5    20    1\\n    15     6     7    1\\n    16     6    21    1\\n    17     6    22    1\\n    18     7     8    1\\n    19     7     9    2\\n    20     8    23    1\\n    21     8    24    1\\n    22     8    25    1\\n    23     9    10    1\\n    24     9    26    1\\n    25    10    11    1\\n    26    10    27    1\\n    27    10    28    1\\n    28    11    29    1\\n@<TRIPOS>SUBSTRUCTURE\\n     1 RES1       29 GROUP             0 ****  ****    0  \\n\",\"mol2\",{\"keepH\": true});\n",
       "\tviewergrid_17296363027531168[0][2].addStyle({\"sphere\": {\"colorscheme\": \"Jmol\", \"scale\": 0.3}});\n",
       "\tviewergrid_17296363027531168[0][2].addStyle({\"stick\": {\"colorscheme\": \"Jmol\", \"radius\": 0.25}});\n",
       "\tviewergrid_17296363027531168[0][2].zoomTo();\n",
       "\tviewergrid_17296363027531168[0][3].addModel(\"@<TRIPOS>MOLECULE\\ntmp.mol2 Charge: 0 Unpaired_Electrons: 0 XTB_Unpaired_Electrons: 0 XTB_Charge: 0\\n    29    28     1     0     0\\nSMALL\\nNoCharges\\n****\\nGenerated from Architector\\n\\n@<TRIPOS>ATOM\\n     1 C1       -1.0496   -3.3034    2.8239   C.3       1 RES1   0.0000\\n     2 C2       -0.7592   -1.8597    2.5282   C.2       1 RES1   0.0000\\n     3 C3       -1.9343   -0.9231    2.5894   C.3       1 RES1   0.0000\\n     4 C4        0.4575   -1.4046    2.1626   C.2       1 RES1   0.0000\\n     5 C5        1.6751   -2.2324    1.8550   C.3       1 RES1   0.0000\\n     6 C6        2.8455   -1.8945    2.7976   C.3       1 RES1   0.0000\\n     7 C7        2.5887   -2.1137    4.2796   C.2       1 RES1   0.0000\\n     8 C8        2.0234   -0.9446    5.0379   C.3       1 RES1   0.0000\\n     9 C9        2.7602   -3.2840    4.9331   C.2       1 RES1   0.0000\\n    10 C10       3.2810   -4.5829    4.4107   C.3       1 RES1   0.0000\\n    11 O1        4.4426   -4.9243    5.1548   O.3       1 RES1   0.0000\\n    12 H1       -2.0849   -3.4427    3.1530   H         1 RES1   0.0000\\n    13 H2       -0.4069   -3.6661    3.6329   H         1 RES1   0.0000\\n    14 H3       -0.8987   -3.9252    1.9371   H         1 RES1   0.0000\\n    15 H4       -1.6239    0.1243    2.6661   H         1 RES1   0.0000\\n    16 H5       -2.5354   -1.0311    1.6791   H         1 RES1   0.0000\\n    17 H6       -2.5734   -1.1410    3.4518   H         1 RES1   0.0000\\n    18 H7        0.5842   -0.3405    1.9868   H         1 RES1   0.0000\\n    19 H8        1.4138   -3.2949    1.9274   H         1 RES1   0.0000\\n    20 H9        2.0031   -2.0601    0.8250   H         1 RES1   0.0000\\n    21 H10       3.7056   -2.5093    2.5008   H         1 RES1   0.0000\\n    22 H11       3.1775   -0.8625    2.6243   H         1 RES1   0.0000\\n    23 H12       1.2058   -1.2646    5.6963   H         1 RES1   0.0000\\n    24 H13       2.7995   -0.4721    5.6509   H         1 RES1   0.0000\\n    25 H14       1.6076   -0.1837    4.3708   H         1 RES1   0.0000\\n    26 H15       2.5042   -3.3227    5.9926   H         1 RES1   0.0000\\n    27 H16       2.5397   -5.3717    4.5639   H         1 RES1   0.0000\\n    28 H17       3.5324   -4.5667    3.3497   H         1 RES1   0.0000\\n    29 H18       5.0096   -4.1369    5.1617   H         1 RES1   0.0000\\n@<TRIPOS>BOND\\n     1     1     2    1\\n     2     1    12    1\\n     3     1    13    1\\n     4     1    14    1\\n     5     2     3    1\\n     6     2     4    2\\n     7     3    15    1\\n     8     3    16    1\\n     9     3    17    1\\n    10     4     5    1\\n    11     4    18    1\\n    12     5     6    1\\n    13     5    19    1\\n    14     5    20    1\\n    15     6     7    1\\n    16     6    21    1\\n    17     6    22    1\\n    18     7     8    1\\n    19     7     9    2\\n    20     8    23    1\\n    21     8    24    1\\n    22     8    25    1\\n    23     9    10    1\\n    24     9    26    1\\n    25    10    11    1\\n    26    10    27    1\\n    27    10    28    1\\n    28    11    29    1\\n@<TRIPOS>SUBSTRUCTURE\\n     1 RES1       29 GROUP             0 ****  ****    0  \\n\",\"mol2\",{\"keepH\": true});\n",
       "\tviewergrid_17296363027531168[0][3].addStyle({\"sphere\": {\"colorscheme\": \"Jmol\", \"scale\": 0.3}});\n",
       "\tviewergrid_17296363027531168[0][3].addStyle({\"stick\": {\"colorscheme\": \"Jmol\", \"radius\": 0.25}});\n",
       "\tviewergrid_17296363027531168[0][3].zoomTo();\n",
       "viewergrid_17296363027531168[0][3].render();\n",
       "viewergrid_17296363027531168[0][2].render();\n",
       "viewergrid_17296363027531168[0][1].render();\n",
       "viewergrid_17296363027531168[0][0].render();\n",
       "});\n",
       "</script>"
      ]
     },
     "metadata": {},
     "output_type": "display_data"
    }
   ],
   "source": [
    "ind = 12\n",
    "confs = gen_confs(fdf.iloc[ind]['SMILES'])\n",
    "print('Confomers:', len(confs))\n",
    "view_structures(fdf.iloc[ind]['SMILES'])\n",
    "view_structures(confs[0:4])"
   ]
  },
  {
   "cell_type": "code",
   "execution_count": 23,
   "id": "c8bea742-88d4-4fef-8b9b-53ccd0f24aa2",
   "metadata": {},
   "outputs": [],
   "source": [
    "def evalulate_conf_xtb(conf):\n",
    "    import os\n",
    "    os.environ[\"OMP_NUM_THREADS\"] = \"1\"\n",
    "    os.environ[\"OPENBLAS_NUM_THREADS\"] = \"1\"\n",
    "    os.environ[\"MKL_NUM_THREADS\"] = \"1\"\n",
    "    os.environ[\"VECLIB_MAXIMUM_THREADS\"] = \"1\"\n",
    "    os.environ[\"NUMEXPR_NUM_THREADS\"] = \"1\"\n",
    "    from architector.io_calc import CalcExecutor\n",
    "    from xtb_solvent import xtb_solv_params\n",
    "    solvent='water'\n",
    "    out = CalcExecutor(conf,\n",
    "                       method='GFN2-xTB',\n",
    "                       store_results=True,\n",
    "                       relax=True,\n",
    "                       fmax=0.05,\n",
    "                       xtb_solvent=solvent)\n",
    "    if out.successful:\n",
    "        results = out.results\n",
    "        results['xtb_mol2'] = out.mol.write_mol2('GFn2-XTB_relax', \n",
    "                                                  writestring=True)\n",
    "        xtb_sa_eval_dict = xtb_solv_params(results['xtb_mol2'], solvent=solvent)\n",
    "        if isinstance(xtb_sa_eval_dict, dict):\n",
    "            results.update(xtb_sa_eval_dict)\n",
    "        else:\n",
    "            return None\n",
    "        return results\n",
    "    else:\n",
    "        return None"
   ]
  },
  {
   "cell_type": "code",
   "execution_count": 24,
   "id": "fed40e14",
   "metadata": {},
   "outputs": [],
   "source": [
    "out = evalulate_conf_xtb(confs[0])"
   ]
  },
  {
   "cell_type": "code",
   "execution_count": 25,
   "id": "bffd364a",
   "metadata": {},
   "outputs": [
    {
     "data": {
      "text/plain": [
       "dict_keys(['energy', 'free_energy', 'forces', 'dipole', 'charges', 'xtb_mol2', 'sas', 'born_radii'])"
      ]
     },
     "execution_count": 25,
     "metadata": {},
     "output_type": "execute_result"
    }
   ],
   "source": [
    "out.keys()"
   ]
  },
  {
   "cell_type": "code",
   "execution_count": 26,
   "id": "1edae6bb",
   "metadata": {},
   "outputs": [
    {
     "name": "stderr",
     "output_type": "stream",
     "text": [
      "100%|██████████████████████████████████████████████████████████████████████| 50/50 [00:12<00:00,  4.08it/s]\n"
     ]
    }
   ],
   "source": [
    "with Executor(max_workers=12, cores_per_worker=1, threads_per_core=1,\n",
    "              hostname_localhost=True,# Needed on Mac only\n",
    "              block_allocation=True) as exe:\n",
    "    out_results = list(tqdm(exe.map(evalulate_conf_xtb, confs), total=len(confs)))"
   ]
  },
  {
   "cell_type": "code",
   "execution_count": 27,
   "id": "400ed6e3-e8f6-423c-ac4b-84c894adda4a",
   "metadata": {},
   "outputs": [],
   "source": [
    "def full_conf_xtb_workflow(insmiles):\n",
    "    import os\n",
    "    os.environ[\"OMP_NUM_THREADS\"] = \"1\"\n",
    "    os.environ[\"OPENBLAS_NUM_THREADS\"] = \"1\"\n",
    "    os.environ[\"MKL_NUM_THREADS\"] = \"1\"\n",
    "    os.environ[\"VECLIB_MAXIMUM_THREADS\"] = \"1\"\n",
    "    os.environ[\"NUMEXPR_NUM_THREADS\"] = \"1\"\n",
    "    from architector.io_calc import CalcExecutor\n",
    "    from architector import convert_io_molecule\n",
    "    from architector.io_obabel import generate_obmol_conformers\n",
    "    from xtb_solvent import xtb_solv_params\n",
    "    solvent = 'water'\n",
    "    totaln = 50\n",
    "    def gen_confs(smi):\n",
    "        inmol = convert_io_molecule(smi)\n",
    "        confs, energies = generate_obmol_conformers(inmol,\n",
    "                                                    return_energies=True,\n",
    "                                                    conf_cutoff=totaln*100)\n",
    "        energies = np.array(energies)\n",
    "        confs = np.array(confs)\n",
    "        inds = np.argsort(energies)[0:totaln]\n",
    "        energies = energies[inds]\n",
    "        confs = confs[inds]\n",
    "        out_confs = []\n",
    "        for i,conf in enumerate(confs):\n",
    "            tmol = convert_io_molecule(conf)\n",
    "            tmol.charge = inmol.charge\n",
    "            tmol.uhf = 0\n",
    "            tmol.xtb_charge = inmol.charge\n",
    "            tmol.xtb_uhf = 0\n",
    "            tconf = tmol.write_mol2('UFF_Energy={}'.format(energies[i]), writestring=True)\n",
    "            out_confs.append(tconf)\n",
    "        return out_confs\n",
    "    confs = gen_confs(insmiles)\n",
    "    results_list = []\n",
    "    for conf in confs:\n",
    "        try:\n",
    "            out = CalcExecutor(conf,\n",
    "                               method='GFN2-xTB',\n",
    "                               store_results=True,\n",
    "                               relax=True,\n",
    "                               fmax=0.05,\n",
    "                               xtb_solvent=solvent)\n",
    "            if out.successful:\n",
    "                results = out.results\n",
    "                results['xtb_mol2'] = out.mol.write_mol2('GFn2-XTB_relax', \n",
    "                                                         writestring=True)\n",
    "                results['uff_energy'] = float(conf.split('\\n')[1].split('=')[1].split()[0])\n",
    "                results['uff_mol2'] = conf\n",
    "                results['smiles'] = insmiles\n",
    "                results['total_charge'] = out.mol.charge\n",
    "                results['total_unpaired_electrons'] = out.mol.uhf\n",
    "                results['n_atoms'] = len(out.mol.ase_atoms)\n",
    "                results['xtb_solvent'] = solvent\n",
    "                xtb_sa_eval_dict = xtb_solv_params(results['xtb_mol2'],\n",
    "                                                   solvent=solvent)\n",
    "                if isinstance(xtb_sa_eval_dict, dict):\n",
    "                    results.update(xtb_sa_eval_dict)\n",
    "                    results['error'] = ''\n",
    "                    results_list.append(results)\n",
    "                else:\n",
    "                    results.update({'sas':None, 'born_radii':None,\n",
    "                                    'error':'XTB Sovlent Eval Error'})\n",
    "                    results_list.append(results)\n",
    "            else:\n",
    "                results = dict()\n",
    "                results['energy'] = None\n",
    "                results['free_energy'] = None\n",
    "                results['forces'] = None\n",
    "                results['dipole'] = None\n",
    "                results['charges'] = None\n",
    "                results['xtb_mol'] = None\n",
    "                results['uff_energy'] = float(conf.split('\\n')[1].split('=')[1].split()[0])\n",
    "                results['uff_mol2'] = conf\n",
    "                results['smiles'] = insmiles\n",
    "                results['total_charge'] = None\n",
    "                results['total_unpaired_electrons'] = None\n",
    "                results['n_atoms'] = None\n",
    "                results['xtb_solvent'] = solvent\n",
    "                results['sas'] = None\n",
    "                results['born_radii'] = None\n",
    "                results['error'] = 'XTB-Python Relaxation Failed'\n",
    "                results_list.append(results)\n",
    "        except:\n",
    "            results = dict()\n",
    "            results['energy'] = None\n",
    "            results['free_energy'] = None\n",
    "            results['forces'] = None\n",
    "            results['dipole'] = None\n",
    "            results['charges'] = None\n",
    "            results['xtb_mol'] = None\n",
    "            results['uff_energy'] = float(conf.split('\\n')[1].split('=')[1].split()[0])\n",
    "            results['uff_mol2'] = conf\n",
    "            results['smiles'] = insmiles\n",
    "            results['total_charge'] = None\n",
    "            results['total_unpaired_electrons'] = None\n",
    "            results['n_atoms'] = None\n",
    "            results['xtb_solvent'] = solvent\n",
    "            results['sas'] = None\n",
    "            results['born_radii'] = None\n",
    "            results['error'] = 'python/XTB error'\n",
    "            results_list.append(results)\n",
    "    return results_list"
   ]
  },
  {
   "cell_type": "code",
   "execution_count": null,
   "id": "a4659be7",
   "metadata": {},
   "outputs": [],
   "source": [
    "things = full_conf_xtb_workflow('[O-]CCCCCC')"
   ]
  },
  {
   "cell_type": "code",
   "execution_count": null,
   "id": "6df23d81",
   "metadata": {},
   "outputs": [],
   "source": [
    "outdf = pd.DataFrame(things)\n",
    "outdf.plot.scatter('uff_energy',\n",
    "                   'energy')"
   ]
  },
  {
   "cell_type": "code",
   "execution_count": null,
   "id": "d6c8256f",
   "metadata": {},
   "outputs": [],
   "source": [
    "smiles_lst = fdf.SMILES.unique()[0:12]\n",
    "with Executor(max_workers=12, cores_per_worker=1, threads_per_core=1,\n",
    "              hostname_localhost=True,# Needed on Mac only\n",
    "                block_allocation=True) as exe:\n",
    "    out_results = list(tqdm(exe.map(full_conf_xtb_workflow, smiles_lst), total=len(smiles_lst)))"
   ]
  },
  {
   "cell_type": "code",
   "execution_count": null,
   "id": "6d3dfa8a",
   "metadata": {},
   "outputs": [],
   "source": [
    "combined_df = pd.concat([pd.DataFrame(x) for x in out_results])"
   ]
  },
  {
   "cell_type": "code",
   "execution_count": null,
   "id": "0aedd602",
   "metadata": {},
   "outputs": [],
   "source": [
    "combined_df"
   ]
  },
  {
   "cell_type": "code",
   "execution_count": null,
   "id": "a5ea4ad3-0118-4b43-9ba5-229246098411",
   "metadata": {},
   "outputs": [],
   "source": [
    "df = pd.DataFrame(out_results)"
   ]
  },
  {
   "cell_type": "code",
   "execution_count": null,
   "id": "48a253f9-1f71-45cb-841f-45225c72d292",
   "metadata": {},
   "outputs": [],
   "source": [
    "df"
   ]
  },
  {
   "cell_type": "code",
   "execution_count": null,
   "id": "03dc381d-ee77-476a-a624-4c60fbd95363",
   "metadata": {},
   "outputs": [],
   "source": [
    "combined_df"
   ]
  },
  {
   "cell_type": "code",
   "execution_count": null,
   "id": "d1c8e89d-151f-48c2-9fe8-b208c0cb9f4b",
   "metadata": {},
   "outputs": [],
   "source": []
  }
 ],
 "metadata": {
  "kernelspec": {
   "display_name": "Python 3 (ipykernel)",
   "language": "python",
   "name": "python3"
  },
  "language_info": {
   "codemirror_mode": {
    "name": "ipython",
    "version": 3
   },
   "file_extension": ".py",
   "mimetype": "text/x-python",
   "name": "python",
   "nbconvert_exporter": "python",
   "pygments_lexer": "ipython3",
   "version": "3.11.10"
  }
 },
 "nbformat": 4,
 "nbformat_minor": 5
}
