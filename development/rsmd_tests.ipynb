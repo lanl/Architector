{
 "cells": [
  {
   "cell_type": "code",
   "execution_count": 1,
   "metadata": {},
   "outputs": [],
   "source": [
    "# Calculate RMSD between arbitrary clusters/chemistries.\n",
    "from architector import convert_io_molecule,view_structures\n",
    "from architector.io_align_mol import calc_rmsd"
   ]
  },
  {
   "cell_type": "code",
   "execution_count": 2,
   "metadata": {},
   "outputs": [],
   "source": [
    "mol1 = \"\"\"9\n",
    "\n",
    "U 1.643994 0.257776 -0.670628\n",
    "O 0.50827 -0.100519 1.37084\n",
    "O 3.421127 0.472667 -0.322021\n",
    "U -1.077154 1.322877 0.833413\n",
    "O 0.41951 2.202862 -0.036792\n",
    "O -0.778917 -0.070688 -0.83282\n",
    "U -0.63754 -1.753176 0.539296\n",
    "O -2.076417 -0.446305 1.394679\n",
    "O 1.011179 -2.030555 -0.452193\n",
    "\"\"\"\n",
    "\n",
    "mol2= \"\"\"9\n",
    "\n",
    "O -2.425462 -0.898062 -0.660279\n",
    "O -0.076208 0.153081 -1.07157\n",
    "U -1.7586 0.966465 0.076011\n",
    "O -0.737004 -0.539441 1.294506\n",
    "U -0.564065 -1.879256 -0.432552\n",
    "O 2.948266 1.203697 0.098442\n",
    "O 1.288046 -1.849246 0.144791\n",
    "O -0.343864 2.073585 0.8111\n",
    "U 1.412102 0.459302 0.741801\n",
    "\"\"\""
   ]
  },
  {
   "cell_type": "code",
   "execution_count": 3,
   "metadata": {},
   "outputs": [
    {
     "data": {
      "text/plain": [
       "array([ 0.27045022, -0.01611789,  0.20264156])"
      ]
     },
     "execution_count": 3,
     "metadata": {},
     "output_type": "execute_result"
    }
   ],
   "source": [
    "mol = convert_io_molecule(mol1)\n",
    "mol.ase_atoms.positions.mean(axis=0)"
   ]
  },
  {
   "cell_type": "code",
   "execution_count": 4,
   "metadata": {},
   "outputs": [
    {
     "name": "stdout",
     "output_type": "stream",
     "text": [
      "\u001b[0;31mSignature:\u001b[0m\n",
      "\u001b[0mcalc_rmsd\u001b[0m\u001b[0;34m(\u001b[0m\u001b[0;34m\u001b[0m\n",
      "\u001b[0;34m\u001b[0m    \u001b[0mgenMol\u001b[0m\u001b[0;34m,\u001b[0m\u001b[0;34m\u001b[0m\n",
      "\u001b[0;34m\u001b[0m    \u001b[0mcompareMol\u001b[0m\u001b[0;34m,\u001b[0m\u001b[0;34m\u001b[0m\n",
      "\u001b[0;34m\u001b[0m    \u001b[0mcoresize\u001b[0m\u001b[0;34m=\u001b[0m\u001b[0;36m2\u001b[0m\u001b[0;34m,\u001b[0m\u001b[0;34m\u001b[0m\n",
      "\u001b[0;34m\u001b[0m    \u001b[0mmaxiter\u001b[0m\u001b[0;34m=\u001b[0m\u001b[0;36m1\u001b[0m\u001b[0;34m,\u001b[0m\u001b[0;34m\u001b[0m\n",
      "\u001b[0;34m\u001b[0m    \u001b[0msample\u001b[0m\u001b[0;34m=\u001b[0m\u001b[0;36m300\u001b[0m\u001b[0;34m,\u001b[0m\u001b[0;34m\u001b[0m\n",
      "\u001b[0;34m\u001b[0m    \u001b[0mreturn_structures\u001b[0m\u001b[0;34m=\u001b[0m\u001b[0;32mFalse\u001b[0m\u001b[0;34m,\u001b[0m\u001b[0;34m\u001b[0m\n",
      "\u001b[0;34m\u001b[0m    \u001b[0mrmsd_type\u001b[0m\u001b[0;34m=\u001b[0m\u001b[0;34m'simple'\u001b[0m\u001b[0;34m,\u001b[0m\u001b[0;34m\u001b[0m\n",
      "\u001b[0;34m\u001b[0m    \u001b[0moverride\u001b[0m\u001b[0;34m=\u001b[0m\u001b[0;32mFalse\u001b[0m\u001b[0;34m,\u001b[0m\u001b[0;34m\u001b[0m\n",
      "\u001b[0;34m\u001b[0m    \u001b[0mdebug\u001b[0m\u001b[0;34m=\u001b[0m\u001b[0;32mFalse\u001b[0m\u001b[0;34m,\u001b[0m\u001b[0;34m\u001b[0m\n",
      "\u001b[0;34m\u001b[0m\u001b[0;34m)\u001b[0m\u001b[0;34m\u001b[0m\u001b[0;34m\u001b[0m\u001b[0m\n",
      "\u001b[0;31mDocstring:\u001b[0m\n",
      "calc_rmsd \n",
      "Calculate the rmsd by different methods for this molecule compared to another.\n",
      "\n",
      "Parameters\n",
      "----------\n",
      "genMol : str/Molecule\n",
      "    molecule generated to rotate to reference.\n",
      "compareMol : str/Molecule\n",
      "    molecule to compare to (reference molecule)\n",
      "rmsd_type : str, optional\n",
      "    which type of rmsd to calculate , by default 'simple', possible 'edge'\n",
      "coresize : int/None, optional\n",
      "    number of graph hops from the metal to consider when aligning molecules, by default 3\n",
      "    If coresize is set to None, alignment will be performed based on centroid only.\n",
      "    Use when non-single-metal center used.\n",
      "maxiter : int, optional\n",
      "    number of iterations per time on permutation/alignment routine, by default 1\n",
      "sample : int, optional\n",
      "    number of random rotations to sample initially to ensure best mapping between cores, by default 30\n",
      "return_structures : bool, optional\n",
      "    whether or not to return the rotated versions of the core and full structures, by defualt False\n",
      "override : bool, optional\n",
      "    if no metals are present, use index 0 for comparison, default False\n",
      "debug : bool, optional\n",
      "    Print debug statements\n",
      "\n",
      "Returns\n",
      "-------\n",
      "(rmsd_loss_core, rmsd_loss_full, flag_struct) : tuple\n",
      "    rmsd core, rmsd full, flag struct - If return_structures == False\n",
      "(rmsd_loss_core, rmsd_loss_full, compareMol,  aligned_genMol, compareMol core, aligned_genMol_core, flag_struct, coreinds)\n",
      "    if return_structures == True\n",
      "\u001b[0;31mFile:\u001b[0m      ~/software/Architector/architector/io_align_mol.py\n",
      "\u001b[0;31mType:\u001b[0m      function"
     ]
    }
   ],
   "source": [
    "calc_rmsd?"
   ]
  },
  {
   "cell_type": "code",
   "execution_count": 18,
   "metadata": {},
   "outputs": [],
   "source": [
    "rmsd_loss_core, rmsd_loss_full, compareMol,  aligned_genMol, compareMol_core, aligned_genMol_core, flag_struct, coreinds = calc_rmsd(mol1,mol2,\n",
    "                                                                                                                                     coresize=100,\n",
    "                                                                                                                                     sample=1000,\n",
    "                                                                                                                                     return_structures=True)"
   ]
  },
  {
   "cell_type": "code",
   "execution_count": 19,
   "metadata": {},
   "outputs": [
    {
     "data": {
      "application/3dmoljs_load.v0": "<div id=\"3dmolviewer_17265912548337438\"  style=\"position: relative; width: 400px; height: 400px;\">\n        <p id=\"3dmolwarning_17265912548337438\" style=\"background-color:#ffcccc;color:black\">3Dmol.js failed to load for some reason.  Please check your browser console for error messages.<br></p>\n        </div>\n<script>\n\nvar loadScriptAsync = function(uri){\n  return new Promise((resolve, reject) => {\n    //this is to ignore the existence of requirejs amd\n    var savedexports, savedmodule;\n    if (typeof exports !== 'undefined') savedexports = exports;\n    else exports = {}\n    if (typeof module !== 'undefined') savedmodule = module;\n    else module = {}\n\n    var tag = document.createElement('script');\n    tag.src = uri;\n    tag.async = true;\n    tag.onload = () => {\n        exports = savedexports;\n        module = savedmodule;\n        resolve();\n    };\n  var firstScriptTag = document.getElementsByTagName('script')[0];\n  firstScriptTag.parentNode.insertBefore(tag, firstScriptTag);\n});\n};\n\nif(typeof $3Dmolpromise === 'undefined') {\n$3Dmolpromise = null;\n  $3Dmolpromise = loadScriptAsync('https://cdnjs.cloudflare.com/ajax/libs/3Dmol/2.2.1-post1/3Dmol-min.js');\n}\n\nvar viewer_17265912548337438 = null;\nvar warn = document.getElementById(\"3dmolwarning_17265912548337438\");\nif(warn) {\n    warn.parentNode.removeChild(warn);\n}\n$3Dmolpromise.then(function() {\nviewer_17265912548337438 = $3Dmol.createViewer(document.getElementById(\"3dmolviewer_17265912548337438\"),{backgroundColor:\"white\"});\nviewer_17265912548337438.zoomTo();\n\tviewer_17265912548337438.addModel(\"@<TRIPOS>MOLECULE\\nthing\\n     9    13     1     0     0\\nSMALL\\nNoCharges\\n****\\nGenerated from Architector\\n\\n@<TRIPOS>ATOM\\n     1 U1        1.6440    0.2578   -0.6706   U         1 RES1   0.0000\\n     2 O1        0.5083   -0.1005    1.3708   O.2       1 RES1   0.0000\\n     3 O2        3.4211    0.4727   -0.3220   O.2       1 RES1   0.0000\\n     4 U2       -1.0772    1.3229    0.8334   U         1 RES1   0.0000\\n     5 O3        0.4195    2.2029   -0.0368   O.2       1 RES1   0.0000\\n     6 O4       -0.7789   -0.0707   -0.8328   O.2       1 RES1   0.0000\\n     7 U3       -0.6375   -1.7532    0.5393   U         1 RES1   0.0000\\n     8 O5       -2.0764   -0.4463    1.3947   O.2       1 RES1   0.0000\\n     9 O6        1.0112   -2.0306   -0.4522   O.2       1 RES1   0.0000\\n@<TRIPOS>BOND\\n     1     1     2    1\\n     2     1     3    1\\n     3     1     5    1\\n     4     1     6    1\\n     5     1     9    1\\n     6     2     4    1\\n     7     2     7    1\\n     8     4     5    1\\n     9     4     6    1\\n    10     4     8    1\\n    11     6     7    1\\n    12     7     8    1\\n    13     7     9    1\\n@<TRIPOS>SUBSTRUCTURE\\n     1 RES1        9 GROUP             0 ****  ****    0  \\n\",\"mol2\",{\"keepH\": true});\n\tviewer_17265912548337438.addModel(\"@<TRIPOS>MOLECULE\\nthing\\n     9    13     1     0     0\\nSMALL\\nNoCharges\\n****\\nGenerated from Architector\\n\\n@<TRIPOS>ATOM\\n     1 O1       -2.4255   -0.8981   -0.6603   O.2       1 RES1   0.0000\\n     2 O2       -0.0762    0.1531   -1.0716   O.2       1 RES1   0.0000\\n     3 U1       -1.7586    0.9665    0.0760   U         1 RES1   0.0000\\n     4 O3       -0.7370   -0.5394    1.2945   O.2       1 RES1   0.0000\\n     5 U2       -0.5641   -1.8793   -0.4326   U         1 RES1   0.0000\\n     6 O4        2.9483    1.2037    0.0984   O.2       1 RES1   0.0000\\n     7 O5        1.2880   -1.8492    0.1448   O.2       1 RES1   0.0000\\n     8 O6       -0.3439    2.0736    0.8111   O.2       1 RES1   0.0000\\n     9 U3        1.4121    0.4593    0.7418   U         1 RES1   0.0000\\n@<TRIPOS>BOND\\n     1     1     3    1\\n     2     1     5    1\\n     3     2     3    1\\n     4     2     5    1\\n     5     2     9    1\\n     6     3     4    1\\n     7     3     8    1\\n     8     4     5    1\\n     9     4     9    1\\n    10     5     7    1\\n    11     6     9    1\\n    12     7     9    1\\n    13     8     9    1\\n@<TRIPOS>SUBSTRUCTURE\\n     1 RES1        9 GROUP             0 ****  ****    0  \\n\",\"mol2\",{\"keepH\": true});\n\tviewer_17265912548337438.addStyle({\"sphere\": {\"colorscheme\": \"Jmol\", \"scale\": 0.3}});\n\tviewer_17265912548337438.setStyle({\"elem\": \"O\"},{\"sphere\": {\"colorscheme\": \"Jmol\", \"scale\": 0.75}});\n\tviewer_17265912548337438.addStyle({\"stick\": {\"colorscheme\": \"Jmol\", \"radius\": 0.25}});\n\tviewer_17265912548337438.zoomTo();\nviewer_17265912548337438.render();\n});\n</script>",
      "text/html": [
       "<div id=\"3dmolviewer_17265912548337438\"  style=\"position: relative; width: 400px; height: 400px;\">\n",
       "        <p id=\"3dmolwarning_17265912548337438\" style=\"background-color:#ffcccc;color:black\">3Dmol.js failed to load for some reason.  Please check your browser console for error messages.<br></p>\n",
       "        </div>\n",
       "<script>\n",
       "\n",
       "var loadScriptAsync = function(uri){\n",
       "  return new Promise((resolve, reject) => {\n",
       "    //this is to ignore the existence of requirejs amd\n",
       "    var savedexports, savedmodule;\n",
       "    if (typeof exports !== 'undefined') savedexports = exports;\n",
       "    else exports = {}\n",
       "    if (typeof module !== 'undefined') savedmodule = module;\n",
       "    else module = {}\n",
       "\n",
       "    var tag = document.createElement('script');\n",
       "    tag.src = uri;\n",
       "    tag.async = true;\n",
       "    tag.onload = () => {\n",
       "        exports = savedexports;\n",
       "        module = savedmodule;\n",
       "        resolve();\n",
       "    };\n",
       "  var firstScriptTag = document.getElementsByTagName('script')[0];\n",
       "  firstScriptTag.parentNode.insertBefore(tag, firstScriptTag);\n",
       "});\n",
       "};\n",
       "\n",
       "if(typeof $3Dmolpromise === 'undefined') {\n",
       "$3Dmolpromise = null;\n",
       "  $3Dmolpromise = loadScriptAsync('https://cdnjs.cloudflare.com/ajax/libs/3Dmol/2.2.1-post1/3Dmol-min.js');\n",
       "}\n",
       "\n",
       "var viewer_17265912548337438 = null;\n",
       "var warn = document.getElementById(\"3dmolwarning_17265912548337438\");\n",
       "if(warn) {\n",
       "    warn.parentNode.removeChild(warn);\n",
       "}\n",
       "$3Dmolpromise.then(function() {\n",
       "viewer_17265912548337438 = $3Dmol.createViewer(document.getElementById(\"3dmolviewer_17265912548337438\"),{backgroundColor:\"white\"});\n",
       "viewer_17265912548337438.zoomTo();\n",
       "\tviewer_17265912548337438.addModel(\"@<TRIPOS>MOLECULE\\nthing\\n     9    13     1     0     0\\nSMALL\\nNoCharges\\n****\\nGenerated from Architector\\n\\n@<TRIPOS>ATOM\\n     1 U1        1.6440    0.2578   -0.6706   U         1 RES1   0.0000\\n     2 O1        0.5083   -0.1005    1.3708   O.2       1 RES1   0.0000\\n     3 O2        3.4211    0.4727   -0.3220   O.2       1 RES1   0.0000\\n     4 U2       -1.0772    1.3229    0.8334   U         1 RES1   0.0000\\n     5 O3        0.4195    2.2029   -0.0368   O.2       1 RES1   0.0000\\n     6 O4       -0.7789   -0.0707   -0.8328   O.2       1 RES1   0.0000\\n     7 U3       -0.6375   -1.7532    0.5393   U         1 RES1   0.0000\\n     8 O5       -2.0764   -0.4463    1.3947   O.2       1 RES1   0.0000\\n     9 O6        1.0112   -2.0306   -0.4522   O.2       1 RES1   0.0000\\n@<TRIPOS>BOND\\n     1     1     2    1\\n     2     1     3    1\\n     3     1     5    1\\n     4     1     6    1\\n     5     1     9    1\\n     6     2     4    1\\n     7     2     7    1\\n     8     4     5    1\\n     9     4     6    1\\n    10     4     8    1\\n    11     6     7    1\\n    12     7     8    1\\n    13     7     9    1\\n@<TRIPOS>SUBSTRUCTURE\\n     1 RES1        9 GROUP             0 ****  ****    0  \\n\",\"mol2\",{\"keepH\": true});\n",
       "\tviewer_17265912548337438.addModel(\"@<TRIPOS>MOLECULE\\nthing\\n     9    13     1     0     0\\nSMALL\\nNoCharges\\n****\\nGenerated from Architector\\n\\n@<TRIPOS>ATOM\\n     1 O1       -2.4255   -0.8981   -0.6603   O.2       1 RES1   0.0000\\n     2 O2       -0.0762    0.1531   -1.0716   O.2       1 RES1   0.0000\\n     3 U1       -1.7586    0.9665    0.0760   U         1 RES1   0.0000\\n     4 O3       -0.7370   -0.5394    1.2945   O.2       1 RES1   0.0000\\n     5 U2       -0.5641   -1.8793   -0.4326   U         1 RES1   0.0000\\n     6 O4        2.9483    1.2037    0.0984   O.2       1 RES1   0.0000\\n     7 O5        1.2880   -1.8492    0.1448   O.2       1 RES1   0.0000\\n     8 O6       -0.3439    2.0736    0.8111   O.2       1 RES1   0.0000\\n     9 U3        1.4121    0.4593    0.7418   U         1 RES1   0.0000\\n@<TRIPOS>BOND\\n     1     1     3    1\\n     2     1     5    1\\n     3     2     3    1\\n     4     2     5    1\\n     5     2     9    1\\n     6     3     4    1\\n     7     3     8    1\\n     8     4     5    1\\n     9     4     9    1\\n    10     5     7    1\\n    11     6     9    1\\n    12     7     9    1\\n    13     8     9    1\\n@<TRIPOS>SUBSTRUCTURE\\n     1 RES1        9 GROUP             0 ****  ****    0  \\n\",\"mol2\",{\"keepH\": true});\n",
       "\tviewer_17265912548337438.addStyle({\"sphere\": {\"colorscheme\": \"Jmol\", \"scale\": 0.3}});\n",
       "\tviewer_17265912548337438.setStyle({\"elem\": \"O\"},{\"sphere\": {\"colorscheme\": \"Jmol\", \"scale\": 0.75}});\n",
       "\tviewer_17265912548337438.addStyle({\"stick\": {\"colorscheme\": \"Jmol\", \"radius\": 0.25}});\n",
       "\tviewer_17265912548337438.zoomTo();\n",
       "viewer_17265912548337438.render();\n",
       "});\n",
       "</script>"
      ]
     },
     "metadata": {},
     "output_type": "display_data"
    }
   ],
   "source": [
    "view_structures([mol1,mol2],columns=2,w=400,h=400,stack=True,stack_align=False)"
   ]
  },
  {
   "cell_type": "code",
   "execution_count": 22,
   "metadata": {},
   "outputs": [
    {
     "data": {
      "application/3dmoljs_load.v0": "<div id=\"3dmolviewer_1726591276842798\"  style=\"position: relative; width: 400px; height: 400px;\">\n        <p id=\"3dmolwarning_1726591276842798\" style=\"background-color:#ffcccc;color:black\">3Dmol.js failed to load for some reason.  Please check your browser console for error messages.<br></p>\n        </div>\n<script>\n\nvar loadScriptAsync = function(uri){\n  return new Promise((resolve, reject) => {\n    //this is to ignore the existence of requirejs amd\n    var savedexports, savedmodule;\n    if (typeof exports !== 'undefined') savedexports = exports;\n    else exports = {}\n    if (typeof module !== 'undefined') savedmodule = module;\n    else module = {}\n\n    var tag = document.createElement('script');\n    tag.src = uri;\n    tag.async = true;\n    tag.onload = () => {\n        exports = savedexports;\n        module = savedmodule;\n        resolve();\n    };\n  var firstScriptTag = document.getElementsByTagName('script')[0];\n  firstScriptTag.parentNode.insertBefore(tag, firstScriptTag);\n});\n};\n\nif(typeof $3Dmolpromise === 'undefined') {\n$3Dmolpromise = null;\n  $3Dmolpromise = loadScriptAsync('https://cdnjs.cloudflare.com/ajax/libs/3Dmol/2.2.1-post1/3Dmol-min.js');\n}\n\nvar viewer_1726591276842798 = null;\nvar warn = document.getElementById(\"3dmolwarning_1726591276842798\");\nif(warn) {\n    warn.parentNode.removeChild(warn);\n}\n$3Dmolpromise.then(function() {\nviewer_1726591276842798 = $3Dmol.createViewer(document.getElementById(\"3dmolviewer_1726591276842798\"),{backgroundColor:\"white\"});\nviewer_1726591276842798.zoomTo();\n\tviewer_1726591276842798.addModel(\"@<TRIPOS>MOLECULE\\nthing\\n     9    13     1     0     0\\nSMALL\\nNoCharges\\n****\\nGenerated from Architector\\n\\n@<TRIPOS>ATOM\\n     1 O1       -0.6669   -1.8645   -0.7363   O.2       1 RES1   0.0000\\n     2 O2        1.6824   -0.8134   -1.1476   O.2       1 RES1   0.0000\\n     3 U1        0.0000    0.0000    0.0000   U         1 RES1   0.0000\\n     4 O3        1.0216   -1.5059    1.2185   O.2       1 RES1   0.0000\\n     5 U2        1.1945   -2.8457   -0.5086   U         1 RES1   0.0000\\n     6 O4        4.7069    0.2372    0.0224   O.2       1 RES1   0.0000\\n     7 O5        3.0466   -2.8157    0.0688   O.2       1 RES1   0.0000\\n     8 O6        1.4147    1.1071    0.7351   O.2       1 RES1   0.0000\\n     9 U3        3.1707   -0.5072    0.6658   U         1 RES1   0.0000\\n@<TRIPOS>BOND\\n     1     1     3    1\\n     2     1     5    1\\n     3     2     3    1\\n     4     2     5    1\\n     5     2     9    1\\n     6     3     4    1\\n     7     3     8    1\\n     8     4     5    1\\n     9     4     9    1\\n    10     5     7    1\\n    11     6     9    1\\n    12     7     9    1\\n    13     8     9    1\\n@<TRIPOS>SUBSTRUCTURE\\n     1 RES1        9 GROUP             0 ****  ****    0  \\n\",\"mol2\",{\"keepH\": true});\n\tviewer_1726591276842798.addModel(\"@<TRIPOS>MOLECULE\\nthing\\n     9    13     1     0     0\\nSMALL\\nNoCharges\\n****\\nGenerated from Architector\\n\\n@<TRIPOS>ATOM\\n     1 U1        0.0000    0.0000    0.0000   U         1 RES1   0.0000\\n     2 O1        1.2694   -1.6121    1.1728   O.2       1 RES1   0.0000\\n     3 O2       -1.0592    0.8892    1.1889   O.2       1 RES1   0.0000\\n     4 U2        3.1136   -1.0448    0.1215   U         1 RES1   0.0000\\n     5 O3        2.2693    0.7022    0.2038   O.2       1 RES1   0.0000\\n     6 O4        1.5231   -1.3605   -1.3543   O.2       1 RES1   0.0000\\n     7 U3        0.8469   -3.1463   -0.3116   U         1 RES1   0.0000\\n     8 O5        2.9600   -3.1354   -0.1008   O.2       1 RES1   0.0000\\n     9 O6       -0.8440   -2.1923   -0.4078   O.2       1 RES1   0.0000\\n@<TRIPOS>BOND\\n     1     1     2    1\\n     2     1     3    1\\n     3     1     5    1\\n     4     1     6    1\\n     5     1     9    1\\n     6     2     4    1\\n     7     2     7    1\\n     8     4     5    1\\n     9     4     6    1\\n    10     4     8    1\\n    11     6     7    1\\n    12     7     8    1\\n    13     7     9    1\\n@<TRIPOS>SUBSTRUCTURE\\n     1 RES1        9 GROUP             0 ****  ****    0  \\n\",\"mol2\",{\"keepH\": true});\n\tviewer_1726591276842798.setStyle({\"line\": {\"colorscheme\": \"Jmol\"}});\n\tviewer_1726591276842798.zoomTo();\nviewer_1726591276842798.render();\n});\n</script>",
      "text/html": [
       "<div id=\"3dmolviewer_1726591276842798\"  style=\"position: relative; width: 400px; height: 400px;\">\n",
       "        <p id=\"3dmolwarning_1726591276842798\" style=\"background-color:#ffcccc;color:black\">3Dmol.js failed to load for some reason.  Please check your browser console for error messages.<br></p>\n",
       "        </div>\n",
       "<script>\n",
       "\n",
       "var loadScriptAsync = function(uri){\n",
       "  return new Promise((resolve, reject) => {\n",
       "    //this is to ignore the existence of requirejs amd\n",
       "    var savedexports, savedmodule;\n",
       "    if (typeof exports !== 'undefined') savedexports = exports;\n",
       "    else exports = {}\n",
       "    if (typeof module !== 'undefined') savedmodule = module;\n",
       "    else module = {}\n",
       "\n",
       "    var tag = document.createElement('script');\n",
       "    tag.src = uri;\n",
       "    tag.async = true;\n",
       "    tag.onload = () => {\n",
       "        exports = savedexports;\n",
       "        module = savedmodule;\n",
       "        resolve();\n",
       "    };\n",
       "  var firstScriptTag = document.getElementsByTagName('script')[0];\n",
       "  firstScriptTag.parentNode.insertBefore(tag, firstScriptTag);\n",
       "});\n",
       "};\n",
       "\n",
       "if(typeof $3Dmolpromise === 'undefined') {\n",
       "$3Dmolpromise = null;\n",
       "  $3Dmolpromise = loadScriptAsync('https://cdnjs.cloudflare.com/ajax/libs/3Dmol/2.2.1-post1/3Dmol-min.js');\n",
       "}\n",
       "\n",
       "var viewer_1726591276842798 = null;\n",
       "var warn = document.getElementById(\"3dmolwarning_1726591276842798\");\n",
       "if(warn) {\n",
       "    warn.parentNode.removeChild(warn);\n",
       "}\n",
       "$3Dmolpromise.then(function() {\n",
       "viewer_1726591276842798 = $3Dmol.createViewer(document.getElementById(\"3dmolviewer_1726591276842798\"),{backgroundColor:\"white\"});\n",
       "viewer_1726591276842798.zoomTo();\n",
       "\tviewer_1726591276842798.addModel(\"@<TRIPOS>MOLECULE\\nthing\\n     9    13     1     0     0\\nSMALL\\nNoCharges\\n****\\nGenerated from Architector\\n\\n@<TRIPOS>ATOM\\n     1 O1       -0.6669   -1.8645   -0.7363   O.2       1 RES1   0.0000\\n     2 O2        1.6824   -0.8134   -1.1476   O.2       1 RES1   0.0000\\n     3 U1        0.0000    0.0000    0.0000   U         1 RES1   0.0000\\n     4 O3        1.0216   -1.5059    1.2185   O.2       1 RES1   0.0000\\n     5 U2        1.1945   -2.8457   -0.5086   U         1 RES1   0.0000\\n     6 O4        4.7069    0.2372    0.0224   O.2       1 RES1   0.0000\\n     7 O5        3.0466   -2.8157    0.0688   O.2       1 RES1   0.0000\\n     8 O6        1.4147    1.1071    0.7351   O.2       1 RES1   0.0000\\n     9 U3        3.1707   -0.5072    0.6658   U         1 RES1   0.0000\\n@<TRIPOS>BOND\\n     1     1     3    1\\n     2     1     5    1\\n     3     2     3    1\\n     4     2     5    1\\n     5     2     9    1\\n     6     3     4    1\\n     7     3     8    1\\n     8     4     5    1\\n     9     4     9    1\\n    10     5     7    1\\n    11     6     9    1\\n    12     7     9    1\\n    13     8     9    1\\n@<TRIPOS>SUBSTRUCTURE\\n     1 RES1        9 GROUP             0 ****  ****    0  \\n\",\"mol2\",{\"keepH\": true});\n",
       "\tviewer_1726591276842798.addModel(\"@<TRIPOS>MOLECULE\\nthing\\n     9    13     1     0     0\\nSMALL\\nNoCharges\\n****\\nGenerated from Architector\\n\\n@<TRIPOS>ATOM\\n     1 U1        0.0000    0.0000    0.0000   U         1 RES1   0.0000\\n     2 O1        1.2694   -1.6121    1.1728   O.2       1 RES1   0.0000\\n     3 O2       -1.0592    0.8892    1.1889   O.2       1 RES1   0.0000\\n     4 U2        3.1136   -1.0448    0.1215   U         1 RES1   0.0000\\n     5 O3        2.2693    0.7022    0.2038   O.2       1 RES1   0.0000\\n     6 O4        1.5231   -1.3605   -1.3543   O.2       1 RES1   0.0000\\n     7 U3        0.8469   -3.1463   -0.3116   U         1 RES1   0.0000\\n     8 O5        2.9600   -3.1354   -0.1008   O.2       1 RES1   0.0000\\n     9 O6       -0.8440   -2.1923   -0.4078   O.2       1 RES1   0.0000\\n@<TRIPOS>BOND\\n     1     1     2    1\\n     2     1     3    1\\n     3     1     5    1\\n     4     1     6    1\\n     5     1     9    1\\n     6     2     4    1\\n     7     2     7    1\\n     8     4     5    1\\n     9     4     6    1\\n    10     4     8    1\\n    11     6     7    1\\n    12     7     8    1\\n    13     7     9    1\\n@<TRIPOS>SUBSTRUCTURE\\n     1 RES1        9 GROUP             0 ****  ****    0  \\n\",\"mol2\",{\"keepH\": true});\n",
       "\tviewer_1726591276842798.setStyle({\"line\": {\"colorscheme\": \"Jmol\"}});\n",
       "\tviewer_1726591276842798.zoomTo();\n",
       "viewer_1726591276842798.render();\n",
       "});\n",
       "</script>"
      ]
     },
     "metadata": {},
     "output_type": "display_data"
    }
   ],
   "source": [
    "view_structures([compareMol,aligned_genMol],columns=2,w=400,h=400,stack=True,stack_align=False,representation='line')"
   ]
  },
  {
   "cell_type": "code",
   "execution_count": 16,
   "metadata": {},
   "outputs": [],
   "source": [
    "rmsd_loss_core, rmsd_loss_full, compareMol,  aligned_genMol, compareMol_core, aligned_genMol_core, flag_struct, coreinds = calc_rmsd(mol1,mol2,\n",
    "                                                                                                                                     coresize=None,\n",
    "                                                                                                                                    #  sample=300,\n",
    "                                                                                                                                     return_structures=True)"
   ]
  },
  {
   "cell_type": "code",
   "execution_count": 17,
   "metadata": {},
   "outputs": [
    {
     "data": {
      "application/3dmoljs_load.v0": "<div id=\"3dmolviewer_1726591247997269\"  style=\"position: relative; width: 400px; height: 400px;\">\n        <p id=\"3dmolwarning_1726591247997269\" style=\"background-color:#ffcccc;color:black\">3Dmol.js failed to load for some reason.  Please check your browser console for error messages.<br></p>\n        </div>\n<script>\n\nvar loadScriptAsync = function(uri){\n  return new Promise((resolve, reject) => {\n    //this is to ignore the existence of requirejs amd\n    var savedexports, savedmodule;\n    if (typeof exports !== 'undefined') savedexports = exports;\n    else exports = {}\n    if (typeof module !== 'undefined') savedmodule = module;\n    else module = {}\n\n    var tag = document.createElement('script');\n    tag.src = uri;\n    tag.async = true;\n    tag.onload = () => {\n        exports = savedexports;\n        module = savedmodule;\n        resolve();\n    };\n  var firstScriptTag = document.getElementsByTagName('script')[0];\n  firstScriptTag.parentNode.insertBefore(tag, firstScriptTag);\n});\n};\n\nif(typeof $3Dmolpromise === 'undefined') {\n$3Dmolpromise = null;\n  $3Dmolpromise = loadScriptAsync('https://cdnjs.cloudflare.com/ajax/libs/3Dmol/2.2.1-post1/3Dmol-min.js');\n}\n\nvar viewer_1726591247997269 = null;\nvar warn = document.getElementById(\"3dmolwarning_1726591247997269\");\nif(warn) {\n    warn.parentNode.removeChild(warn);\n}\n$3Dmolpromise.then(function() {\nviewer_1726591247997269 = $3Dmol.createViewer(document.getElementById(\"3dmolviewer_1726591247997269\"),{backgroundColor:\"white\"});\nviewer_1726591247997269.zoomTo();\n\tviewer_1726591247997269.addModel(\"@<TRIPOS>MOLECULE\\nthing\\n     9    13     1     0     0\\nSMALL\\nNoCharges\\n****\\nGenerated from Architector\\n\\n@<TRIPOS>ATOM\\n     1 O1       -2.3969   -0.8636   -0.7716   O.2       1 RES1   0.0000\\n     2 O2       -0.0477    0.1875   -1.1829   O.2       1 RES1   0.0000\\n     3 U1       -1.7301    1.0009   -0.0354   U         1 RES1   0.0000\\n     4 O3       -0.7085   -0.5050    1.1831   O.2       1 RES1   0.0000\\n     5 U2       -0.5355   -1.8448   -0.5439   U         1 RES1   0.0000\\n     6 O4        2.9768    1.2381   -0.0129   O.2       1 RES1   0.0000\\n     7 O5        1.3166   -1.8148    0.0334   O.2       1 RES1   0.0000\\n     8 O6       -0.3153    2.1080    0.6997   O.2       1 RES1   0.0000\\n     9 U3        1.4406    0.4937    0.6304   U         1 RES1   0.0000\\n@<TRIPOS>BOND\\n     1     1     3    1\\n     2     1     5    1\\n     3     2     3    1\\n     4     2     5    1\\n     5     2     9    1\\n     6     3     4    1\\n     7     3     8    1\\n     8     4     5    1\\n     9     4     9    1\\n    10     5     7    1\\n    11     6     9    1\\n    12     7     9    1\\n    13     8     9    1\\n@<TRIPOS>SUBSTRUCTURE\\n     1 RES1        9 GROUP             0 ****  ****    0  \\n\",\"mol2\",{\"keepH\": true});\n\tviewer_1726591247997269.addModel(\"@<TRIPOS>MOLECULE\\nthing\\n     9    13     1     0     0\\nSMALL\\nNoCharges\\n****\\nGenerated from Architector\\n\\n@<TRIPOS>ATOM\\n     1 U1        1.4457    0.4934    0.6251   U         1 RES1   0.0000\\n     2 O1       -0.0464    0.1794   -1.1807   O.2       1 RES1   0.0000\\n     3 O2        2.9818    1.2448   -0.0085   O.2       1 RES1   0.0000\\n     4 U2       -1.7333    1.0006   -0.0369   U         1 RES1   0.0000\\n     5 O3       -0.3123    2.1024    0.6971   O.2       1 RES1   0.0000\\n     6 O4       -0.7181   -0.5128    1.1823   O.2       1 RES1   0.0000\\n     7 U3       -0.5371   -1.8393   -0.5327   U         1 RES1   0.0000\\n     8 O5       -2.4045   -0.8570   -0.7732   O.2       1 RES1   0.0000\\n     9 O6        1.3240   -1.8115    0.0275   O.2       1 RES1   0.0000\\n@<TRIPOS>BOND\\n     1     1     2    1\\n     2     1     3    1\\n     3     1     5    1\\n     4     1     6    1\\n     5     1     9    1\\n     6     2     4    1\\n     7     2     7    1\\n     8     4     5    1\\n     9     4     6    1\\n    10     4     8    1\\n    11     6     7    1\\n    12     7     8    1\\n    13     7     9    1\\n@<TRIPOS>SUBSTRUCTURE\\n     1 RES1        9 GROUP             0 ****  ****    0  \\n\",\"mol2\",{\"keepH\": true});\n\tviewer_1726591247997269.setStyle({\"stick\": {\"colorscheme\": \"Jmol\", \"radius\": 0.25}});\n\tviewer_1726591247997269.zoomTo();\nviewer_1726591247997269.render();\n});\n</script>",
      "text/html": [
       "<div id=\"3dmolviewer_1726591247997269\"  style=\"position: relative; width: 400px; height: 400px;\">\n",
       "        <p id=\"3dmolwarning_1726591247997269\" style=\"background-color:#ffcccc;color:black\">3Dmol.js failed to load for some reason.  Please check your browser console for error messages.<br></p>\n",
       "        </div>\n",
       "<script>\n",
       "\n",
       "var loadScriptAsync = function(uri){\n",
       "  return new Promise((resolve, reject) => {\n",
       "    //this is to ignore the existence of requirejs amd\n",
       "    var savedexports, savedmodule;\n",
       "    if (typeof exports !== 'undefined') savedexports = exports;\n",
       "    else exports = {}\n",
       "    if (typeof module !== 'undefined') savedmodule = module;\n",
       "    else module = {}\n",
       "\n",
       "    var tag = document.createElement('script');\n",
       "    tag.src = uri;\n",
       "    tag.async = true;\n",
       "    tag.onload = () => {\n",
       "        exports = savedexports;\n",
       "        module = savedmodule;\n",
       "        resolve();\n",
       "    };\n",
       "  var firstScriptTag = document.getElementsByTagName('script')[0];\n",
       "  firstScriptTag.parentNode.insertBefore(tag, firstScriptTag);\n",
       "});\n",
       "};\n",
       "\n",
       "if(typeof $3Dmolpromise === 'undefined') {\n",
       "$3Dmolpromise = null;\n",
       "  $3Dmolpromise = loadScriptAsync('https://cdnjs.cloudflare.com/ajax/libs/3Dmol/2.2.1-post1/3Dmol-min.js');\n",
       "}\n",
       "\n",
       "var viewer_1726591247997269 = null;\n",
       "var warn = document.getElementById(\"3dmolwarning_1726591247997269\");\n",
       "if(warn) {\n",
       "    warn.parentNode.removeChild(warn);\n",
       "}\n",
       "$3Dmolpromise.then(function() {\n",
       "viewer_1726591247997269 = $3Dmol.createViewer(document.getElementById(\"3dmolviewer_1726591247997269\"),{backgroundColor:\"white\"});\n",
       "viewer_1726591247997269.zoomTo();\n",
       "\tviewer_1726591247997269.addModel(\"@<TRIPOS>MOLECULE\\nthing\\n     9    13     1     0     0\\nSMALL\\nNoCharges\\n****\\nGenerated from Architector\\n\\n@<TRIPOS>ATOM\\n     1 O1       -2.3969   -0.8636   -0.7716   O.2       1 RES1   0.0000\\n     2 O2       -0.0477    0.1875   -1.1829   O.2       1 RES1   0.0000\\n     3 U1       -1.7301    1.0009   -0.0354   U         1 RES1   0.0000\\n     4 O3       -0.7085   -0.5050    1.1831   O.2       1 RES1   0.0000\\n     5 U2       -0.5355   -1.8448   -0.5439   U         1 RES1   0.0000\\n     6 O4        2.9768    1.2381   -0.0129   O.2       1 RES1   0.0000\\n     7 O5        1.3166   -1.8148    0.0334   O.2       1 RES1   0.0000\\n     8 O6       -0.3153    2.1080    0.6997   O.2       1 RES1   0.0000\\n     9 U3        1.4406    0.4937    0.6304   U         1 RES1   0.0000\\n@<TRIPOS>BOND\\n     1     1     3    1\\n     2     1     5    1\\n     3     2     3    1\\n     4     2     5    1\\n     5     2     9    1\\n     6     3     4    1\\n     7     3     8    1\\n     8     4     5    1\\n     9     4     9    1\\n    10     5     7    1\\n    11     6     9    1\\n    12     7     9    1\\n    13     8     9    1\\n@<TRIPOS>SUBSTRUCTURE\\n     1 RES1        9 GROUP             0 ****  ****    0  \\n\",\"mol2\",{\"keepH\": true});\n",
       "\tviewer_1726591247997269.addModel(\"@<TRIPOS>MOLECULE\\nthing\\n     9    13     1     0     0\\nSMALL\\nNoCharges\\n****\\nGenerated from Architector\\n\\n@<TRIPOS>ATOM\\n     1 U1        1.4457    0.4934    0.6251   U         1 RES1   0.0000\\n     2 O1       -0.0464    0.1794   -1.1807   O.2       1 RES1   0.0000\\n     3 O2        2.9818    1.2448   -0.0085   O.2       1 RES1   0.0000\\n     4 U2       -1.7333    1.0006   -0.0369   U         1 RES1   0.0000\\n     5 O3       -0.3123    2.1024    0.6971   O.2       1 RES1   0.0000\\n     6 O4       -0.7181   -0.5128    1.1823   O.2       1 RES1   0.0000\\n     7 U3       -0.5371   -1.8393   -0.5327   U         1 RES1   0.0000\\n     8 O5       -2.4045   -0.8570   -0.7732   O.2       1 RES1   0.0000\\n     9 O6        1.3240   -1.8115    0.0275   O.2       1 RES1   0.0000\\n@<TRIPOS>BOND\\n     1     1     2    1\\n     2     1     3    1\\n     3     1     5    1\\n     4     1     6    1\\n     5     1     9    1\\n     6     2     4    1\\n     7     2     7    1\\n     8     4     5    1\\n     9     4     6    1\\n    10     4     8    1\\n    11     6     7    1\\n    12     7     8    1\\n    13     7     9    1\\n@<TRIPOS>SUBSTRUCTURE\\n     1 RES1        9 GROUP             0 ****  ****    0  \\n\",\"mol2\",{\"keepH\": true});\n",
       "\tviewer_1726591247997269.setStyle({\"stick\": {\"colorscheme\": \"Jmol\", \"radius\": 0.25}});\n",
       "\tviewer_1726591247997269.zoomTo();\n",
       "viewer_1726591247997269.render();\n",
       "});\n",
       "</script>"
      ]
     },
     "metadata": {},
     "output_type": "display_data"
    }
   ],
   "source": [
    "view_structures([compareMol,aligned_genMol],columns=2,w=400,h=400,stack=True, stack_align=False,representation='stick')"
   ]
  },
  {
   "cell_type": "code",
   "execution_count": 7,
   "metadata": {},
   "outputs": [
    {
     "data": {
      "text/plain": [
       "0.009392121585594874"
      ]
     },
     "execution_count": 7,
     "metadata": {},
     "output_type": "execute_result"
    }
   ],
   "source": [
    "rmsd_loss_full"
   ]
  },
  {
   "cell_type": "code",
   "execution_count": 12,
   "metadata": {},
   "outputs": [
    {
     "name": "stdout",
     "output_type": "stream",
     "text": [
      "\u001b[0;31mSignature:\u001b[0m\n",
      "\u001b[0mview_structures\u001b[0m\u001b[0;34m(\u001b[0m\u001b[0;34m\u001b[0m\n",
      "\u001b[0;34m\u001b[0m    \u001b[0mstructures\u001b[0m\u001b[0;34m,\u001b[0m\u001b[0;34m\u001b[0m\n",
      "\u001b[0;34m\u001b[0m    \u001b[0mw\u001b[0m\u001b[0;34m=\u001b[0m\u001b[0;36m200\u001b[0m\u001b[0;34m,\u001b[0m\u001b[0;34m\u001b[0m\n",
      "\u001b[0;34m\u001b[0m    \u001b[0mh\u001b[0m\u001b[0;34m=\u001b[0m\u001b[0;36m200\u001b[0m\u001b[0;34m,\u001b[0m\u001b[0;34m\u001b[0m\n",
      "\u001b[0;34m\u001b[0m    \u001b[0mcolumns\u001b[0m\u001b[0;34m=\u001b[0m\u001b[0;36m4\u001b[0m\u001b[0;34m,\u001b[0m\u001b[0;34m\u001b[0m\n",
      "\u001b[0;34m\u001b[0m    \u001b[0mrepresentation\u001b[0m\u001b[0;34m=\u001b[0m\u001b[0;34m'ball_stick'\u001b[0m\u001b[0;34m,\u001b[0m\u001b[0;34m\u001b[0m\n",
      "\u001b[0;34m\u001b[0m    \u001b[0mlabelsize\u001b[0m\u001b[0;34m=\u001b[0m\u001b[0;36m12\u001b[0m\u001b[0;34m,\u001b[0m\u001b[0;34m\u001b[0m\n",
      "\u001b[0;34m\u001b[0m    \u001b[0mlabels\u001b[0m\u001b[0;34m=\u001b[0m\u001b[0;32mFalse\u001b[0m\u001b[0;34m,\u001b[0m\u001b[0;34m\u001b[0m\n",
      "\u001b[0;34m\u001b[0m    \u001b[0mlabelinds\u001b[0m\u001b[0;34m=\u001b[0m\u001b[0;32mNone\u001b[0m\u001b[0;34m,\u001b[0m\u001b[0;34m\u001b[0m\n",
      "\u001b[0;34m\u001b[0m    \u001b[0mlabelatoms\u001b[0m\u001b[0;34m=\u001b[0m\u001b[0;32mFalse\u001b[0m\u001b[0;34m,\u001b[0m\u001b[0;34m\u001b[0m\n",
      "\u001b[0;34m\u001b[0m    \u001b[0mvector\u001b[0m\u001b[0;34m=\u001b[0m\u001b[0;32mNone\u001b[0m\u001b[0;34m,\u001b[0m\u001b[0;34m\u001b[0m\n",
      "\u001b[0;34m\u001b[0m    \u001b[0msphere_scale\u001b[0m\u001b[0;34m=\u001b[0m\u001b[0;36m0.3\u001b[0m\u001b[0;34m,\u001b[0m\u001b[0;34m\u001b[0m\n",
      "\u001b[0;34m\u001b[0m    \u001b[0mstick_scale\u001b[0m\u001b[0;34m=\u001b[0m\u001b[0;36m0.25\u001b[0m\u001b[0;34m,\u001b[0m\u001b[0;34m\u001b[0m\n",
      "\u001b[0;34m\u001b[0m    \u001b[0mmetal_scale\u001b[0m\u001b[0;34m=\u001b[0m\u001b[0;36m0.75\u001b[0m\u001b[0;34m,\u001b[0m\u001b[0;34m\u001b[0m\n",
      "\u001b[0;34m\u001b[0m    \u001b[0mmodes\u001b[0m\u001b[0;34m=\u001b[0m\u001b[0;32mNone\u001b[0m\u001b[0;34m,\u001b[0m\u001b[0;34m\u001b[0m\n",
      "\u001b[0;34m\u001b[0m    \u001b[0mtrajectory\u001b[0m\u001b[0;34m=\u001b[0m\u001b[0;32mFalse\u001b[0m\u001b[0;34m,\u001b[0m\u001b[0;34m\u001b[0m\n",
      "\u001b[0;34m\u001b[0m    \u001b[0minterval\u001b[0m\u001b[0;34m=\u001b[0m\u001b[0;36m200\u001b[0m\u001b[0;34m,\u001b[0m\u001b[0;34m\u001b[0m\n",
      "\u001b[0;34m\u001b[0m    \u001b[0mvis_distances\u001b[0m\u001b[0;34m=\u001b[0m\u001b[0;32mNone\u001b[0m\u001b[0;34m,\u001b[0m\u001b[0;34m\u001b[0m\n",
      "\u001b[0;34m\u001b[0m    \u001b[0mdistvisradius\u001b[0m\u001b[0;34m=\u001b[0m\u001b[0;36m0.3\u001b[0m\u001b[0;34m,\u001b[0m\u001b[0;34m\u001b[0m\n",
      "\u001b[0;34m\u001b[0m    \u001b[0mdistcolor\u001b[0m\u001b[0;34m=\u001b[0m\u001b[0;34m'black'\u001b[0m\u001b[0;34m,\u001b[0m\u001b[0;34m\u001b[0m\n",
      "\u001b[0;34m\u001b[0m    \u001b[0mdistopacity\u001b[0m\u001b[0;34m=\u001b[0m\u001b[0;36m0.85\u001b[0m\u001b[0;34m,\u001b[0m\u001b[0;34m\u001b[0m\n",
      "\u001b[0;34m\u001b[0m    \u001b[0mdistskin\u001b[0m\u001b[0;34m=\u001b[0m\u001b[0;36m0.3\u001b[0m\u001b[0;34m,\u001b[0m\u001b[0;34m\u001b[0m\n",
      "\u001b[0;34m\u001b[0m    \u001b[0mdistradius\u001b[0m\u001b[0;34m=\u001b[0m\u001b[0;32mNone\u001b[0m\u001b[0;34m,\u001b[0m\u001b[0;34m\u001b[0m\n",
      "\u001b[0;34m\u001b[0m    \u001b[0mdistlabelposit\u001b[0m\u001b[0;34m=\u001b[0m\u001b[0;36m1.0\u001b[0m\u001b[0;34m,\u001b[0m\u001b[0;34m\u001b[0m\n",
      "\u001b[0;34m\u001b[0m    \u001b[0mdistatompairs\u001b[0m\u001b[0;34m=\u001b[0m\u001b[0;32mNone\u001b[0m\u001b[0;34m,\u001b[0m\u001b[0;34m\u001b[0m\n",
      "\u001b[0;34m\u001b[0m    \u001b[0mdistatomtype_pairs\u001b[0m\u001b[0;34m=\u001b[0m\u001b[0;32mNone\u001b[0m\u001b[0;34m,\u001b[0m\u001b[0;34m\u001b[0m\n",
      "\u001b[0;34m\u001b[0m    \u001b[0mstack\u001b[0m\u001b[0;34m=\u001b[0m\u001b[0;32mFalse\u001b[0m\u001b[0;34m,\u001b[0m\u001b[0;34m\u001b[0m\n",
      "\u001b[0;34m\u001b[0m    \u001b[0mstack_align\u001b[0m\u001b[0;34m=\u001b[0m\u001b[0;32mTrue\u001b[0m\u001b[0;34m,\u001b[0m\u001b[0;34m\u001b[0m\n",
      "\u001b[0;34m\u001b[0m    \u001b[0mhydrogens\u001b[0m\u001b[0;34m=\u001b[0m\u001b[0;32mTrue\u001b[0m\u001b[0;34m,\u001b[0m\u001b[0;34m\u001b[0m\n",
      "\u001b[0;34m\u001b[0m\u001b[0;34m)\u001b[0m\u001b[0;34m\u001b[0m\u001b[0;34m\u001b[0m\u001b[0m\n",
      "\u001b[0;31mDocstring:\u001b[0m\n",
      "view_structures\n",
      "Jupyter-notebook-based visualization of molecular structures.\n",
      "\n",
      "Structures can be anything from a file (.xyz, .mol2, .rxyz), ase Atoms, list (or array) of files,\n",
      "or list/array-like of structure strings, or list/array of ase Atoms.\n",
      "\n",
      "Examples:\n",
      "view_structures(ase.atoms.Atoms) gives a single viewer with the given structure.\n",
      "view_structures('thing.xyz') gives a single viewer with the given structure.\n",
      "view_structures(list_of_xyz_strings) gives a grid_view with 4 columns of all xyz strings passed.\n",
      "view_structures(list_of_mol2strings) gives a grid_view with 4 columns of all mol2 strings. Will maintain bond orders specified.\n",
      "view_structures(pd.Series of mol2strings, labels=pd.OtherSeries of Strings) gives a grid_view with 4 columns with labels superimposed.\n",
      "view_structures(mol2string,labelinds=True) gives a single viewer with index of all atoms superimposed as labels.\n",
      "view_structures(mol2string,labelinds=list_of_strings) gives a single viewer with the strings put on the atoms with matching indices.\n",
      "view_structures(metal_complex_mol2string,\n",
      "                vis_distances=True) Will visualize metal-ligand bond distances on the inset images\n",
      "view_structures(ase.atoms.Atoms,modes=[vibrational_mode_array]) gives a single viewer with vibrational mode array superimposed\n",
      "view_structures([ase.atoms.Atoms]*n,modes=[vibrational_mode_array1,vibrational_mmode_array2....]])\n",
      "gives a grid viewer with all vibrational modes visualized\n",
      "view_structures([trajectory_of_xyzs],trajectory=True) gives a single viewer with the trajectory visualized.\n",
      "\n",
      "There is much more functionality to play with.\n",
      "Most of what I end up changing is w (width) and h (height) in pixels, and columns (int).\n",
      "These specifiy the size of each viewer panel, and number of columns, respectively.\n",
      "Parameters\n",
      "----------\n",
      "structures : str,list,array-like\n",
      "    structures to visualize\n",
      "w : int, optional\n",
      "    width of the frame or frames (tiled views) to visualize in pixels, by default 200\n",
      "h : int, optional\n",
      "    height of the frame or frames (tiled views) to visualize in pixels, by default 200\n",
      "columns : int, optional\n",
      "    number of columns to split multiple structures into, by default 4\n",
      "representation : str, optional\n",
      "    What molecular representation ('stick','sphere'), by default 'ball_stick'\n",
      "labelsize : int, optional\n",
      "    Fontsize for overlaid text labels, by default 12\n",
      "labels : bool, optional\n",
      "    List or list of strings of labels to add to structures, by default False\n",
      "labelinds : bool, list, optional\n",
      "    Whether to label the indices in each structure, if array passed will use array on matching atom indices, by default None\n",
      "labelatoms : bool, optional\n",
      "    Whether to label the atoms by atom-type, by default False. Will supercede labelinds if True.\n",
      "vector : dict, optional\n",
      "    Add arrow? e.g. vector = {'start': {'x':-10.0, 'y':0.0, 'z':0.0}, 'end': {'x':-10.0, 'y':0.0, 'z':10.0},\n",
      "          'radius':2,'color':'red'}, by default None\n",
      "sphere_scale : float, optional\n",
      "    How large should the spheres be?, by default 0.3\n",
      "stick_scale : float, optional\n",
      "    How large should the sticks be?, by default 0.25\n",
      "metal_scale : float, optional\n",
      "    How large should the metals be?, by default 0.75\n",
      "modes : bool/list(np.ndarray), optional\n",
      "    vibrational modes to animate on structure, by default None\n",
      "trajectory : bool, optional\n",
      "    Whether to view as a trajectory animation (e.g. relaxation or MD), by default False\n",
      "interval : int, optional\n",
      "    How long the trajectory animation should be (speed) incease to move slower, decrease to speed up, by default 200\n",
      "vis_distances : int/bool/list(int)/str/None,\n",
      "    Add visualization of distances? Calculate from given indices or from metal.\n",
      "    e.g. vis_distances=True will add arrows and labels from the metal centers to nearby atoms.\n",
      "    vis_distances='metals' will do the same\n",
      "    vis_distances=0 will add arrows and distance labels from the atom 0 to nearby atoms.\n",
      "    vis_distances=[0,1] will add arrows and distances labesl from both atoms 0 and 1 to nearby atoms.\n",
      "distvisradius : float,\n",
      "    radius of drawn distance vectors, by default 0.3\n",
      "distcolor : str,\n",
      "    color of drawn distance vectors, by default 'black'\n",
      "distopacity: float,\n",
      "    opacity (from 0(transparent) to 1(no transparent) for drawn distance vectors, by default 0.85\n",
      "distskin : float,\n",
      "    \"Skin\" on top of sum of cov radii around given atom to flag \"nearby\" neighbors, by default 0.3\n",
      "distradius : float,\n",
      "    Radius around a given atom to flag \"nearby\" neighbors, by default None.\n",
      "distlabelposit : float,\n",
      "    Fraction of the distance (towards the ending atom) that the distance label should be placed, by default 1.0 \n",
      "distatompairs : list, \n",
      "    Atom pairs to view distances. \n",
      "    e.g. [[0,1],[1,2]] will show only distances between a0 and a1, and a1 and a2, by default None\n",
      "distatomtype_pairs : list, \n",
      "    Atom type pairs to view distances. \n",
      "    e.g. [['Fe','O'],['Fe','N']] will give distances between all Fe-O and all Fe-N distances, by default None\n",
      "stack : bool,\n",
      "    Stack all the images in a single viewer, default False.\n",
      "stack_align : bool,\n",
      "    Align all the molecules by rmsd for stacking, default True.\n",
      "hydrogens : bool,\n",
      "    Keep the hydrogens?, default True.\n",
      "\u001b[0;31mFile:\u001b[0m      ~/software/Architector/architector/visualization.py\n",
      "\u001b[0;31mType:\u001b[0m      function"
     ]
    }
   ],
   "source": [
    "view_structures?"
   ]
  },
  {
   "cell_type": "code",
   "execution_count": null,
   "metadata": {},
   "outputs": [],
   "source": []
  }
 ],
 "metadata": {
  "kernelspec": {
   "display_name": "base",
   "language": "python",
   "name": "python3"
  },
  "language_info": {
   "codemirror_mode": {
    "name": "ipython",
    "version": 3
   },
   "file_extension": ".py",
   "mimetype": "text/x-python",
   "name": "python",
   "nbconvert_exporter": "python",
   "pygments_lexer": "ipython3",
   "version": "3.10.12"
  }
 },
 "nbformat": 4,
 "nbformat_minor": 2
}
