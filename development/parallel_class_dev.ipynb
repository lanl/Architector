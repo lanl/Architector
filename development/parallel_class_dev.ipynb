{
 "cells": [
  {
   "cell_type": "code",
   "execution_count": 3,
   "metadata": {},
   "outputs": [],
   "source": [
    "from concurrent.futures import ProcessPoolExecutor\n",
    "import concurrent.futures\n",
    "import itertools\n",
    "import multiprocessing"
   ]
  },
  {
   "cell_type": "code",
   "execution_count": 26,
   "metadata": {},
   "outputs": [],
   "source": [
    "class TestClass:\n",
    "\n",
    "    def __init__(self, thing1, thing2, nproc=1):\n",
    "        self.thing1 = thing1\n",
    "        self.thing2 = thing2\n",
    "        self.nproc = nproc\n",
    "\n",
    "    def combine(self):\n",
    "        self.combined = self.thing1 + self.thing2\n",
    "        if self.nproc > 1:\n",
    "            return self"
   ]
  },
  {
   "cell_type": "code",
   "execution_count": 27,
   "metadata": {},
   "outputs": [],
   "source": [
    "things = 'a,b,c,d,e,f,g'.split(',')\n",
    "combos = [x for x  in itertools.combinations(things,2)]"
   ]
  },
  {
   "cell_type": "code",
   "execution_count": 28,
   "metadata": {},
   "outputs": [],
   "source": [
    "class_lst = []\n",
    "for th in combos:\n",
    "    tc = TestClass(thing1=th[0],thing2=th[1])\n",
    "    class_lst.append(tc)"
   ]
  },
  {
   "cell_type": "code",
   "execution_count": 29,
   "metadata": {},
   "outputs": [
    {
     "data": {
      "text/plain": [
       "{'thing1': 'a', 'thing2': 'b', 'nproc': 1}"
      ]
     },
     "execution_count": 29,
     "metadata": {},
     "output_type": "execute_result"
    }
   ],
   "source": [
    "class_lst[0].__dict__"
   ]
  },
  {
   "cell_type": "code",
   "execution_count": 30,
   "metadata": {},
   "outputs": [],
   "source": [
    "for tc in class_lst:\n",
    "    tc.combine()"
   ]
  },
  {
   "cell_type": "code",
   "execution_count": 31,
   "metadata": {},
   "outputs": [
    {
     "data": {
      "text/plain": [
       "{'thing1': 'a', 'thing2': 'b', 'nproc': 1, 'combined': 'ab'}"
      ]
     },
     "execution_count": 31,
     "metadata": {},
     "output_type": "execute_result"
    }
   ],
   "source": [
    "class_lst[0].__dict__"
   ]
  },
  {
   "cell_type": "code",
   "execution_count": 32,
   "metadata": {},
   "outputs": [],
   "source": [
    "class_lst = []\n",
    "for th in combos:\n",
    "    tc = TestClass(thing1=th[0],thing2=th[1],nproc=12)\n",
    "    class_lst.append(tc)"
   ]
  },
  {
   "cell_type": "code",
   "execution_count": 33,
   "metadata": {},
   "outputs": [],
   "source": [
    "with ProcessPoolExecutor(max_workers=12,\n",
    "                         mp_context=multiprocessing.get_context('fork')) as exe:\n",
    "    out = []\n",
    "    for i,tc in enumerate(class_lst):\n",
    "        fs = exe.submit(tc.combine)\n",
    "        fs.ind = i\n",
    "        out.append(fs)\n",
    "    outs = [None] * len(out)\n",
    "    for f in concurrent.futures.as_completed(out):\n",
    "        outs[f.ind] = f.result()"
   ]
  },
  {
   "cell_type": "code",
   "execution_count": 35,
   "metadata": {},
   "outputs": [
    {
     "data": {
      "text/plain": [
       "{'thing1': 'a', 'thing2': 'b', 'nproc': 12, 'combined': 'ab'}"
      ]
     },
     "execution_count": 35,
     "metadata": {},
     "output_type": "execute_result"
    }
   ],
   "source": [
    "outs[0].__dict__"
   ]
  },
  {
   "cell_type": "code",
   "execution_count": 36,
   "metadata": {},
   "outputs": [
    {
     "data": {
      "text/plain": [
       "{'thing1': 'a', 'thing2': 'b', 'nproc': 12}"
      ]
     },
     "execution_count": 36,
     "metadata": {},
     "output_type": "execute_result"
    }
   ],
   "source": [
    "class_lst[0].__dict__"
   ]
  },
  {
   "cell_type": "code",
   "execution_count": 4,
   "metadata": {},
   "outputs": [],
   "source": [
    "from architector import convert_io_molecule\n",
    "from architector.io_calc import CalcExecutor"
   ]
  },
  {
   "cell_type": "code",
   "execution_count": 5,
   "metadata": {},
   "outputs": [],
   "source": [
    "mols = ['C','N','O','CN','COP']"
   ]
  },
  {
   "cell_type": "code",
   "execution_count": 18,
   "metadata": {},
   "outputs": [],
   "source": [
    "def pprocess(inmol):\n",
    "    mol = convert_io_molecule(inmol)\n",
    "    thing = CalcExecutor(mol, relax=True)\n",
    "    thing.mol.ase_atoms.calc = None\n",
    "    return thing"
   ]
  },
  {
   "cell_type": "code",
   "execution_count": 14,
   "metadata": {},
   "outputs": [],
   "source": [
    "thing = pprocess('CC')"
   ]
  },
  {
   "cell_type": "code",
   "execution_count": 19,
   "metadata": {},
   "outputs": [],
   "source": [
    "with ProcessPoolExecutor(max_workers=12,\n",
    "                         mp_context=multiprocessing.get_context('fork')) as exe:\n",
    "    out = []\n",
    "    for i,mol in enumerate(mols):\n",
    "        fs = exe.submit(pprocess,mol)\n",
    "        fs.ind = i\n",
    "        out.append(fs)\n",
    "    outs = [None] * len(out)\n",
    "    for f in concurrent.futures.as_completed(out):\n",
    "        outs[f.ind] = f.result()"
   ]
  },
  {
   "cell_type": "code",
   "execution_count": null,
   "metadata": {},
   "outputs": [],
   "source": []
  }
 ],
 "metadata": {
  "kernelspec": {
   "display_name": "base",
   "language": "python",
   "name": "python3"
  },
  "language_info": {
   "codemirror_mode": {
    "name": "ipython",
    "version": 3
   },
   "file_extension": ".py",
   "mimetype": "text/x-python",
   "name": "python",
   "nbconvert_exporter": "python",
   "pygments_lexer": "ipython3",
   "version": "3.10.14"
  }
 },
 "nbformat": 4,
 "nbformat_minor": 2
}
