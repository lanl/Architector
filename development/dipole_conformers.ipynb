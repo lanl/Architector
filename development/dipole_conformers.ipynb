{
 "cells": [
  {
   "cell_type": "code",
   "execution_count": 7,
   "metadata": {},
   "outputs": [],
   "source": [
    "from architector.io_obabel import generate_obmol_conformers\n",
    "from architector.io_calc import CalcExecutor\n",
    "from architector import view_structures, convert_io_molecule\n",
    "import numpy as np"
   ]
  },
  {
   "cell_type": "code",
   "execution_count": 16,
   "metadata": {},
   "outputs": [],
   "source": [
    "example_smi = '[O-]CCCCCCCC'"
   ]
  },
  {
   "cell_type": "code",
   "execution_count": 17,
   "metadata": {},
   "outputs": [
    {
     "data": {
      "application/3dmoljs_load.v0": "<div id=\"3dmolviewer_17285867614852989\"  style=\"position: relative; width: 200px; height: 200px;\">\n        <p id=\"3dmolwarning_17285867614852989\" style=\"background-color:#ffcccc;color:black\">3Dmol.js failed to load for some reason.  Please check your browser console for error messages.<br></p>\n        </div>\n<script>\n\nvar loadScriptAsync = function(uri){\n  return new Promise((resolve, reject) => {\n    //this is to ignore the existence of requirejs amd\n    var savedexports, savedmodule;\n    if (typeof exports !== 'undefined') savedexports = exports;\n    else exports = {}\n    if (typeof module !== 'undefined') savedmodule = module;\n    else module = {}\n\n    var tag = document.createElement('script');\n    tag.src = uri;\n    tag.async = true;\n    tag.onload = () => {\n        exports = savedexports;\n        module = savedmodule;\n        resolve();\n    };\n  var firstScriptTag = document.getElementsByTagName('script')[0];\n  firstScriptTag.parentNode.insertBefore(tag, firstScriptTag);\n});\n};\n\nif(typeof $3Dmolpromise === 'undefined') {\n$3Dmolpromise = null;\n  $3Dmolpromise = loadScriptAsync('https://cdnjs.cloudflare.com/ajax/libs/3Dmol/2.4.0/3Dmol-min.js');\n}\n\nvar viewer_17285867614852989 = null;\nvar warn = document.getElementById(\"3dmolwarning_17285867614852989\");\nif(warn) {\n    warn.parentNode.removeChild(warn);\n}\n$3Dmolpromise.then(function() {\nviewer_17285867614852989 = $3Dmol.createViewer(document.getElementById(\"3dmolviewer_17285867614852989\"),{backgroundColor:\"white\"});\nviewer_17285867614852989.zoomTo();\n\tviewer_17285867614852989.addModel(\"@<TRIPOS>MOLECULE\\ntmp.mol2\\n    26    25     1     0     0\\nSMALL\\nNoCharges\\n****\\nGenerated from Architector\\n\\n@<TRIPOS>ATOM\\n     1 O1        0.9540   -0.1379    0.2314   O.co2     1 RES1   0.0000\\n     2 C1        2.2749   -0.1228    0.1343   C.3       1 RES1   0.0000\\n     3 C2        2.6548   -0.4454   -1.3379   C.3       1 RES1   0.0000\\n     4 C3        2.2735    0.6244   -2.3778   C.3       1 RES1   0.0000\\n     5 C4        2.8807    2.0087   -2.1284   C.3       1 RES1   0.0000\\n     6 C5        4.4134    2.0524   -2.1798   C.3       1 RES1   0.0000\\n     7 C6        5.0138    1.7178   -3.5511   C.3       1 RES1   0.0000\\n     8 C7        4.5704    2.6405   -4.6902   C.3       1 RES1   0.0000\\n     9 C8        4.9560    4.0945   -4.4629   C.3       1 RES1   0.0000\\n    10 H1        2.8142    0.7994    0.3985   H         1 RES1   0.0000\\n    11 H2        2.8349   -0.8610    0.7301   H         1 RES1   0.0000\\n    12 H3        3.7390   -0.6051   -1.3818   H         1 RES1   0.0000\\n    13 H4        2.2098   -1.4035   -1.6435   H         1 RES1   0.0000\\n    14 H5        2.5689    0.2655   -3.3707   H         1 RES1   0.0000\\n    15 H6        1.1826    0.7251   -2.4159   H         1 RES1   0.0000\\n    16 H7        2.4652    2.7099   -2.8588   H         1 RES1   0.0000\\n    17 H8        2.5537    2.3845   -1.1541   H         1 RES1   0.0000\\n    18 H9        4.7430    3.0493   -1.8705   H         1 RES1   0.0000\\n    19 H10       4.8309    1.3656   -1.4362   H         1 RES1   0.0000\\n    20 H11       6.1071    1.7607   -3.4669   H         1 RES1   0.0000\\n    21 H12       4.7734    0.6833   -3.8188   H         1 RES1   0.0000\\n    22 H13       5.0383    2.2955   -5.6202   H         1 RES1   0.0000\\n    23 H14       3.4890    2.5666   -4.8472   H         1 RES1   0.0000\\n    24 H15       6.0383    4.1943   -4.3353   H         1 RES1   0.0000\\n    25 H16       4.6588    4.7017   -5.3234   H         1 RES1   0.0000\\n    26 H17       4.4636    4.5115   -3.5809   H         1 RES1   0.0000\\n@<TRIPOS>BOND\\n     1     1     2    1\\n     2     2     3    1\\n     3     2    10    1\\n     4     2    11    1\\n     5     3     4    1\\n     6     3    12    1\\n     7     3    13    1\\n     8     4     5    1\\n     9     4    14    1\\n    10     4    15    1\\n    11     5     6    1\\n    12     5    16    1\\n    13     5    17    1\\n    14     6     7    1\\n    15     6    18    1\\n    16     6    19    1\\n    17     7     8    1\\n    18     7    20    1\\n    19     7    21    1\\n    20     8     9    1\\n    21     8    22    1\\n    22     8    23    1\\n    23     9    24    1\\n    24     9    25    1\\n    25     9    26    1\\n@<TRIPOS>SUBSTRUCTURE\\n     1 RES1       26 GROUP             0 ****  ****    0  \\n\",\"mol2\",{\"keepH\": true});\n\tviewer_17285867614852989.addStyle({\"sphere\": {\"colorscheme\": \"Jmol\", \"scale\": 0.3}});\n\tviewer_17285867614852989.addStyle({\"stick\": {\"colorscheme\": \"Jmol\", \"radius\": 0.25}});\n\tviewer_17285867614852989.zoomTo();\nviewer_17285867614852989.render();\n});\n</script>",
      "text/html": [
       "<div id=\"3dmolviewer_17285867614852989\"  style=\"position: relative; width: 200px; height: 200px;\">\n",
       "        <p id=\"3dmolwarning_17285867614852989\" style=\"background-color:#ffcccc;color:black\">3Dmol.js failed to load for some reason.  Please check your browser console for error messages.<br></p>\n",
       "        </div>\n",
       "<script>\n",
       "\n",
       "var loadScriptAsync = function(uri){\n",
       "  return new Promise((resolve, reject) => {\n",
       "    //this is to ignore the existence of requirejs amd\n",
       "    var savedexports, savedmodule;\n",
       "    if (typeof exports !== 'undefined') savedexports = exports;\n",
       "    else exports = {}\n",
       "    if (typeof module !== 'undefined') savedmodule = module;\n",
       "    else module = {}\n",
       "\n",
       "    var tag = document.createElement('script');\n",
       "    tag.src = uri;\n",
       "    tag.async = true;\n",
       "    tag.onload = () => {\n",
       "        exports = savedexports;\n",
       "        module = savedmodule;\n",
       "        resolve();\n",
       "    };\n",
       "  var firstScriptTag = document.getElementsByTagName('script')[0];\n",
       "  firstScriptTag.parentNode.insertBefore(tag, firstScriptTag);\n",
       "});\n",
       "};\n",
       "\n",
       "if(typeof $3Dmolpromise === 'undefined') {\n",
       "$3Dmolpromise = null;\n",
       "  $3Dmolpromise = loadScriptAsync('https://cdnjs.cloudflare.com/ajax/libs/3Dmol/2.4.0/3Dmol-min.js');\n",
       "}\n",
       "\n",
       "var viewer_17285867614852989 = null;\n",
       "var warn = document.getElementById(\"3dmolwarning_17285867614852989\");\n",
       "if(warn) {\n",
       "    warn.parentNode.removeChild(warn);\n",
       "}\n",
       "$3Dmolpromise.then(function() {\n",
       "viewer_17285867614852989 = $3Dmol.createViewer(document.getElementById(\"3dmolviewer_17285867614852989\"),{backgroundColor:\"white\"});\n",
       "viewer_17285867614852989.zoomTo();\n",
       "\tviewer_17285867614852989.addModel(\"@<TRIPOS>MOLECULE\\ntmp.mol2\\n    26    25     1     0     0\\nSMALL\\nNoCharges\\n****\\nGenerated from Architector\\n\\n@<TRIPOS>ATOM\\n     1 O1        0.9540   -0.1379    0.2314   O.co2     1 RES1   0.0000\\n     2 C1        2.2749   -0.1228    0.1343   C.3       1 RES1   0.0000\\n     3 C2        2.6548   -0.4454   -1.3379   C.3       1 RES1   0.0000\\n     4 C3        2.2735    0.6244   -2.3778   C.3       1 RES1   0.0000\\n     5 C4        2.8807    2.0087   -2.1284   C.3       1 RES1   0.0000\\n     6 C5        4.4134    2.0524   -2.1798   C.3       1 RES1   0.0000\\n     7 C6        5.0138    1.7178   -3.5511   C.3       1 RES1   0.0000\\n     8 C7        4.5704    2.6405   -4.6902   C.3       1 RES1   0.0000\\n     9 C8        4.9560    4.0945   -4.4629   C.3       1 RES1   0.0000\\n    10 H1        2.8142    0.7994    0.3985   H         1 RES1   0.0000\\n    11 H2        2.8349   -0.8610    0.7301   H         1 RES1   0.0000\\n    12 H3        3.7390   -0.6051   -1.3818   H         1 RES1   0.0000\\n    13 H4        2.2098   -1.4035   -1.6435   H         1 RES1   0.0000\\n    14 H5        2.5689    0.2655   -3.3707   H         1 RES1   0.0000\\n    15 H6        1.1826    0.7251   -2.4159   H         1 RES1   0.0000\\n    16 H7        2.4652    2.7099   -2.8588   H         1 RES1   0.0000\\n    17 H8        2.5537    2.3845   -1.1541   H         1 RES1   0.0000\\n    18 H9        4.7430    3.0493   -1.8705   H         1 RES1   0.0000\\n    19 H10       4.8309    1.3656   -1.4362   H         1 RES1   0.0000\\n    20 H11       6.1071    1.7607   -3.4669   H         1 RES1   0.0000\\n    21 H12       4.7734    0.6833   -3.8188   H         1 RES1   0.0000\\n    22 H13       5.0383    2.2955   -5.6202   H         1 RES1   0.0000\\n    23 H14       3.4890    2.5666   -4.8472   H         1 RES1   0.0000\\n    24 H15       6.0383    4.1943   -4.3353   H         1 RES1   0.0000\\n    25 H16       4.6588    4.7017   -5.3234   H         1 RES1   0.0000\\n    26 H17       4.4636    4.5115   -3.5809   H         1 RES1   0.0000\\n@<TRIPOS>BOND\\n     1     1     2    1\\n     2     2     3    1\\n     3     2    10    1\\n     4     2    11    1\\n     5     3     4    1\\n     6     3    12    1\\n     7     3    13    1\\n     8     4     5    1\\n     9     4    14    1\\n    10     4    15    1\\n    11     5     6    1\\n    12     5    16    1\\n    13     5    17    1\\n    14     6     7    1\\n    15     6    18    1\\n    16     6    19    1\\n    17     7     8    1\\n    18     7    20    1\\n    19     7    21    1\\n    20     8     9    1\\n    21     8    22    1\\n    22     8    23    1\\n    23     9    24    1\\n    24     9    25    1\\n    25     9    26    1\\n@<TRIPOS>SUBSTRUCTURE\\n     1 RES1       26 GROUP             0 ****  ****    0  \\n\",\"mol2\",{\"keepH\": true});\n",
       "\tviewer_17285867614852989.addStyle({\"sphere\": {\"colorscheme\": \"Jmol\", \"scale\": 0.3}});\n",
       "\tviewer_17285867614852989.addStyle({\"stick\": {\"colorscheme\": \"Jmol\", \"radius\": 0.25}});\n",
       "\tviewer_17285867614852989.zoomTo();\n",
       "viewer_17285867614852989.render();\n",
       "});\n",
       "</script>"
      ]
     },
     "metadata": {},
     "output_type": "display_data"
    }
   ],
   "source": [
    "view_structures(example_smi)"
   ]
  },
  {
   "cell_type": "code",
   "execution_count": 18,
   "metadata": {},
   "outputs": [
    {
     "name": "stdout",
     "output_type": "stream",
     "text": [
      "\u001b[0;31mSignature:\u001b[0m\n",
      "\u001b[0mgenerate_obmol_conformers\u001b[0m\u001b[0;34m(\u001b[0m\u001b[0;34m\u001b[0m\n",
      "\u001b[0;34m\u001b[0m    \u001b[0mstructure\u001b[0m\u001b[0;34m,\u001b[0m\u001b[0;34m\u001b[0m\n",
      "\u001b[0;34m\u001b[0m    \u001b[0mrmsd_cutoff\u001b[0m\u001b[0;34m=\u001b[0m\u001b[0;36m0.4\u001b[0m\u001b[0;34m,\u001b[0m\u001b[0;34m\u001b[0m\n",
      "\u001b[0;34m\u001b[0m    \u001b[0mconf_cutoff\u001b[0m\u001b[0;34m=\u001b[0m\u001b[0;36m3000\u001b[0m\u001b[0;34m,\u001b[0m\u001b[0;34m\u001b[0m\n",
      "\u001b[0;34m\u001b[0m    \u001b[0menergy_cutoff\u001b[0m\u001b[0;34m=\u001b[0m\u001b[0;36m50.0\u001b[0m\u001b[0;34m,\u001b[0m\u001b[0;34m\u001b[0m\n",
      "\u001b[0;34m\u001b[0m    \u001b[0mconfab_verbose\u001b[0m\u001b[0;34m=\u001b[0m\u001b[0;32mFalse\u001b[0m\u001b[0;34m,\u001b[0m\u001b[0;34m\u001b[0m\n",
      "\u001b[0;34m\u001b[0m    \u001b[0moutput_format\u001b[0m\u001b[0;34m=\u001b[0m\u001b[0;34m'mol2'\u001b[0m\u001b[0;34m,\u001b[0m\u001b[0;34m\u001b[0m\n",
      "\u001b[0;34m\u001b[0m    \u001b[0mneutralize\u001b[0m\u001b[0;34m=\u001b[0m\u001b[0;32mFalse\u001b[0m\u001b[0;34m,\u001b[0m\u001b[0;34m\u001b[0m\n",
      "\u001b[0;34m\u001b[0m    \u001b[0mfunctionalizations\u001b[0m\u001b[0;34m=\u001b[0m\u001b[0;32mNone\u001b[0m\u001b[0;34m,\u001b[0m\u001b[0;34m\u001b[0m\n",
      "\u001b[0;34m\u001b[0m    \u001b[0mfix_m_neighbors\u001b[0m\u001b[0;34m=\u001b[0m\u001b[0;32mTrue\u001b[0m\u001b[0;34m,\u001b[0m\u001b[0;34m\u001b[0m\n",
      "\u001b[0;34m\u001b[0m    \u001b[0mreturn_energies\u001b[0m\u001b[0;34m=\u001b[0m\u001b[0;32mFalse\u001b[0m\u001b[0;34m,\u001b[0m\u001b[0;34m\u001b[0m\n",
      "\u001b[0;34m\u001b[0m\u001b[0;34m)\u001b[0m\u001b[0;34m\u001b[0m\u001b[0;34m\u001b[0m\u001b[0m\n",
      "\u001b[0;31mDocstring:\u001b[0m\n",
      "generate_obmol_conformers \n",
      "generate conformers with openbabel for given smiles\n",
      "using confab conformer generation routine\n",
      "O'Boyle NM, Vandermeersch T, Flynn CJ, Maguire AR, Hutchison GR. Confab\n",
      "- Systematic generation of diverse low-energy conformers.\n",
      "Journal of Cheminformatics.\n",
      "2011;3:8. doi:10.1186/1758-2946-3-8.\n",
      "\n",
      "Parameters\n",
      "----------\n",
      "structure : str/obmol/architector molecule\n",
      "    structure to generate conformers\n",
      "rmsd_cutoff : float, optional\n",
      "    cutoff for how similar conformers, by default 0.4\n",
      "conf_cutoff : int, optional\n",
      "    total number of conformers to generate, by default 3000\n",
      "energy_cutoff : float, optional\n",
      "    how similar in energy, by default 50.0\n",
      "confab_verbose : bool, optional\n",
      "    give more detailed output, by default False\n",
      "output_format : str, optional\n",
      "    which format to output , by default 'mol2'\n",
      "neutralize : bool, optional\n",
      "    neutralize smiles?, by default False\n",
      "functionalizations : dict, optional\n",
      "    add functionalizations?, by default None\n",
      "fix_m_neighbors : bool, optional\n",
      "    Fix the metal and it's neighbors for conformer generation?, by default True\n",
      "return_energies : bool, optional\n",
      "    return the FF energies in addition to the conformers generated\n",
      "\n",
      "Returns\n",
      "-------\n",
      "output_strings : list (str)\n",
      "    list of conformers generated as whatever format desired\n",
      "output_energies : list (float)\n",
      "    forcefield energies\n",
      "\u001b[0;31mFile:\u001b[0m      ~/software/Architector/architector/io_obabel.py\n",
      "\u001b[0;31mType:\u001b[0m      function"
     ]
    }
   ],
   "source": [
    "generate_obmol_conformers?"
   ]
  },
  {
   "cell_type": "code",
   "execution_count": 32,
   "metadata": {},
   "outputs": [
    {
     "name": "stdout",
     "output_type": "stream",
     "text": [
      "..tot conformations = 729\n",
      "..tot confs tested = 729\n",
      "..below energy threshold = 416\n"
     ]
    }
   ],
   "source": [
    "inmol = convert_io_molecule(example_smi)\n",
    "confs, energies = generate_obmol_conformers(inmol, return_energies=True)"
   ]
  },
  {
   "cell_type": "code",
   "execution_count": 33,
   "metadata": {},
   "outputs": [],
   "source": [
    "maxn = 50\n",
    "energies = np.array(energies)\n",
    "confs = np.array(confs)\n",
    "inds = np.argsort(energies)[0:50]\n",
    "energies = energies[inds]\n",
    "confs = confs[inds]"
   ]
  },
  {
   "cell_type": "code",
   "execution_count": 34,
   "metadata": {},
   "outputs": [],
   "source": [
    "for conf in confs:\n",
    "    mol = convert_io_molecule(conf)\n",
    "    mol.charge = inmol.charge\n",
    "    mol.uhf = inmol.uhf\n",
    "    mol = CalcExecutor(mol, store_results=True)"
   ]
  },
  {
   "cell_type": "code",
   "execution_count": 41,
   "metadata": {},
   "outputs": [],
   "source": [
    "mol = convert_io_molecule(confs[0])\n",
    "mol.charge = inmol.charge\n",
    "mol.uhf = inmol.uhf\n",
    "out = CalcExecutor(mol, store_results=True)"
   ]
  },
  {
   "cell_type": "code",
   "execution_count": 46,
   "metadata": {},
   "outputs": [
    {
     "data": {
      "text/plain": [
       "{'energy': np.float64(-816.9000416777939),\n",
       " 'free_energy': np.float64(-816.9000416777939),\n",
       " 'forces': array([[ 0.28378842,  0.33477263, -0.75373227],\n",
       "        [-1.04049172, -0.55685275,  1.27703926],\n",
       "        [ 1.00277457, -0.49240235,  0.99423132],\n",
       "        [ 0.20456854,  0.15037447, -0.24977243],\n",
       "        [-0.23821607, -0.20648925,  0.38906024],\n",
       "        [ 0.34777745,  0.14522854, -0.36219241],\n",
       "        [-0.34144358, -0.00278862,  0.36040958],\n",
       "        [-0.05424816, -0.0015257 , -0.46478714],\n",
       "        [ 0.13792136, -0.0827629 ,  0.20812258],\n",
       "        [ 0.09290374, -0.84759769, -0.98914122],\n",
       "        [ 0.01585683,  1.24588224,  0.14252203],\n",
       "        [-0.01605829,  0.08062343, -0.14438943],\n",
       "        [-0.01462221,  0.15192424, -0.25797314],\n",
       "        [-0.00521853, -0.12286551,  0.04843276],\n",
       "        [-0.1023895 ,  0.00972636,  0.06939511],\n",
       "        [ 0.10096792,  0.11171518, -0.03414113],\n",
       "        [ 0.03253288, -0.01964668, -0.14813087],\n",
       "        [-0.02911639, -0.10555022,  0.05531861],\n",
       "        [-0.11324737,  0.0228215 ,  0.09956204],\n",
       "        [ 0.05171199,  0.02541033, -0.05329201],\n",
       "        [ 0.04721392,  0.05026935, -0.1182356 ],\n",
       "        [-0.03805434,  0.00324511,  0.04355195],\n",
       "        [-0.13303325, -0.00172634,  0.08583243],\n",
       "        [ 0.01991344,  0.20775976, -0.01064227],\n",
       "        [-0.16217188, -0.02017217, -0.00191085],\n",
       "        [-0.04961978, -0.07937296, -0.18513718]]),\n",
       " 'charges': array([-0.78905706,  0.18155775, -0.05978337, -0.05090621, -0.05102407,\n",
       "        -0.05303006, -0.05555973, -0.04932335, -0.09548127, -0.11107204,\n",
       "        -0.11205044, -0.00201463, -0.00399092,  0.00368538,  0.00316856,\n",
       "         0.0165721 ,  0.01619308,  0.01894226,  0.01878787,  0.02355866,\n",
       "         0.02375079,  0.0234871 ,  0.02383364,  0.02903448,  0.02282579,\n",
       "         0.0278957 ]),\n",
       " 'dipole': array([ 0.6491453 , -2.51155028, -0.12032556])}"
      ]
     },
     "execution_count": 46,
     "metadata": {},
     "output_type": "execute_result"
    }
   ],
   "source": [
    "out.results"
   ]
  },
  {
   "cell_type": "code",
   "execution_count": null,
   "metadata": {},
   "outputs": [],
   "source": []
  }
 ],
 "metadata": {
  "kernelspec": {
   "display_name": "base",
   "language": "python",
   "name": "python3"
  },
  "language_info": {
   "codemirror_mode": {
    "name": "ipython",
    "version": 3
   },
   "file_extension": ".py",
   "mimetype": "text/x-python",
   "name": "python",
   "nbconvert_exporter": "python",
   "pygments_lexer": "ipython3",
   "version": "3.10.14"
  }
 },
 "nbformat": 4,
 "nbformat_minor": 2
}
