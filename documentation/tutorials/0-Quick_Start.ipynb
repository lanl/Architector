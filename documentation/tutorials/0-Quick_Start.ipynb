{
 "cells": [
  {
   "cell_type": "markdown",
   "id": "aaa803f2",
   "metadata": {},
   "source": [
    "# 0 - Quick Start:\n",
    "\n",
    "### In this tutorial we will demonstrate a quick start to using Architector with 3 examples building:\n",
    "\n",
    "NOTE: This particular tutorial assumes some python knowledge and a user interested in getting going quickly and does not explain every detail. For more detailed introductions check out the other tutorials!!!\n",
    "\n",
    "**(A)** Fe-Hexaqua complexes.\n",
    "\n",
    "**(B)** Sn-acac complexes.\n",
    "\n",
    "**(C)** La-terpyridine complexes."
   ]
  },
  {
   "cell_type": "code",
   "execution_count": null,
   "id": "d347daa8",
   "metadata": {
    "scrolled": true
   },
   "outputs": [],
   "source": [
    "from architector import (build_complex,\n",
    "                         view_structures) \n",
    "# The major routines used in architector"
   ]
  },
  {
   "cell_type": "markdown",
   "id": "ca397ed6",
   "metadata": {},
   "source": [
    "### (A) [Fe(H<sub>2</sub>O)<sub>6</sub>]<sup>2+</sup> Complexes"
   ]
  },
  {
   "cell_type": "code",
   "execution_count": null,
   "id": "e69800a9",
   "metadata": {
    "scrolled": true
   },
   "outputs": [],
   "source": [
    "inputDict = {'core':{'metal':'Fe','coreCN':6}, #Specify metal coordination number (CN)\n",
    "            'ligands':['water']*6, # Specify what is filling the coordination environment\n",
    "            'parameters':{}} # No additional parameters needed for default\n",
    "fe_h2o_6_out = build_complex(inputDict) # Now just build using the dictionary!"
   ]
  },
  {
   "cell_type": "code",
   "execution_count": null,
   "id": "17d9c288",
   "metadata": {},
   "outputs": [],
   "source": [
    "view_structures(fe_h2o_6_out) # These can be visualzed and exported easily to other electronic structure codes!"
   ]
  },
  {
   "cell_type": "markdown",
   "id": "0098260b",
   "metadata": {},
   "source": [
    "### (B) Sn(ACAC)<sub>2</sub> Complexes"
   ]
  },
  {
   "cell_type": "code",
   "execution_count": null,
   "id": "d3615e93",
   "metadata": {
    "scrolled": true
   },
   "outputs": [],
   "source": [
    "inputDict = {'core':{'metal':'Sn','coreCN':4}, #Specify metal coordination number (CN)\n",
    "            'ligands':['acac']*2, # Specify what is filling the coordination environment\n",
    "            'parameters':{}} # No additional parameters needed for default\n",
    "sn_acac_out = build_complex(inputDict) # Now just build using the dictionary!"
   ]
  },
  {
   "cell_type": "code",
   "execution_count": null,
   "id": "c68246ab",
   "metadata": {},
   "outputs": [],
   "source": [
    "view_structures(sn_acac_out) # These can be visualzed and exported easily!"
   ]
  },
  {
   "cell_type": "code",
   "execution_count": null,
   "id": "61278c27",
   "metadata": {},
   "outputs": [],
   "source": [
    "sn_acac_out"
   ]
  },
  {
   "cell_type": "markdown",
   "id": "b807bc95",
   "metadata": {},
   "source": [
    "### (C) [La(Terpyridine)<sub>3</sub>)]<sup>3+</sup> Complexes\n",
    "\n",
    "Note, this one will take a bit longer."
   ]
  },
  {
   "cell_type": "code",
   "execution_count": null,
   "id": "dbc97f4b",
   "metadata": {
    "scrolled": true
   },
   "outputs": [],
   "source": [
    "inputDict = {'core':{'metal':'La','coreCN':9}, #Specify metal coordination number (CN)\n",
    "            'ligands':['terpyridine']*3, # Specify what is filling the coordination environment\n",
    "            'parameters':{'return_only_1':True}} # Return just one valid conformer.\n",
    "la_terpy_out = build_complex(inputDict) # Now just build using the dictionary!"
   ]
  },
  {
   "cell_type": "code",
   "execution_count": null,
   "id": "907340f3",
   "metadata": {},
   "outputs": [],
   "source": [
    "view_structures(la_terpy_out)"
   ]
  },
  {
   "cell_type": "markdown",
   "id": "633eef28",
   "metadata": {},
   "source": [
    "# Conclusion:\n",
    "\n",
    "### In this tutorial we demonstrated Architector quickly building 3 complexes:\n",
    "\n",
    "**(A)** Fe-Hexaqua complexes.\n",
    "\n",
    "**(B)** Sn-acac complexes.\n",
    "\n",
    "**(C)** La-terpyridine complexes."
   ]
  }
 ],
 "metadata": {
  "kernelspec": {
   "display_name": "Python 3.10.8 ('architector')",
   "language": "python",
   "name": "python3"
  },
  "language_info": {
   "codemirror_mode": {
    "name": "ipython",
    "version": 3
   },
   "file_extension": ".py",
   "mimetype": "text/x-python",
   "name": "python",
   "nbconvert_exporter": "python",
   "pygments_lexer": "ipython3",
   "version": "3.10.12"
  },
  "vscode": {
   "interpreter": {
    "hash": "d9faeb2a2170f4e60184b23dad276426e7089557c3539d9a2d03922f9a550f86"
   }
  }
 },
 "nbformat": 4,
 "nbformat_minor": 5
}
