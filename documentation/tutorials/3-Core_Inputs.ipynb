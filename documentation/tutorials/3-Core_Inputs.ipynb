{
 "cells": [
  {
   "cell_type": "markdown",
   "id": "11b07868",
   "metadata": {},
   "source": [
    "# 3 - Adding and editing core information\n",
    "\n",
    "So far, we have just highlighted functionality for the core of specifying metal and metal coordination number (metalCN).\n",
    "\n",
    "However, if you want to only screen specific cores, or potentially screen multiple different coordination numbers this is also possible.\n",
    "\n",
    "In this tutorial we will learn:\n",
    "\n",
    "**(A)** How to have architector automatically fill the coordination environment with water.\n",
    "\n",
    "**(B)** How to request specific core geometries with multiple conformers each.\n",
    "\n",
    "**(C)** How to input a user-defined core geometry."
   ]
  },
  {
   "cell_type": "markdown",
   "id": "99d27fff",
   "metadata": {},
   "source": [
    "## For this example, we will be looking at Aqueous Nd-Chloride Salts \n",
    "\n",
    "Although NdCl<sub>3</sub> forms a hexahydrate, that is, NdCl<sub>3</sub>(H<sub>2</sub>O)<sub>6</sub>,\n",
    "The experimental [crystal structure](https://materials.springer.com/isp/crystallographic/docs/sd_1102086) reveals a Nd atom directly coordinated by 6 H<sub>2</sub>O molecules and 2 [Cl-] molecules.\n",
    "\n",
    "This gives enough information to come up with a possible input for Architector, starting from basic imports again!"
   ]
  },
  {
   "cell_type": "code",
   "execution_count": null,
   "id": "e14d6911",
   "metadata": {},
   "outputs": [],
   "source": [
    "from architector import build_complex,view_structures"
   ]
  },
  {
   "cell_type": "markdown",
   "id": "1b5c953b",
   "metadata": {},
   "source": [
    "For visual simplicity we will define all the needed parameters in a single line for the input dictionary.\n",
    "\n",
    "## For (A), note that simply specifying non-water ligands less that the coreCN will result in a water-filled coordination environment!"
   ]
  },
  {
   "cell_type": "code",
   "execution_count": null,
   "id": "0c0aaa1f",
   "metadata": {},
   "outputs": [],
   "source": [
    "inputDict = {\n",
    "    'core':{'metal':'Nd','coreCN':8},\n",
    "    'ligands':[\n",
    "        {'smiles':'[Cl-]','coordList':[0]}, # Chloride smiles and coordList can be manually ID'ed\n",
    "        {'smiles':'[Cl-]','coordList':[0]},\n",
    "    ],\n",
    "    'parameters':{} # Note that the default fill_ligand (filling out the coordination sphere) is H2O!\n",
    "}"
   ]
  },
  {
   "cell_type": "markdown",
   "id": "d383ccef",
   "metadata": {},
   "source": [
    "And we are already ready to build Aqueous Nd-Cl salt:\n",
    "\n",
    "Note that you can ignore any numpy warnings that may arise here."
   ]
  },
  {
   "cell_type": "code",
   "execution_count": null,
   "id": "31ccb2a7",
   "metadata": {
    "scrolled": true
   },
   "outputs": [],
   "source": [
    "out = build_complex(inputDict) # Will take a couple minutes"
   ]
  },
  {
   "cell_type": "markdown",
   "id": "70a1eb25",
   "metadata": {},
   "source": [
    "That was potentially a little slow! How do the structures look? "
   ]
  },
  {
   "cell_type": "code",
   "execution_count": null,
   "id": "0b4da414",
   "metadata": {},
   "outputs": [],
   "source": [
    "labels = list(out.keys())\n",
    "view_structures(out,labels=labels)"
   ]
  },
  {
   "cell_type": "markdown",
   "id": "39c7b15d",
   "metadata": {},
   "source": [
    "Here, we see that a lot of these structures are quite close in structure to experiments!\n",
    "\n",
    "So it stands to reason that running only a couple of the CN=8 structures with potentially more saved conformers might sample the configurational space with less time spent. \n",
    "\n",
    "## For (B), Let's pick the first 2 lowest-energy configurations to start with."
   ]
  },
  {
   "cell_type": "code",
   "execution_count": null,
   "id": "f3d5a653",
   "metadata": {},
   "outputs": [],
   "source": [
    "labels[0:2]"
   ]
  },
  {
   "cell_type": "markdown",
   "id": "51d75e49",
   "metadata": {},
   "source": [
    "The first section(s) of these labels indicates core geometries we can sample.\n",
    "\n",
    "Here we use a list comprehension to just pull out the core geometry labels:"
   ]
  },
  {
   "cell_type": "code",
   "execution_count": null,
   "id": "6e1f5948",
   "metadata": {},
   "outputs": [],
   "source": [
    "core_types = [x.split('0')[0].strip('_') for x in labels[0:2]]\n",
    "core_types"
   ]
  },
  {
   "cell_type": "markdown",
   "id": "79229d62",
   "metadata": {},
   "source": [
    "Now we can make a new input dictionary with these coreTypes as input. \n",
    "\n",
    "### Since we aren't sampling the full core geometry space, we can request additional conformers for the given coreTypes as an output!"
   ]
  },
  {
   "cell_type": "code",
   "execution_count": null,
   "id": "84ebeda3",
   "metadata": {},
   "outputs": [],
   "source": [
    "import copy\n",
    "\n",
    "new_inputDict = copy.deepcopy(inputDict)\n",
    "\n",
    "del new_inputDict['core']['coreCN'] # Remove the CN\n",
    "\n",
    "new_inputDict['core']['coreType'] = core_types # Add in the coreTypes\n",
    "\n",
    "new_inputDict['parameters']['n_conformers'] = 3 # Add additional 2 conformers per coreType to output!\n",
    "\n",
    "new_inputDict"
   ]
  },
  {
   "cell_type": "markdown",
   "id": "7b24124f",
   "metadata": {},
   "source": [
    "Looks good! ready for building!"
   ]
  },
  {
   "cell_type": "code",
   "execution_count": null,
   "id": "836e61fe",
   "metadata": {},
   "outputs": [],
   "source": [
    "newout = build_complex(new_inputDict)"
   ]
  },
  {
   "cell_type": "code",
   "execution_count": null,
   "id": "303139a3",
   "metadata": {},
   "outputs": [],
   "source": [
    "labels = list(newout.keys())\n",
    "view_structures(newout,labels=labels)"
   ]
  },
  {
   "cell_type": "markdown",
   "id": "8ff55e4e",
   "metadata": {},
   "source": [
    "Here, we are able to sample a similar amount of the configurational space much quicker with fewer metal core symmetries sampled."
   ]
  },
  {
   "cell_type": "markdown",
   "id": "bde15cc4",
   "metadata": {},
   "source": [
    "## For (C), we highlight that a user-specified core can be added.\n",
    "\n",
    "Here, we take the exact crystal structure reported as a potential new core. (This was taken from the experimental crystal structure:"
   ]
  },
  {
   "cell_type": "code",
   "execution_count": null,
   "id": "04677ba4",
   "metadata": {},
   "outputs": [],
   "source": [
    "from architector import convert_io_molecule,view_structures\n",
    "xyzstr = \"\"\"9\n",
    "\n",
    "O        0.8878190000      1.9658050000      0.5785630000                 \n",
    "O       -0.1674130000      0.3098710000      2.7398960000                 \n",
    "O        3.3940290000      2.7987070000      1.3860190000                 \n",
    "Nd       2.1678770000      1.0006660000      2.4350300000                 \n",
    "Cl       2.3711570000     -1.0723770000      4.2983150000                 \n",
    "O        3.4479350000      1.9658050000      4.2914960000                 \n",
    "O        4.5031670000      0.3098710000      2.1301640000                 \n",
    "O        0.9417250000      2.7987070000      3.4840410000                 \n",
    "Cl       1.9645970000     -1.0723770000      0.5717450000  \n",
    "\"\"\"\n",
    "# mol = convert_io_molecule(xyzstr)\n",
    "view_structures(xyzstr)\n",
    "# Here is what this experimental core looks like! "
   ]
  },
  {
   "cell_type": "markdown",
   "id": "f0042e62",
   "metadata": {},
   "source": [
    "To translate this structure into an Architector-compatable core we will need a couple of utilites!"
   ]
  },
  {
   "cell_type": "code",
   "execution_count": null,
   "id": "87f0c542",
   "metadata": {},
   "outputs": [],
   "source": [
    "from architector.io_molecule import convert_io_molecule # Import molecule utility included with architector\n",
    "import numpy as np # Numpy for analysis"
   ]
  },
  {
   "cell_type": "markdown",
   "id": "12f66ecf",
   "metadata": {},
   "source": [
    "### The convert_io_molecule utility can be used to read in xyz strings, or any number of structure types and convert these into an architector molecule class, which contains ASE atoms as a subclass for utility"
   ]
  },
  {
   "cell_type": "code",
   "execution_count": null,
   "id": "fa0e43db",
   "metadata": {},
   "outputs": [],
   "source": [
    "mol = convert_io_molecule(xyzstr)\n",
    "ase_atoms = mol.ase_atoms.copy()"
   ]
  },
  {
   "cell_type": "markdown",
   "id": "772721ae",
   "metadata": {},
   "source": [
    "Now, we can use the ASE atoms utilites to center the molecule on the Nd atom (Architector cores all have the metal atom at the origin (0,0,0)!):"
   ]
  },
  {
   "cell_type": "code",
   "execution_count": null,
   "id": "a1e5ce4a",
   "metadata": {},
   "outputs": [],
   "source": [
    "positions = ase_atoms.get_positions() # Get the xyz coordinates of the atoms\n",
    "symbols = ase_atoms.get_chemical_symbols() # Get the chemical symbols\n",
    "nd_index = [i for i,x in enumerate(symbols) if x == 'Nd'][0] # Pick out the Nd index\n",
    "nd_posit = positions[nd_index] # Pick out the Nd position\n",
    "new_positions = positions - nd_posit  # Set Nd/metal center position to (0.,0.,0.) This is the only requirement!"
   ]
  },
  {
   "cell_type": "markdown",
   "id": "6baf406b",
   "metadata": {},
   "source": [
    "Now, the core structure for Architector does not include the metal, so we can remove it for the final form:"
   ]
  },
  {
   "cell_type": "code",
   "execution_count": null,
   "id": "4c432b3c",
   "metadata": {},
   "outputs": [],
   "source": [
    "new_core = [x for i,x in enumerate(new_positions) if i!=nd_index]\n",
    "new_core # Now it is a new \"core\" centered at 0"
   ]
  },
  {
   "cell_type": "markdown",
   "id": "06524c53",
   "metadata": {},
   "source": [
    "Now we can copy and edit the inputDict with this new_core as an input:"
   ]
  },
  {
   "cell_type": "code",
   "execution_count": null,
   "id": "3998d4e0",
   "metadata": {},
   "outputs": [],
   "source": [
    "new_inputDict1 = copy.deepcopy(inputDict)\n",
    "\n",
    "del new_inputDict1['core']['coreCN'] # Remove the CN\n",
    "\n",
    "new_inputDict1['core']['coordList'] = new_core # Add in the user defined core!\n",
    "\n",
    "new_inputDict1['parameters']['n_conformers'] = 5 # Add additional 4 conformers to output!\n",
    "\n",
    "new_inputDict1['parameters']['skip_duplicate_tests'] = True # Skip duplicate checks to see all structures.\n",
    "\n",
    "new_inputDict1"
   ]
  },
  {
   "cell_type": "markdown",
   "id": "d91a4b38",
   "metadata": {},
   "source": [
    "Looks good! Ready for building!"
   ]
  },
  {
   "cell_type": "code",
   "execution_count": null,
   "id": "17dfccf8",
   "metadata": {
    "scrolled": true
   },
   "outputs": [],
   "source": [
    "newout1 = build_complex(new_inputDict1)"
   ]
  },
  {
   "cell_type": "code",
   "execution_count": null,
   "id": "8f3309c1",
   "metadata": {},
   "outputs": [],
   "source": [
    "labels = list(newout1.keys())\n",
    "view_structures(newout1,labels=labels)"
   ]
  },
  {
   "cell_type": "markdown",
   "id": "1ed441de",
   "metadata": {},
   "source": [
    "### Looks good! Note that architector handles the ligand assignment and symmetry determination internally as well for user-input cores!"
   ]
  },
  {
   "cell_type": "markdown",
   "id": "07008ba0",
   "metadata": {},
   "source": [
    "# Conclusions\n",
    "\n",
    "In this tutorial we learned:\n",
    "\n",
    "**(A)** How to have architector automatically fill the coordination environment with water.\n",
    "\n",
    "**(B)** How to request specific core geometries with multiple conformers each.\n",
    "\n",
    "**(C)** How to input a user-defined core geometry."
   ]
  }
 ],
 "metadata": {
  "kernelspec": {
   "display_name": "Python 3.10.8 ('architector')",
   "language": "python",
   "name": "python3"
  },
  "language_info": {
   "codemirror_mode": {
    "name": "ipython",
    "version": 3
   },
   "file_extension": ".py",
   "mimetype": "text/x-python",
   "name": "python",
   "nbconvert_exporter": "python",
   "pygments_lexer": "ipython3",
   "version": "3.10.12"
  },
  "vscode": {
   "interpreter": {
    "hash": "d9faeb2a2170f4e60184b23dad276426e7089557c3539d9a2d03922f9a550f86"
   }
  }
 },
 "nbformat": 4,
 "nbformat_minor": 5
}
