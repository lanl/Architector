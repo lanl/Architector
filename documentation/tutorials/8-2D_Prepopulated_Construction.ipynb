{
 "cells": [
  {
   "cell_type": "markdown",
   "id": "c69b4006",
   "metadata": {},
   "source": [
    "# 8 - 2D Prepopulation Construction:\n",
    "\n",
    "### In this tutorial we will learn how to prepopulate constructions in 2D for down-selecting 3D generation.\n",
    "### This will involve 3 key takeaways:\n",
    "\n",
    "**(A)** How to generate in 2D.\n",
    "\n",
    "**(B)** How to translate from 2D to 3D in Architector.\n",
    "\n",
    "**(C)** How to perform 2D to 3D generation in an end-to-end workflow."
   ]
  },
  {
   "cell_type": "code",
   "execution_count": null,
   "id": "31beda67",
   "metadata": {},
   "outputs": [],
   "source": [
    "# First, imports:\n",
    "from architector import (view_structures,\n",
    "                         build_complex,\n",
    "                         build_complex_2D) # 2D construction routine!\n",
    "import pandas as pd # library for handling tables (think Excel charts!)\n",
    "import copy # Use the copy library"
   ]
  },
  {
   "cell_type": "markdown",
   "id": "b3e22915",
   "metadata": {},
   "source": [
    "# Now, let's come up with a toy problem.\n",
    "\n",
    "### (A) Here, let's prepopulate a set of 2D structures for all of the lanthanides with coordination number 5-10 surrounded by waters!\n",
    "\n",
    "It will be much easier to do this in 2D first - than pick ones we want to do in 3D."
   ]
  },
  {
   "cell_type": "code",
   "execution_count": null,
   "id": "c9a2a019",
   "metadata": {},
   "outputs": [],
   "source": [
    "# First we will build a container input dictionary \n",
    "inputDict = {'core':{'metal':'La','coreCN':5}, # Fill the dictionary with 5\n",
    "             'ligands':['water'],\n",
    "             'parameters':{'fill_ligand':0} # Fill out the coordination environment with water!\n",
    "            }"
   ]
  },
  {
   "cell_type": "markdown",
   "id": "8d2a079b",
   "metadata": {},
   "source": [
    "Next, we will use this example simple for loops to generate in 2D."
   ]
  },
  {
   "cell_type": "code",
   "execution_count": null,
   "id": "e5ebe868",
   "metadata": {},
   "outputs": [],
   "source": [
    "# This should take just a fraction of second!\n",
    "out = build_complex_2D(inputDict)"
   ]
  },
  {
   "cell_type": "markdown",
   "id": "2effa2e6",
   "metadata": {},
   "source": [
    "Let's see what's in this 2D output dictionary:"
   ]
  },
  {
   "cell_type": "code",
   "execution_count": null,
   "id": "f32f9acd",
   "metadata": {},
   "outputs": [],
   "source": [
    "out"
   ]
  },
  {
   "cell_type": "markdown",
   "id": "8481424b",
   "metadata": {},
   "source": [
    "Looks like just a mol2string, and an output dictionary giving the same as the input.\n",
    "Let's look at the mol2string:"
   ]
  },
  {
   "cell_type": "code",
   "execution_count": null,
   "id": "b87cdfb1",
   "metadata": {},
   "outputs": [],
   "source": [
    "print(out['mol2string'])"
   ]
  },
  {
   "cell_type": "markdown",
   "id": "822cd16f",
   "metadata": {},
   "source": [
    "Notice the structure contains the correct bonds, along with the Charge, and Unpaired Electrons in the system in the header, but no X-Y-Z coordinates (3D information!)\n",
    "\n",
    "Let's change that."
   ]
  },
  {
   "cell_type": "markdown",
   "id": "453e500c",
   "metadata": {},
   "source": [
    "# (B) Now, let's translate this 2D mol2string into 3D.\n",
    "\n",
    "To do this let's prepopulate a dictionary - note that all you need is the mol2string from 2D.\n",
    "Architector will handle the translation internally!"
   ]
  },
  {
   "cell_type": "code",
   "execution_count": null,
   "id": "4c801c5d",
   "metadata": {},
   "outputs": [],
   "source": [
    "translate_dict = {'mol2string':out['mol2string'], \n",
    "                  'parameters':{}}"
   ]
  },
  {
   "cell_type": "markdown",
   "id": "37bd2656",
   "metadata": {},
   "source": [
    "Onto 3D generation!"
   ]
  },
  {
   "cell_type": "code",
   "execution_count": null,
   "id": "e03464f8",
   "metadata": {
    "scrolled": true
   },
   "outputs": [],
   "source": [
    "out_3D = build_complex(translate_dict)"
   ]
  },
  {
   "cell_type": "markdown",
   "id": "25c5868c",
   "metadata": {},
   "source": [
    "The out_3D dictionary should behave just like other architector output dictionaries, and we now have 3D mol2strings to visualize!"
   ]
  },
  {
   "cell_type": "code",
   "execution_count": null,
   "id": "e1d43ce1",
   "metadata": {},
   "outputs": [],
   "source": [
    "view_structures(out_3D)"
   ]
  },
  {
   "cell_type": "markdown",
   "id": "db7c5dae",
   "metadata": {},
   "source": [
    "Looks great!"
   ]
  },
  {
   "cell_type": "markdown",
   "id": "bf7c2e8b",
   "metadata": {},
   "source": [
    "### (C) Now, we can prepopulate all the structures we want to generate in 2D.\n",
    "\n",
    "Here, we will just use a two nested for loops. This block is a bit larger to account for generating it all in one go! But should just take a couple seconds."
   ]
  },
  {
   "cell_type": "code",
   "execution_count": null,
   "id": "8ab57438",
   "metadata": {},
   "outputs": [],
   "source": [
    "import architector.io_ptable as io_ptable # Import the periodic table from Architector\n",
    "\n",
    "metals = [] # Get empty lists ready for these parameters!\n",
    "coordination_numbers = []\n",
    "mol2strings = []\n",
    "\n",
    "for metal in io_ptable.lanthanides: # Iterate over the lanthanide elements\n",
    "    for cn in range(5,11): # Iterate over all desired coordinations\n",
    "        metals.append(metal) # Save the metal\n",
    "        coordination_numbers.append(cn) # Save the cn\n",
    "        inpDict = copy.deepcopy(inputDict) # Copy from our previous 2D dictionary\n",
    "        inpDict['core']['metal'] = metal # Shift the metal\n",
    "        inpDict['core']['coreCN'] = cn # Shift the CN\n",
    "        out_2D = build_complex_2D(inpDict) # Build in 2D\n",
    "        mol2strings.append(out_2D['mol2string']) # Save the mol2string\n",
    "        \n",
    "df = pd.DataFrame({'metal':metals,'cn':coordination_numbers,'mol2string_2D':mol2strings}) # Create a dataframe"
   ]
  },
  {
   "cell_type": "markdown",
   "id": "15284101",
   "metadata": {},
   "source": [
    "Now we can look at the full dataset we just generated:"
   ]
  },
  {
   "cell_type": "code",
   "execution_count": null,
   "id": "c10aa771",
   "metadata": {},
   "outputs": [],
   "source": [
    "df"
   ]
  },
  {
   "cell_type": "markdown",
   "id": "e3f6dbcc",
   "metadata": {},
   "source": [
    "90 structures is quite a bit for a tutorial - Instead of doing all 90 structural generations Let's just do all the coordination number=5!"
   ]
  },
  {
   "cell_type": "code",
   "execution_count": null,
   "id": "62f7a151",
   "metadata": {},
   "outputs": [],
   "source": [
    "gen_df = df[df.cn == 5].reset_index(drop=True) # Filter to only coordination 5\n",
    "gen_df"
   ]
  },
  {
   "cell_type": "markdown",
   "id": "324167d4",
   "metadata": {},
   "source": [
    "Let's go! This will take a couple minutes"
   ]
  },
  {
   "cell_type": "code",
   "execution_count": null,
   "id": "0f425111",
   "metadata": {
    "scrolled": true
   },
   "outputs": [],
   "source": [
    "lowest_energy_conformers = []\n",
    "for i,row in gen_df.iterrows():\n",
    "    trans_dict = copy.deepcopy(translate_dict)\n",
    "    trans_dict['mol2string'] = row['mol2string_2D']\n",
    "    out_3Ds = build_complex(trans_dict)\n",
    "    key = list(out_3Ds.keys())[0]\n",
    "    lowest_energy_conformers.append(out_3Ds[key]['mol2string'])\n",
    "gen_df['mol2string_3D'] = lowest_energy_conformers # Save the output strings"
   ]
  },
  {
   "cell_type": "markdown",
   "id": "22885b5e",
   "metadata": {},
   "source": [
    "Let's look at our generated dataframe:"
   ]
  },
  {
   "cell_type": "code",
   "execution_count": null,
   "id": "94cdc2f2",
   "metadata": {},
   "outputs": [],
   "source": [
    "gen_df"
   ]
  },
  {
   "cell_type": "markdown",
   "id": "32b741cc",
   "metadata": {},
   "source": [
    "And, we can directly visualize the generated 3D structures:"
   ]
  },
  {
   "cell_type": "code",
   "execution_count": null,
   "id": "3d726db9",
   "metadata": {},
   "outputs": [],
   "source": [
    "view_structures(gen_df.mol2string_3D,labels=gen_df.metal.values)"
   ]
  },
  {
   "cell_type": "markdown",
   "id": "0bfd9e75",
   "metadata": {},
   "source": [
    "### Looks pretty cool - xTB is  picking up some trends across the lanthanides.\n",
    "\n",
    "# Conclusions\n",
    "\n",
    "### In this tutorial we learned how to build in 2D and translate to 3D.  Specifically, we learned how to:\n",
    "\n",
    "**(A)** How to generate in 2D.\n",
    "\n",
    "**(B)** How to translate from 2D to 3D in Architector.\n",
    "\n",
    "**(C)** How to perform 2D to 3D generation in an end-to-end workflow."
   ]
  }
 ],
 "metadata": {
  "kernelspec": {
   "display_name": "Python 3 (ipykernel)",
   "language": "python",
   "name": "python3"
  },
  "language_info": {
   "codemirror_mode": {
    "name": "ipython",
    "version": 3
   },
   "file_extension": ".py",
   "mimetype": "text/x-python",
   "name": "python",
   "nbconvert_exporter": "python",
   "pygments_lexer": "ipython3",
   "version": "3.10.12"
  }
 },
 "nbformat": 4,
 "nbformat_minor": 5
}
