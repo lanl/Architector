{
 "cells": [
  {
   "cell_type": "markdown",
   "metadata": {},
   "source": [
    "# 11 - Distance Manipulation and Analysis:\n",
    "\n",
    "### In this tutorial we will learn about bond distance manipulation, calculation and visualization routines within Architector.\n",
    "\n",
    "**(A)** Generating with fixed metal-ligand bond lengths in an Iron Hexa-aqua complex.\n",
    "\n",
    "**(B)** Visualizing tricks for bond lengths.\n",
    "\n",
    "**(C)** Tabulating and plotting bond lengths."
   ]
  },
  {
   "cell_type": "markdown",
   "metadata": {},
   "source": [
    "## Starting from **(A)**: \n",
    "Importing necessary functions!\n",
    "\n",
    "Let's build a reference set of Fe-Hexa-Aqua Structures"
   ]
  },
  {
   "cell_type": "code",
   "execution_count": null,
   "metadata": {},
   "outputs": [],
   "source": [
    "from architector import (build_complex,\n",
    "                        view_structures,\n",
    "                        convert_io_molecule)\n",
    "import architector.io_ptable as io_ptable # Contains ligand references"
   ]
  },
  {
   "cell_type": "code",
   "execution_count": null,
   "metadata": {},
   "outputs": [],
   "source": [
    "inputDict = {'core':{'metal':'Fe','coreCN':6}, #Specify metal coordination number (CN)\n",
    "            'ligands':['water']*6, # Specify what is filling the coordination environment\n",
    "            'parameters':{}} # No additional parameters needed for default\n",
    "fe_h2o_6_out = build_complex(inputDict) # Now just build using the dictionary!"
   ]
  },
  {
   "cell_type": "code",
   "execution_count": null,
   "metadata": {},
   "outputs": [],
   "source": [
    "# Now, we can visualize interatomic distances\n",
    "view_structures(fe_h2o_6_out,vis_distances=True)"
   ]
  },
  {
   "cell_type": "markdown",
   "metadata": {},
   "source": [
    "Now, we can create elonged metal-ligand distances by specifying our own ligand definition"
   ]
  },
  {
   "cell_type": "code",
   "execution_count": null,
   "metadata": {},
   "outputs": [],
   "source": [
    "stretch_water_lig = io_ptable.ligands_dict['water'].copy()\n",
    "stretch_water_lig"
   ]
  },
  {
   "cell_type": "code",
   "execution_count": null,
   "metadata": {},
   "outputs": [],
   "source": [
    "# Now, we can add metal-distance constraints \n",
    "# These take the form {coordinatng_atom_index:distance}\n",
    "stretch_water_lig['ca_metal_dist_constraints'] = {0:2.6}"
   ]
  },
  {
   "cell_type": "code",
   "execution_count": null,
   "metadata": {},
   "outputs": [],
   "source": [
    "# Now, we can build with 2 ligands stretched!\n",
    "inputDict2 = {'core':{'metal':'Fe','coreCN':6}, #Specify metal coordination number (CN)\n",
    "            'ligands':['water']*4+[stretch_water_lig]*2, # Specify what is filling the coordination environment\n",
    "            'parameters':{'relax':True,'return_full_complex_class':True}} # No additional parameters needed for default\n",
    "fe_h2o_6_out2 = build_complex(inputDict2) # Now just build using the dictionary!"
   ]
  },
  {
   "cell_type": "code",
   "execution_count": null,
   "metadata": {},
   "outputs": [],
   "source": [
    "# Note that 2 waters are now fixed at ~2.58 Angstroms while the rest have different bond lengths from above!\n",
    "view_structures(fe_h2o_6_out2, vis_distances=True)"
   ]
  },
  {
   "cell_type": "markdown",
   "metadata": {},
   "source": [
    "## Beyond bond lengths shown in (A), we can see more diverse visualizations in **(B)**\n",
    "\n",
    "First, we will get the last molecule from (A):"
   ]
  },
  {
   "cell_type": "code",
   "execution_count": null,
   "metadata": {},
   "outputs": [],
   "source": [
    "example_mol = convert_io_molecule(fe_h2o_6_out2[list(fe_h2o_6_out2.keys())[0]]['mol2string'])\n",
    "view_structures(example_mol,labelinds=True) # Start by labeling indices"
   ]
  },
  {
   "cell_type": "code",
   "execution_count": null,
   "metadata": {},
   "outputs": [],
   "source": [
    "view_structures(example_mol,\n",
    "                vis_distances = True, # For vis_distances=True, the metal(s) in a system are selected for calculation.\n",
    "                distradius=4, # By Specifying distradius, it will show all bonds within a cutoff of the requested atom\n",
    "                ) "
   ]
  },
  {
   "cell_type": "markdown",
   "metadata": {},
   "source": [
    "This looks very crowded! How can we see these individual distances better."
   ]
  },
  {
   "cell_type": "code",
   "execution_count": null,
   "metadata": {},
   "outputs": [],
   "source": [
    "view_structures(example_mol,\n",
    "                vis_distances = True, # For vis_distances=True, the metal(s) in a system are selected for calculation.\n",
    "                distradius=4, # By Specifying distradius, it will show all bonds within a cutoff of the requested atom\n",
    "                distvisradius=0.1, # distvisradius makes the bond visualization smaller\n",
    "                distlabelposit=0.9, # distlabelposit shifts the labels a fraction of the bond length (1 closer to end atom, 0 closer to start atom)\n",
    "                distopacity=1, # distopacity shows how transparent/dark the bonds are drawn\n",
    "                labelsize=9, # labelsize changes the text size\n",
    "                representation='sphere', # Will only show spheres instead of bonds.\n",
    "                ) "
   ]
  },
  {
   "cell_type": "markdown",
   "metadata": {},
   "source": [
    "Looks better, but can we only do metal-ligand distances? No!"
   ]
  },
  {
   "cell_type": "code",
   "execution_count": null,
   "metadata": {},
   "outputs": [],
   "source": [
    "view_structures(example_mol,\n",
    "                vis_distances = 1, # For vis_distances=int, the atom with index of int is used as the center for plotting distances.\n",
    "                distradius=4, # By Specifying distradius, it will show all bonds within a cutoff of the requested atom\n",
    "                distvisradius=0.1, # distvisradius makes the bond visualization smaller\n",
    "                distlabelposit=0.9, # distlabelposit shifts the labels a fraction of the bond length (1 closer to end atom, 0 closer to start atom)\n",
    "                distopacity=1, # distopacity shows how transparent/dark the bonds are drawn\n",
    "                labelsize=9, # labelsize changes the text size\n",
    "                representation='sphere', # Will only show spheres instead of bonds.\n",
    "                ) "
   ]
  },
  {
   "cell_type": "code",
   "execution_count": null,
   "metadata": {},
   "outputs": [],
   "source": [
    "view_structures(example_mol,\n",
    "                vis_distances = [1,4], # For vis_distances=list, the atoms with indices of the center(s) are used for plotting distances.\n",
    "                distradius=4, # By Specifying distradius, it will show all bonds within a cutoff of the requested atom\n",
    "                distvisradius=0.1, # distvisradius makes the bond visualization smaller\n",
    "                distlabelposit=0.9, # distlabelposit shifts the labels a fraction of the bond length (1 closer to end atom, 0 closer to start atom)\n",
    "                distopacity=1, # distopacity shows how transparent/dark the bonds are drawn\n",
    "                labelsize=9, # labelsize changes the text size\n",
    "                representation='sphere', # Will only show spheres instead of bonds.\n",
    "                ) "
   ]
  },
  {
   "cell_type": "markdown",
   "metadata": {},
   "source": [
    "This looks better, and interesting, but distinguishing these can be tricky! Let's do just one more tweak."
   ]
  },
  {
   "cell_type": "code",
   "execution_count": null,
   "metadata": {},
   "outputs": [],
   "source": [
    "view_structures(example_mol,\n",
    "                vis_distances = [1,4], # For vis_distances=list, the atoms with indices of the center(s) are used for plotting distances.\n",
    "                distradius=4, # By Specifying distradius, it will show all bonds within a cutoff of the requested atom\n",
    "                distvisradius=0.1, # distvisradius makes the bond visualization smaller\n",
    "                distlabelposit=0.9, # distlabelposit shifts the labels a fraction of the bond length (1 closer to end atom, 0 closer to start atom)\n",
    "                distopacity=1, # distopacity shows how transparent/dark the bonds are drawn\n",
    "                distcolor=['red','blue'], # If a list of color labels is passed, they can be manually changed to represent the indices selected in the vis_distances list!\n",
    "                labelsize=9, # labelsize changes the text size\n",
    "                representation='sphere', # Will only show spheres instead of bonds.\n",
    "                ) "
   ]
  },
  {
   "cell_type": "markdown",
   "metadata": {},
   "source": [
    "Lastly, we may want to add only specific atom-atom distances."
   ]
  },
  {
   "cell_type": "code",
   "execution_count": null,
   "metadata": {},
   "outputs": [],
   "source": [
    "view_structures(example_mol,\n",
    "                vis_distances = True,\n",
    "                distatompairs= [[0,1],[1,2]] # Here, only specific pairs of atoms are visualized for clarity.\n",
    "                ) "
   ]
  },
  {
   "cell_type": "markdown",
   "metadata": {},
   "source": [
    "## Beyond visualizations in (B), we may want to simply plot or tabulate the bond distances.\n",
    "## This leads us to **(C)**:\n",
    "\n",
    "Here, we can immediately obtain the bond distances in a table with one call from Architector!"
   ]
  },
  {
   "cell_type": "code",
   "execution_count": null,
   "metadata": {},
   "outputs": [],
   "source": [
    "df = example_mol.get_dists()\n",
    "df"
   ]
  },
  {
   "cell_type": "markdown",
   "metadata": {},
   "source": [
    "Note that the atom_pair corresponds to the distances, and all ofhter information including the sum of covalent radii in angstroms are included in the table.\n",
    "\n",
    "Further, note that for ligands, both the smiles string AND the index of the atom in the smiles string are computed.\n",
    "\n",
    "We might be more interested in longer distances as before and not use the metal as the index."
   ]
  },
  {
   "cell_type": "code",
   "execution_count": null,
   "metadata": {},
   "outputs": [],
   "source": [
    "df = example_mol.get_dists(radius=4,ref_ind=2)\n",
    "df"
   ]
  },
  {
   "cell_type": "markdown",
   "metadata": {},
   "source": [
    "Note that the bond_type and atom_symbols for the Fe-H bonds have been flagged as \"implicit_bonds\". Because they were not included in the graph.\n",
    "\n",
    "Now, pandas/matplotlib can be used to generate nice plots illustrating the distance distributions!"
   ]
  },
  {
   "cell_type": "code",
   "execution_count": null,
   "metadata": {},
   "outputs": [],
   "source": [
    "import matplotlib.pyplot as plt\n",
    "import numpy as np\n",
    "g = df.groupby('atom_symbols')['distance']\n",
    "axes = g.plot(kind='hist',bins=np.arange(0.5,4.5,0.5),alpha=0.5,align='left')\n",
    "for i, (groupname, group) in enumerate(g):\n",
    "    axes[i].set_label(groupname)\n",
    "plt.legend()\n",
    "plt.xlabel('Interatomic Distance ($\\AA$)')\n",
    "plt.title('Distance Plot')"
   ]
  },
  {
   "cell_type": "markdown",
   "metadata": {},
   "source": [
    "Note, if you want to save/export the data simply execute:\n",
    "\n",
    "`df.to_csv('example.csv',index=False)`"
   ]
  },
  {
   "cell_type": "markdown",
   "metadata": {},
   "source": [
    "## Summary\n",
    "\n",
    "### In this tutorial we learned about bond distance manipulation, calculation and visualization routines within Architector in 3 example sections:\n",
    "\n",
    "**(A)** Generated  Iron Hexa-aqua complexes with fixed metal-ligand bond lengths.\n",
    "\n",
    "**(B)** Visualized bond distances with in-build routine.\n",
    "\n",
    "**(C)** Tabulated and plotted bond lengths."
   ]
  }
 ],
 "metadata": {
  "kernelspec": {
   "display_name": "base",
   "language": "python",
   "name": "python3"
  },
  "language_info": {
   "codemirror_mode": {
    "name": "ipython",
    "version": 3
   },
   "file_extension": ".py",
   "mimetype": "text/x-python",
   "name": "python",
   "nbconvert_exporter": "python",
   "pygments_lexer": "ipython3",
   "version": "3.10.12"
  }
 },
 "nbformat": 4,
 "nbformat_minor": 2
}
