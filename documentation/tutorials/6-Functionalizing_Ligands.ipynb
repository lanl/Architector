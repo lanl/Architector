{
 "cells": [
  {
   "cell_type": "markdown",
   "id": "32777a20",
   "metadata": {},
   "source": [
    "# 6 - Functionalizing Ligands \n",
    "\n",
    "Beyond simple ligands searched from SMILES, we want to dig into functionalizations of ligands!\n",
    "\n",
    "In this tutorial we will look at the ligand functionalization routines in Architector, covering:\n",
    "\n",
    "**(A)** Viewing default functional groups present in architector by name!\n",
    "\n",
    "**(B)** Identifying functionalization sites on ligands.\n",
    "\n",
    "**(C)** Adding both single and multiple functionalizations to a single ligand."
   ]
  },
  {
   "cell_type": "code",
   "execution_count": null,
   "id": "7539b446",
   "metadata": {},
   "outputs": [],
   "source": [
    "# First, import useful packages again\n",
    "from architector import (build_complex, # Build routine\n",
    "                         view_structures, # Visualization\n",
    "                         smiles2Atoms, # Smiles to ASE Atoms\n",
    "                         get_obmol_smiles, # Coversion to OBmol routine for editing ligand smiles\n",
    "                         get_smiles_obmol, # Convert OBmol to SMILES string\n",
    "                         convert_obmol_ase) # Conversion of OBmol molecele to ASE atoms for visualization\n",
    "from architector.io_ptable import functional_groups_dict # Default functional groups dictionary\n",
    "import copy"
   ]
  },
  {
   "cell_type": "markdown",
   "id": "ed12b9b2",
   "metadata": {},
   "source": [
    "# For (A), Some Functional groups are included by default. Otherwise they can be input as SMILES strings!\n",
    "\n",
    "Here, I will visualize all functional groups present by default in Architector. We will write a quick function for placing the functional groups onto a Benzene ring for clarity!"
   ]
  },
  {
   "cell_type": "code",
   "execution_count": null,
   "id": "c286d065",
   "metadata": {},
   "outputs": [],
   "source": [
    "def view_functional_group(name, base_group='c1ccccc1', base_inds=[5]):\n",
    "    \"\"\"\n",
    "    function to visualize functional groups on a base_group. \n",
    "    \n",
    "    Inputs:\n",
    "    name : str\n",
    "        Name of the functional group to put on the base_group.\n",
    "    base_group : str, optional\n",
    "        SMILES string of the organic group to functionalize! by default benzene.\n",
    "    base_inds : list(Int) \n",
    "        list of the indices of the base_smiles to add the functional group to.\n",
    "    \"\"\"\n",
    "    fgs = [{'functional_group':name,'smiles_inds':base_inds}] # Construct functional group dictionary list.\n",
    "    OBmol = get_obmol_smiles(base_group, functionalizations=fgs) # Perform functionalization in Opebabel\n",
    "    new_smiles = get_smiles_obmol(OBmol) # Get the new smiles for this OBmol molecule\n",
    "    ase_atoms = convert_obmol_ase(OBmol) # Convert the molecule to ASE atoms for viewing\n",
    "    # Print out the functional group name and edited SMILES string\n",
    "    print('Name: {}\\t Functionalized_Smiles: {}'.format(name,new_smiles))  \n",
    "    view_structures(ase_atoms) # View the structures."
   ]
  },
  {
   "cell_type": "markdown",
   "id": "5f6e8fce",
   "metadata": {},
   "source": [
    "Now, we iterate through the default functional group dictionary, visualizing what each group looks like on benzene!\n",
    "\n",
    "Note that after a certain number of in-notebook visualizations your computer's RAM may be taken up resulting in some \n",
    "of these structures not being visualized. Here, we cap the visualization at the first 10 functional groups. \n",
    "\n",
    "If you want to view another subset of the dictionary simply change the range (e.g. [0:10] -> [10:20])"
   ]
  },
  {
   "cell_type": "code",
   "execution_count": null,
   "id": "ec899b53",
   "metadata": {
    "scrolled": true
   },
   "outputs": [],
   "source": [
    "for key in list(functional_groups_dict.keys())[0:10]:\n",
    "    view_functional_group(key)"
   ]
  },
  {
   "cell_type": "markdown",
   "id": "ec7edd3e",
   "metadata": {},
   "source": [
    "# For (B), We can also functionalize ligands during complex construction! But we need to know where to functionalize them.\n",
    "\n",
    "Fort this example we will be functionalizing bipyridine (bipy) when bound to Fe in a couple different ways to highlight this functionality.\n",
    "\n",
    "To start, we need the base bipy SMILES and coordinating atoms:"
   ]
  },
  {
   "cell_type": "code",
   "execution_count": null,
   "id": "497b9a3b",
   "metadata": {},
   "outputs": [],
   "source": [
    "# From online:\n",
    "bipy_smiles = 'n1ccccc1-c2ccccn2'\n",
    "metal = 'Fe' # Initilize metal"
   ]
  },
  {
   "cell_type": "markdown",
   "id": "6c6f83b6",
   "metadata": {},
   "source": [
    "Now, we can view the structures. \n",
    "\n",
    "### Instead of just looking for the coordinating atoms, we can also identify functionalization sites:"
   ]
  },
  {
   "cell_type": "code",
   "execution_count": null,
   "id": "62351881",
   "metadata": {},
   "outputs": [],
   "source": [
    "bipy_atoms = smiles2Atoms(bipy_smiles)\n",
    "view_structures(bipy_atoms,labelinds=True,w=500,h=500) "
   ]
  },
  {
   "cell_type": "markdown",
   "id": "69af35b8",
   "metadata": {},
   "source": [
    "As before, the coordination sites are the Nitrogens (blue) with indices 0 and 11, and that bipy will be a \"bi_cis\" ligand.\n",
    "\n",
    "### However, if we want to put two functional groups at both of the positions \"para\" to the Nitrogens, these sites are the Carbons with indices 3 and 8!"
   ]
  },
  {
   "cell_type": "code",
   "execution_count": null,
   "id": "b82c97c3",
   "metadata": {},
   "outputs": [],
   "source": [
    "bipy_coordList = [0,11]\n",
    "bipy_ligType = 'bi_cis'\n",
    "para_smiles_inds = [3,8]"
   ]
  },
  {
   "cell_type": "markdown",
   "id": "91fd379b",
   "metadata": {},
   "source": [
    "## For (C), Now we can make a functional group list of dictionaries for the bipy during complex construction! \n",
    "\n",
    "Here, let's just use the chloro functionalization from above for simplicity!"
   ]
  },
  {
   "cell_type": "code",
   "execution_count": null,
   "id": "42ccb288",
   "metadata": {},
   "outputs": [],
   "source": [
    "para_functional_groups = [{'functional_group':'chloro','smiles_inds':para_smiles_inds}]"
   ]
  },
  {
   "cell_type": "markdown",
   "id": "d1c562fc",
   "metadata": {},
   "source": [
    "Now we have enough to do a functionalized complex construction with Fe!"
   ]
  },
  {
   "cell_type": "code",
   "execution_count": null,
   "id": "21c46978",
   "metadata": {},
   "outputs": [],
   "source": [
    "# We now have what we need to make an Fe-Bipy complex with functionalizations\n",
    "lig_dict = {'smiles':bipy_smiles,\n",
    "            'coordList':bipy_coordList,\n",
    "            'ligType':bipy_ligType,}\n",
    "            # 'functionalizations':para_functional_groups}\n",
    "\n",
    "inputDict = {'core':{\n",
    "    'metal':'Fe',\n",
    "    'coreType':'octahedral'  # Just making octahedral complexes for simplicity\n",
    "        },\n",
    "    'ligands':[lig_dict], # Add in the ligands dictionary\n",
    "    'parameters':{\n",
    "        'assemble_method':'GFN-FF', # Switch to GFN-FF for faster assembly, \n",
    "        'relax':False, # Turn of relaxation for non-optimized structures\n",
    "        'fill_ligand':0\n",
    "                 }\n",
    "    }"
   ]
  },
  {
   "cell_type": "code",
   "execution_count": null,
   "id": "183d6de3",
   "metadata": {},
   "outputs": [],
   "source": [
    "out = build_complex(inputDict)"
   ]
  },
  {
   "cell_type": "code",
   "execution_count": null,
   "id": "d3a67657",
   "metadata": {},
   "outputs": [],
   "source": [
    "view_structures(out,w=500,h=500)"
   ]
  },
  {
   "cell_type": "markdown",
   "id": "99e333c5",
   "metadata": {},
   "source": [
    "Looks like a chloro-functionalized bipy at the para-positions!"
   ]
  },
  {
   "cell_type": "markdown",
   "id": "0f3927e4",
   "metadata": {},
   "source": [
    "### Beyond this, we can create more than one type of functionalization\n",
    "\n",
    "Here, let's put Chloros at the para-positions and bromos at the ortho-positions to the coordinating atoms.\n",
    "\n",
    "The ortho positions correspond to Carbon indices 2 and 9 above"
   ]
  },
  {
   "cell_type": "code",
   "execution_count": null,
   "id": "6791eccf",
   "metadata": {},
   "outputs": [],
   "source": [
    "multi_fgs = [{'functional_group':'chloro','smiles_inds':[8,3]}, # Chloro at para positions\n",
    "                     {'functional_group':'bromo','smiles_inds':[2,9]}] # Bromo at ortho-positions\n",
    "\n",
    "new_inputDict = copy.deepcopy(inputDict) # Copy inputDict\n",
    "\n",
    "new_inputDict['ligands'][0]['functionalizations'] = multi_fgs # Change bipy functionalization!\n",
    "del new_inputDict['parameters']['fill_ligand'] # Remove fill ligand -> Default to H2O"
   ]
  },
  {
   "cell_type": "code",
   "execution_count": null,
   "id": "0d79aa4d",
   "metadata": {},
   "outputs": [],
   "source": [
    "out1 = build_complex(new_inputDict)"
   ]
  },
  {
   "cell_type": "markdown",
   "id": "76f137c7",
   "metadata": {},
   "source": [
    "Now, we have a water co-coordinated bi-functionalized Fe-Bipy complex!"
   ]
  },
  {
   "cell_type": "code",
   "execution_count": null,
   "id": "78c7300a",
   "metadata": {},
   "outputs": [],
   "source": [
    "view_structures(out1,w=500,h=500)"
   ]
  },
  {
   "cell_type": "markdown",
   "id": "6a6280ac",
   "metadata": {},
   "source": [
    "Finally, we can make structures with both functionalized and un-functionalized ligands simultaneously.\n",
    "\n",
    "Also, functional groups can be defined by SMILES strings. Here we introduce a butane functional group with a tail tricholor carbon end."
   ]
  },
  {
   "cell_type": "code",
   "execution_count": null,
   "id": "2626420f",
   "metadata": {},
   "outputs": [],
   "source": [
    "functional_groups = [{'functional_group':'CCCC(Cl)(Cl)Cl','smiles_inds':[8,3]}]\n",
    "\n",
    "lig_dict = {'smiles':bipy_smiles,'coordList':bipy_coordList,'ligType':bipy_ligType, # Functionalized bipy\n",
    "            'functionalizations':functional_groups}\n",
    "lig_dict2 = {'smiles':bipy_smiles,'coordList':bipy_coordList,'ligType':bipy_ligType} # Unfunctionalized bipy\n",
    "\n",
    "last_inputDict = {\n",
    "    'core':{\n",
    "        'metal':'Fe',\n",
    "        'coreType':'octahedral'\n",
    "    },\n",
    "    'ligands':[lig_dict,lig_dict2,lig_dict2],\n",
    "    'parameters':{\n",
    "        'assemble_method':'GFN-FF',\n",
    "        'relax':False\n",
    "    }\n",
    "}\n",
    "last_inputDict"
   ]
  },
  {
   "cell_type": "code",
   "execution_count": null,
   "id": "6aae1d7c",
   "metadata": {},
   "outputs": [],
   "source": [
    "out = build_complex(last_inputDict)"
   ]
  },
  {
   "cell_type": "code",
   "execution_count": null,
   "id": "a9cbd56b",
   "metadata": {},
   "outputs": [],
   "source": [
    "view_structures(out,w=500,h=500)"
   ]
  },
  {
   "cell_type": "markdown",
   "id": "e186fb90",
   "metadata": {},
   "source": [
    "Looks great! Now we have covered functionalizations as well."
   ]
  },
  {
   "cell_type": "markdown",
   "id": "742e7421",
   "metadata": {},
   "source": [
    "# Conclusions\n",
    "\n",
    "In this tutorial we covered:\n",
    "\n",
    "**(A)** Viewing default functional groups present in architector by name!\n",
    "\n",
    "**(B)** Identifying functionalization sites on ligands.\n",
    "\n",
    "**(C)** Adding both single and multiple functionalizations to a single ligand."
   ]
  }
 ],
 "metadata": {
  "kernelspec": {
   "display_name": "Python 3.10.8 ('architector')",
   "language": "python",
   "name": "python3"
  },
  "language_info": {
   "codemirror_mode": {
    "name": "ipython",
    "version": 3
   },
   "file_extension": ".py",
   "mimetype": "text/x-python",
   "name": "python",
   "nbconvert_exporter": "python",
   "pygments_lexer": "ipython3",
   "version": "3.10.12"
  },
  "vscode": {
   "interpreter": {
    "hash": "d9faeb2a2170f4e60184b23dad276426e7089557c3539d9a2d03922f9a550f86"
   }
  }
 },
 "nbformat": 4,
 "nbformat_minor": 5
}
