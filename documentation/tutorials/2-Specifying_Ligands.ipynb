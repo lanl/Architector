{
 "cells": [
  {
   "cell_type": "markdown",
   "id": "32777a20",
   "metadata": {},
   "source": [
    "# 2 - Specifiying New/More Complex Ligands \n",
    "\n",
    "So far (from 1-Introduction/Overview.ipynb) we know how to specify basic inputs and understand some of the basic outputs from Architector.\n",
    "\n",
    "What about new or unknown systems inlcuding more complex ligands?\n",
    "\n",
    "We have some tools to address some of these challenges manually along with some SMILES tools!\n",
    "\n",
    "In this tutorial we will learn:\n",
    "\n",
    "**(A)** How to manually identify coordination sites of new ligands for generation in Architector.\n",
    "\n",
    "**(B)** How to automatically and manually identify ligand types (geometries!).\n",
    "\n",
    "**(C)** How to use internal commands to simplify inputs for more complex coordination environments!"
   ]
  },
  {
   "cell_type": "markdown",
   "id": "ec7edd3e",
   "metadata": {},
   "source": [
    "## For (A), From here, we need a challenge. Let's try a [La(Terpyiadine)<sub>3</sub>]<sup>3+</sup> complex.}\n",
    "\n",
    "But what is the SMILES for Terpyridine (Terpy, for short), and how is it coordinated to a metal center?\n",
    "\n",
    "Tracking down the SMILES can be done on [Wikipedia: here](https://en.wikipedia.org/wiki/Terpyridine). Giving: \"c1ccnc(c1)c2cccc(n2)c3ccccn3\"\n",
    "\n",
    "However, what are the coordinating atoms?\n",
    "\n",
    "Here, we turn to useful routines included in Architector:"
   ]
  },
  {
   "cell_type": "code",
   "execution_count": null,
   "id": "7539b446",
   "metadata": {},
   "outputs": [],
   "source": [
    "import architector\n",
    "from architector import (build_complex, # Build routine\n",
    "                         view_structures, # Visualization\n",
    "                         smiles2Atoms) # Smiles utility to ASE atoms"
   ]
  },
  {
   "cell_type": "markdown",
   "id": "9e8a496e",
   "metadata": {},
   "source": [
    "We will also initialize the metal and ligand smiles for La/Terpy:"
   ]
  },
  {
   "cell_type": "code",
   "execution_count": null,
   "id": "a129c7cc",
   "metadata": {},
   "outputs": [],
   "source": [
    "terpy_smiles = 'c1ccnc(c1)c2cccc(n2)c3ccccn3'\n",
    "metal = 'La'"
   ]
  },
  {
   "cell_type": "markdown",
   "id": "b256f056",
   "metadata": {},
   "source": [
    "Next, the smiles2Atoms utility converts our terpy smiles to [ASE atoms](https://wiki.fysik.dtu.dk/ase/ase/atoms.html) for visualization purposes."
   ]
  },
  {
   "cell_type": "code",
   "execution_count": null,
   "id": "497b9a3b",
   "metadata": {},
   "outputs": [],
   "source": [
    "terpy_atoms = smiles2Atoms(terpy_smiles)"
   ]
  },
  {
   "cell_type": "markdown",
   "id": "eb894eb7",
   "metadata": {},
   "source": [
    "### Next, we visualize with labelled indices for identification of ligand-metal coordinating atoms (CAs)\n",
    "\n",
    "We already know the view_structures command, but there are a couple additional parameters that can be useful for this:\n",
    "\n",
    "**(i)** The labelinds=True option adds overlays with the exact indices of the atoms as used by Architector\n",
    "\n",
    "**(ii)** The size of the visualization can be shifted using w (width) and h (height) commands (default is 200x200)\n",
    "\n",
    "With these two additions we can visualize the ligand structure for identification of CAs:"
   ]
  },
  {
   "cell_type": "code",
   "execution_count": null,
   "id": "b0d960b5",
   "metadata": {},
   "outputs": [],
   "source": [
    "view_structures(terpy_atoms,labelinds=True,w=500,h=500) "
   ]
  },
  {
   "cell_type": "markdown",
   "id": "566f03ba",
   "metadata": {},
   "source": [
    "### Visually, we can identify that the CAs will be the nitrogen atoms (Blue atoms) at indices 3,11, and 17.\n",
    "\n",
    "We can now save these indices for building the complexes!"
   ]
  },
  {
   "cell_type": "code",
   "execution_count": null,
   "id": "b82c97c3",
   "metadata": {},
   "outputs": [],
   "source": [
    "terpy_coordList = [3,11,17]"
   ]
  },
  {
   "cell_type": "markdown",
   "id": "21cbba95",
   "metadata": {},
   "source": [
    "## Now, for (B), Identifying ligand types we have 2 different methods:\n",
    "\n",
    "**(i)*** Automatically \n",
    "\n",
    "**(ii)** Manually\n",
    "\n",
    "For **(i)**, all we need to do is input ligand dictionaries without a specified ligType! So we funcationally already have enough information to generate the [La(Terpyridine)<sub>3</sub>]<sup>3+</sup> complex!"
   ]
  },
  {
   "cell_type": "code",
   "execution_count": null,
   "id": "fc6769cd",
   "metadata": {},
   "outputs": [],
   "source": [
    "terpy_ligand_dict = {'smiles':terpy_smiles,\n",
    "                    'coordList':terpy_coordList}"
   ]
  },
  {
   "cell_type": "markdown",
   "id": "3b593168",
   "metadata": {},
   "source": [
    "And the full input dictionary (including 3 terpy ligands!):"
   ]
  },
  {
   "cell_type": "code",
   "execution_count": null,
   "id": "21c46978",
   "metadata": {},
   "outputs": [],
   "source": [
    "inputDict = {'core':{'metal':metal,'coreCN':9},\n",
    "            'ligands':[terpy_ligand_dict]*3,\n",
    "            'parameters':{'assemble_method':'GFN-FF', # Switch to GFN-FF for faster assembly, \n",
    "                          'n_conformers':2, # Test 2 different conformers\n",
    "                          'return_only_1':True # Return just one\n",
    "                          # but still using GFN2-xTB for the final relaxation. Will have more printout.\n",
    "                         }}\n",
    "inputDict # Print out full input Dictionary"
   ]
  },
  {
   "cell_type": "markdown",
   "id": "67c9b8f4",
   "metadata": {},
   "source": [
    "Looks good! Now we build the complex using Architector - Note that this might take a couple of minutes:"
   ]
  },
  {
   "cell_type": "code",
   "execution_count": null,
   "id": "1cd4e555",
   "metadata": {},
   "outputs": [],
   "source": [
    "out = build_complex(inputDict) # Might take a couple minutes"
   ]
  },
  {
   "cell_type": "markdown",
   "id": "426bb4c9",
   "metadata": {},
   "source": [
    "And we can again visualize the structures:"
   ]
  },
  {
   "cell_type": "code",
   "execution_count": null,
   "id": "d3a67657",
   "metadata": {},
   "outputs": [],
   "source": [
    "view_structures(out)"
   ]
  },
  {
   "cell_type": "markdown",
   "id": "450d2f1c",
   "metadata": {},
   "source": [
    "### Should look great!\n",
    "\n",
    "However, this took a bit of time.\n",
    "\n",
    "What was the ligand type assigned automatically? It is in the output text of the build_complex cell - and it should be \"tri_mer\". This is short for [tridentate meridial](https://www.coursehero.com/study-guides/introchem/isomers-in-coordination-compounds/), which we likley could have identified manually!\n",
    "\n",
    "To do this **(ii)** manually, we have a tool in the documentation for visualizing all ligand types that we are replicating here for tridentates:"
   ]
  },
  {
   "cell_type": "code",
   "execution_count": null,
   "id": "f492e42a",
   "metadata": {},
   "outputs": [],
   "source": [
    "import pandas as pd # Pandas is used to read in the reference data\n",
    "import numpy as np # Numpy is used for selecting from the database\n",
    "import architector # Architector is used for importing the filepath to the reference data"
   ]
  },
  {
   "cell_type": "code",
   "execution_count": null,
   "id": "b8e75981",
   "metadata": {},
   "outputs": [],
   "source": [
    "# Pull out the datapath for the ligand reference structures:\n",
    "ref_data_path = '/'.join(architector.__file__.split('/')[0:-1]) + '/data/angle_stats_datasource.csv'\n",
    "ref_data_path"
   ]
  },
  {
   "cell_type": "markdown",
   "id": "36174073",
   "metadata": {},
   "source": [
    "For the utility we need a defined denticity - since we have a ligand with 3 CAs - it is tridentate!"
   ]
  },
  {
   "cell_type": "code",
   "execution_count": null,
   "id": "6cc9c750",
   "metadata": {},
   "outputs": [],
   "source": [
    "denticity = 4"
   ]
  },
  {
   "cell_type": "markdown",
   "id": "0e38e5c6",
   "metadata": {},
   "source": [
    "### Now, we can read in and visualize the data"
   ]
  },
  {
   "cell_type": "code",
   "execution_count": null,
   "id": "cc453b23",
   "metadata": {},
   "outputs": [],
   "source": [
    "# Read in reference data for examples.\n",
    "ligdf = pd.read_csv(ref_data_path)\n",
    "# Show the reference data!\n",
    "print('Showing examples of each ligand label!')\n",
    "print('Note that \"m\" indicates the metal in each - some will not show if M-L bonds are longer than cutoff radii.')\n",
    "print('####################################################################################')\n",
    "ligtypes = ligdf.geotype_label.value_counts().index.values\n",
    "cns = [ligdf[ligdf.geotype_label == x].cn.values[0] for x in ligtypes]\n",
    "order = np.argsort(cns)\n",
    "for i in order:\n",
    "    if cns[i] == denticity: # Only Pick out Tri Dentates\n",
    "        print(\"Ligand label - 'ligType':\", \"'\" + ligtypes[i] + \"'\")\n",
    "        print('Ligand denticity: ', int(cns[i]))\n",
    "        # Sample 4 structures matching these labels:\n",
    "        tdf = ligdf[ligdf.geotype_label == ligtypes[i]].sample(4,random_state=42) \n",
    "        # Visualize the structures:\n",
    "        view_structures(tdf.xyz_structure,labels=['m']*4)\n",
    "        print('####################################################################################')"
   ]
  },
  {
   "cell_type": "markdown",
   "id": "ebe89475",
   "metadata": {},
   "source": [
    "## Here, we can manually see that \"tri_mer\" or \"tri_mer_bent\" are possible labels for terpy!\n",
    "\n",
    "Now we can add this information to the terpy ligands dictionary manually to accelerate generation:"
   ]
  },
  {
   "cell_type": "code",
   "execution_count": null,
   "id": "1294fc0b",
   "metadata": {},
   "outputs": [],
   "source": [
    "import copy\n",
    "\n",
    "terpy_lig_dict_copy = copy.deepcopy(terpy_ligand_dict) # Copy terpy ligand dict\n",
    "\n",
    "terpy_lig_dict_copy['ligType'] = 'tri_mer' # Add ligType manually!"
   ]
  },
  {
   "cell_type": "markdown",
   "id": "a3adf1e2",
   "metadata": {},
   "source": [
    "And copy the inputDict to update with manual label:"
   ]
  },
  {
   "cell_type": "code",
   "execution_count": null,
   "id": "4c9fc03e",
   "metadata": {},
   "outputs": [],
   "source": [
    "new_inputDict = copy.deepcopy(inputDict) # Copy inputDict\n",
    "\n",
    "new_inputDict['ligands'] = [terpy_lig_dict_copy]*3 # Update ligands field with new terpy_dict"
   ]
  },
  {
   "cell_type": "markdown",
   "id": "b74f7ecb",
   "metadata": {},
   "source": [
    "Finally rebuild the complex. Note that this will still likely be a bit slow - lanthanides tend to take longer with XTB."
   ]
  },
  {
   "cell_type": "code",
   "execution_count": null,
   "id": "13c89633",
   "metadata": {},
   "outputs": [],
   "source": [
    "newout = build_complex(new_inputDict) # Still might take a couple minutes"
   ]
  },
  {
   "cell_type": "markdown",
   "id": "8346a92d",
   "metadata": {},
   "source": [
    "Visualization should reveal the same (or near-identical) output structure:"
   ]
  },
  {
   "cell_type": "code",
   "execution_count": null,
   "id": "a73b38da",
   "metadata": {},
   "outputs": [],
   "source": [
    "view_structures(newout)"
   ]
  },
  {
   "cell_type": "markdown",
   "id": "d913b909",
   "metadata": {},
   "source": [
    "## For (C), we can reduce the necessity of manually specifying that 3 terpy ligands are filling the coordination environment\n",
    "\n",
    "This is done with a simple parameter addition:"
   ]
  },
  {
   "cell_type": "code",
   "execution_count": null,
   "id": "357e6735",
   "metadata": {},
   "outputs": [],
   "source": [
    "new_inputDict # print the dictionary for reference"
   ]
  },
  {
   "cell_type": "markdown",
   "id": "e8d0790c",
   "metadata": {},
   "source": [
    "Updating both the ligands definition to be only a single copy of the terpy_lig_dict_copy, and adding the parameter 'fill_ligand' to indicate that the ligand which should fill the coordination sphere should be the first ligand (index 0) or terpy!"
   ]
  },
  {
   "cell_type": "code",
   "execution_count": null,
   "id": "fd1c362c",
   "metadata": {},
   "outputs": [],
   "source": [
    "new_inputDict['ligands'] = [terpy_lig_dict_copy]\n",
    "new_inputDict['parameters']['fill_ligand'] = 0"
   ]
  },
  {
   "cell_type": "markdown",
   "id": "0e231951",
   "metadata": {},
   "source": [
    "We can also request the complexes to not be relaxed to save additional time with the parameter 'relax' set to False. This will result in slightly less accurate geometries, so be a bit more careful here:"
   ]
  },
  {
   "cell_type": "code",
   "execution_count": null,
   "id": "0e632c78",
   "metadata": {},
   "outputs": [],
   "source": [
    "new_inputDict['parameters']['relax'] = False\n",
    "new_inputDict"
   ]
  },
  {
   "cell_type": "markdown",
   "id": "38e0c976",
   "metadata": {},
   "source": [
    "Looks good, and definitely more simple that the initial version of the inputDict that we created! Now onto building (again)!"
   ]
  },
  {
   "cell_type": "code",
   "execution_count": null,
   "id": "0271bb82",
   "metadata": {},
   "outputs": [],
   "source": [
    "newout1 = build_complex(new_inputDict) # Still might take a couple minutes"
   ]
  },
  {
   "cell_type": "code",
   "execution_count": null,
   "id": "7af37be2",
   "metadata": {},
   "outputs": [],
   "source": [
    "view_structures(newout1)"
   ]
  },
  {
   "cell_type": "markdown",
   "id": "d5896760",
   "metadata": {},
   "source": [
    "# Conclusions!\n",
    "\n",
    "In this tutorial we learned:\n",
    "\n",
    "**(A)** How to manually identify coordination sites of new ligands for generation in Architector.\n",
    "\n",
    "**(B)** How to automatically and manually identify ligand types (geometries!).\n",
    "\n",
    "**(C)** How to use internal commands to simplify inputs for more complex coordination environments!"
   ]
  }
 ],
 "metadata": {
  "kernelspec": {
   "display_name": "Python 3 (ipykernel)",
   "language": "python",
   "name": "python3"
  },
  "language_info": {
   "codemirror_mode": {
    "name": "ipython",
    "version": 3
   },
   "file_extension": ".py",
   "mimetype": "text/x-python",
   "name": "python",
   "nbconvert_exporter": "python",
   "pygments_lexer": "ipython3",
   "version": "3.10.12"
  }
 },
 "nbformat": 4,
 "nbformat_minor": 5
}
