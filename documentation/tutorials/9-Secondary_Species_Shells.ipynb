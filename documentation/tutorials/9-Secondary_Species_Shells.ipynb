{
 "cells": [
  {
   "cell_type": "markdown",
   "id": "1fc25b28",
   "metadata": {},
   "source": [
    "# 9 - Secondary Species Shells:\n",
    "\n",
    "### In this tutorial we will learn about secondary species shells within Architector with 3 examples:\n",
    "\n",
    "**(A)** Adding water solvent molecules to a generated Fe\\(H<sub>2</sub>O\\)<sub>6</sub> molecular complex with automated sampling.\n",
    "\n",
    "**(B)** Increasing configurational sampling with \\[BF<sub>4</sub>\\]<sup>-</sup> counterions around the Fe\\(H<sub>2</sub>O\\)<sub>6</sub> molecular complex.\n",
    "\n",
    "**(C)** Building non-covalently bound \"clusters\" of Uranyl (UO<sub>2</sub>) compounds. "
   ]
  },
  {
   "cell_type": "markdown",
   "id": "ea30074e",
   "metadata": {},
   "source": [
    "## Starting from **(A)**: \n",
    "We will use many of the same imports from previous tutorials!"
   ]
  },
  {
   "cell_type": "code",
   "execution_count": null,
   "id": "e2bbdef6",
   "metadata": {},
   "outputs": [],
   "source": [
    "from architector import (build_complex,\n",
    "                         view_structures,\n",
    "                         convert_io_molecule)\n",
    "import time # Time is used to track how long each of the cells take!"
   ]
  },
  {
   "cell_type": "code",
   "execution_count": null,
   "id": "5d2e0471",
   "metadata": {},
   "outputs": [],
   "source": [
    "# First, we build the [Fe(H2O)6]2+ compound for a time reference!\n",
    "start = time.time()\n",
    "inp0 = {'core':{'metal':'Fe','coreType':'octahedral'}, # Make it octahedral\n",
    "      'ligands':['water']*6, # Give 6 waters\n",
    "      'parameters':{}}\n",
    "out0 = build_complex(inp0)\n",
    "end = time.time()\n",
    "print('Total time: {} seconds'.format(end-start))"
   ]
  },
  {
   "cell_type": "code",
   "execution_count": null,
   "id": "bc637b37",
   "metadata": {},
   "outputs": [],
   "source": [
    "# Looks good. On my laptop this took only 3 seconds.\n",
    "view_structures(out0)"
   ]
  },
  {
   "cell_type": "code",
   "execution_count": null,
   "id": "a80a62f4",
   "metadata": {},
   "outputs": [],
   "source": [
    "# Now, let's add more waters in the secondary solvation shell:\n",
    "start = time.time()\n",
    "inp1 = {'core':{'metal':'Fe','coreType':'octahedral'}, # Make it octahedral\n",
    "      'ligands':['water']*6, # Give 6 waters\n",
    "      'parameters':{\"add_secondary_shell_species\":True, # Switch on secondary shell species\n",
    "                    \"species_list\":['water']*3, # Add 3 more waters to outside of iron complex\n",
    "                   }}\n",
    "out1 = build_complex(inp1)\n",
    "end = time.time()"
   ]
  },
  {
   "cell_type": "code",
   "execution_count": null,
   "id": "8184736c",
   "metadata": {
    "scrolled": true
   },
   "outputs": [],
   "source": [
    "# Since the previous cell will output a bunch of excess information, let's do the printing here:\n",
    "print('Total time: {} seconds'.format(end-start))\n",
    "view_structures(out1)"
   ]
  },
  {
   "cell_type": "markdown",
   "id": "8ab191f3",
   "metadata": {},
   "source": [
    "## Let's check the spin and charge of the new complex:"
   ]
  },
  {
   "cell_type": "code",
   "execution_count": null,
   "id": "95116536",
   "metadata": {},
   "outputs": [],
   "source": [
    "mol = convert_io_molecule(out1[list(out1.keys())[0]]['mol2string'])\n",
    "print('Unpaired Electrons',mol.uhf)\n",
    "print('Molecule Charge',mol.charge)"
   ]
  },
  {
   "cell_type": "markdown",
   "id": "a1a541fd",
   "metadata": {},
   "source": [
    "## Great, looks like 3 additional waters were added to the outside of the iron complex with automated sampling and the spin/charge makes sense! \n",
    "\n",
    "On my laptop this only added an additional 3 seconds of time to the sampling."
   ]
  },
  {
   "cell_type": "markdown",
   "id": "f582e635",
   "metadata": {},
   "source": [
    "## Now, onto  **(B)**: \n",
    "We want to add \\[BF<sub>4</sub>\\]<sup>-</sup> counterions around the Fe\\(H<sub>2</sub>O\\)<sub>6</sub> molecular complex, and perform additional sampling of the secondary solvation sphere!\n",
    "\n",
    "The smiles string for BF4- is: \"\\[B-\\](F)(F)(F)F\"."
   ]
  },
  {
   "cell_type": "code",
   "execution_count": null,
   "id": "96b609ea",
   "metadata": {},
   "outputs": [],
   "source": [
    "start = time.time()\n",
    "inp2 = {'core':{'metal':'Fe','coreType':'octahedral'},\n",
    "      'ligands':['water']*6,\n",
    "      'parameters':{\"add_secondary_shell_species\":True, # Switch it on\n",
    "                   \"species_list\":['[B-](F)(F)(F)F']*2, # The BF4- ions can be specified via smiles strings!\n",
    "                   \"species_location_method\":\"default\", # This can be set to \"random\" to random location addition.\n",
    "                    # By default a colomb-like approach is used!\n",
    "                   \"species_add_copies\":3, # Now, we can do 3 random trials of secondary species addition\n",
    "                   }}\n",
    "out2 = build_complex(inp2)\n",
    "end = time.time()"
   ]
  },
  {
   "cell_type": "code",
   "execution_count": null,
   "id": "aa8a4dda",
   "metadata": {
    "scrolled": true
   },
   "outputs": [],
   "source": [
    "print('Total time: {} seconds'.format(end-start))\n",
    "view_structures(out2)"
   ]
  },
  {
   "cell_type": "markdown",
   "id": "e92769e9",
   "metadata": {},
   "source": [
    "### Looks good! But what about the spin/charge of the system, and where did the other sampled configurations go?\n",
    "\n",
    "First, the spin/charge of the system:"
   ]
  },
  {
   "cell_type": "code",
   "execution_count": null,
   "id": "29859194",
   "metadata": {},
   "outputs": [],
   "source": [
    "mol = convert_io_molecule(out2[list(out2.keys())[0]]['mol2string'])\n",
    "print('Unpaired Electrons',mol.uhf)\n",
    "print('Molecule Charge',mol.charge)"
   ]
  },
  {
   "cell_type": "markdown",
   "id": "88d801f9",
   "metadata": {},
   "source": [
    "### Looks good! With the two counterions the metal center spin should be the same and the charge is set to 0, which is what we'd expect.\n",
    "\n",
    "Now, the shells:"
   ]
  },
  {
   "cell_type": "code",
   "execution_count": null,
   "id": "b6765861",
   "metadata": {},
   "outputs": [],
   "source": [
    "# Here the sampled solvation shells were returned as architector molecules with energies attached!\n",
    "sampled_molecules = out2[list(out2.keys())[0]]['sampled_solvation_shells']\n",
    "sampled_energies = [x.param_dict['energy'] for x in sampled_molecules]\n",
    "view_structures(sampled_molecules,labels=sampled_energies)"
   ]
  },
  {
   "cell_type": "markdown",
   "id": "c6f17b18",
   "metadata": {},
   "source": [
    "### With keen eyes, you should be able to tell that the lowest-energy conformer is the one returned as default by Architector as output!"
   ]
  },
  {
   "cell_type": "markdown",
   "id": "8cc21d1f",
   "metadata": {},
   "source": [
    "# Now, the real power of this functionality can be shown with **(C)**\n",
    "\n",
    "Here we can string together actinide metal centers!"
   ]
  },
  {
   "cell_type": "code",
   "execution_count": null,
   "id": "c6a6a60e",
   "metadata": {},
   "outputs": [],
   "source": [
    "# First, build the UO2 starting point desired!\n",
    "inp3 = {'core':{'metal':'U','coreCN':4},\n",
    "      'ligands':['oxo']*2+['hydroxyl']*2, # Generate a neutral UO2(OH)2 complex\n",
    "      'parameters':{'metal_ox':6}} # Using Ox=6, but can shift to 5 if desired.\n",
    "out3 = build_complex(inp3)"
   ]
  },
  {
   "cell_type": "code",
   "execution_count": null,
   "id": "e7385547",
   "metadata": {},
   "outputs": [],
   "source": [
    "# Save this as an initial configuration to add stepwise to other UO2 configurations\n",
    "structure = out3[list(out3.keys())[0]]['mol2string']"
   ]
  },
  {
   "cell_type": "code",
   "execution_count": null,
   "id": "0d678c01",
   "metadata": {},
   "outputs": [],
   "source": [
    "# This block takes around 20 seconds on my laptop\n",
    "start = time.time()\n",
    "inp4 = {'core':{'metal':'U','coreCN':2},\n",
    "      'ligands':['oxo']*2, # Generate [UO2]2+ actinyl\n",
    "      'parameters':{\n",
    "          'metal_ox':6, # Ox for only the initial molecule generated\n",
    "          'add_secondary_shell_species':True, # Add the docking routine\n",
    "          'species_grid_rad_skin':0.7, # Reduce to allow for closer molecules\n",
    "          'species_list':[structure]*4, # Specify how many local copies to add\n",
    "          'n_species_rotations':100, # Specify number of rotations to try.\n",
    "          \"species_add_copies\":10, # Number \"randomized\" generations to do.\n",
    "          \"species_location_method\":'random', # Use random for actiniyls \n",
    "          \"species_relax\":False, # Don't relax (none of the methods are super accurate)\n",
    "          \"species_intermediate_relax\":False, # Don't relax intermediate\n",
    "          \"species_intermediate_method\":'UFF', # Use UFF for speed\n",
    "          \"species_method\":'UFF', # Use UFF for speed\n",
    "#           \"debug\":True, # Turn on if you want to see what it's doing in the background \n",
    "      }}\n",
    "out4 = build_complex(inp4)\n",
    "end = time.time()"
   ]
  },
  {
   "cell_type": "code",
   "execution_count": null,
   "id": "96a7ff02",
   "metadata": {},
   "outputs": [],
   "source": [
    "print('Total time: {} seconds'.format(end-start))\n",
    "view_structures(out4)"
   ]
  },
  {
   "cell_type": "markdown",
   "id": "827b6802",
   "metadata": {},
   "source": [
    "### Looks good! How about the spin/charge?"
   ]
  },
  {
   "cell_type": "code",
   "execution_count": null,
   "id": "a0a49822",
   "metadata": {},
   "outputs": [],
   "source": [
    "mol = convert_io_molecule(out4[list(out4.keys())[0]]['mol2string'])\n",
    "print('Unpaired Electrons',mol.uhf)\n",
    "print('Molecule Charge',mol.charge)"
   ]
  },
  {
   "cell_type": "markdown",
   "id": "533e9531",
   "metadata": {},
   "source": [
    "### Looks good! With only one \\[UO<sub>2</sub>\\]<sup>2+</sup> ion and only U(VI) oxidation states the spin state should be 0 and the charge should be +2!\n",
    "\n",
    "How about the other shells we generated?"
   ]
  },
  {
   "cell_type": "code",
   "execution_count": null,
   "id": "34f2d6b8",
   "metadata": {},
   "outputs": [],
   "source": [
    "view_structures(out4[list(out4.keys())[0]]['sampled_solvation_shells'])"
   ]
  },
  {
   "cell_type": "markdown",
   "id": "0f781521",
   "metadata": {},
   "source": [
    "### Looks okay! Since we have to rely on UFF for energetics, and experimental bond distances for actinyls some of these might look a bit funky! Either way, we can generate structures good enough for starting positions."
   ]
  },
  {
   "cell_type": "markdown",
   "id": "81734766",
   "metadata": {},
   "source": [
    "# 9 - Secondary Species Shells Summary:\n",
    "\n",
    "### In this tutorial we learned about secondary species shells with Architector with 3 examples:\n",
    "\n",
    "**(A)** Adding water solvent molecules to a generated Fe\\(H<sub>2</sub>O\\)<sub>6</sub> molecular complex with automated sampling.\n",
    "\n",
    "**(B)** Increasing configurational sampling with \\[BF<sub>4</sub>\\]<sup>-</sup> counterions around the Fe\\(H<sub>2</sub>O\\)<sub>6</sub> molecular complex.\n",
    "\n",
    "**(C)** Building non-covalently bound \"clusters\" of Uranyl (UO<sub>2</sub>) compounds. "
   ]
  }
 ],
 "metadata": {
  "kernelspec": {
   "display_name": "Python 3 (ipykernel)",
   "language": "python",
   "name": "python3"
  },
  "language_info": {
   "codemirror_mode": {
    "name": "ipython",
    "version": 3
   },
   "file_extension": ".py",
   "mimetype": "text/x-python",
   "name": "python",
   "nbconvert_exporter": "python",
   "pygments_lexer": "ipython3",
   "version": "3.10.8"
  }
 },
 "nbformat": 4,
 "nbformat_minor": 5
}
