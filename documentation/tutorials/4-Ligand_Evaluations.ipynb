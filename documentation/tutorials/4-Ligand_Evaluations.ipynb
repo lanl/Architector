{
 "cells": [
  {
   "cell_type": "markdown",
   "id": "665de215",
   "metadata": {},
   "source": [
    "# 4 - Ligand Manipulations and Energetic evaluations\n",
    "\n",
    "With a deeper understanding of both the ligand and core manipulations possible in Architector, we want to dig into more complex ligands for which the structures are much less intuitive or obvious!\n",
    "\n",
    "In this tutorial we will look at the ligand manipulation routines in Architector, covering:\n",
    "\n",
    "**(A)** Suggestions for identifying coordination sites in highly-coordinated ligands for Architector.\n",
    "\n",
    "**(B)** Evaluating the isolated ligand energetics as bound to the metal.\n",
    "\n",
    "**(C)** Utilizing wrappers for [CREST](https://xtb-docs.readthedocs.io/en/latest/crest.html) to sample gas-phase rotamers and compute the ligand pre-organization energies."
   ]
  },
  {
   "cell_type": "markdown",
   "id": "5068082b",
   "metadata": {},
   "source": [
    "## For this tutorial we will study a commonly used chelating agent, Ethylenediaminetetraacetic acid (EDTA), bound to Ca<sup>2+</sup> \n",
    "\n",
    "Starting from loading in the ligand using our Architector utilites:"
   ]
  },
  {
   "cell_type": "code",
   "execution_count": null,
   "id": "8e3c8cb4",
   "metadata": {},
   "outputs": [],
   "source": [
    "from architector import (build_complex,\n",
    "                        view_structures)"
   ]
  },
  {
   "cell_type": "markdown",
   "id": "efd6fd9b",
   "metadata": {},
   "source": [
    "First - we get the EDTA smiles from [Wikipedia](https://en.wikipedia.org/wiki/Ethylenediaminetetraacetic_acid) and convert to ASE atoms."
   ]
  },
  {
   "cell_type": "code",
   "execution_count": null,
   "id": "99b43c5f",
   "metadata": {},
   "outputs": [],
   "source": [
    "edta_smiles = 'OC(=O)CN(CCN(CC(O)=O)CC(O)=O)CC(O)=O'"
   ]
  },
  {
   "cell_type": "code",
   "execution_count": null,
   "id": "d0d90e30",
   "metadata": {},
   "outputs": [],
   "source": [
    "view_structures('CC')"
   ]
  },
  {
   "cell_type": "markdown",
   "id": "cf7804c3",
   "metadata": {},
   "source": [
    "Now we can visualize and identify the coordinating atoms.\n",
    "\n",
    "## For (A), Here, note that for the ligand coordList with carboxylates, select oxygens without hydrogens bound, or deprotonated oxygens"
   ]
  },
  {
   "cell_type": "code",
   "execution_count": null,
   "id": "7bf6489f",
   "metadata": {},
   "outputs": [],
   "source": [
    "edta_smiles"
   ]
  },
  {
   "cell_type": "code",
   "execution_count": null,
   "id": "11697e6f",
   "metadata": {},
   "outputs": [],
   "source": [
    "view_structures(edta_smiles,labelinds=True,w=500,h=500) "
   ]
  },
  {
   "cell_type": "code",
   "execution_count": null,
   "id": "98e20c3f",
   "metadata": {},
   "outputs": [],
   "source": [
    "view_structures(edta_smiles,labelinds=True,w=500,h=500) "
   ]
  },
  {
   "cell_type": "markdown",
   "id": "7c3f7435",
   "metadata": {},
   "source": [
    "Selecting these specific atoms gives a coordList for EDTA of:"
   ]
  },
  {
   "cell_type": "code",
   "execution_count": null,
   "id": "59094b65",
   "metadata": {},
   "outputs": [],
   "source": [
    "edta_coordList = [4,7,11,15,19,2]"
   ]
  },
  {
   "cell_type": "markdown",
   "id": "cb49f480",
   "metadata": {},
   "source": [
    "And we now have enough to define an input dictionary for Architector!"
   ]
  },
  {
   "cell_type": "code",
   "execution_count": null,
   "id": "40afbf72",
   "metadata": {
    "scrolled": true
   },
   "outputs": [],
   "source": [
    "# Build the complex using some educated guesses for the geometries\n",
    "inputDict = {\n",
    "    'core':{'metal':'Ca',\n",
    "            'coreType':'octahedral'}, # We have already down-selected for a likley correct core geometry\n",
    "    'ligands':[\n",
    "        {'smiles':edta_smiles,\n",
    "        'coordList':edta_coordList,\n",
    "        'ligType':'hexa_octahedral'} # Here, we have already assigned the most likely geometry manually\n",
    "              ],\n",
    "    'parameters':{'relax':True}\n",
    "}\n",
    "inputDict"
   ]
  },
  {
   "cell_type": "markdown",
   "id": "551448fe",
   "metadata": {},
   "source": [
    "Looks good! Ready for building"
   ]
  },
  {
   "cell_type": "code",
   "execution_count": null,
   "id": "2cdd7f92",
   "metadata": {
    "scrolled": true
   },
   "outputs": [],
   "source": [
    "out = build_complex(inputDict)"
   ]
  },
  {
   "cell_type": "markdown",
   "id": "6f9aa0e9",
   "metadata": {},
   "source": [
    "And a quick visual check reveals a fairly sensible structure:"
   ]
  },
  {
   "cell_type": "code",
   "execution_count": null,
   "id": "8d4e9094",
   "metadata": {},
   "outputs": [],
   "source": [
    "view_structures(out)"
   ]
  },
  {
   "cell_type": "markdown",
   "id": "26e78336",
   "metadata": {},
   "source": [
    "## Now for (B), we can isolate the ligand from the Ca2+ metal center!\n",
    "\n",
    "This is easiestly done using the ASE atoms object from the output dictionary"
   ]
  },
  {
   "cell_type": "code",
   "execution_count": null,
   "id": "fc0c29dd",
   "metadata": {},
   "outputs": [],
   "source": [
    "# Pull out the ase atoms and isolated ligand ase atoms from the lowest-energy conformer!\n",
    "key = list(out.keys())[0]\n",
    "full_atoms = out[key]['ase_atoms']"
   ]
  },
  {
   "cell_type": "markdown",
   "id": "7b818800",
   "metadata": {},
   "source": [
    "Now simply remove the Ca atom, this is easily done since Architector will always put the metal at the first index (0)!"
   ]
  },
  {
   "cell_type": "code",
   "execution_count": null,
   "id": "5f625ea1",
   "metadata": {},
   "outputs": [],
   "source": [
    "lig_atoms = full_atoms.copy()\n",
    "del lig_atoms[0] # Remove the Ca\n",
    "lig_atoms # Verify the Ca is gone"
   ]
  },
  {
   "cell_type": "markdown",
   "id": "6de168e7",
   "metadata": {},
   "source": [
    "Note that there is no Ca in the symbols string of the atoms! We can also visualize the new ligand structure."
   ]
  },
  {
   "cell_type": "code",
   "execution_count": null,
   "id": "764530dc",
   "metadata": {},
   "outputs": [],
   "source": [
    "view_structures(lig_atoms) # View ligand with metal removed."
   ]
  },
  {
   "cell_type": "markdown",
   "id": "1bc40263",
   "metadata": {},
   "source": [
    "Looks good! \n",
    "\n",
    "### Since we have removed the metal center, the charge and spin state of isolated ligand will be different and a new calculator will be needed. \n",
    "\n",
    "For this we import an additional utility for assigning a new ASE/XTB calculator:"
   ]
  },
  {
   "cell_type": "code",
   "execution_count": null,
   "id": "ab225e71",
   "metadata": {},
   "outputs": [],
   "source": [
    "from architector.io_calc import CalcExecutor # Import architector calculator "
   ]
  },
  {
   "cell_type": "markdown",
   "id": "a073e8f0",
   "metadata": {},
   "source": [
    "Now we can set the [GFN2-xTB](https://pubs.acs.org/doi/10.1021/acs.jctc.8b01176) method level of theory to the lig_atoms.\n",
    "Making evalulation of the energy quite quick:"
   ]
  },
  {
   "cell_type": "code",
   "execution_count": null,
   "id": "74425bc3",
   "metadata": {},
   "outputs": [],
   "source": [
    "lig_energy = CalcExecutor(lig_atoms,method='GFN2-xTB').energy\n",
    "print('Ligand energy (eV):',lig_energy)"
   ]
  },
  {
   "cell_type": "markdown",
   "id": "82c9f6b6",
   "metadata": {},
   "source": [
    "# For (C), we have developed a wrapper for the CREST utility to sample configurations of the EDTA without the metal!\n",
    "\n",
    "Here we add just one more import:"
   ]
  },
  {
   "cell_type": "code",
   "execution_count": null,
   "id": "cba5144c",
   "metadata": {},
   "outputs": [],
   "source": [
    "from architector.io_conformers import (crest_conformers,obmol_conformers)"
   ]
  },
  {
   "cell_type": "markdown",
   "id": "c5bb4f14",
   "metadata": {},
   "source": [
    "Now, running crest is just one line. \n",
    "\n",
    "## NOTE THAT SOMETIMES this block fails due to CREST. Sometimes re-running the tutorial can fix the problem."
   ]
  },
  {
   "cell_type": "code",
   "execution_count": null,
   "id": "72888b5c",
   "metadata": {},
   "outputs": [],
   "source": [
    "# Slowest block in any tutorial! - likely minutes at a time depending on your CPU\n",
    "# ligand_conformers, xtb_energies = crest_conformers(edta_smiles)"
   ]
  },
  {
   "cell_type": "markdown",
   "id": "957822df",
   "metadata": {},
   "source": [
    "# Alternatively - Using the obmol conformer routine can be more stable and fast for isolated ligands! "
   ]
  },
  {
   "cell_type": "code",
   "execution_count": null,
   "id": "8b0dbf9a",
   "metadata": {
    "scrolled": true
   },
   "outputs": [],
   "source": [
    "## Slowest block in any tutorial! - likely minutes at a time depending on your CPU\n",
    "ligand_conformers, xtb_energies = obmol_conformers(edta_smiles,obmol_total_confs=1000)"
   ]
  },
  {
   "cell_type": "markdown",
   "id": "d16a3da7",
   "metadata": {},
   "source": [
    "Once this finished (which can be quite slow!) we should have a list of EDTA conformers (ligand_conformers)\n",
    "and their energies (xtb_energies). \n",
    "\n",
    "We can view what the lowest-energy conformers look like:"
   ]
  },
  {
   "cell_type": "code",
   "execution_count": null,
   "id": "44c9491a",
   "metadata": {},
   "outputs": [],
   "source": [
    "# Note that very different conformers from the bound ligand are formed by sampling!\n",
    "view_structures(ligand_conformers[0:10])\n",
    "print('Minimum-Energy conformer!')\n",
    "view_structures(ligand_conformers[xtb_energies.tolist().index(min(xtb_energies))])"
   ]
  },
  {
   "cell_type": "markdown",
   "id": "39e50002",
   "metadata": {},
   "source": [
    "And the lowest-energy crest conformer can be used to estimate the pre-organization energy!"
   ]
  },
  {
   "cell_type": "code",
   "execution_count": null,
   "id": "1e462259",
   "metadata": {},
   "outputs": [],
   "source": [
    "pre_org_energy = min(xtb_energies) - lig_energy\n",
    "print('Pre-organization energy (eV):', pre_org_energy)"
   ]
  },
  {
   "cell_type": "markdown",
   "id": "aea47af7",
   "metadata": {},
   "source": [
    "### This indicates the gas-phase lowest-energy EDTA conformer is ~2 eV\n",
    "### lower in energy than the equivalent Ca-bound EDTA conformer."
   ]
  },
  {
   "cell_type": "markdown",
   "id": "48713e25",
   "metadata": {},
   "source": [
    "# Conclusions\n",
    "\n",
    "In this tutorial we looked at the ligand manipulation routines in Architector, covering:\n",
    "\n",
    "**(A)** Suggestions for identifying coordination sites in highly-coordinated ligands for Architector.\n",
    "\n",
    "**(B)** Evaluating the isolated ligand energetics as bound to the metal.\n",
    "\n",
    "**(C)** Utilizing wrappers for [CREST](https://xtb-docs.readthedocs.io/en/latest/crest.html) to sample gas-phase rotamers and compute the ligand pre-organization energies."
   ]
  }
 ],
 "metadata": {
  "kernelspec": {
   "display_name": "Python 3.10.8 ('architector')",
   "language": "python",
   "name": "python3"
  },
  "language_info": {
   "codemirror_mode": {
    "name": "ipython",
    "version": 3
   },
   "file_extension": ".py",
   "mimetype": "text/x-python",
   "name": "python",
   "nbconvert_exporter": "python",
   "pygments_lexer": "ipython3",
   "version": "3.10.12"
  },
  "vscode": {
   "interpreter": {
    "hash": "d9faeb2a2170f4e60184b23dad276426e7089557c3539d9a2d03922f9a550f86"
   }
  }
 },
 "nbformat": 4,
 "nbformat_minor": 5
}
