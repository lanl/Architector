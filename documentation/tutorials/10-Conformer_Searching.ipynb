{
 "cells": [
  {
   "cell_type": "markdown",
   "metadata": {},
   "source": [
    "# 10 - Conformer Searching:\n",
    "\n",
    "### In this tutorial we will learn about further conformer search(es) around local minima within Architector with 3 examples:\n",
    "\n",
    "**(A)** Leveraging CREST conformer searches on Iron Hexa-aqua complexes.\n",
    "\n",
    "**(B)** Leveraging Openbabel conformer searches on Iron Hexa-methanol complexes.\n",
    "\n",
    "**(C)** Visualizing and interacting with generated conformers!"
   ]
  },
  {
   "cell_type": "markdown",
   "metadata": {},
   "source": [
    "## Starting from **(A)**: \n",
    "Importing necessary functions!"
   ]
  },
  {
   "cell_type": "code",
   "execution_count": null,
   "metadata": {},
   "outputs": [],
   "source": [
    "from architector import (build_complex,view_structures)"
   ]
  },
  {
   "cell_type": "markdown",
   "metadata": {},
   "source": [
    "Now, we build an iron-hexa-aqua complex with the normal routine for reference:"
   ]
  },
  {
   "cell_type": "code",
   "execution_count": null,
   "metadata": {},
   "outputs": [],
   "source": [
    "input_dict = {\n",
    "    'core':{'metal':'Fe','coreCN':6},\n",
    "    'ligands':['water']*6,\n",
    "    'parameters':{}\n",
    "}\n",
    "out0 = build_complex(input_dict)\n",
    "view_structures(out0)"
   ]
  },
  {
   "cell_type": "markdown",
   "metadata": {},
   "source": [
    "To now leverage the CREST sampling backend, only a minor change to the input dictionary is required!\n",
    "\n",
    "Note that this will significantly slow down the generation process! (On my laptop the first example took 7.1s while the below block took 6 minutes!!!)"
   ]
  },
  {
   "cell_type": "code",
   "execution_count": null,
   "metadata": {},
   "outputs": [],
   "source": [
    "input_dict = {\n",
    "    'core':{'metal':'Fe','coreCN':6},\n",
    "    'ligands':['water']*6,\n",
    "    'parameters':{\n",
    "        'crest_sampling':True, # Turn on CREST sampling\n",
    "        'crest_sampling_n_conformers':3 # Perform CREST sampling on all generated conformers from Architector\n",
    "    }\n",
    "}\n",
    "out1 = build_complex(input_dict)\n",
    "view_structures(out1)"
   ]
  },
  {
   "cell_type": "markdown",
   "metadata": {},
   "source": [
    "Note how all of the conformers have became octahedral! This is due to the crest sampling in the background. "
   ]
  },
  {
   "cell_type": "markdown",
   "metadata": {},
   "source": [
    "## Now - onto **(B)**: \n",
    "\n",
    "The openbabel conformers request is quite similar to requesting CREST. \n",
    "Note that openbabel sampling freezes the metal and metal-coordinating atoms by default, and will perform a rotational conformational generation procedure to the pendant ligands.\n",
    "\n",
    "To illustrate the conformers generated, it is easier to look at something with a bit more degrees of freedom!\n",
    "\n",
    "Here, we are looking at just 1 octanol ligand and waters filling out a CN=6 coordination environment around an iron ion.\n",
    "\n",
    "Note that this block took (~3 minutes on my laptop.) Time should scale with 'obmol_total_confs' requested.\n",
    "\n",
    "If enough feedback is recieved, I may implement a parallel evaluation scheme for conformers to accelerate this aspect of the workflow."
   ]
  },
  {
   "cell_type": "code",
   "execution_count": null,
   "metadata": {},
   "outputs": [],
   "source": [
    "from architector import (build_complex,view_structures)\n",
    "input_dict = {\n",
    "    'core':{'metal':'Fe','coreCN':6},\n",
    "    'ligands':['octanol']+['water']*5,\n",
    "    'parameters':{\n",
    "        'obmol_sampling':True, # Turn on Openbabel sampling\n",
    "        'obmol_total_confs':200, # Reduce number of openbabel conformers requested to reduce overhead. (Default is 3000)\n",
    "        'obmol_sampling_n_conformers':1, # Perform Openbabel sampling on only first generated complex from Architector\n",
    "    }\n",
    "}\n",
    "out2 = build_complex(input_dict)\n",
    "view_structures(out2)"
   ]
  },
  {
   "cell_type": "markdown",
   "metadata": {},
   "source": [
    "(If you didn't get (..below energy threshod = Number greater than 0) printed out in the last step, re-running can work, or you can try to increase obmol_total_confs to get some valid conformers!)\n",
    "\n",
    "Now - Looks good! But what do the conformers generated look like?\n",
    "\n",
    "## This brings us to **(C)**: \n",
    "\n",
    "We have stored all the conformers and their relative energetics evalulated (relaxed) at the level of theory requested in the output! (By default GFN2-xTB).\n",
    "\n",
    "Conformers are under each conformer: e.g. \n",
    "\n",
    "`out2[list(out2.keys())[0]]['conformers']`\n",
    "\n",
    "and energies are under:\n",
    "\n",
    "`out2[list(out2.keys())[0]]['energies']`\n",
    "\n",
    "Note that this is the same regardless of whether crest sampling or obmol sampling is requested!"
   ]
  },
  {
   "cell_type": "code",
   "execution_count": null,
   "metadata": {},
   "outputs": [],
   "source": [
    "import numpy as np # Use numpy for array operations\n",
    "lowest = 10 # Number of conformers to visualize\n",
    "energies = np.array(out2[list(out2.keys())[0]]['energies'][0:lowest]) # Get the conformer energies\n",
    "rel_energy = ['{0:.2f}'.format(x) for x in (energies - energies.min())] # Calculate relative energies in eV\n",
    "# Now visulaize the conformers with relative energetics as evalulated via GFN2-xTB:\n",
    "view_structures(out2[list(out2.keys())[0]]['conformers'][0:lowest],\n",
    "                labels=rel_energy)"
   ]
  },
  {
   "cell_type": "code",
   "execution_count": null,
   "metadata": {},
   "outputs": [],
   "source": [
    "# We also can visulize the conformers from step 1!\n",
    "import numpy as np # Use numpy for array operations\n",
    "lowest = 10 # Number of conformers to visualize\n",
    "energies = np.array(out1[list(out1.keys())[0]]['energies'][0:lowest]) # Get the conformer energies\n",
    "rel_energy = ['{0:.2f}'.format(x) for x in (energies - energies.min())] # Calculate relative energies in eV\n",
    "# Now visulaize the conformers with relative energetics as evalulated via GFN2-xTB:\n",
    "view_structures(out1[list(out1.keys())[0]]['conformers'][0:lowest],\n",
    "                labels=rel_energy)"
   ]
  },
  {
   "cell_type": "markdown",
   "metadata": {},
   "source": [
    "### In Summary - in this tutorial we will learn about further conformer search(es) around local minima within Architector:\n",
    "\n",
    "**(A)** Leveraging CREST conformer searches on Iron Hexa-aqua complexes.\n",
    "\n",
    "**(B)** Leveraging Openbabel conformer searches on Iron Octanol-Aqua complexes.\n",
    "\n",
    "**(C)** Visualizing and interacting with generated conformers from both/either method!"
   ]
  }
 ],
 "metadata": {
  "kernelspec": {
   "display_name": "Python 3 (ipykernel)",
   "language": "python",
   "name": "python3"
  },
  "language_info": {
   "codemirror_mode": {
    "name": "ipython",
    "version": 3
   },
   "file_extension": ".py",
   "mimetype": "text/x-python",
   "name": "python",
   "nbconvert_exporter": "python",
   "pygments_lexer": "ipython3",
   "version": "3.10.12"
  }
 },
 "nbformat": 4,
 "nbformat_minor": 4
}
