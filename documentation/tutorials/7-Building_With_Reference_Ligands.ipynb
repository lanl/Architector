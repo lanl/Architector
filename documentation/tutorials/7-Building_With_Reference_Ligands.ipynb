{
 "cells": [
  {
   "cell_type": "markdown",
   "id": "418d851f",
   "metadata": {},
   "source": [
    "# 7 - In-Built Ligands:\n",
    "\n",
    "### In this tutorial we will learn how to build with pre-defined ligands in Architector. This will involve 3 key takeaways:\n",
    "\n",
    "**(A)** How to visualize default ligands.\n",
    "\n",
    "**(B)** How to incorporate these ligands in a build_complex workflow.\n",
    "\n",
    "**(C)** How to functionalize default ligands."
   ]
  },
  {
   "cell_type": "markdown",
   "id": "a7ca5b60",
   "metadata": {},
   "source": [
    "## For (A), we will start with importing some important functions:"
   ]
  },
  {
   "cell_type": "code",
   "execution_count": null,
   "id": "8d2e14ee",
   "metadata": {},
   "outputs": [],
   "source": [
    "from architector import build_complex,view_structures\n",
    "import architector.io_obabel as io_obabel # Contains all openbabel interface options.\n",
    "import architector.io_ptable as io_ptable # Contains the default ligands dictionary.\n",
    "import architector.io_molecule as io_molecule # Contains molecule manipulation routines."
   ]
  },
  {
   "cell_type": "markdown",
   "id": "53cd74c7",
   "metadata": {},
   "source": [
    "To view all the structures we can write a quick function:"
   ]
  },
  {
   "cell_type": "code",
   "execution_count": null,
   "id": "d65b4730",
   "metadata": {},
   "outputs": [],
   "source": [
    "def view_ligs(key,val):\n",
    "    print('####################################################################################')\n",
    "    print(\"Ligand label 'name' for populating 'ligands' list : \",key)\n",
    "    print('Ligand denticity : ', len(val['coordList']))\n",
    "    print('Ligand \"ligType: : ',val['ligType'])\n",
    "    OBmol = io_obabel.get_obmol_smiles(val['smiles'])\n",
    "    mol = io_molecule.convert_io_molecule(io_obabel.convert_obmol_mol2(OBmol))\n",
    "    if len(mol.ase_atoms) == 1: # Here check for single atoms -> shift to \"sphere\" representation\n",
    "        view_structures(mol, representation='sphere') # With the default \"stick\" these structures won't show.\n",
    "    else:\n",
    "        view_structures(mol)"
   ]
  },
  {
   "cell_type": "markdown",
   "id": "5c0831c2",
   "metadata": {},
   "source": [
    "And then iterate over all the items in the default ligands dictionary:\n",
    "\n",
    "Note that after a certain number of in-notebook visualizations your computer's RAM may be taken up resulting in some \n",
    "of these structures not being visualized. Here, we cap the visualization at 10 ligands. \n",
    "\n",
    "If you want to view another subset of the dictionary simply change the range (e.g. start_lig_ind = 0, end_lig_ind= 10)"
   ]
  },
  {
   "cell_type": "code",
   "execution_count": null,
   "id": "2221bc57",
   "metadata": {
    "scrolled": false
   },
   "outputs": [],
   "source": [
    "start_lig_ind = 10\n",
    "end_lig_ind = 20\n",
    "ref_ligs = io_ptable.ligands_dict\n",
    "count = 0\n",
    "for key,val in ref_ligs.items():\n",
    "    if count > end_lig_ind:\n",
    "        break\n",
    "    elif count < start_lig_ind:\n",
    "        count += 1\n",
    "        continue\n",
    "    view_ligs(key,val)\n",
    "    count += 1"
   ]
  },
  {
   "cell_type": "code",
   "execution_count": null,
   "id": "1c9c81fd",
   "metadata": {},
   "outputs": [],
   "source": [
    "len(ref_ligs)"
   ]
  },
  {
   "cell_type": "markdown",
   "id": "7c77c6f8",
   "metadata": {},
   "source": [
    "#### Looks great - but there's a ton of them!\n",
    "\n",
    "Let's select 'oxalate' and build some complexes."
   ]
  },
  {
   "cell_type": "markdown",
   "id": "1e421147",
   "metadata": {},
   "source": [
    "## For (B), let's build some Eu-Oxalate complexes.\n",
    "\n",
    "To build with a reference ligand, simply use the name printed from the previous function in the \"ligands\" list!"
   ]
  },
  {
   "cell_type": "code",
   "execution_count": null,
   "id": "203ac278",
   "metadata": {},
   "outputs": [],
   "source": [
    "inputDict = {'core':{'metal':'Eu',\n",
    "                    'coreCN':8},\n",
    "            'ligands':['oxalate'],\n",
    "            'parameters':{'fill_ligand':0, # Fill out coordination sphere with oxalates\n",
    "                         'relax':False, # Do not relax to save time\n",
    "                         'assemble_method':'GFN-FF'} # Use forcefield\n",
    "            }"
   ]
  },
  {
   "cell_type": "markdown",
   "id": "2d21f7e0",
   "metadata": {},
   "source": [
    "Ready to build!"
   ]
  },
  {
   "cell_type": "code",
   "execution_count": null,
   "id": "c4eb7f7f",
   "metadata": {},
   "outputs": [],
   "source": [
    "out = build_complex(inputDict) # Should take a minute or two"
   ]
  },
  {
   "cell_type": "code",
   "execution_count": null,
   "id": "e7530d79",
   "metadata": {},
   "outputs": [],
   "source": [
    "view_structures(out)"
   ]
  },
  {
   "cell_type": "markdown",
   "id": "abd92a6b",
   "metadata": {},
   "source": [
    "Beyond this relatively simple example we can imagine mixing and matching default ligands!\n",
    "\n",
    "Here, I will make an octahedral 9-crown-3, oxalate, and hydroxyl Fe complex:"
   ]
  },
  {
   "cell_type": "code",
   "execution_count": null,
   "id": "0fd12492",
   "metadata": {},
   "outputs": [],
   "source": [
    "inputDict_fe = {'core':{'metal':'Fe',\n",
    "                    'coreType':'octahedral'},\n",
    "            'ligands':['9-crown-3','oxalate','hydroxyl'], # Add both ligands, water will \n",
    "            'parameters':{'relax':False, # Do not relax to save time\n",
    "                          }\n",
    "            }"
   ]
  },
  {
   "cell_type": "code",
   "execution_count": null,
   "id": "f2cdabdd",
   "metadata": {
    "scrolled": true
   },
   "outputs": [],
   "source": [
    "out_fe = build_complex(inputDict_fe)"
   ]
  },
  {
   "cell_type": "code",
   "execution_count": null,
   "id": "7bbea152",
   "metadata": {},
   "outputs": [],
   "source": [
    "view_structures(out_fe)"
   ]
  },
  {
   "cell_type": "markdown",
   "id": "cd0854e7",
   "metadata": {},
   "source": [
    "### Looks great! Now can we just functionalize on these?\n",
    "\n",
    "## For (C), short answer is yes!\n",
    "\n",
    "But we need a slightly different setup.\n",
    "\n",
    "Let's try making functionalized porphyrin ligands."
   ]
  },
  {
   "cell_type": "code",
   "execution_count": null,
   "id": "326cfa6d",
   "metadata": {},
   "outputs": [],
   "source": [
    "porphyrin_smiles = io_ptable.ligands_dict['porphyrin']['smiles'] # First pull out the porphyrin smiles!"
   ]
  },
  {
   "cell_type": "markdown",
   "id": "7b013c0d",
   "metadata": {},
   "source": [
    "Now visulize and flag functionalization sites! (See 6-Functionalizing_Ligands.ipynb for reference!)"
   ]
  },
  {
   "cell_type": "code",
   "execution_count": null,
   "id": "bc71b576",
   "metadata": {},
   "outputs": [],
   "source": [
    "prph_atoms = io_obabel.smiles2Atoms(porphyrin_smiles) # Use the same utilities to\n",
    "view_structures(prph_atoms,labelinds=True,w=500,h=500) "
   ]
  },
  {
   "cell_type": "markdown",
   "id": "f6672834",
   "metadata": {},
   "source": [
    "For fun, let's stick chloro groups onto the bridging carbons.\n",
    "\n",
    "We can see the bridging carbons have the indices [3,9,15,21].\n",
    "\n",
    "This is already enough to generate a functionalized porphyrin Ni complex!"
   ]
  },
  {
   "cell_type": "code",
   "execution_count": null,
   "id": "18f1edfe",
   "metadata": {},
   "outputs": [],
   "source": [
    "inputDict_ni = {'core':{'metal':'Ni',\n",
    "                        'coreType':'square_planar'}, # Porphyrin is fairly exclusively planar!\n",
    "                 # Tell it you are referencing the default dictionary with \"name\" keyword\n",
    "                'ligands':[{'name':'porphyrin',\n",
    "                            'functionalizations':[\n",
    "                                {'functional_group':'chloro', # Chloro groups\n",
    "                                'smiles_inds':[3,9,15,21]}]} # At the bridging carbon indices!\n",
    "                          ],\n",
    "                'parameters':{} # Use the default parameters -> should be quick enough!\n",
    "               }"
   ]
  },
  {
   "cell_type": "code",
   "execution_count": null,
   "id": "74b7e6b4",
   "metadata": {
    "scrolled": true
   },
   "outputs": [],
   "source": [
    "out_ni = build_complex(inputDict_ni) # For larger ligands the distance geometry can be tricky!\n",
    "# This will likely be the slowest section of generation."
   ]
  },
  {
   "cell_type": "code",
   "execution_count": null,
   "id": "95b247b8",
   "metadata": {},
   "outputs": [],
   "source": [
    "view_structures(out_ni)"
   ]
  },
  {
   "cell_type": "markdown",
   "id": "551c0984",
   "metadata": {},
   "source": [
    "### Looks good! Now we can functionalize even passed ligands."
   ]
  },
  {
   "cell_type": "markdown",
   "id": "84579374",
   "metadata": {},
   "source": [
    "# Conclusions\n",
    "\n",
    "### In this tutorial we learned how to build with pre-defined ligands in Architector.  Specifically, we learned how to:\n",
    "\n",
    "**(A)** How to visualize default ligands.\n",
    "\n",
    "**(B)** How to incorporate these ligands in a build_complex workflow.\n",
    "\n",
    "**(C)** How to functionalize default ligands."
   ]
  }
 ],
 "metadata": {
  "kernelspec": {
   "display_name": "Python 3.10.8 ('architector')",
   "language": "python",
   "name": "python3"
  },
  "language_info": {
   "codemirror_mode": {
    "name": "ipython",
    "version": 3
   },
   "file_extension": ".py",
   "mimetype": "text/x-python",
   "name": "python",
   "nbconvert_exporter": "python",
   "pygments_lexer": "ipython3",
   "version": "3.10.12"
  },
  "vscode": {
   "interpreter": {
    "hash": "d9faeb2a2170f4e60184b23dad276426e7089557c3539d9a2d03922f9a550f86"
   }
  }
 },
 "nbformat": 4,
 "nbformat_minor": 5
}
