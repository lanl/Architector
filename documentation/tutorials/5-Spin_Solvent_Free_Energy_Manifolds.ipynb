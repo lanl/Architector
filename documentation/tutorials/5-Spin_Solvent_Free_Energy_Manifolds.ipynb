{
 "cells": [
  {
   "cell_type": "markdown",
   "id": "099c8db2",
   "metadata": {},
   "source": [
    "# 5- Spin, Solvent, and Free Energy Manifold Modelling\n",
    "\n",
    "We already have covered a big chunk of Architector functionality. Here we further expand and highlight Architector's capability to hand spin and solvent-dependent properties of molecular systems.\n",
    "\n",
    "In this tutorial we will cover:\n",
    "\n",
    "**(A)** Spin-state dependent geometry search.\n",
    "\n",
    "**(B)** Solvent effects in geometry search.\n",
    "\n",
    "**(C)** Free energy analysis after geometry searches."
   ]
  },
  {
   "cell_type": "markdown",
   "id": "5fe62a70",
   "metadata": {},
   "source": [
    "\n",
    "### An interesting test case for spin-state structure dependence is [this study](https://dx.doi.org/10.1021/jacs.0c02355), where light-induced spin state transition enables catalytic activity.\n",
    "\n",
    "We are going to simulate the nitrogen-based ligand from this study with bipyridine (bipy): 'C1=CC=NC(=C1)C2=CC=CC=N2'. \n",
    "\n",
    "We start by importing our basic utilites again:"
   ]
  },
  {
   "cell_type": "code",
   "execution_count": null,
   "id": "963df31f",
   "metadata": {},
   "outputs": [],
   "source": [
    "from architector import build_complex,view_structures\n",
    "import copy"
   ]
  },
  {
   "cell_type": "markdown",
   "id": "05d99a6b",
   "metadata": {},
   "source": [
    "Looking at the chemistry and repeating some of the functions from tutorial 2 - we can generate a replication of the complexes in the study!"
   ]
  },
  {
   "cell_type": "code",
   "execution_count": null,
   "id": "191cead8",
   "metadata": {
    "scrolled": true
   },
   "outputs": [],
   "source": [
    "inputDict_LS = {\n",
    "    'core':{'metal':'Ni',\n",
    "            'coreCN':4}, # Visual inspection reveals 4-coordinate Ni in the study\n",
    "    'ligands':[\n",
    "        {'smiles':'C1=CC=NC(=C1)C2=CC=CC=N2', # Bipy Ligand SMILES\n",
    "         'coordList':[3,11], # Manually ID'ed coordination by the nitrogens in bipy (see tutorial 2!)\n",
    "         'ligType':'bi_cis'},\n",
    "        {'smiles':'[Br-]', # Bromide is the other ligand!\n",
    "         'coordList':[0]} # Note that we don't need a ligType for monodentate ligands!\n",
    "    ], # Additionally, remember the 4th coordination site is filled by water by default in Architector.\n",
    "    'parameters':{\n",
    "        'metal_spin':0\n",
    "    } # Start with low-spin (LS) Ni\n",
    "}\n",
    "inputDict_LS"
   ]
  },
  {
   "cell_type": "markdown",
   "id": "478b60b2",
   "metadata": {},
   "source": [
    "Now we can build the structures:"
   ]
  },
  {
   "cell_type": "code",
   "execution_count": null,
   "id": "f746cf05",
   "metadata": {
    "scrolled": true
   },
   "outputs": [],
   "source": [
    "out_LS_dict = build_complex(inputDict_LS)"
   ]
  },
  {
   "cell_type": "markdown",
   "id": "fc0e65f4",
   "metadata": {},
   "source": [
    "And visualize the structures. Here we will pull out the XTB energies as labels:"
   ]
  },
  {
   "cell_type": "code",
   "execution_count": null,
   "id": "280e8d97",
   "metadata": {},
   "outputs": [],
   "source": [
    "keys = list(out_LS_dict.keys())\n",
    "labels = [out_LS_dict[key]['energy'] for key in keys]\n",
    "view_structures(out_LS_dict,labels=labels)"
   ]
  },
  {
   "cell_type": "markdown",
   "id": "cbcffc0b",
   "metadata": {},
   "source": [
    "## For (A), note that in the LS configuration the planar geometry is lower than the tetrahedral - matching experimental results.\n",
    "\n",
    "Now we can test the HS configuration to see if this matches as well:"
   ]
  },
  {
   "cell_type": "code",
   "execution_count": null,
   "id": "e1b0dd94",
   "metadata": {},
   "outputs": [],
   "source": [
    "inputDict_HS = copy.deepcopy(inputDict_LS) # Copy LS inputDict\n",
    "\n",
    "inputDict_HS['parameters']['metal_spin'] = 2 # For Ni, HS is a triplet (2 unpaired electrons)\n",
    "\n",
    "inputDict_HS"
   ]
  },
  {
   "cell_type": "code",
   "execution_count": null,
   "id": "5b96d748",
   "metadata": {
    "scrolled": true
   },
   "outputs": [],
   "source": [
    "out_HS_dict = build_complex(inputDict_HS)"
   ]
  },
  {
   "cell_type": "markdown",
   "id": "41411f96",
   "metadata": {},
   "source": [
    "Now we can visualize the HS configurations:"
   ]
  },
  {
   "cell_type": "code",
   "execution_count": null,
   "id": "4fe6b26b",
   "metadata": {},
   "outputs": [],
   "source": [
    "keys = list(out_HS_dict.keys())\n",
    "labels = [out_HS_dict[key]['energy'] for key in keys]\n",
    "view_structures(out_HS_dict,labels=labels)"
   ]
  },
  {
   "cell_type": "markdown",
   "id": "ddca5221",
   "metadata": {},
   "source": [
    "### Look at that! For the HS electronic state the tetrahedral structure is much lower in energy than the planar.\n",
    "\n",
    "Without sampling multiple different metal center geometries and spin states, this result is not obvious.\n",
    "\n",
    "## For (B), we are also interested in how solvents can affect energics\n",
    "\n",
    "Luckily in Architector (largely because of XTB!) adding a solvent is as easy as a single keyword"
   ]
  },
  {
   "cell_type": "code",
   "execution_count": null,
   "id": "de5ea52b",
   "metadata": {},
   "outputs": [],
   "source": [
    "inputDict_LS_THF = copy.deepcopy(inputDict_LS)\n",
    "\n",
    "inputDict_LS_THF['parameters']['xtb_solvent'] = 'THF'\n",
    "\n",
    "inputDict_LS_THF"
   ]
  },
  {
   "cell_type": "code",
   "execution_count": null,
   "id": "141b83a0",
   "metadata": {
    "scrolled": true
   },
   "outputs": [],
   "source": [
    "out_LS_THF_dict = build_complex(inputDict_LS_THF)"
   ]
  },
  {
   "cell_type": "markdown",
   "id": "7fa02d8d",
   "metadata": {},
   "source": [
    "Again viewing the structures reveals slighlty different energetics but similar ordering for the structures:"
   ]
  },
  {
   "cell_type": "code",
   "execution_count": null,
   "id": "088bce2d",
   "metadata": {},
   "outputs": [],
   "source": [
    "keys = list(out_LS_THF_dict.keys())\n",
    "labels = [out_LS_THF_dict[key]['energy'] for key in keys]\n",
    "view_structures(out_LS_THF_dict,labels=labels)"
   ]
  },
  {
   "cell_type": "markdown",
   "id": "1a1cab0a",
   "metadata": {},
   "source": [
    "And again for the HS configuration with THF solvent (these cells are largely just copies!)"
   ]
  },
  {
   "cell_type": "code",
   "execution_count": null,
   "id": "46ade706",
   "metadata": {
    "scrolled": true
   },
   "outputs": [],
   "source": [
    "inputDict_HS_THF = copy.deepcopy(inputDict_HS)\n",
    "\n",
    "inputDict_HS_THF['parameters']['xtb_solvent'] = 'THF'\n",
    "\n",
    "inputDict_HS_THF"
   ]
  },
  {
   "cell_type": "code",
   "execution_count": null,
   "id": "2ac1a669",
   "metadata": {
    "scrolled": true
   },
   "outputs": [],
   "source": [
    "out_HS_THF_dict = build_complex(inputDict_HS_THF)"
   ]
  },
  {
   "cell_type": "code",
   "execution_count": null,
   "id": "fb0bbf53",
   "metadata": {},
   "outputs": [],
   "source": [
    "keys = list(out_HS_THF_dict.keys())\n",
    "labels = [out_HS_THF_dict[key]['energy'] for key in keys]\n",
    "view_structures(out_HS_THF_dict,labels=labels)"
   ]
  },
  {
   "cell_type": "markdown",
   "id": "e0661369",
   "metadata": {},
   "source": [
    "### All of this looks good - now how do spin/solvent affect geometry energetics?\n",
    "\n",
    "For this we will pull out the correct geometries and corresponding energetics:"
   ]
  },
  {
   "cell_type": "code",
   "execution_count": null,
   "id": "f08e5b2b",
   "metadata": {},
   "outputs": [],
   "source": [
    "# Repeating keys for the specific geometries:\n",
    "planar_LS_key = [x for x in out_LS_dict.keys() if 'square_planar' in x][0]\n",
    "planar_HS_key = [x for x in out_HS_dict.keys() if 'square_planar' in x][0]\n",
    "planar_LS_THF_key = [x for x in out_LS_THF_dict.keys() if 'square_planar' in x][0]\n",
    "planar_HS_THF_key = [x for x in out_HS_THF_dict.keys() if 'square_planar' in x][0]\n",
    "\n",
    "tetrahedral_LS_key = [x for x in out_LS_dict.keys() if 'tetrahedral' in x][0]\n",
    "tetrahedral_HS_key = [x for x in out_HS_dict.keys() if 'tetrahedral' in x][0]\n",
    "tetrahedral_LS_THF_key = [x for x in out_LS_THF_dict.keys() if 'tetrahedral' in x][0]\n",
    "tetrahedral_HS_THF_key = [x for x in out_HS_THF_dict.keys() if 'tetrahedral' in x][0]"
   ]
  },
  {
   "cell_type": "markdown",
   "id": "fda6f7fa",
   "metadata": {},
   "source": [
    "Now we can get/print the different spin/solvent manifolds:"
   ]
  },
  {
   "cell_type": "code",
   "execution_count": null,
   "id": "b2c38288",
   "metadata": {},
   "outputs": [],
   "source": [
    "print('Planar LS-HS Gas Phase {} vs. THF {} (eV).'.format(\n",
    "    out_LS_dict[planar_LS_key]['energy']-out_HS_dict[planar_HS_key]['energy'],\n",
    "    out_LS_THF_dict[planar_LS_THF_key]['energy']-out_HS_THF_dict[planar_HS_THF_key]['energy']\n",
    "))"
   ]
  },
  {
   "cell_type": "code",
   "execution_count": null,
   "id": "1bdddf8b",
   "metadata": {},
   "outputs": [],
   "source": [
    "print('Tetrahedral LS-HS Gas Phase {} vs. THF {} (eV).'.format(\n",
    "    out_LS_dict[tetrahedral_LS_key]['energy']-out_HS_dict[tetrahedral_HS_key]['energy'],\n",
    "    out_LS_THF_dict[tetrahedral_LS_THF_key]['energy']-out_HS_THF_dict[tetrahedral_HS_THF_key]['energy']\n",
    "))"
   ]
  },
  {
   "cell_type": "code",
   "execution_count": null,
   "id": "0f12c77c",
   "metadata": {},
   "outputs": [],
   "source": [
    "print('Lowest-energy LS-HS Gas Phase {} vs. THF {} (eV).'.format(\n",
    "    out_LS_dict[planar_LS_key]['energy']-out_HS_dict[tetrahedral_HS_key]['energy'],\n",
    "    out_LS_THF_dict[planar_LS_THF_key]['energy']-out_HS_THF_dict[tetrahedral_HS_THF_key]['energy']\n",
    "))"
   ]
  },
  {
   "cell_type": "markdown",
   "id": "d1309513",
   "metadata": {},
   "source": [
    "### So, solvent doesn't play a huge role in any of the cases except comparing planar energetics across different spin states!\n",
    "\n",
    "\n",
    "\n",
    "## For (C), How about free energies?\n",
    "\n",
    "For free energy analysis we have also added a utility function which uses the ideal gas rigid rotor harmonic oscillator approach in the background:"
   ]
  },
  {
   "cell_type": "code",
   "execution_count": null,
   "id": "c2fd92e1",
   "metadata": {},
   "outputs": [],
   "source": [
    "from architector.vibrations_free_energy import calc_free_energy"
   ]
  },
  {
   "cell_type": "markdown",
   "id": "f6cd7784",
   "metadata": {},
   "source": [
    "Let's just look at the solvent phase different between lowest-energy singlet and lowest-energy triplet geometries with free energy:"
   ]
  },
  {
   "cell_type": "code",
   "execution_count": null,
   "id": "0739aafe",
   "metadata": {},
   "outputs": [],
   "source": [
    "LS_THF_ase_atoms = out_LS_THF_dict[planar_LS_THF_key]['ase_atoms']\n",
    "HS_THF_ase_atoms = out_HS_THF_dict[tetrahedral_HS_THF_key]['ase_atoms']"
   ]
  },
  {
   "cell_type": "markdown",
   "id": "dad71e99",
   "metadata": {},
   "source": [
    "Now, to evaluate at room temperature (298.15 K) all we need to do is call the utility function:"
   ]
  },
  {
   "cell_type": "code",
   "execution_count": null,
   "id": "2949c9fe",
   "metadata": {},
   "outputs": [],
   "source": [
    "LS_THF_free_energy = calc_free_energy(LS_THF_ase_atoms)"
   ]
  },
  {
   "cell_type": "markdown",
   "id": "3481e7d3",
   "metadata": {},
   "source": [
    "Same for HS:"
   ]
  },
  {
   "cell_type": "code",
   "execution_count": null,
   "id": "273344ee",
   "metadata": {},
   "outputs": [],
   "source": [
    "HS_THF_free_energy = calc_free_energy(HS_THF_ase_atoms)"
   ]
  },
  {
   "cell_type": "code",
   "execution_count": null,
   "id": "965e6b47",
   "metadata": {},
   "outputs": [],
   "source": [
    "print('Lowest-energy LS-HS THF delta E {} vs. delta G {} (eV).'.format(\n",
    "    out_LS_THF_dict[planar_LS_THF_key]['energy']-out_HS_THF_dict[tetrahedral_HS_THF_key]['energy'],\n",
    "    LS_THF_free_energy[0] - HS_THF_free_energy[0]\n",
    "))"
   ]
  },
  {
   "cell_type": "markdown",
   "id": "43848b29",
   "metadata": {},
   "source": [
    "Looks like Free energies causes a slight shift towards HS, but still follows the trend of planar being lower in energy for LS!"
   ]
  },
  {
   "cell_type": "markdown",
   "id": "964519da",
   "metadata": {},
   "source": [
    "# Conclusions\n",
    "\n",
    "In this tutorial we learned how to:\n",
    "    \n",
    "**(A)** Spin-state dependent geometry search.\n",
    "\n",
    "**(B)** Solvent effects in geometry search.\n",
    "\n",
    "**(C)** Free energy analysis after geometry searches."
   ]
  }
 ],
 "metadata": {
  "kernelspec": {
   "display_name": "Python 3.10.8 ('architector')",
   "language": "python",
   "name": "python3"
  },
  "language_info": {
   "codemirror_mode": {
    "name": "ipython",
    "version": 3
   },
   "file_extension": ".py",
   "mimetype": "text/x-python",
   "name": "python",
   "nbconvert_exporter": "python",
   "pygments_lexer": "ipython3",
   "version": "3.10.8"
  },
  "vscode": {
   "interpreter": {
    "hash": "d9faeb2a2170f4e60184b23dad276426e7089557c3539d9a2d03922f9a550f86"
   }
  }
 },
 "nbformat": 4,
 "nbformat_minor": 5
}
