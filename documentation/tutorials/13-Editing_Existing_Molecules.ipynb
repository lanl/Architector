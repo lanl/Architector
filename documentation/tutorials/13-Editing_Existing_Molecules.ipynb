{
 "cells": [
  {
   "cell_type": "markdown",
   "metadata": {},
   "source": [
    "# 13 - Editing Existing Molecules\n",
    "\n",
    "### In this tutorial we will learn how to edit existing molecules with architector functions.\n",
    "\n",
    "**(A)** How load exisiting molecules in and prepare to edit.\n",
    "\n",
    "**(B)** How to remove atoms from a molecule.\n",
    "\n",
    "**(C)** How add functional groups to existing molecules."
   ]
  },
  {
   "cell_type": "markdown",
   "metadata": {},
   "source": [
    "### For (A) convert_io_molecules is a singularly useful utility!"
   ]
  },
  {
   "cell_type": "code",
   "execution_count": null,
   "metadata": {},
   "outputs": [],
   "source": [
    "from architector import (convert_io_molecule,\n",
    "                         build_complex,\n",
    "                         view_structures)"
   ]
  },
  {
   "cell_type": "code",
   "execution_count": null,
   "metadata": {},
   "outputs": [],
   "source": [
    "# First, let's build an example molecule to evaluate\n",
    "inp = {'core':{'metal':'Fe','coreType':'octahedral'},\n",
    "               'ligands':['bipy'], # One bipyridine molecule with waters.\n",
    "                'parameters':{'assemble_method':'UFF', # Use UFF for SPEED.\n",
    "                              # Will still relax with GFn2-xTB!\n",
    "                             }}\n",
    "out = build_complex(inp)\n",
    "# Takes ~10 seconds on my laptop"
   ]
  },
  {
   "cell_type": "code",
   "execution_count": null,
   "metadata": {},
   "outputs": [],
   "source": [
    "# Now, we can see this molecule\n",
    "view_structures(out)\n",
    "out"
   ]
  },
  {
   "cell_type": "code",
   "execution_count": null,
   "metadata": {},
   "outputs": [],
   "source": [
    "# And pull out the structure back to an architector molecule using convert_io_molecule\n",
    "arch_mol = convert_io_molecule(out[list(out.keys())[0]]['mol2string'])"
   ]
  },
  {
   "cell_type": "code",
   "execution_count": null,
   "metadata": {},
   "outputs": [],
   "source": [
    "# Since this was generated with architector, it already has spin/charge assigned, and will use these for calculations.\n",
    "print('Num Unpaired Eelectrons: ',arch_mol.uhf, \n",
    "      'Molecule Charge: ', arch_mol.charge)"
   ]
  },
  {
   "cell_type": "code",
   "execution_count": null,
   "metadata": {},
   "outputs": [],
   "source": [
    "# But, a more realistic case for this functionality would be loaded something relaxed with an external DFT code and interpreting with Architector.\n",
    "# Here, we can output just an xyz file:\n",
    "arch_mol.write_xyz('example.xyz')"
   ]
  },
  {
   "cell_type": "code",
   "execution_count": null,
   "metadata": {},
   "outputs": [],
   "source": [
    "# And we can look at the xyz file to show it is normal:\n",
    "!head example.xyz"
   ]
  },
  {
   "cell_type": "code",
   "execution_count": null,
   "metadata": {},
   "outputs": [],
   "source": [
    "# We can load the molecule back into Architector with a single line.\n",
    "newmol = convert_io_molecule('example.xyz')\n",
    "# And detect the molecular graph, charge, and spin with a single line!\n",
    "newmol.create_mol_graph(skin=0.35) # Skin tells the the size beyond the sum of covalent radii to expand to look for neighbors in Angstroms)\n",
    "# One can increase or decrease if bonds are missed/added. Default is 0.2 Angstroms, which was too small for this case!\n",
    "newmol.detect_charge_spin() # Detect the charge a spin of the molecule -> Currently works best for mononuclear metal complexes."
   ]
  },
  {
   "cell_type": "code",
   "execution_count": null,
   "metadata": {},
   "outputs": [],
   "source": [
    "# Note that the exact charge and spin was recovered without the graph/values needed.\n",
    "print('New Num Unpaired Eelectrons: ',newmol.uhf, \n",
    "      'New Molecule Charge: ', newmol.charge)"
   ]
  },
  {
   "cell_type": "code",
   "execution_count": null,
   "metadata": {},
   "outputs": [],
   "source": [
    "# Note, however, that bond orders are slightly different:\n",
    "view_structures(newmol)"
   ]
  },
  {
   "cell_type": "markdown",
   "metadata": {},
   "source": [
    "### Now, For (B), let's remove some atoms!\n",
    "\n",
    "\n",
    "A useful function that can be performed on a molecule is deleting existing atoms.\n",
    "\n",
    "\n",
    "But what atoms should we delete?\n",
    "\n",
    "Let's try deleting the bipy ligand!"
   ]
  },
  {
   "cell_type": "code",
   "execution_count": null,
   "metadata": {},
   "outputs": [],
   "source": [
    "# To start, we have a utility function to divide the molecule into ligands\n",
    "lig_info = newmol.split_ligs()\n",
    "print(lig_info)"
   ]
  },
  {
   "cell_type": "code",
   "execution_count": null,
   "metadata": {},
   "outputs": [],
   "source": [
    "# To Delete the bipy, we want to remove all the indices under the \"original_lig_inds\" key in the first array.\n",
    "newmol.remove_atoms(lig_info['original_lig_inds'][0])"
   ]
  },
  {
   "cell_type": "code",
   "execution_count": null,
   "metadata": {},
   "outputs": [],
   "source": [
    "# Let's see! \n",
    "view_structures(newmol)\n",
    "# Should look good! \n",
    "# Note that this will not track the charge/spin of the molecule with atoms deleted. So if a ligand/functional group deleted is charged/radical, \n",
    "# Re-running detect_charge_spin() is suggested!"
   ]
  },
  {
   "cell_type": "markdown",
   "metadata": {},
   "source": [
    "### Now, for (C) - one of the more important architector structure editing functionalities!\n",
    "\n",
    "Functionalization! \n",
    "\n",
    "Architector now contains powerful 3D functionalization routines that should be easy to use.\n",
    "\n",
    "Let's start again from the example.xyz!"
   ]
  },
  {
   "cell_type": "code",
   "execution_count": null,
   "metadata": {},
   "outputs": [],
   "source": [
    "# Loading into a new molecule format.\n",
    "newmol2 = convert_io_molecule('example.xyz')\n",
    "newmol2.create_mol_graph(skin=0.35)\n",
    "newmol2.detect_charge_spin()"
   ]
  },
  {
   "cell_type": "code",
   "execution_count": null,
   "metadata": {},
   "outputs": [],
   "source": [
    "# View, this time with indices\n",
    "view_structures(newmol2, labelinds=True, w=400, h=400)"
   ]
  },
  {
   "cell_type": "markdown",
   "metadata": {},
   "source": [
    "### Let's add a C8 chain to carbon with index 4, and a C6 chain to oxygen 27.\n",
    "\n",
    "Here, we use the functionalize_3D function, passing:\n",
    "\n",
    "1) functional_groups : list of SMILES strings of functional groups or labels of functional groups.\n",
    "   Note that for functional groups, architector assumes the first atom in the SMILES string is where the \n",
    "   functional group will attach to the molecule.\n",
    "2) functionalization_inds : list of the indices in the molecule where the functional groups will attach!\n",
    "3) bond_orders : list of the bond orders of the functional group to the corresponding index.\n",
    "4) xtb_opt : bool : whether to perform a constrained xtb optimization.\n",
    "\n",
    "Note that this function will always assume the existing molecule atoms will be fixed in space!\n",
    "\n",
    "They WILL NOT move during functionalization."
   ]
  },
  {
   "cell_type": "code",
   "execution_count": null,
   "metadata": {},
   "outputs": [],
   "source": [
    "newmol2.functionalize_3D(\n",
    "    functional_groups=['C'*8,'C'*6], # C8 and C6 smiles strings\n",
    "    functionalization_inds=[4,27], # Atom 4 (carbon) and atom 27 (oxygen)\n",
    "    bond_orders=[1,1], # Single bonds\n",
    "    xtb_opt=True\n",
    "    )"
   ]
  },
  {
   "cell_type": "code",
   "execution_count": null,
   "metadata": {},
   "outputs": [],
   "source": [
    "# Should look good!\n",
    "view_structures(newmol2,w=400,h=400,labelinds=True)"
   ]
  },
  {
   "cell_type": "code",
   "execution_count": null,
   "metadata": {},
   "outputs": [],
   "source": [
    "# Now, let's do a secondary functionalization with a named functional group!\n",
    "from architector.io_ptable import functional_groups_dict\n",
    "# Print out all the \"known\" functional group names.\n",
    "functional_groups_dict.keys()"
   ]
  },
  {
   "cell_type": "code",
   "execution_count": null,
   "metadata": {},
   "outputs": [],
   "source": [
    "# Now, we can do a secondary functionalization with a carboxylate at the other remaining para-carbon position (should be index 9!)\n",
    "newmol2.functionalize_3D(\n",
    "    functional_groups=['carboxylate'],\n",
    "    functionalization_inds=[9],\n",
    "    # Note - no XTB optimization! - Can result in stranger interatomic angles!\n",
    ")"
   ]
  },
  {
   "cell_type": "code",
   "execution_count": null,
   "metadata": {},
   "outputs": [],
   "source": [
    "# Should look good! Maybe a bad carbon-carboxylate angle since only UFF used for optimization\n",
    "view_structures(newmol2,w=400,h=400,labelinds=True)"
   ]
  },
  {
   "cell_type": "code",
   "execution_count": null,
   "metadata": {},
   "outputs": [],
   "source": [
    "# We can also perform ring-closures using multiple coordination indices! :\n",
    "# Here, we can add ethylene to the briding bipy atoms to form a hex-carbon ring!\n",
    "newmol2.functionalize_3D(functional_groups=['C=C'], # Ethylene smiles.\n",
    "                     functionalization_inds=[[5,8]], # Indices in molecule to bind molecule to.\n",
    "                     functional_group_mol_inds=[[0,1]], # Indices in functional group to add\n",
    "                     bond_orders=[[1,1]], # Bond orders of ring closure \n",
    "                     # No XTB optimization again.\n",
    "                     )"
   ]
  },
  {
   "cell_type": "code",
   "execution_count": null,
   "metadata": {},
   "outputs": [],
   "source": [
    "view_structures(newmol2,w=400,h=400)"
   ]
  },
  {
   "cell_type": "code",
   "execution_count": null,
   "metadata": {},
   "outputs": [],
   "source": [
    "# Note that the charge of the molecule has shifted with the addition of the charged \n",
    "# Carboxylate functional group!\n",
    "print('New3 Num Unpaired Electrons: ',newmol2.uhf, \n",
    "      'New2 Molecule Charge: ', newmol2.charge)"
   ]
  },
  {
   "cell_type": "code",
   "execution_count": null,
   "metadata": {},
   "outputs": [],
   "source": [
    "# Putting together all the components for a full end-to-end example.\n",
    "newmol2 = convert_io_molecule('example.xyz') # Load molecule from file\n",
    "newmol2.create_mol_graph(skin=0.35)\n",
    "newmol2.detect_charge_spin()\n",
    "view_structures(newmol2,labelinds=True)\n",
    "newmol2.remove_atoms([22,23]) # Remove two hydrogens from same water\n",
    "view_structures(newmol2,labelinds=True)\n",
    "funct_group_mol = convert_io_molecule('CCCCCC')\n",
    "view_structures(funct_group_mol,labelinds=True) # Create 6-long hydrocarbon chain \n",
    "funct_group_mol.remove_atoms([6,18]) # Remove hydrogens from first and last indices.\n",
    "newmol2.functionalize_3D(functional_groups=[funct_group_mol], \n",
    "                         functionalization_inds=[[21,21]], # Bond the hydrocarbons to oxygen we removed indices from.\n",
    "                         functional_group_mol_inds=[[0,5]],\n",
    "                         bond_orders=[[1,1]], # Add as single bonds\n",
    "                         remove_hydrogens_when_adding=[[False,False]], # Since we already removed the hydrogens we don't have \n",
    "                         # Have the program do it again!\n",
    "                         xtb_opt=True # Do XTB optimization.\n",
    "                         )\n",
    "print('Final Functionalized Structure:')\n",
    "view_structures(newmol2)"
   ]
  },
  {
   "cell_type": "code",
   "execution_count": null,
   "metadata": {},
   "outputs": [],
   "source": [
    "# Technically, this can be only a couple-line code as well:\n",
    "newmol2 = convert_io_molecule('example.xyz') # Load molecule from file\n",
    "newmol2.create_mol_graph(skin=0.35)\n",
    "newmol2.detect_charge_spin()\n",
    "# Now, do the functionalization in one-shot.\n",
    "newmol2.functionalize_3D(functional_groups=['CCCCCC'], \n",
    "                         functionalization_inds=[[21,21]], # Bond the hydrocarbons to oxygen we removed indices from.\n",
    "                         functional_group_mol_inds=[[0,5]],\n",
    "                         bond_orders=[[1,1]], # Add as single bonds\n",
    "                         xtb_opt=True # Do XTB optimization.\n",
    "                         )\n",
    "print('Final Functionalized Structure:')\n",
    "view_structures(newmol2)"
   ]
  },
  {
   "cell_type": "markdown",
   "metadata": {},
   "source": [
    "### In this tutorial we learned how to edit existing molecules with architector including how to:\n",
    "\n",
    "**(A)** Load exisiting molecules in and prepare to edit.\n",
    "\n",
    "**(B)** Remove atoms from a molecule.\n",
    "\n",
    "**(C)** Add functional groups to existing molecules."
   ]
  }
 ],
 "metadata": {
  "kernelspec": {
   "display_name": "base",
   "language": "python",
   "name": "python3"
  },
  "language_info": {
   "codemirror_mode": {
    "name": "ipython",
    "version": 3
   },
   "file_extension": ".py",
   "mimetype": "text/x-python",
   "name": "python",
   "nbconvert_exporter": "python",
   "pygments_lexer": "ipython3",
   "version": "3.10.12"
  }
 },
 "nbformat": 4,
 "nbformat_minor": 2
}
