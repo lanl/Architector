{
 "cells": [
  {
   "cell_type": "markdown",
   "id": "d99f6153",
   "metadata": {},
   "source": [
    "# 1 - Overview/Introduction:\n",
    "\n",
    "### In this tutorial we will learn 3 key things to using Architector:\n",
    "\n",
    "**(A)** How to define basic input dictionaries for Architector.\n",
    "\n",
    "**(B)** How to understand and visualize outputs from Architector.\n",
    "\n",
    "**(C)** How to play with potentially important parameters for getting at chemical meaning."
   ]
  },
  {
   "cell_type": "markdown",
   "id": "20fabbd4",
   "metadata": {},
   "source": [
    "## Starting from **(A)**: \n",
    "Architector operates entirely within python for the general user taking an input dictionary, returning an output dictionary."
   ]
  },
  {
   "cell_type": "code",
   "execution_count": null,
   "id": "8799202c",
   "metadata": {},
   "outputs": [],
   "source": [
    "# Initialize Input Dictionary:\n",
    "inputDict = dict()"
   ]
  },
  {
   "cell_type": "markdown",
   "id": "e374fc0e",
   "metadata": {},
   "source": [
    "For the first example we will make and Iron Hexa Aqua Complex : [Fe(H<sub>2</sub>O)<sub>6</sub>]<sup>2+</sup> / [Fe(H<sub>2</sub>O)<sub>6</sub>]<sup>3+</sup>\n",
    "\n",
    "There are 3 high-level inputs to Architector in an input dictionary to be aware of:\n",
    "\n",
    "## 1. Core: Dictionary:\n",
    "\n",
    "Indicates what metal is present, what its coordination number (CN) or number of of connections are, or specific core coordination. So for Iron Hexa-Aqua we will need to specify two parameters:"
   ]
  },
  {
   "cell_type": "code",
   "execution_count": null,
   "id": "4778a13e",
   "metadata": {},
   "outputs": [],
   "source": [
    "# Initialize Core Dictionary\n",
    "coreDict = dict()\n",
    "\n",
    "# Specify the metal:\n",
    "coreDict['metal'] = 'Fe'\n",
    "\n",
    "# Specify the coordination number (CN):\n",
    "coreDict['coreCN'] = 6"
   ]
  },
  {
   "cell_type": "markdown",
   "id": "7903ebed",
   "metadata": {},
   "source": [
    "### That's it! Now we can add core to the input dictionary:"
   ]
  },
  {
   "cell_type": "code",
   "execution_count": null,
   "id": "9f309881",
   "metadata": {},
   "outputs": [],
   "source": [
    "# Add the core to the input dictionary:\n",
    "inputDict['core'] = coreDict"
   ]
  },
  {
   "cell_type": "markdown",
   "id": "5ef29167",
   "metadata": {},
   "source": [
    "## 2. Ligands Dictionary:\n",
    "\n",
    "The ligands input to Architector specifies which ligands and the relative numbers of ligands passed. \n",
    "\n",
    "The ligands section of the inputDict is at the base level a python list of ligands represented as a dictionary:"
   ]
  },
  {
   "cell_type": "code",
   "execution_count": null,
   "id": "03067431",
   "metadata": {},
   "outputs": [],
   "source": [
    "# Initilize Ligand List\n",
    "ligList = []\n",
    "\n",
    "# Define Water dictionary\n",
    "water = dict()"
   ]
  },
  {
   "cell_type": "markdown",
   "id": "5fca319c",
   "metadata": {},
   "source": [
    "The simplest way to define ligands is from only the ligands SMILES string and the list of coordinating atoms.\n",
    "\n",
    "[SMILES](https://en.wikipedia.org/wiki/Simplified_molecular-input_line-entry_system) is one of the most common methods for representing molecules for chemists. For water (H<sub>2</sub>O), and most common chemicals, we can find their representative smiles strings even on [wikipedia](https://en.wikipedia.org/wiki/Properties_of_water) or on [pubchem](https://pubchem.ncbi.nlm.nih.gov/compound/Water) from a quick google search.\n",
    "\n",
    "For water, the SMILES is 'O'. "
   ]
  },
  {
   "cell_type": "code",
   "execution_count": null,
   "id": "cec97287",
   "metadata": {},
   "outputs": [],
   "source": [
    "# Add SMILES definition\n",
    "water['smiles'] = 'O'"
   ]
  },
  {
   "cell_type": "markdown",
   "id": "a1b64756",
   "metadata": {},
   "source": [
    "Since there is only one heavy element (Z > 1) in water, the only coordination site for the molecule is the first element, which corresponds to a (0-indexed) site of [0]. For more on SMILES and coordination site identification see the second tutorial: 2-Ligand_Identification.ipynb."
   ]
  },
  {
   "cell_type": "code",
   "execution_count": null,
   "id": "d6eccdd8",
   "metadata": {},
   "outputs": [],
   "source": [
    "# Add coordination site list\n",
    "water['coordList'] = [0]"
   ]
  },
  {
   "cell_type": "markdown",
   "id": "4ca0a729",
   "metadata": {},
   "source": [
    "### Finally, we need to add 6 waters to the input dictionary for Iron Hexa-Aqua:"
   ]
  },
  {
   "cell_type": "code",
   "execution_count": null,
   "id": "3543175f",
   "metadata": {},
   "outputs": [],
   "source": [
    "# Add six copies of water to the ligand list:\n",
    "ligList += [water] * 6 \n",
    "\n",
    "# Add the ligands to the inputDictionary\n",
    "inputDict['ligands'] = ligList"
   ]
  },
  {
   "cell_type": "markdown",
   "id": "1c57caeb",
   "metadata": {},
   "source": [
    "## 3. Parameters\n",
    "\n",
    "The parameters section of architector can give you broad leeway to specify how you want the construction of the molecules to occur.\n",
    "\n",
    "A basic parameters input requires just an empty dictionary. To increase this complexity by just a bit we will add the desired oxidation state to the parameters.  (giving: [Fe(H<sub>2</sub>O)<sub>6</sub>]<sup>2+</sup>)"
   ]
  },
  {
   "cell_type": "code",
   "execution_count": null,
   "id": "c39e1315",
   "metadata": {},
   "outputs": [],
   "source": [
    "# Initialize Parameters dictionary\n",
    "parameters = dict()\n",
    "\n",
    "# Specify oxidation state of 2 for the metal\n",
    "parameters['metal_ox'] = 2"
   ]
  },
  {
   "cell_type": "markdown",
   "id": "82395379",
   "metadata": {},
   "source": [
    "### And add these parameters to the input dictionary:"
   ]
  },
  {
   "cell_type": "code",
   "execution_count": null,
   "id": "98f3a2ba",
   "metadata": {},
   "outputs": [],
   "source": [
    "inputDict['parameters'] = parameters"
   ]
  },
  {
   "cell_type": "markdown",
   "id": "580ca0e8",
   "metadata": {},
   "source": [
    "### Now we have a fully assembled input dictionary for [Fe(H<sub>2</sub>O)<sub>6</sub>]<sup>2+</sup>\n",
    "\n",
    "This is quite easy to print out in a jupyter notebook:"
   ]
  },
  {
   "cell_type": "code",
   "execution_count": null,
   "id": "fc793b71",
   "metadata": {},
   "outputs": [],
   "source": [
    "inputDict"
   ]
  },
  {
   "cell_type": "markdown",
   "id": "dc7a9a84",
   "metadata": {},
   "source": [
    "#### Note that a FULL description of potential input dictionary parameters and values can be found in the README.md file."
   ]
  },
  {
   "cell_type": "code",
   "execution_count": null,
   "id": "bed4d55a",
   "metadata": {},
   "outputs": [],
   "source": [
    "# Now we Import the main building functionalities and the in-built visualization of architector:\n",
    "from architector import build_complex, view_structures"
   ]
  },
  {
   "cell_type": "markdown",
   "id": "1f05d6ec",
   "metadata": {},
   "source": [
    "#### Now, we build the complex!\n",
    "\n",
    "Building the first complex should take just a couple seconds:"
   ]
  },
  {
   "cell_type": "code",
   "execution_count": null,
   "id": "0798f799",
   "metadata": {
    "scrolled": true
   },
   "outputs": [],
   "source": [
    "# We can see it print out information as it is processing.\n",
    "# The last line should be: 'ComplexSanity:  True'\n",
    "out = build_complex(inputDict)"
   ]
  },
  {
   "cell_type": "markdown",
   "id": "2d69fc18",
   "metadata": {},
   "source": [
    "## Now, onto **(B)** :  Understanding and visualizing output from architector\n",
    "\n",
    "There's obviously a lot going on here:"
   ]
  },
  {
   "cell_type": "code",
   "execution_count": null,
   "id": "192723e8",
   "metadata": {
    "scrolled": true
   },
   "outputs": [],
   "source": [
    "out"
   ]
  },
  {
   "cell_type": "markdown",
   "id": "fdabfd27",
   "metadata": {},
   "source": [
    "#### So let's first just visualize the structures:"
   ]
  },
  {
   "cell_type": "code",
   "execution_count": null,
   "id": "699598e3",
   "metadata": {},
   "outputs": [],
   "source": [
    "view_structures(out)"
   ]
  },
  {
   "cell_type": "code",
   "execution_count": null,
   "id": "f141c3c9",
   "metadata": {},
   "outputs": [],
   "source": [
    "# We can also add labels to describe the structures:\n",
    "labels = list(out.keys()) # Here, I am just pulling out the keys describing each structure\n",
    "view_structures(out,labels=labels)"
   ]
  },
  {
   "cell_type": "markdown",
   "id": "72a0c4d6",
   "metadata": {},
   "source": [
    "#### We can also look at what architector assigns as the defualt charge and spin for verification"
   ]
  },
  {
   "cell_type": "code",
   "execution_count": null,
   "id": "bdc25d81",
   "metadata": {},
   "outputs": [],
   "source": [
    "key = labels[0] # Pull out the first structure to get spin/charge states\n",
    "print('Metal Oxidation State: ',out[key]['metal_ox'])\n",
    "print('Total System Charge: ',out[key]['total_charge'])\n",
    "print('Total N Unpaired Electrons (spin): ',out[key]['calc_n_unpaired_electrons'])"
   ]
  },
  {
   "cell_type": "markdown",
   "id": "050a081b",
   "metadata": {},
   "source": [
    "#### Note that the default spin state for Fe in Architector is high-spin (4 unpaired electrons means spin multiplicity = 5)!"
   ]
  },
  {
   "cell_type": "markdown",
   "id": "142a827f",
   "metadata": {},
   "source": [
    "## Now for (C), we want to generate  [Fe(H<sub>2</sub>O)<sub>6</sub>]<sup>3+</sup> to see if there's a difference!\n",
    "\n",
    "Looking at different charge and spin states can be key to understanding the structure and function of different first-row transition metal complexes as in [This Work](https://pubs.rsc.org/en/content/articlelanding/2020/cp/d0cp02977g).\n",
    "\n",
    "We can copy the inputDict and simply modify in place to create Fe3+ Hexa-Aqua!"
   ]
  },
  {
   "cell_type": "code",
   "execution_count": null,
   "id": "6a39d975",
   "metadata": {},
   "outputs": [],
   "source": [
    "# Import copy\n",
    "import copy"
   ]
  },
  {
   "cell_type": "code",
   "execution_count": null,
   "id": "443956c6",
   "metadata": {},
   "outputs": [],
   "source": [
    "# Copy inputDict\n",
    "new_inputDict = copy.deepcopy(inputDict)\n",
    "# Set the metal oxidation state to 3 instead\n",
    "new_inputDict['parameters']['metal_ox'] = 3"
   ]
  },
  {
   "cell_type": "markdown",
   "id": "eaa516f1",
   "metadata": {},
   "source": [
    "Printing out the new input dictionary reveals the slight shift:\n",
    "\n",
    "Note that during building the is_actinide, and original metal flags get added in case an actinide is passed as an input."
   ]
  },
  {
   "cell_type": "code",
   "execution_count": null,
   "id": "ed6be5c7",
   "metadata": {},
   "outputs": [],
   "source": [
    "new_inputDict"
   ]
  },
  {
   "cell_type": "markdown",
   "id": "9ce78a9d",
   "metadata": {},
   "source": [
    "### Now we can build the [Fe(H<sub>2</sub>O)<sub>6</sub>]<sup>3+</sup> "
   ]
  },
  {
   "cell_type": "code",
   "execution_count": null,
   "id": "36118ea8",
   "metadata": {
    "scrolled": true
   },
   "outputs": [],
   "source": [
    "# Build new molecule (Takes maybe 30 seconds)\n",
    "out1 = build_complex(new_inputDict)"
   ]
  },
  {
   "cell_type": "code",
   "execution_count": null,
   "id": "99b5cf4d",
   "metadata": {},
   "outputs": [],
   "source": [
    "# Let's visualize the strucutres again:\n",
    "view_structures(out1)"
   ]
  },
  {
   "cell_type": "markdown",
   "id": "a1e1a937",
   "metadata": {},
   "source": [
    "### How about the spin and charge?\n",
    "\n",
    "The structures look very similar, so let's check the spin and charge:"
   ]
  },
  {
   "cell_type": "code",
   "execution_count": null,
   "id": "d0d4ea91",
   "metadata": {},
   "outputs": [],
   "source": [
    "key = list(out1.keys())[0]\n",
    "print('Metal Oxidation State: ',out1[key]['metal_ox'])\n",
    "print('Total System Charge: ',out1[key]['total_charge'])\n",
    "print('Total N Unpaired Electrons (spin): ',out1[key]['calc_n_unpaired_electrons'])"
   ]
  },
  {
   "cell_type": "markdown",
   "id": "b9255b2d",
   "metadata": {},
   "source": [
    "So we can see we've created both High Spin (HS) [Fe(H<sub>2</sub>O)<sub>6</sub>]<sup>3+</sup> in the out1 dictionary, and [Fe(H<sub>2</sub>O)<sub>6</sub>]<sup>2+</sup> in the out dictionary.\n",
    "\n",
    "For simplicity and tracking sake, let's rename these variables accordingly:"
   ]
  },
  {
   "cell_type": "code",
   "execution_count": null,
   "id": "4d67cf33",
   "metadata": {},
   "outputs": [],
   "source": [
    "hs_fe2_dict = out\n",
    "hs_fe3_dict = out1"
   ]
  },
  {
   "cell_type": "markdown",
   "id": "79ad3534",
   "metadata": {},
   "source": [
    "## Still in (C), let's measure the difference in bond distances betwee the two charge state structures!\n",
    "\n",
    "We will be using numpy package for analysis:"
   ]
  },
  {
   "cell_type": "code",
   "execution_count": null,
   "id": "9c361d03",
   "metadata": {},
   "outputs": [],
   "source": [
    "import numpy as np"
   ]
  },
  {
   "cell_type": "markdown",
   "id": "461197ad",
   "metadata": {},
   "source": [
    "#### Let's look at the High-Spin (HS) Fe-O distances for both the octahedral 2+ and 3+ forms using the following function:\n",
    "\n",
    "For this function we will also be using several of the built-in functionality of the [ASE Atoms](https://wiki.fysik.dtu.dk/ase/ase/atoms.html) output included in every output dictionary."
   ]
  },
  {
   "cell_type": "code",
   "execution_count": null,
   "id": "ba0ecd6b",
   "metadata": {},
   "outputs": [],
   "source": [
    "def avg_fe_o_dist(ase_atoms):\n",
    "    # Have ase atoms gives all the functionality of ase!\n",
    "    symbols = np.array(ase_atoms.get_chemical_symbols()) # List of chemical symbols\n",
    "    distances = ase_atoms.get_all_distances() # Matrix (Natoms x Natoms) of distances in Angstroms\n",
    "    # Pull out the indices of Fe, and O:\n",
    "    fe_ind = np.where(symbols == 'Fe')[0]\n",
    "    o_inds = np.where(symbols == 'O')[0]\n",
    "    # Now tablulate Fe-O distances\n",
    "    dists = [distances[fe_ind,x] for x in o_inds]\n",
    "    avg_dists = np.mean(dists) # And take the average\n",
    "    return avg_dists"
   ]
  },
  {
   "cell_type": "markdown",
   "id": "e0e85fbc",
   "metadata": {},
   "source": [
    "We first look at Fe2+-O distances."
   ]
  },
  {
   "cell_type": "code",
   "execution_count": null,
   "id": "6bb556fb",
   "metadata": {},
   "outputs": [],
   "source": [
    "fe2key = list(hs_fe2_dict.keys())[0]\n",
    "hs_fe2_avg_dist = avg_fe_o_dist(hs_fe2_dict[fe2key]['ase_atoms'])\n",
    "print('Average Fe2+-O distance (Angstroms):', hs_fe2_avg_dist)"
   ]
  },
  {
   "cell_type": "code",
   "execution_count": null,
   "id": "3d5549bb",
   "metadata": {},
   "outputs": [],
   "source": [
    "# Same procedure for F3+-O!\n",
    "fe3key = list(hs_fe3_dict.keys())[0]\n",
    "hs_fe3_avg_dist = avg_fe_o_dist(hs_fe3_dict[fe3key]['ase_atoms'])\n",
    "print('Average F3+-O distance (Angstroms):', hs_fe3_avg_dist)"
   ]
  },
  {
   "cell_type": "markdown",
   "id": "4ae0ae0a",
   "metadata": {},
   "source": [
    "### So we can see that the 3+ Fe-O distance is slightly shorter than the 2+ Fe-O distance.\n",
    "\n",
    "This is in agreement with intuition, where more highly charged metal center attracts negatively charged O stronger!"
   ]
  },
  {
   "cell_type": "markdown",
   "id": "7958769d",
   "metadata": {},
   "source": [
    "## What about if we want to look at different spin states, e.g. Low-Spin (LS) Configurations?\n",
    "\n",
    "Now we can simply re-copy the input dictionary and edit again to examine low-spin configurations:"
   ]
  },
  {
   "cell_type": "code",
   "execution_count": null,
   "id": "9a06f7e8",
   "metadata": {},
   "outputs": [],
   "source": [
    "fe2_ls_inputDict = copy.deepcopy(inputDict)"
   ]
  },
  {
   "cell_type": "code",
   "execution_count": null,
   "id": "2b1abe0a",
   "metadata": {
    "scrolled": true
   },
   "outputs": [],
   "source": [
    "# Here, we assign the metal spin to be 0 and let architector ultimately assign the spin:\n",
    "fe2_ls_inputDict['parameters']['metal_ox'] = 2\n",
    "fe2_ls_inputDict['parameters']['metal_spin'] = 0"
   ]
  },
  {
   "cell_type": "markdown",
   "id": "e5e8c7b1",
   "metadata": {},
   "source": [
    "Quick spot-check to make sure the parameters are what we'd like for LS Fe2+ Hexa-Aqua"
   ]
  },
  {
   "cell_type": "code",
   "execution_count": null,
   "id": "163a1141",
   "metadata": {},
   "outputs": [],
   "source": [
    "fe2_ls_inputDict"
   ]
  },
  {
   "cell_type": "markdown",
   "id": "e0e6a450",
   "metadata": {},
   "source": [
    "Looks good! Now we can build the LS Fe2+ complex:"
   ]
  },
  {
   "cell_type": "code",
   "execution_count": null,
   "id": "1a804762",
   "metadata": {
    "scrolled": true
   },
   "outputs": [],
   "source": [
    "ls_fe2_dict = build_complex(fe2_ls_inputDict)"
   ]
  },
  {
   "cell_type": "markdown",
   "id": "7db38ab2",
   "metadata": {},
   "source": [
    "And again we can visualize!"
   ]
  },
  {
   "cell_type": "code",
   "execution_count": null,
   "id": "d0c67f1f",
   "metadata": {},
   "outputs": [],
   "source": [
    "view_structures(ls_fe2_dict)"
   ]
  },
  {
   "cell_type": "markdown",
   "id": "bf7a243f",
   "metadata": {},
   "source": [
    "### Wait! In some cases for LS - only one unique geometry is generated!\n",
    "\n",
    "This is because Architector automatically removes duplicate geometries unless otherwise requested.\n",
    "\n",
    "For verification, let's check the spin/charge states of the complex:"
   ]
  },
  {
   "cell_type": "code",
   "execution_count": null,
   "id": "c7311789",
   "metadata": {},
   "outputs": [],
   "source": [
    "key = list(ls_fe2_dict.keys())[0]\n",
    "print('Metal Oxidation State: ',ls_fe2_dict[key]['metal_ox'])\n",
    "print('Total System Charge: ',ls_fe2_dict[key]['total_charge'])\n",
    "print('Total N Unpaired Electrons (spin): ',ls_fe2_dict[key]['calc_n_unpaired_electrons'])"
   ]
  },
  {
   "cell_type": "markdown",
   "id": "242a7b4b",
   "metadata": {},
   "source": [
    "# LS Fe2+ Looks good - how about LS Fe3+?\n",
    "\n",
    "Here, we again copy the input dictionary:"
   ]
  },
  {
   "cell_type": "code",
   "execution_count": null,
   "id": "30e0b597",
   "metadata": {},
   "outputs": [],
   "source": [
    "# How about for LS Fe3+ ?\n",
    "fe3_ls_inputDict = copy.deepcopy(new_inputDict)"
   ]
  },
  {
   "cell_type": "markdown",
   "id": "050d0171",
   "metadata": {},
   "source": [
    "To highlight that Architector automatically determines the closest chemically-relevant spin, we will again assign the spin of LS Fe3+ to 0, when we know there is at least 1 unpaired electron (meaning LS should be 1!)"
   ]
  },
  {
   "cell_type": "code",
   "execution_count": null,
   "id": "fda69330",
   "metadata": {
    "scrolled": true
   },
   "outputs": [],
   "source": [
    "fe3_ls_inputDict['parameters']['metal_spin'] = 0\n",
    "fe3_ls_inputDict # Print out the assemble dictionary"
   ]
  },
  {
   "cell_type": "markdown",
   "id": "35ccf1b6",
   "metadata": {},
   "source": [
    "Now build the Fe3+ LS structure:"
   ]
  },
  {
   "cell_type": "code",
   "execution_count": null,
   "id": "433755cc",
   "metadata": {
    "scrolled": true
   },
   "outputs": [],
   "source": [
    "ls_fe3_dict = build_complex(fe3_ls_inputDict)"
   ]
  },
  {
   "cell_type": "code",
   "execution_count": null,
   "id": "ae96e069",
   "metadata": {},
   "outputs": [],
   "source": [
    "view_structures(ls_fe3_dict)"
   ]
  },
  {
   "cell_type": "markdown",
   "id": "7cb80913",
   "metadata": {},
   "source": [
    "Note that we might be back to all three structures for LS Fe3+!\n",
    "\n",
    "Here, we will again check that spin and charge have been correctly assigned:"
   ]
  },
  {
   "cell_type": "code",
   "execution_count": null,
   "id": "40ea37bb",
   "metadata": {},
   "outputs": [],
   "source": [
    "key = list(ls_fe3_dict.keys())[0]\n",
    "print('Metal Oxidation State: ',ls_fe3_dict[key]['metal_ox'])\n",
    "print('Total System Charge: ',ls_fe3_dict[key]['total_charge'])\n",
    "print('Total N Unpaired Electrons (spin): ',ls_fe3_dict[key]['calc_n_unpaired_electrons'])"
   ]
  },
  {
   "cell_type": "markdown",
   "id": "0fe2d962",
   "metadata": {},
   "source": [
    "### Looks like low-spin Fe3+,  and that the 0 was automaticlaly shifted to 1 upaired electron for the Fe3+ system.\n",
    "\n",
    "If you try and assign an un-physical spin state Architector will automatically correct it to the closest possible physically-meaningful spin state!"
   ]
  },
  {
   "cell_type": "markdown",
   "id": "3a3a67b3",
   "metadata": {},
   "source": [
    "### Let's also examine the Fe-O bond distances in the LS configurations.\n",
    "\n",
    "Here we'd expect LS Fe-O bond lengths to be shorter than their HS counterparts!"
   ]
  },
  {
   "cell_type": "code",
   "execution_count": null,
   "id": "1a02ceac",
   "metadata": {},
   "outputs": [],
   "source": [
    "ls_fe2_key = list(ls_fe2_dict.keys())[0]\n",
    "ls_fe2_atoms = ls_fe2_dict[ls_fe2_key]['ase_atoms']\n",
    "ls_fe2_avg_dist = avg_fe_o_dist(ls_fe2_dict[ls_fe2_key]['ase_atoms'])\n",
    "print('Average LS Fe2+-O distance (Angstroms): ',ls_fe2_avg_dist)"
   ]
  },
  {
   "cell_type": "code",
   "execution_count": null,
   "id": "d6317790",
   "metadata": {},
   "outputs": [],
   "source": [
    "ls_fe3_key = list(ls_fe3_dict.keys())[0]\n",
    "ls_fe3_atoms = ls_fe3_dict[ls_fe3_key]['ase_atoms']\n",
    "ls_fe3_avg_dist = avg_fe_o_dist(ls_fe3_dict[ls_fe3_key]['ase_atoms'])\n",
    "print('Average LS Fe3+-O distance (Angstroms): ',ls_fe3_avg_dist)"
   ]
  },
  {
   "cell_type": "markdown",
   "id": "b3c9c447",
   "metadata": {},
   "source": [
    "### We see the same trend for Fe2+-O vs. Fe3+-O distances in the LS vs. HS! \n",
    "\n",
    "How about if we plot out all of these Fe-O distances for different oxidation states:"
   ]
  },
  {
   "cell_type": "code",
   "execution_count": null,
   "id": "8dd6e597",
   "metadata": {},
   "outputs": [],
   "source": [
    "# Here, we'll use matplotib to generate a plot!\n",
    "import matplotlib.pyplot as plt"
   ]
  },
  {
   "cell_type": "markdown",
   "id": "b65c8d3b",
   "metadata": {},
   "source": [
    "Basic plotting with metal oxidation state and average distances:"
   ]
  },
  {
   "cell_type": "code",
   "execution_count": null,
   "id": "f585e76a",
   "metadata": {},
   "outputs": [],
   "source": [
    "x = [2,3] # Oxidation states\n",
    "plt.scatter(x,[ls_fe2_avg_dist,ls_fe3_avg_dist],label='Low Spin',color='b')\n",
    "plt.scatter(x,[hs_fe2_avg_dist,hs_fe3_avg_dist],label='High Spin',color='r')\n",
    "plt.xlim(1.5,3.5)\n",
    "plt.xticks([2,3])\n",
    "plt.legend()\n",
    "plt.xlabel('Metal Oxidation State')\n",
    "plt.ylabel('Average Fe-O distance ($\\AA$)')"
   ]
  },
  {
   "cell_type": "markdown",
   "id": "14ad2fdf",
   "metadata": {},
   "source": [
    "## Looks exactly like what we'd expect from chemical intuition!\n",
    "\n",
    "The [XTB](https://xtb-docs.readthedocs.io/) methods Architector use in the background capture these chemical trends near-perfect!"
   ]
  },
  {
   "cell_type": "markdown",
   "id": "ab4acac3",
   "metadata": {},
   "source": [
    "## Finally, for any of these structures, we can write out potential structures to use in any external electronic structure code!\n",
    "\n",
    "Uncomment (remove the #s) and run the cell below to get a labelled .xyz file for LS Fe3+ - Hexa-Aqua!"
   ]
  },
  {
   "cell_type": "code",
   "execution_count": null,
   "id": "21945133",
   "metadata": {},
   "outputs": [],
   "source": [
    "# label = list(ls_fe3_dict.keys())[0]\n",
    "# ase_atoms = ls_fe3_dict[label]['ase_atoms']\n",
    "# ase_atoms.write(label+'.xyz')"
   ]
  },
  {
   "cell_type": "markdown",
   "id": "52cebf1e",
   "metadata": {},
   "source": [
    "# Conclusion\n",
    "\n",
    "In this tutorial we used Fe Hexa Aqua as an example to learn 3 key basic features of Architector:\n",
    "\n",
    "**(A)** How to define basic input dictionaries for Architector.\n",
    "\n",
    "**(B)** How to understand and visualize outputs from Architector.\n",
    "\n",
    "**(C)** How to play with potentially important parameters for getting at chemical meaning."
   ]
  }
 ],
 "metadata": {
  "kernelspec": {
   "display_name": "Python 3.7.11",
   "language": "python",
   "name": "python3"
  },
  "language_info": {
   "codemirror_mode": {
    "name": "ipython",
    "version": 3
   },
   "file_extension": ".py",
   "mimetype": "text/x-python",
   "name": "python",
   "nbconvert_exporter": "python",
   "pygments_lexer": "ipython3",
   "version": "3.10.12"
  },
  "vscode": {
   "interpreter": {
    "hash": "ca5dc30295e7d5bb5c46e3d5d2bbba73f1a4a9cb4dece04e67d8a04853ce1214"
   }
  }
 },
 "nbformat": 4,
 "nbformat_minor": 5
}
