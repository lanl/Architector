{
 "cells": [
  {
   "cell_type": "code",
   "execution_count": 2,
   "id": "ebe85acb",
   "metadata": {},
   "outputs": [],
   "source": [
    "# Note - use architector-0.0.10 or newer!\n",
    "from architector import (build_complex,\n",
    "                         convert_io_molecule,\n",
    "                         view_structures)"
   ]
  },
  {
   "cell_type": "code",
   "execution_count": 3,
   "id": "d3033ebe",
   "metadata": {},
   "outputs": [],
   "source": [
    "# First, let's build a reference set from Architector itself:\n",
    "out1 = build_complex({'core':{'metal':'Fe',\n",
    "                    'coreCN':6},\n",
    "                     'ligands':['water']*6,\n",
    "                     'parameters':{}})"
   ]
  },
  {
   "cell_type": "code",
   "execution_count": 4,
   "id": "42560ddd",
   "metadata": {},
   "outputs": [
    {
     "data": {
      "application/3dmoljs_load.v0": "<div id=\"3dmolviewer_16897918095437162\"  style=\"position: relative; width: 800px; height: 200px\">\n        <p id=\"3dmolwarning_16897918095437162\" style=\"background-color:#ffcccc;color:black\">You appear to be running in JupyterLab (or JavaScript failed to load for some other reason).  You need to install the 3dmol extension: <br>\n        <tt>jupyter labextension install jupyterlab_3dmol</tt></p>\n        </div>\n<script>\n\nvar loadScriptAsync = function(uri){\n  return new Promise((resolve, reject) => {\n    //this is to ignore the existence of requirejs amd\n    var savedexports, savedmodule;\n    if (typeof exports !== 'undefined') savedexports = exports;\n    else exports = {}\n    if (typeof module !== 'undefined') savedmodule = module;\n    else module = {}\n\n    var tag = document.createElement('script');\n    tag.src = uri;\n    tag.async = true;\n    tag.onload = () => {\n        exports = savedexports;\n        module = savedmodule;\n        resolve();\n    };\n  var firstScriptTag = document.getElementsByTagName('script')[0];\n  firstScriptTag.parentNode.insertBefore(tag, firstScriptTag);\n});\n};\n\nif(typeof $3Dmolpromise === 'undefined') {\n$3Dmolpromise = null;\n  $3Dmolpromise = loadScriptAsync('https://cdn.jsdelivr.net/npm/3dmol@latest/build/3Dmol-min.min.js');\n}\n\nvar viewer_16897918095437162 = null;\nvar warn = document.getElementById(\"3dmolwarning_16897918095437162\");\nif(warn) {\n    warn.parentNode.removeChild(warn);\n}\n$3Dmolpromise.then(function() {\nvar viewergrid_16897918095437162 = null;\nviewergrid_16897918095437162 = $3Dmol.createViewerGrid(document.getElementById(\"3dmolviewer_16897918095437162\"),{rows: 1, cols: 4, control_all: false},{backgroundColor:\"white\"});\nviewer_16897918095437162 = viewergrid_16897918095437162[0][0];\nviewergrid_16897918095437162[0][0].zoomTo();viewergrid_16897918095437162[0][1].zoomTo();viewergrid_16897918095437162[0][2].zoomTo();viewergrid_16897918095437162[0][3].zoomTo();\tviewergrid_16897918095437162[0][0].addModel(\"@<TRIPOS>MOLECULE\\ntmp.mol2 Charge: 2 Unpaired_Electrons: 4 XTB_Unpaired_Electrons: 4 XTB_Charge: 2\\n    19    18     1     0     0\\nSMALL\\nNoCharges\\n****\\nGenerated from Architector\\n\\n@<TRIPOS>ATOM\\n     1 Fe1       0.0010    0.0000   -0.0000   Fe        1 RES1   0.0000\\n     2 O1        0.0141   -0.0211    2.3451   O.3       1 RES1   0.0000\\n     3 H1        0.6450    0.4297    2.9167   H         1 RES1   0.0000\\n     4 H2       -0.6473   -0.4126    2.9239   H         1 RES1   0.0000\\n     5 O2        0.0141    0.0211   -2.3451   O.3       1 RES1   0.0000\\n     6 H3       -0.6473    0.4126   -2.9238   H         1 RES1   0.0000\\n     7 H4        0.6450   -0.4297   -2.9168   H         1 RES1   0.0000\\n     8 O3        2.3435    0.0000    0.0000   O.3       1 RES1   0.0000\\n     9 H5        2.9296   -0.6580    0.3863   H         1 RES1   0.0000\\n    10 H6        2.9296    0.6580   -0.3863   H         1 RES1   0.0000\\n    11 O4       -2.3407   -0.0000   -0.0000   O.3       1 RES1   0.0000\\n    12 H7       -2.9252   -0.6429    0.4134   H         1 RES1   0.0000\\n    13 H8       -2.9252    0.6429   -0.4134   H         1 RES1   0.0000\\n    14 O5       -0.0193    2.3491   -0.0273   O.3       1 RES1   0.0000\\n    15 H9        0.6406    2.9338   -0.4099   H         1 RES1   0.0000\\n    16 H10      -0.6394    2.9254    0.4307   H         1 RES1   0.0000\\n    17 O6       -0.0193   -2.3491    0.0273   O.3       1 RES1   0.0000\\n    18 H11      -0.6394   -2.9254   -0.4307   H         1 RES1   0.0000\\n    19 H12       0.6406   -2.9338    0.4099   H         1 RES1   0.0000\\n@<TRIPOS>BOND\\n     1     1     2    1\\n     2     1     5    1\\n     3     1     8    1\\n     4     1    11    1\\n     5     1    14    1\\n     6     1    17    1\\n     7     2     3    1\\n     8     2     4    1\\n     9     5     6    1\\n    10     5     7    1\\n    11     8     9    1\\n    12     8    10    1\\n    13    11    12    1\\n    14    11    13    1\\n    15    14    15    1\\n    16    14    16    1\\n    17    17    18    1\\n    18    17    19    1\\n@<TRIPOS>SUBSTRUCTURE\\n     1 RES1       19 GROUP             0 ****  ****    0  \\n\",\"mol2\");\n\tviewergrid_16897918095437162[0][0].addStyle({\"sphere\": {\"colorscheme\": \"Jmol\", \"scale\": 0.3}});\n\tviewergrid_16897918095437162[0][0].setStyle({\"elem\": \"Fe\"},{\"sphere\": {\"colorscheme\": \"Jmol\", \"scale\": 0.75}});\n\tviewergrid_16897918095437162[0][0].addStyle({\"stick\": {\"colorscheme\": \"Jmol\", \"radius\": 0.25}});\n\tviewergrid_16897918095437162[0][0].zoomTo();\n\tviewergrid_16897918095437162[0][1].addModel(\"@<TRIPOS>MOLECULE\\ntmp.mol2 Charge: 2 Unpaired_Electrons: 4 XTB_Unpaired_Electrons: 4 XTB_Charge: 2\\n    19    18     1     0     0\\nSMALL\\nNoCharges\\n****\\nGenerated from Architector\\n\\n@<TRIPOS>ATOM\\n     1 Fe1      -0.0171    0.0026   -0.0102   Fe        1 RES1   0.0000\\n     2 O1        1.8043   -0.0201    1.4826   O.3       1 RES1   0.0000\\n     3 H1        2.2802   -0.7691    1.8515   H         1 RES1   0.0000\\n     4 H2        2.1680    0.7604    1.9106   H         1 RES1   0.0000\\n     5 O2       -0.8800    1.5736    1.5133   O.3       1 RES1   0.0000\\n     6 H3       -0.9571    1.4565    2.4661   H         1 RES1   0.0000\\n     7 H4       -1.2823    2.4281    1.3256   H         1 RES1   0.0000\\n     8 O3       -0.8880   -1.5877    1.4950   O.3       1 RES1   0.0000\\n     9 H5       -0.6678   -2.5174    1.6050   H         1 RES1   0.0000\\n    10 H6       -1.5548   -1.3967    2.1627   H         1 RES1   0.0000\\n    11 O4        1.7933    0.0026   -1.4924   O.3       1 RES1   0.0000\\n    12 H7        2.6407   -0.4399   -1.3882   H         1 RES1   0.0000\\n    13 H8        1.8354    0.4600   -2.3374   H         1 RES1   0.0000\\n    14 O5       -0.9005    1.5933   -1.5202   O.3       1 RES1   0.0000\\n    15 H9       -1.5103    1.4000   -2.2397   H         1 RES1   0.0000\\n    16 H10      -0.7358    2.5406   -1.5660   H         1 RES1   0.0000\\n    17 O6       -0.9146   -1.5662   -1.4996   O.3       1 RES1   0.0000\\n    18 H11      -0.9475   -1.4843   -2.4587   H         1 RES1   0.0000\\n    19 H12      -1.2732   -2.4365   -1.3001   H         1 RES1   0.0000\\n@<TRIPOS>BOND\\n     1     1     2    1\\n     2     1     5    1\\n     3     1     8    1\\n     4     1    11    1\\n     5     1    14    1\\n     6     1    17    1\\n     7     2     3    1\\n     8     2     4    1\\n     9     5     6    1\\n    10     5     7    1\\n    11     8     9    1\\n    12     8    10    1\\n    13    11    12    1\\n    14    11    13    1\\n    15    14    15    1\\n    16    14    16    1\\n    17    17    18    1\\n    18    17    19    1\\n@<TRIPOS>SUBSTRUCTURE\\n     1 RES1       19 GROUP             0 ****  ****    0  \\n\",\"mol2\");\n\tviewergrid_16897918095437162[0][1].addStyle({\"sphere\": {\"colorscheme\": \"Jmol\", \"scale\": 0.3}});\n\tviewergrid_16897918095437162[0][1].setStyle({\"elem\": \"Fe\"},{\"sphere\": {\"colorscheme\": \"Jmol\", \"scale\": 0.75}});\n\tviewergrid_16897918095437162[0][1].addStyle({\"stick\": {\"colorscheme\": \"Jmol\", \"radius\": 0.25}});\n\tviewergrid_16897918095437162[0][1].zoomTo();\n\tviewergrid_16897918095437162[0][2].addModel(\"@<TRIPOS>MOLECULE\\ntmp.mol2 Charge: 2 Unpaired_Electrons: 4 XTB_Unpaired_Electrons: 4 XTB_Charge: 2\\n    19    18     1     0     0\\nSMALL\\nNoCharges\\n****\\nGenerated from Architector\\n\\n@<TRIPOS>ATOM\\n     1 Fe1      -0.0022   -0.0088    0.2048   Fe        1 RES1   0.0000\\n     2 O1        0.0082   -0.0284    2.4798   O.3       1 RES1   0.0000\\n     3 H1        0.4981   -0.6180    3.0637   H         1 RES1   0.0000\\n     4 H2       -0.3255    0.6766    3.0471   H         1 RES1   0.0000\\n     5 O2        2.3499    0.0388   -0.1129   O.3       1 RES1   0.0000\\n     6 H3        2.9681    0.4780    0.4785   H         1 RES1   0.0000\\n     7 H4        2.8903   -0.4757   -0.7197   H         1 RES1   0.0000\\n     8 O3        0.7457    2.2446   -0.0396   O.3       1 RES1   0.0000\\n     9 H5        0.1676    3.0146   -0.0135   H         1 RES1   0.0000\\n    10 H6        1.5361    2.5244   -0.5137   H         1 RES1   0.0000\\n    11 O4       -1.8972    1.4278   -0.1504   O.3       1 RES1   0.0000\\n    12 H7       -2.3215    1.6867   -0.9757   H         1 RES1   0.0000\\n    13 H8       -2.4637    1.7403    0.5624   H         1 RES1   0.0000\\n    14 O5       -1.9019   -1.3800   -0.0967   O.3       1 RES1   0.0000\\n    15 H9       -2.8050   -1.0738   -0.2243   H         1 RES1   0.0000\\n    16 H10      -1.9300   -2.3362   -0.2095   H         1 RES1   0.0000\\n    17 O6        0.6768   -2.2834   -0.1262   O.3       1 RES1   0.0000\\n    18 H11       1.0118   -2.6982   -0.9276   H         1 RES1   0.0000\\n    19 H12       0.7956   -2.9295    0.5753   H         1 RES1   0.0000\\n@<TRIPOS>BOND\\n     1     1     2    1\\n     2     1     5    1\\n     3     1     8    1\\n     4     1    11    1\\n     5     1    14    1\\n     6     1    17    1\\n     7     2     3    1\\n     8     2     4    1\\n     9     5     6    1\\n    10     5     7    1\\n    11     8     9    1\\n    12     8    10    1\\n    13    11    12    1\\n    14    11    13    1\\n    15    14    15    1\\n    16    14    16    1\\n    17    17    18    1\\n    18    17    19    1\\n@<TRIPOS>SUBSTRUCTURE\\n     1 RES1       19 GROUP             0 ****  ****    0  \\n\",\"mol2\");\n\tviewergrid_16897918095437162[0][2].addStyle({\"sphere\": {\"colorscheme\": \"Jmol\", \"scale\": 0.3}});\n\tviewergrid_16897918095437162[0][2].setStyle({\"elem\": \"Fe\"},{\"sphere\": {\"colorscheme\": \"Jmol\", \"scale\": 0.75}});\n\tviewergrid_16897918095437162[0][2].addStyle({\"stick\": {\"colorscheme\": \"Jmol\", \"radius\": 0.25}});\n\tviewergrid_16897918095437162[0][2].zoomTo();\nviewergrid_16897918095437162[0][3].render();\nviewergrid_16897918095437162[0][2].render();\nviewergrid_16897918095437162[0][1].render();\nviewergrid_16897918095437162[0][0].render();\n});\n</script>",
      "text/html": [
       "<div id=\"3dmolviewer_16897918095437162\"  style=\"position: relative; width: 800px; height: 200px\">\n",
       "        <p id=\"3dmolwarning_16897918095437162\" style=\"background-color:#ffcccc;color:black\">You appear to be running in JupyterLab (or JavaScript failed to load for some other reason).  You need to install the 3dmol extension: <br>\n",
       "        <tt>jupyter labextension install jupyterlab_3dmol</tt></p>\n",
       "        </div>\n",
       "<script>\n",
       "\n",
       "var loadScriptAsync = function(uri){\n",
       "  return new Promise((resolve, reject) => {\n",
       "    //this is to ignore the existence of requirejs amd\n",
       "    var savedexports, savedmodule;\n",
       "    if (typeof exports !== 'undefined') savedexports = exports;\n",
       "    else exports = {}\n",
       "    if (typeof module !== 'undefined') savedmodule = module;\n",
       "    else module = {}\n",
       "\n",
       "    var tag = document.createElement('script');\n",
       "    tag.src = uri;\n",
       "    tag.async = true;\n",
       "    tag.onload = () => {\n",
       "        exports = savedexports;\n",
       "        module = savedmodule;\n",
       "        resolve();\n",
       "    };\n",
       "  var firstScriptTag = document.getElementsByTagName('script')[0];\n",
       "  firstScriptTag.parentNode.insertBefore(tag, firstScriptTag);\n",
       "});\n",
       "};\n",
       "\n",
       "if(typeof $3Dmolpromise === 'undefined') {\n",
       "$3Dmolpromise = null;\n",
       "  $3Dmolpromise = loadScriptAsync('https://cdn.jsdelivr.net/npm/3dmol@latest/build/3Dmol-min.min.js');\n",
       "}\n",
       "\n",
       "var viewer_16897918095437162 = null;\n",
       "var warn = document.getElementById(\"3dmolwarning_16897918095437162\");\n",
       "if(warn) {\n",
       "    warn.parentNode.removeChild(warn);\n",
       "}\n",
       "$3Dmolpromise.then(function() {\n",
       "var viewergrid_16897918095437162 = null;\n",
       "viewergrid_16897918095437162 = $3Dmol.createViewerGrid(document.getElementById(\"3dmolviewer_16897918095437162\"),{rows: 1, cols: 4, control_all: false},{backgroundColor:\"white\"});\n",
       "viewer_16897918095437162 = viewergrid_16897918095437162[0][0];\n",
       "viewergrid_16897918095437162[0][0].zoomTo();viewergrid_16897918095437162[0][1].zoomTo();viewergrid_16897918095437162[0][2].zoomTo();viewergrid_16897918095437162[0][3].zoomTo();\tviewergrid_16897918095437162[0][0].addModel(\"@<TRIPOS>MOLECULE\\ntmp.mol2 Charge: 2 Unpaired_Electrons: 4 XTB_Unpaired_Electrons: 4 XTB_Charge: 2\\n    19    18     1     0     0\\nSMALL\\nNoCharges\\n****\\nGenerated from Architector\\n\\n@<TRIPOS>ATOM\\n     1 Fe1       0.0010    0.0000   -0.0000   Fe        1 RES1   0.0000\\n     2 O1        0.0141   -0.0211    2.3451   O.3       1 RES1   0.0000\\n     3 H1        0.6450    0.4297    2.9167   H         1 RES1   0.0000\\n     4 H2       -0.6473   -0.4126    2.9239   H         1 RES1   0.0000\\n     5 O2        0.0141    0.0211   -2.3451   O.3       1 RES1   0.0000\\n     6 H3       -0.6473    0.4126   -2.9238   H         1 RES1   0.0000\\n     7 H4        0.6450   -0.4297   -2.9168   H         1 RES1   0.0000\\n     8 O3        2.3435    0.0000    0.0000   O.3       1 RES1   0.0000\\n     9 H5        2.9296   -0.6580    0.3863   H         1 RES1   0.0000\\n    10 H6        2.9296    0.6580   -0.3863   H         1 RES1   0.0000\\n    11 O4       -2.3407   -0.0000   -0.0000   O.3       1 RES1   0.0000\\n    12 H7       -2.9252   -0.6429    0.4134   H         1 RES1   0.0000\\n    13 H8       -2.9252    0.6429   -0.4134   H         1 RES1   0.0000\\n    14 O5       -0.0193    2.3491   -0.0273   O.3       1 RES1   0.0000\\n    15 H9        0.6406    2.9338   -0.4099   H         1 RES1   0.0000\\n    16 H10      -0.6394    2.9254    0.4307   H         1 RES1   0.0000\\n    17 O6       -0.0193   -2.3491    0.0273   O.3       1 RES1   0.0000\\n    18 H11      -0.6394   -2.9254   -0.4307   H         1 RES1   0.0000\\n    19 H12       0.6406   -2.9338    0.4099   H         1 RES1   0.0000\\n@<TRIPOS>BOND\\n     1     1     2    1\\n     2     1     5    1\\n     3     1     8    1\\n     4     1    11    1\\n     5     1    14    1\\n     6     1    17    1\\n     7     2     3    1\\n     8     2     4    1\\n     9     5     6    1\\n    10     5     7    1\\n    11     8     9    1\\n    12     8    10    1\\n    13    11    12    1\\n    14    11    13    1\\n    15    14    15    1\\n    16    14    16    1\\n    17    17    18    1\\n    18    17    19    1\\n@<TRIPOS>SUBSTRUCTURE\\n     1 RES1       19 GROUP             0 ****  ****    0  \\n\",\"mol2\");\n",
       "\tviewergrid_16897918095437162[0][0].addStyle({\"sphere\": {\"colorscheme\": \"Jmol\", \"scale\": 0.3}});\n",
       "\tviewergrid_16897918095437162[0][0].setStyle({\"elem\": \"Fe\"},{\"sphere\": {\"colorscheme\": \"Jmol\", \"scale\": 0.75}});\n",
       "\tviewergrid_16897918095437162[0][0].addStyle({\"stick\": {\"colorscheme\": \"Jmol\", \"radius\": 0.25}});\n",
       "\tviewergrid_16897918095437162[0][0].zoomTo();\n",
       "\tviewergrid_16897918095437162[0][1].addModel(\"@<TRIPOS>MOLECULE\\ntmp.mol2 Charge: 2 Unpaired_Electrons: 4 XTB_Unpaired_Electrons: 4 XTB_Charge: 2\\n    19    18     1     0     0\\nSMALL\\nNoCharges\\n****\\nGenerated from Architector\\n\\n@<TRIPOS>ATOM\\n     1 Fe1      -0.0171    0.0026   -0.0102   Fe        1 RES1   0.0000\\n     2 O1        1.8043   -0.0201    1.4826   O.3       1 RES1   0.0000\\n     3 H1        2.2802   -0.7691    1.8515   H         1 RES1   0.0000\\n     4 H2        2.1680    0.7604    1.9106   H         1 RES1   0.0000\\n     5 O2       -0.8800    1.5736    1.5133   O.3       1 RES1   0.0000\\n     6 H3       -0.9571    1.4565    2.4661   H         1 RES1   0.0000\\n     7 H4       -1.2823    2.4281    1.3256   H         1 RES1   0.0000\\n     8 O3       -0.8880   -1.5877    1.4950   O.3       1 RES1   0.0000\\n     9 H5       -0.6678   -2.5174    1.6050   H         1 RES1   0.0000\\n    10 H6       -1.5548   -1.3967    2.1627   H         1 RES1   0.0000\\n    11 O4        1.7933    0.0026   -1.4924   O.3       1 RES1   0.0000\\n    12 H7        2.6407   -0.4399   -1.3882   H         1 RES1   0.0000\\n    13 H8        1.8354    0.4600   -2.3374   H         1 RES1   0.0000\\n    14 O5       -0.9005    1.5933   -1.5202   O.3       1 RES1   0.0000\\n    15 H9       -1.5103    1.4000   -2.2397   H         1 RES1   0.0000\\n    16 H10      -0.7358    2.5406   -1.5660   H         1 RES1   0.0000\\n    17 O6       -0.9146   -1.5662   -1.4996   O.3       1 RES1   0.0000\\n    18 H11      -0.9475   -1.4843   -2.4587   H         1 RES1   0.0000\\n    19 H12      -1.2732   -2.4365   -1.3001   H         1 RES1   0.0000\\n@<TRIPOS>BOND\\n     1     1     2    1\\n     2     1     5    1\\n     3     1     8    1\\n     4     1    11    1\\n     5     1    14    1\\n     6     1    17    1\\n     7     2     3    1\\n     8     2     4    1\\n     9     5     6    1\\n    10     5     7    1\\n    11     8     9    1\\n    12     8    10    1\\n    13    11    12    1\\n    14    11    13    1\\n    15    14    15    1\\n    16    14    16    1\\n    17    17    18    1\\n    18    17    19    1\\n@<TRIPOS>SUBSTRUCTURE\\n     1 RES1       19 GROUP             0 ****  ****    0  \\n\",\"mol2\");\n",
       "\tviewergrid_16897918095437162[0][1].addStyle({\"sphere\": {\"colorscheme\": \"Jmol\", \"scale\": 0.3}});\n",
       "\tviewergrid_16897918095437162[0][1].setStyle({\"elem\": \"Fe\"},{\"sphere\": {\"colorscheme\": \"Jmol\", \"scale\": 0.75}});\n",
       "\tviewergrid_16897918095437162[0][1].addStyle({\"stick\": {\"colorscheme\": \"Jmol\", \"radius\": 0.25}});\n",
       "\tviewergrid_16897918095437162[0][1].zoomTo();\n",
       "\tviewergrid_16897918095437162[0][2].addModel(\"@<TRIPOS>MOLECULE\\ntmp.mol2 Charge: 2 Unpaired_Electrons: 4 XTB_Unpaired_Electrons: 4 XTB_Charge: 2\\n    19    18     1     0     0\\nSMALL\\nNoCharges\\n****\\nGenerated from Architector\\n\\n@<TRIPOS>ATOM\\n     1 Fe1      -0.0022   -0.0088    0.2048   Fe        1 RES1   0.0000\\n     2 O1        0.0082   -0.0284    2.4798   O.3       1 RES1   0.0000\\n     3 H1        0.4981   -0.6180    3.0637   H         1 RES1   0.0000\\n     4 H2       -0.3255    0.6766    3.0471   H         1 RES1   0.0000\\n     5 O2        2.3499    0.0388   -0.1129   O.3       1 RES1   0.0000\\n     6 H3        2.9681    0.4780    0.4785   H         1 RES1   0.0000\\n     7 H4        2.8903   -0.4757   -0.7197   H         1 RES1   0.0000\\n     8 O3        0.7457    2.2446   -0.0396   O.3       1 RES1   0.0000\\n     9 H5        0.1676    3.0146   -0.0135   H         1 RES1   0.0000\\n    10 H6        1.5361    2.5244   -0.5137   H         1 RES1   0.0000\\n    11 O4       -1.8972    1.4278   -0.1504   O.3       1 RES1   0.0000\\n    12 H7       -2.3215    1.6867   -0.9757   H         1 RES1   0.0000\\n    13 H8       -2.4637    1.7403    0.5624   H         1 RES1   0.0000\\n    14 O5       -1.9019   -1.3800   -0.0967   O.3       1 RES1   0.0000\\n    15 H9       -2.8050   -1.0738   -0.2243   H         1 RES1   0.0000\\n    16 H10      -1.9300   -2.3362   -0.2095   H         1 RES1   0.0000\\n    17 O6        0.6768   -2.2834   -0.1262   O.3       1 RES1   0.0000\\n    18 H11       1.0118   -2.6982   -0.9276   H         1 RES1   0.0000\\n    19 H12       0.7956   -2.9295    0.5753   H         1 RES1   0.0000\\n@<TRIPOS>BOND\\n     1     1     2    1\\n     2     1     5    1\\n     3     1     8    1\\n     4     1    11    1\\n     5     1    14    1\\n     6     1    17    1\\n     7     2     3    1\\n     8     2     4    1\\n     9     5     6    1\\n    10     5     7    1\\n    11     8     9    1\\n    12     8    10    1\\n    13    11    12    1\\n    14    11    13    1\\n    15    14    15    1\\n    16    14    16    1\\n    17    17    18    1\\n    18    17    19    1\\n@<TRIPOS>SUBSTRUCTURE\\n     1 RES1       19 GROUP             0 ****  ****    0  \\n\",\"mol2\");\n",
       "\tviewergrid_16897918095437162[0][2].addStyle({\"sphere\": {\"colorscheme\": \"Jmol\", \"scale\": 0.3}});\n",
       "\tviewergrid_16897918095437162[0][2].setStyle({\"elem\": \"Fe\"},{\"sphere\": {\"colorscheme\": \"Jmol\", \"scale\": 0.75}});\n",
       "\tviewergrid_16897918095437162[0][2].addStyle({\"stick\": {\"colorscheme\": \"Jmol\", \"radius\": 0.25}});\n",
       "\tviewergrid_16897918095437162[0][2].zoomTo();\n",
       "viewergrid_16897918095437162[0][3].render();\n",
       "viewergrid_16897918095437162[0][2].render();\n",
       "viewergrid_16897918095437162[0][1].render();\n",
       "viewergrid_16897918095437162[0][0].render();\n",
       "});\n",
       "</script>"
      ]
     },
     "metadata": {},
     "output_type": "display_data"
    }
   ],
   "source": [
    "view_structures(out1)"
   ]
  },
  {
   "cell_type": "code",
   "execution_count": 7,
   "id": "884dce72",
   "metadata": {},
   "outputs": [
    {
     "name": "stdout",
     "output_type": "stream",
     "text": [
      "Conformer: 0 -892.6813610980663\n",
      "Conformer: 1 -892.5759931018837\n",
      "Conformer: 2 -892.3935951252037\n"
     ]
    }
   ],
   "source": [
    "for i,(key,val) in enumerate(out1.items()):\n",
    "    print('Conformer:',i,val['energy'])"
   ]
  },
  {
   "cell_type": "code",
   "execution_count": 8,
   "id": "0f1cbad7",
   "metadata": {},
   "outputs": [],
   "source": [
    "# Now request crest_sampling with only defaults:\n",
    "out2 = build_complex({'core':{'metal':'Fe',\n",
    "                    'coreCN':6},\n",
    "                     'ligands':['water']*6,\n",
    "                     'parameters':{\n",
    "                         \"crest_sampling\": True,\n",
    "                     }})"
   ]
  },
  {
   "cell_type": "code",
   "execution_count": 9,
   "id": "3c533e43",
   "metadata": {},
   "outputs": [
    {
     "data": {
      "application/3dmoljs_load.v0": "<div id=\"3dmolviewer_168979213007811\"  style=\"position: relative; width: 800px; height: 200px\">\n        <p id=\"3dmolwarning_168979213007811\" style=\"background-color:#ffcccc;color:black\">You appear to be running in JupyterLab (or JavaScript failed to load for some other reason).  You need to install the 3dmol extension: <br>\n        <tt>jupyter labextension install jupyterlab_3dmol</tt></p>\n        </div>\n<script>\n\nvar loadScriptAsync = function(uri){\n  return new Promise((resolve, reject) => {\n    //this is to ignore the existence of requirejs amd\n    var savedexports, savedmodule;\n    if (typeof exports !== 'undefined') savedexports = exports;\n    else exports = {}\n    if (typeof module !== 'undefined') savedmodule = module;\n    else module = {}\n\n    var tag = document.createElement('script');\n    tag.src = uri;\n    tag.async = true;\n    tag.onload = () => {\n        exports = savedexports;\n        module = savedmodule;\n        resolve();\n    };\n  var firstScriptTag = document.getElementsByTagName('script')[0];\n  firstScriptTag.parentNode.insertBefore(tag, firstScriptTag);\n});\n};\n\nif(typeof $3Dmolpromise === 'undefined') {\n$3Dmolpromise = null;\n  $3Dmolpromise = loadScriptAsync('https://cdn.jsdelivr.net/npm/3dmol@latest/build/3Dmol-min.min.js');\n}\n\nvar viewer_168979213007811 = null;\nvar warn = document.getElementById(\"3dmolwarning_168979213007811\");\nif(warn) {\n    warn.parentNode.removeChild(warn);\n}\n$3Dmolpromise.then(function() {\nvar viewergrid_168979213007811 = null;\nviewergrid_168979213007811 = $3Dmol.createViewerGrid(document.getElementById(\"3dmolviewer_168979213007811\"),{rows: 1, cols: 4, control_all: false},{backgroundColor:\"white\"});\nviewer_168979213007811 = viewergrid_168979213007811[0][0];\nviewergrid_168979213007811[0][0].zoomTo();viewergrid_168979213007811[0][1].zoomTo();viewergrid_168979213007811[0][2].zoomTo();viewergrid_168979213007811[0][3].zoomTo();\tviewergrid_168979213007811[0][0].addModel(\"@<TRIPOS>MOLECULE\\ntmp.mol2 Charge: 2 Unpaired_Electrons: 4 XTB_Unpaired_Electrons: 4 XTB_Charge: 2\\n    19    18     1     0     0\\nSMALL\\nNoCharges\\n****\\nGenerated from Architector\\n\\n@<TRIPOS>ATOM\\n     1 Fe1      -0.0002   -0.0001    0.0006   Fe        1 RES1   0.0000\\n     2 O1       -1.9925   -0.2883   -1.5953   O.3       1 RES1   0.0000\\n     3 H1       -2.2032    0.2121   -2.3928   H         1 RES1   0.0000\\n     4 H2       -2.7180   -0.9222   -1.5433   H         1 RES1   0.0000\\n     5 O2        1.3465   -1.7072   -1.3678   O.3       1 RES1   0.0000\\n     6 H3        1.0915   -2.1687   -2.1758   H         1 RES1   0.0000\\n     7 H4        2.2403   -2.0337   -1.2085   H         1 RES1   0.0000\\n     8 O3        1.9957    0.2877    1.5931   O.3       1 RES1   0.0000\\n     9 H5        2.7391    0.8987    1.5226   H         1 RES1   0.0000\\n    10 H6        2.1877   -0.1886    2.4099   H         1 RES1   0.0000\\n    11 O4       -0.9087   -1.8972    1.4704   O.3       1 RES1   0.0000\\n    12 H7       -0.7317   -2.8436    1.4086   H         1 RES1   0.0000\\n    13 H8       -1.5102   -1.8413    2.2227   H         1 RES1   0.0000\\n    14 O5       -1.3455    1.7041    1.3717   O.3       1 RES1   0.0000\\n    15 H9       -1.0671    2.2071    2.1465   H         1 RES1   0.0000\\n    16 H10      -2.2528    2.0038    1.2375   H         1 RES1   0.0000\\n    17 O6        0.9047    1.9004   -1.4737   O.3       1 RES1   0.0000\\n    18 H11       0.7179    2.8455   -1.4205   H         1 RES1   0.0000\\n    19 H12       1.5169    1.8453   -2.2173   H         1 RES1   0.0000\\n@<TRIPOS>BOND\\n     1     1     2    1\\n     2     1     5    1\\n     3     1     8    1\\n     4     1    11    1\\n     5     1    14    1\\n     6     1    17    1\\n     7     2     3    1\\n     8     2     4    1\\n     9     5     6    1\\n    10     5     7    1\\n    11     8     9    1\\n    12     8    10    1\\n    13    11    12    1\\n    14    11    13    1\\n    15    14    15    1\\n    16    14    16    1\\n    17    17    18    1\\n    18    17    19    1\\n@<TRIPOS>SUBSTRUCTURE\\n     1 RES1       19 GROUP             0 ****  ****    0  \\n\",\"mol2\");\n\tviewergrid_168979213007811[0][0].addStyle({\"sphere\": {\"colorscheme\": \"Jmol\", \"scale\": 0.3}});\n\tviewergrid_168979213007811[0][0].setStyle({\"elem\": \"Fe\"},{\"sphere\": {\"colorscheme\": \"Jmol\", \"scale\": 0.75}});\n\tviewergrid_168979213007811[0][0].addStyle({\"stick\": {\"colorscheme\": \"Jmol\", \"radius\": 0.25}});\n\tviewergrid_168979213007811[0][0].zoomTo();\n\tviewergrid_168979213007811[0][1].addModel(\"@<TRIPOS>MOLECULE\\ntmp.mol2 Charge: 2 Unpaired_Electrons: 4 XTB_Unpaired_Electrons: 4 XTB_Charge: 2\\n    19    18     1     0     0\\nSMALL\\nNoCharges\\n****\\nGenerated from Architector\\n\\n@<TRIPOS>ATOM\\n     1 Fe1      -0.0220    0.0078   -0.0245   Fe        1 RES1   0.0000\\n     2 O1        1.8228   -0.0126    1.4447   O.3       1 RES1   0.0000\\n     3 H1        2.2039    0.7655    1.8628   H         1 RES1   0.0000\\n     4 H2        2.2039   -0.7697    1.8996   H         1 RES1   0.0000\\n     5 O2       -0.8710    1.5783    1.5138   O.3       1 RES1   0.0000\\n     6 H3       -0.9084    1.4594    2.4685   H         1 RES1   0.0000\\n     7 H4       -1.3336    2.4053    1.3424   H         1 RES1   0.0000\\n     8 O3       -0.8555   -1.5738    1.5197   O.3       1 RES1   0.0000\\n     9 H5       -0.7135   -2.5241    1.5698   H         1 RES1   0.0000\\n    10 H6       -1.5296   -1.3805    2.1791   H         1 RES1   0.0000\\n    11 O4        1.7993    0.0076   -1.4837   O.3       1 RES1   0.0000\\n    12 H7        1.7878    0.2398   -2.4175   H         1 RES1   0.0000\\n    13 H8        2.7100   -0.2303   -1.2805   H         1 RES1   0.0000\\n    14 O5       -0.9283    1.5963   -1.5130   O.3       1 RES1   0.0000\\n    15 H9       -0.9065    2.5559   -1.4474   H         1 RES1   0.0000\\n    16 H10      -1.3150    1.4088   -2.3747   H         1 RES1   0.0000\\n    17 O6       -0.9104   -1.5840   -1.5008   O.3       1 RES1   0.0000\\n    18 H11      -1.1955   -1.4251   -2.4062   H         1 RES1   0.0000\\n    19 H12      -1.0455   -2.5248   -1.3522   H         1 RES1   0.0000\\n@<TRIPOS>BOND\\n     1     1     2    1\\n     2     1     5    1\\n     3     1     8    1\\n     4     1    11    1\\n     5     1    14    1\\n     6     1    17    1\\n     7     2     3    1\\n     8     2     4    1\\n     9     5     6    1\\n    10     5     7    1\\n    11     8     9    1\\n    12     8    10    1\\n    13    11    12    1\\n    14    11    13    1\\n    15    14    15    1\\n    16    14    16    1\\n    17    17    18    1\\n    18    17    19    1\\n@<TRIPOS>SUBSTRUCTURE\\n     1 RES1       19 GROUP             0 ****  ****    0  \\n\",\"mol2\");\n\tviewergrid_168979213007811[0][1].addStyle({\"sphere\": {\"colorscheme\": \"Jmol\", \"scale\": 0.3}});\n\tviewergrid_168979213007811[0][1].setStyle({\"elem\": \"Fe\"},{\"sphere\": {\"colorscheme\": \"Jmol\", \"scale\": 0.75}});\n\tviewergrid_168979213007811[0][1].addStyle({\"stick\": {\"colorscheme\": \"Jmol\", \"radius\": 0.25}});\n\tviewergrid_168979213007811[0][1].zoomTo();\n\tviewergrid_168979213007811[0][2].addModel(\"@<TRIPOS>MOLECULE\\ntmp.mol2 Charge: 2 Unpaired_Electrons: 4 XTB_Unpaired_Electrons: 4 XTB_Charge: 2\\n    19    18     1     0     0\\nSMALL\\nNoCharges\\n****\\nGenerated from Architector\\n\\n@<TRIPOS>ATOM\\n     1 Fe1      -0.0259    0.0031    0.1940   Fe        1 RES1   0.0000\\n     2 O1        0.0921   -0.0073    2.4745   O.3       1 RES1   0.0000\\n     3 H1       -0.0682   -0.7809    3.0269   H         1 RES1   0.0000\\n     4 H2       -0.0645    0.7519    3.0478   H         1 RES1   0.0000\\n     5 O2        2.3511   -0.0068   -0.1292   O.3       1 RES1   0.0000\\n     6 H3        2.9641    0.1684    0.5915   H         1 RES1   0.0000\\n     7 H4        2.8892   -0.1096   -0.9217   H         1 RES1   0.0000\\n     8 O3        0.6595    2.2913   -0.1289   O.3       1 RES1   0.0000\\n     9 H5        0.7440    2.7475   -0.9737   H         1 RES1   0.0000\\n    10 H6        1.2973    2.7089    0.4592   H         1 RES1   0.0000\\n    11 O4       -1.9222    1.3666   -0.0501   O.3       1 RES1   0.0000\\n    12 H7       -2.8425    1.1173   -0.1808   H         1 RES1   0.0000\\n    13 H8       -1.8819    2.3185   -0.1843   H         1 RES1   0.0000\\n    14 O5       -1.9602   -1.3846   -0.1337   O.3       1 RES1   0.0000\\n    15 H9       -2.3462   -1.7141   -0.9523   H         1 RES1   0.0000\\n    16 H10      -2.4813   -1.7605    0.5831   H         1 RES1   0.0000\\n    17 O6        0.7360   -2.2134   -0.0658   O.3       1 RES1   0.0000\\n    18 H11       0.2379   -2.9423   -0.4466   H         1 RES1   0.0000\\n    19 H12       1.6230   -2.5539    0.0917   H         1 RES1   0.0000\\n@<TRIPOS>BOND\\n     1     1     2    1\\n     2     1     5    1\\n     3     1     8    1\\n     4     1    11    1\\n     5     1    14    1\\n     6     1    17    1\\n     7     2     3    1\\n     8     2     4    1\\n     9     5     6    1\\n    10     5     7    1\\n    11     8     9    1\\n    12     8    10    1\\n    13    11    12    1\\n    14    11    13    1\\n    15    14    15    1\\n    16    14    16    1\\n    17    17    18    1\\n    18    17    19    1\\n@<TRIPOS>SUBSTRUCTURE\\n     1 RES1       19 GROUP             0 ****  ****    0  \\n\",\"mol2\");\n\tviewergrid_168979213007811[0][2].addStyle({\"sphere\": {\"colorscheme\": \"Jmol\", \"scale\": 0.3}});\n\tviewergrid_168979213007811[0][2].setStyle({\"elem\": \"Fe\"},{\"sphere\": {\"colorscheme\": \"Jmol\", \"scale\": 0.75}});\n\tviewergrid_168979213007811[0][2].addStyle({\"stick\": {\"colorscheme\": \"Jmol\", \"radius\": 0.25}});\n\tviewergrid_168979213007811[0][2].zoomTo();\nviewergrid_168979213007811[0][3].render();\nviewergrid_168979213007811[0][2].render();\nviewergrid_168979213007811[0][1].render();\nviewergrid_168979213007811[0][0].render();\n});\n</script>",
      "text/html": [
       "<div id=\"3dmolviewer_168979213007811\"  style=\"position: relative; width: 800px; height: 200px\">\n",
       "        <p id=\"3dmolwarning_168979213007811\" style=\"background-color:#ffcccc;color:black\">You appear to be running in JupyterLab (or JavaScript failed to load for some other reason).  You need to install the 3dmol extension: <br>\n",
       "        <tt>jupyter labextension install jupyterlab_3dmol</tt></p>\n",
       "        </div>\n",
       "<script>\n",
       "\n",
       "var loadScriptAsync = function(uri){\n",
       "  return new Promise((resolve, reject) => {\n",
       "    //this is to ignore the existence of requirejs amd\n",
       "    var savedexports, savedmodule;\n",
       "    if (typeof exports !== 'undefined') savedexports = exports;\n",
       "    else exports = {}\n",
       "    if (typeof module !== 'undefined') savedmodule = module;\n",
       "    else module = {}\n",
       "\n",
       "    var tag = document.createElement('script');\n",
       "    tag.src = uri;\n",
       "    tag.async = true;\n",
       "    tag.onload = () => {\n",
       "        exports = savedexports;\n",
       "        module = savedmodule;\n",
       "        resolve();\n",
       "    };\n",
       "  var firstScriptTag = document.getElementsByTagName('script')[0];\n",
       "  firstScriptTag.parentNode.insertBefore(tag, firstScriptTag);\n",
       "});\n",
       "};\n",
       "\n",
       "if(typeof $3Dmolpromise === 'undefined') {\n",
       "$3Dmolpromise = null;\n",
       "  $3Dmolpromise = loadScriptAsync('https://cdn.jsdelivr.net/npm/3dmol@latest/build/3Dmol-min.min.js');\n",
       "}\n",
       "\n",
       "var viewer_168979213007811 = null;\n",
       "var warn = document.getElementById(\"3dmolwarning_168979213007811\");\n",
       "if(warn) {\n",
       "    warn.parentNode.removeChild(warn);\n",
       "}\n",
       "$3Dmolpromise.then(function() {\n",
       "var viewergrid_168979213007811 = null;\n",
       "viewergrid_168979213007811 = $3Dmol.createViewerGrid(document.getElementById(\"3dmolviewer_168979213007811\"),{rows: 1, cols: 4, control_all: false},{backgroundColor:\"white\"});\n",
       "viewer_168979213007811 = viewergrid_168979213007811[0][0];\n",
       "viewergrid_168979213007811[0][0].zoomTo();viewergrid_168979213007811[0][1].zoomTo();viewergrid_168979213007811[0][2].zoomTo();viewergrid_168979213007811[0][3].zoomTo();\tviewergrid_168979213007811[0][0].addModel(\"@<TRIPOS>MOLECULE\\ntmp.mol2 Charge: 2 Unpaired_Electrons: 4 XTB_Unpaired_Electrons: 4 XTB_Charge: 2\\n    19    18     1     0     0\\nSMALL\\nNoCharges\\n****\\nGenerated from Architector\\n\\n@<TRIPOS>ATOM\\n     1 Fe1      -0.0002   -0.0001    0.0006   Fe        1 RES1   0.0000\\n     2 O1       -1.9925   -0.2883   -1.5953   O.3       1 RES1   0.0000\\n     3 H1       -2.2032    0.2121   -2.3928   H         1 RES1   0.0000\\n     4 H2       -2.7180   -0.9222   -1.5433   H         1 RES1   0.0000\\n     5 O2        1.3465   -1.7072   -1.3678   O.3       1 RES1   0.0000\\n     6 H3        1.0915   -2.1687   -2.1758   H         1 RES1   0.0000\\n     7 H4        2.2403   -2.0337   -1.2085   H         1 RES1   0.0000\\n     8 O3        1.9957    0.2877    1.5931   O.3       1 RES1   0.0000\\n     9 H5        2.7391    0.8987    1.5226   H         1 RES1   0.0000\\n    10 H6        2.1877   -0.1886    2.4099   H         1 RES1   0.0000\\n    11 O4       -0.9087   -1.8972    1.4704   O.3       1 RES1   0.0000\\n    12 H7       -0.7317   -2.8436    1.4086   H         1 RES1   0.0000\\n    13 H8       -1.5102   -1.8413    2.2227   H         1 RES1   0.0000\\n    14 O5       -1.3455    1.7041    1.3717   O.3       1 RES1   0.0000\\n    15 H9       -1.0671    2.2071    2.1465   H         1 RES1   0.0000\\n    16 H10      -2.2528    2.0038    1.2375   H         1 RES1   0.0000\\n    17 O6        0.9047    1.9004   -1.4737   O.3       1 RES1   0.0000\\n    18 H11       0.7179    2.8455   -1.4205   H         1 RES1   0.0000\\n    19 H12       1.5169    1.8453   -2.2173   H         1 RES1   0.0000\\n@<TRIPOS>BOND\\n     1     1     2    1\\n     2     1     5    1\\n     3     1     8    1\\n     4     1    11    1\\n     5     1    14    1\\n     6     1    17    1\\n     7     2     3    1\\n     8     2     4    1\\n     9     5     6    1\\n    10     5     7    1\\n    11     8     9    1\\n    12     8    10    1\\n    13    11    12    1\\n    14    11    13    1\\n    15    14    15    1\\n    16    14    16    1\\n    17    17    18    1\\n    18    17    19    1\\n@<TRIPOS>SUBSTRUCTURE\\n     1 RES1       19 GROUP             0 ****  ****    0  \\n\",\"mol2\");\n",
       "\tviewergrid_168979213007811[0][0].addStyle({\"sphere\": {\"colorscheme\": \"Jmol\", \"scale\": 0.3}});\n",
       "\tviewergrid_168979213007811[0][0].setStyle({\"elem\": \"Fe\"},{\"sphere\": {\"colorscheme\": \"Jmol\", \"scale\": 0.75}});\n",
       "\tviewergrid_168979213007811[0][0].addStyle({\"stick\": {\"colorscheme\": \"Jmol\", \"radius\": 0.25}});\n",
       "\tviewergrid_168979213007811[0][0].zoomTo();\n",
       "\tviewergrid_168979213007811[0][1].addModel(\"@<TRIPOS>MOLECULE\\ntmp.mol2 Charge: 2 Unpaired_Electrons: 4 XTB_Unpaired_Electrons: 4 XTB_Charge: 2\\n    19    18     1     0     0\\nSMALL\\nNoCharges\\n****\\nGenerated from Architector\\n\\n@<TRIPOS>ATOM\\n     1 Fe1      -0.0220    0.0078   -0.0245   Fe        1 RES1   0.0000\\n     2 O1        1.8228   -0.0126    1.4447   O.3       1 RES1   0.0000\\n     3 H1        2.2039    0.7655    1.8628   H         1 RES1   0.0000\\n     4 H2        2.2039   -0.7697    1.8996   H         1 RES1   0.0000\\n     5 O2       -0.8710    1.5783    1.5138   O.3       1 RES1   0.0000\\n     6 H3       -0.9084    1.4594    2.4685   H         1 RES1   0.0000\\n     7 H4       -1.3336    2.4053    1.3424   H         1 RES1   0.0000\\n     8 O3       -0.8555   -1.5738    1.5197   O.3       1 RES1   0.0000\\n     9 H5       -0.7135   -2.5241    1.5698   H         1 RES1   0.0000\\n    10 H6       -1.5296   -1.3805    2.1791   H         1 RES1   0.0000\\n    11 O4        1.7993    0.0076   -1.4837   O.3       1 RES1   0.0000\\n    12 H7        1.7878    0.2398   -2.4175   H         1 RES1   0.0000\\n    13 H8        2.7100   -0.2303   -1.2805   H         1 RES1   0.0000\\n    14 O5       -0.9283    1.5963   -1.5130   O.3       1 RES1   0.0000\\n    15 H9       -0.9065    2.5559   -1.4474   H         1 RES1   0.0000\\n    16 H10      -1.3150    1.4088   -2.3747   H         1 RES1   0.0000\\n    17 O6       -0.9104   -1.5840   -1.5008   O.3       1 RES1   0.0000\\n    18 H11      -1.1955   -1.4251   -2.4062   H         1 RES1   0.0000\\n    19 H12      -1.0455   -2.5248   -1.3522   H         1 RES1   0.0000\\n@<TRIPOS>BOND\\n     1     1     2    1\\n     2     1     5    1\\n     3     1     8    1\\n     4     1    11    1\\n     5     1    14    1\\n     6     1    17    1\\n     7     2     3    1\\n     8     2     4    1\\n     9     5     6    1\\n    10     5     7    1\\n    11     8     9    1\\n    12     8    10    1\\n    13    11    12    1\\n    14    11    13    1\\n    15    14    15    1\\n    16    14    16    1\\n    17    17    18    1\\n    18    17    19    1\\n@<TRIPOS>SUBSTRUCTURE\\n     1 RES1       19 GROUP             0 ****  ****    0  \\n\",\"mol2\");\n",
       "\tviewergrid_168979213007811[0][1].addStyle({\"sphere\": {\"colorscheme\": \"Jmol\", \"scale\": 0.3}});\n",
       "\tviewergrid_168979213007811[0][1].setStyle({\"elem\": \"Fe\"},{\"sphere\": {\"colorscheme\": \"Jmol\", \"scale\": 0.75}});\n",
       "\tviewergrid_168979213007811[0][1].addStyle({\"stick\": {\"colorscheme\": \"Jmol\", \"radius\": 0.25}});\n",
       "\tviewergrid_168979213007811[0][1].zoomTo();\n",
       "\tviewergrid_168979213007811[0][2].addModel(\"@<TRIPOS>MOLECULE\\ntmp.mol2 Charge: 2 Unpaired_Electrons: 4 XTB_Unpaired_Electrons: 4 XTB_Charge: 2\\n    19    18     1     0     0\\nSMALL\\nNoCharges\\n****\\nGenerated from Architector\\n\\n@<TRIPOS>ATOM\\n     1 Fe1      -0.0259    0.0031    0.1940   Fe        1 RES1   0.0000\\n     2 O1        0.0921   -0.0073    2.4745   O.3       1 RES1   0.0000\\n     3 H1       -0.0682   -0.7809    3.0269   H         1 RES1   0.0000\\n     4 H2       -0.0645    0.7519    3.0478   H         1 RES1   0.0000\\n     5 O2        2.3511   -0.0068   -0.1292   O.3       1 RES1   0.0000\\n     6 H3        2.9641    0.1684    0.5915   H         1 RES1   0.0000\\n     7 H4        2.8892   -0.1096   -0.9217   H         1 RES1   0.0000\\n     8 O3        0.6595    2.2913   -0.1289   O.3       1 RES1   0.0000\\n     9 H5        0.7440    2.7475   -0.9737   H         1 RES1   0.0000\\n    10 H6        1.2973    2.7089    0.4592   H         1 RES1   0.0000\\n    11 O4       -1.9222    1.3666   -0.0501   O.3       1 RES1   0.0000\\n    12 H7       -2.8425    1.1173   -0.1808   H         1 RES1   0.0000\\n    13 H8       -1.8819    2.3185   -0.1843   H         1 RES1   0.0000\\n    14 O5       -1.9602   -1.3846   -0.1337   O.3       1 RES1   0.0000\\n    15 H9       -2.3462   -1.7141   -0.9523   H         1 RES1   0.0000\\n    16 H10      -2.4813   -1.7605    0.5831   H         1 RES1   0.0000\\n    17 O6        0.7360   -2.2134   -0.0658   O.3       1 RES1   0.0000\\n    18 H11       0.2379   -2.9423   -0.4466   H         1 RES1   0.0000\\n    19 H12       1.6230   -2.5539    0.0917   H         1 RES1   0.0000\\n@<TRIPOS>BOND\\n     1     1     2    1\\n     2     1     5    1\\n     3     1     8    1\\n     4     1    11    1\\n     5     1    14    1\\n     6     1    17    1\\n     7     2     3    1\\n     8     2     4    1\\n     9     5     6    1\\n    10     5     7    1\\n    11     8     9    1\\n    12     8    10    1\\n    13    11    12    1\\n    14    11    13    1\\n    15    14    15    1\\n    16    14    16    1\\n    17    17    18    1\\n    18    17    19    1\\n@<TRIPOS>SUBSTRUCTURE\\n     1 RES1       19 GROUP             0 ****  ****    0  \\n\",\"mol2\");\n",
       "\tviewergrid_168979213007811[0][2].addStyle({\"sphere\": {\"colorscheme\": \"Jmol\", \"scale\": 0.3}});\n",
       "\tviewergrid_168979213007811[0][2].setStyle({\"elem\": \"Fe\"},{\"sphere\": {\"colorscheme\": \"Jmol\", \"scale\": 0.75}});\n",
       "\tviewergrid_168979213007811[0][2].addStyle({\"stick\": {\"colorscheme\": \"Jmol\", \"radius\": 0.25}});\n",
       "\tviewergrid_168979213007811[0][2].zoomTo();\n",
       "viewergrid_168979213007811[0][3].render();\n",
       "viewergrid_168979213007811[0][2].render();\n",
       "viewergrid_168979213007811[0][1].render();\n",
       "viewergrid_168979213007811[0][0].render();\n",
       "});\n",
       "</script>"
      ]
     },
     "metadata": {},
     "output_type": "display_data"
    }
   ],
   "source": [
    "view_structures(out2)"
   ]
  },
  {
   "cell_type": "code",
   "execution_count": 10,
   "id": "730ff5bb",
   "metadata": {},
   "outputs": [
    {
     "name": "stdout",
     "output_type": "stream",
     "text": [
      "Conformer: 0 -892.177820190812\n",
      "Conformer: 1 -892.5607050056128\n",
      "Conformer: 2 -892.3998327375249\n"
     ]
    }
   ],
   "source": [
    "# Here, the CREST conformer is lower???\n",
    "for i,(key,val) in enumerate(out2.items()):\n",
    "    print('Conformer:',i,val['energy'])"
   ]
  },
  {
   "cell_type": "code",
   "execution_count": 11,
   "id": "25f60fa0",
   "metadata": {},
   "outputs": [],
   "source": [
    "# If we look at the defaults in architector the crest_options are:\n",
    "# --gfn2//gfnff --noreftopo --nocross --quick\"\n",
    "# This by default does the CREST sampling with GFN-FF, then does SINGLE POINTS\n",
    "# at the GFN2-xTB level of theory.\n",
    "\n",
    "# Let's run again with different crest options (using --gfn2 for all steps!)\n",
    "# This will automatically perform optimization as well.\n",
    "# This will take much longer\n",
    "out3 = build_complex({'core':{'metal':'Fe',\n",
    "                    'coreCN':6},\n",
    "                     'ligands':['water']*6,\n",
    "                     'parameters':{\n",
    "                         \"crest_sampling\": True,\n",
    "                         # Switch to GFN2/GFN2\n",
    "                         \"crest_options\":\"--gfn2 --noreftopo --nocross --quick\"\n",
    "                     }})"
   ]
  },
  {
   "cell_type": "code",
   "execution_count": 12,
   "id": "d2f4aba0",
   "metadata": {},
   "outputs": [
    {
     "data": {
      "application/3dmoljs_load.v0": "<div id=\"3dmolviewer_1689792530200327\"  style=\"position: relative; width: 800px; height: 200px\">\n        <p id=\"3dmolwarning_1689792530200327\" style=\"background-color:#ffcccc;color:black\">You appear to be running in JupyterLab (or JavaScript failed to load for some other reason).  You need to install the 3dmol extension: <br>\n        <tt>jupyter labextension install jupyterlab_3dmol</tt></p>\n        </div>\n<script>\n\nvar loadScriptAsync = function(uri){\n  return new Promise((resolve, reject) => {\n    //this is to ignore the existence of requirejs amd\n    var savedexports, savedmodule;\n    if (typeof exports !== 'undefined') savedexports = exports;\n    else exports = {}\n    if (typeof module !== 'undefined') savedmodule = module;\n    else module = {}\n\n    var tag = document.createElement('script');\n    tag.src = uri;\n    tag.async = true;\n    tag.onload = () => {\n        exports = savedexports;\n        module = savedmodule;\n        resolve();\n    };\n  var firstScriptTag = document.getElementsByTagName('script')[0];\n  firstScriptTag.parentNode.insertBefore(tag, firstScriptTag);\n});\n};\n\nif(typeof $3Dmolpromise === 'undefined') {\n$3Dmolpromise = null;\n  $3Dmolpromise = loadScriptAsync('https://cdn.jsdelivr.net/npm/3dmol@latest/build/3Dmol-min.min.js');\n}\n\nvar viewer_1689792530200327 = null;\nvar warn = document.getElementById(\"3dmolwarning_1689792530200327\");\nif(warn) {\n    warn.parentNode.removeChild(warn);\n}\n$3Dmolpromise.then(function() {\nvar viewergrid_1689792530200327 = null;\nviewergrid_1689792530200327 = $3Dmol.createViewerGrid(document.getElementById(\"3dmolviewer_1689792530200327\"),{rows: 1, cols: 4, control_all: false},{backgroundColor:\"white\"});\nviewer_1689792530200327 = viewergrid_1689792530200327[0][0];\nviewergrid_1689792530200327[0][0].zoomTo();viewergrid_1689792530200327[0][1].zoomTo();viewergrid_1689792530200327[0][2].zoomTo();viewergrid_1689792530200327[0][3].zoomTo();\tviewergrid_1689792530200327[0][0].addModel(\"@<TRIPOS>MOLECULE\\ntmp.mol2 Charge: 2 Unpaired_Electrons: 4 XTB_Unpaired_Electrons: 4 XTB_Charge: 2\\n    19    18     1     0     0\\nSMALL\\nNoCharges\\n****\\nGenerated from Architector\\n\\n@<TRIPOS>ATOM\\n     1 Fe1       0.0001   -0.0003   -0.0002   Fe        1 RES1   0.0000\\n     2 O1       -0.0628   -2.0245    1.1899   O.3       1 RES1   0.0000\\n     3 H1       -0.6163   -2.2337    1.9498   H         1 RES1   0.0000\\n     4 H2        0.4587   -2.8155    1.0170   H         1 RES1   0.0000\\n     5 O2        0.0637    2.0236   -1.1909   O.3       1 RES1   0.0000\\n     6 H3       -0.4649    2.8112   -1.0244   H         1 RES1   0.0000\\n     7 H4        0.6237    2.2358   -1.9452   H         1 RES1   0.0000\\n     8 O3       -1.6753   -0.7965   -1.4411   O.3       1 RES1   0.0000\\n     9 H5       -2.0675   -0.3322   -2.1883   H         1 RES1   0.0000\\n    10 H6       -2.1089   -1.6558   -1.4072   H         1 RES1   0.0000\\n    11 O4        1.6730    0.7968    1.4434   O.3       1 RES1   0.0000\\n    12 H7        2.0679    0.3304    2.1878   H         1 RES1   0.0000\\n    13 H8        2.1041    1.6574    1.4124   H         1 RES1   0.0000\\n    14 O5        1.6478   -0.8866   -1.4206   O.3       1 RES1   0.0000\\n    15 H9        2.6022   -0.8442   -1.2991   H         1 RES1   0.0000\\n    16 H10       1.5074   -1.3671   -2.2434   H         1 RES1   0.0000\\n    17 O6       -1.6466    0.8882    1.4198   O.3       1 RES1   0.0000\\n    18 H11      -1.5060    1.3656    2.2444   H         1 RES1   0.0000\\n    19 H12      -2.6010    0.8491    1.2969   H         1 RES1   0.0000\\n@<TRIPOS>BOND\\n     1     1     2    1\\n     2     1     5    1\\n     3     1     8    1\\n     4     1    11    1\\n     5     1    14    1\\n     6     1    17    1\\n     7     2     3    1\\n     8     2     4    1\\n     9     5     6    1\\n    10     5     7    1\\n    11     8     9    1\\n    12     8    10    1\\n    13    11    12    1\\n    14    11    13    1\\n    15    14    15    1\\n    16    14    16    1\\n    17    17    18    1\\n    18    17    19    1\\n@<TRIPOS>SUBSTRUCTURE\\n     1 RES1       19 GROUP             0 ****  ****    0  \\n\",\"mol2\");\n\tviewergrid_1689792530200327[0][0].addStyle({\"sphere\": {\"colorscheme\": \"Jmol\", \"scale\": 0.3}});\n\tviewergrid_1689792530200327[0][0].setStyle({\"elem\": \"Fe\"},{\"sphere\": {\"colorscheme\": \"Jmol\", \"scale\": 0.75}});\n\tviewergrid_1689792530200327[0][0].addStyle({\"stick\": {\"colorscheme\": \"Jmol\", \"radius\": 0.25}});\n\tviewergrid_1689792530200327[0][0].zoomTo();\n\tviewergrid_1689792530200327[0][1].addModel(\"@<TRIPOS>MOLECULE\\ntmp.mol2 Charge: 2 Unpaired_Electrons: 4 XTB_Unpaired_Electrons: 4 XTB_Charge: 2\\n    19    18     1     0     0\\nSMALL\\nNoCharges\\n****\\nGenerated from Architector\\n\\n@<TRIPOS>ATOM\\n     1 Fe1       0.0365   -0.0001    0.0000   Fe        1 RES1   0.0000\\n     2 O1        1.8222   -0.0037    1.5390   O.3       1 RES1   0.0000\\n     3 H1        1.7089   -0.0285    2.4950   H         1 RES1   0.0000\\n     4 H2        2.7732    0.0430    1.3941   H         1 RES1   0.0000\\n     5 O2       -0.9099    1.5423    1.4975   O.3       1 RES1   0.0000\\n     6 H3       -0.4133    2.1459    2.0593   H         1 RES1   0.0000\\n     7 H4       -1.8380    1.7263    1.6727   H         1 RES1   0.0000\\n     8 O3       -0.9115   -1.5378    1.5026   O.3       1 RES1   0.0000\\n     9 H5       -0.4146   -2.1355    2.0705   H         1 RES1   0.0000\\n    10 H6       -1.8388   -1.7459    1.6529   H         1 RES1   0.0000\\n    11 O4        1.8221    0.0043   -1.5391   O.3       1 RES1   0.0000\\n    12 H7        1.7084    0.0072   -2.4954   H         1 RES1   0.0000\\n    13 H8        2.7738   -0.0189   -1.3935   H         1 RES1   0.0000\\n    14 O5       -0.9117    1.5380   -1.5017   O.3       1 RES1   0.0000\\n    15 H9       -0.4142    2.1334   -2.0715   H         1 RES1   0.0000\\n    16 H10      -1.8388    1.7461   -1.6530   H         1 RES1   0.0000\\n    17 O6       -0.9098   -1.5421   -1.4983   O.3       1 RES1   0.0000\\n    18 H11      -0.4136   -2.1478   -2.0583   H         1 RES1   0.0000\\n    19 H12      -1.8380   -1.7263   -1.6727   H         1 RES1   0.0000\\n@<TRIPOS>BOND\\n     1     1     2    1\\n     2     1     5    1\\n     3     1     8    1\\n     4     1    11    1\\n     5     1    14    1\\n     6     1    17    1\\n     7     2     3    1\\n     8     2     4    1\\n     9     5     6    1\\n    10     5     7    1\\n    11     8     9    1\\n    12     8    10    1\\n    13    11    12    1\\n    14    11    13    1\\n    15    14    15    1\\n    16    14    16    1\\n    17    17    18    1\\n    18    17    19    1\\n@<TRIPOS>SUBSTRUCTURE\\n     1 RES1       19 GROUP             0 ****  ****    0  \\n\",\"mol2\");\n\tviewergrid_1689792530200327[0][1].addStyle({\"sphere\": {\"colorscheme\": \"Jmol\", \"scale\": 0.3}});\n\tviewergrid_1689792530200327[0][1].setStyle({\"elem\": \"Fe\"},{\"sphere\": {\"colorscheme\": \"Jmol\", \"scale\": 0.75}});\n\tviewergrid_1689792530200327[0][1].addStyle({\"stick\": {\"colorscheme\": \"Jmol\", \"radius\": 0.25}});\n\tviewergrid_1689792530200327[0][1].zoomTo();\n\tviewergrid_1689792530200327[0][2].addModel(\"@<TRIPOS>MOLECULE\\ntmp.mol2 Charge: 2 Unpaired_Electrons: 4 XTB_Unpaired_Electrons: 4 XTB_Charge: 2\\n    19    18     1     0     0\\nSMALL\\nNoCharges\\n****\\nGenerated from Architector\\n\\n@<TRIPOS>ATOM\\n     1 Fe1       0.0158    0.0006    0.2266   Fe        1 RES1   0.0000\\n     2 O1        0.0190    0.0101    2.5207   O.3       1 RES1   0.0000\\n     3 H1       -0.6133    0.4338    3.1104   H         1 RES1   0.0000\\n     4 H2        0.6864   -0.3778    3.0976   H         1 RES1   0.0000\\n     5 O2        2.3717   -0.0526   -0.0602   O.3       1 RES1   0.0000\\n     6 H3        2.8877   -0.4695   -0.7581   H         1 RES1   0.0000\\n     7 H4        2.9771    0.5380    0.4001   H         1 RES1   0.0000\\n     8 O3        0.7695    2.2273   -0.1387   O.3       1 RES1   0.0000\\n     9 H5        0.3114    2.9681    0.2730   H         1 RES1   0.0000\\n    10 H6        1.4147    2.6109   -0.7417   H         1 RES1   0.0000\\n    11 O4       -1.8630    1.4238   -0.0980   O.3       1 RES1   0.0000\\n    12 H7       -2.0558    2.0001   -0.8455   H         1 RES1   0.0000\\n    13 H8       -2.7033    1.2939    0.3554   H         1 RES1   0.0000\\n    14 O5       -1.9555   -1.3246   -0.0896   O.3       1 RES1   0.0000\\n    15 H9       -2.2106   -2.0310    0.5121   H         1 RES1   0.0000\\n    16 H10      -2.5083   -1.4269   -0.8704   H         1 RES1   0.0000\\n    17 O6        0.6839   -2.2487   -0.1537   O.3       1 RES1   0.0000\\n    18 H11       1.4782   -2.6213    0.2436   H         1 RES1   0.0000\\n    19 H12       0.2959   -2.9540   -0.6817   H         1 RES1   0.0000\\n@<TRIPOS>BOND\\n     1     1     2    1\\n     2     1     5    1\\n     3     1     8    1\\n     4     1    11    1\\n     5     1    14    1\\n     6     1    17    1\\n     7     2     3    1\\n     8     2     4    1\\n     9     5     6    1\\n    10     5     7    1\\n    11     8     9    1\\n    12     8    10    1\\n    13    11    12    1\\n    14    11    13    1\\n    15    14    15    1\\n    16    14    16    1\\n    17    17    18    1\\n    18    17    19    1\\n@<TRIPOS>SUBSTRUCTURE\\n     1 RES1       19 GROUP             0 ****  ****    0  \\n\",\"mol2\");\n\tviewergrid_1689792530200327[0][2].addStyle({\"sphere\": {\"colorscheme\": \"Jmol\", \"scale\": 0.3}});\n\tviewergrid_1689792530200327[0][2].setStyle({\"elem\": \"Fe\"},{\"sphere\": {\"colorscheme\": \"Jmol\", \"scale\": 0.75}});\n\tviewergrid_1689792530200327[0][2].addStyle({\"stick\": {\"colorscheme\": \"Jmol\", \"radius\": 0.25}});\n\tviewergrid_1689792530200327[0][2].zoomTo();\nviewergrid_1689792530200327[0][3].render();\nviewergrid_1689792530200327[0][2].render();\nviewergrid_1689792530200327[0][1].render();\nviewergrid_1689792530200327[0][0].render();\n});\n</script>",
      "text/html": [
       "<div id=\"3dmolviewer_1689792530200327\"  style=\"position: relative; width: 800px; height: 200px\">\n",
       "        <p id=\"3dmolwarning_1689792530200327\" style=\"background-color:#ffcccc;color:black\">You appear to be running in JupyterLab (or JavaScript failed to load for some other reason).  You need to install the 3dmol extension: <br>\n",
       "        <tt>jupyter labextension install jupyterlab_3dmol</tt></p>\n",
       "        </div>\n",
       "<script>\n",
       "\n",
       "var loadScriptAsync = function(uri){\n",
       "  return new Promise((resolve, reject) => {\n",
       "    //this is to ignore the existence of requirejs amd\n",
       "    var savedexports, savedmodule;\n",
       "    if (typeof exports !== 'undefined') savedexports = exports;\n",
       "    else exports = {}\n",
       "    if (typeof module !== 'undefined') savedmodule = module;\n",
       "    else module = {}\n",
       "\n",
       "    var tag = document.createElement('script');\n",
       "    tag.src = uri;\n",
       "    tag.async = true;\n",
       "    tag.onload = () => {\n",
       "        exports = savedexports;\n",
       "        module = savedmodule;\n",
       "        resolve();\n",
       "    };\n",
       "  var firstScriptTag = document.getElementsByTagName('script')[0];\n",
       "  firstScriptTag.parentNode.insertBefore(tag, firstScriptTag);\n",
       "});\n",
       "};\n",
       "\n",
       "if(typeof $3Dmolpromise === 'undefined') {\n",
       "$3Dmolpromise = null;\n",
       "  $3Dmolpromise = loadScriptAsync('https://cdn.jsdelivr.net/npm/3dmol@latest/build/3Dmol-min.min.js');\n",
       "}\n",
       "\n",
       "var viewer_1689792530200327 = null;\n",
       "var warn = document.getElementById(\"3dmolwarning_1689792530200327\");\n",
       "if(warn) {\n",
       "    warn.parentNode.removeChild(warn);\n",
       "}\n",
       "$3Dmolpromise.then(function() {\n",
       "var viewergrid_1689792530200327 = null;\n",
       "viewergrid_1689792530200327 = $3Dmol.createViewerGrid(document.getElementById(\"3dmolviewer_1689792530200327\"),{rows: 1, cols: 4, control_all: false},{backgroundColor:\"white\"});\n",
       "viewer_1689792530200327 = viewergrid_1689792530200327[0][0];\n",
       "viewergrid_1689792530200327[0][0].zoomTo();viewergrid_1689792530200327[0][1].zoomTo();viewergrid_1689792530200327[0][2].zoomTo();viewergrid_1689792530200327[0][3].zoomTo();\tviewergrid_1689792530200327[0][0].addModel(\"@<TRIPOS>MOLECULE\\ntmp.mol2 Charge: 2 Unpaired_Electrons: 4 XTB_Unpaired_Electrons: 4 XTB_Charge: 2\\n    19    18     1     0     0\\nSMALL\\nNoCharges\\n****\\nGenerated from Architector\\n\\n@<TRIPOS>ATOM\\n     1 Fe1       0.0001   -0.0003   -0.0002   Fe        1 RES1   0.0000\\n     2 O1       -0.0628   -2.0245    1.1899   O.3       1 RES1   0.0000\\n     3 H1       -0.6163   -2.2337    1.9498   H         1 RES1   0.0000\\n     4 H2        0.4587   -2.8155    1.0170   H         1 RES1   0.0000\\n     5 O2        0.0637    2.0236   -1.1909   O.3       1 RES1   0.0000\\n     6 H3       -0.4649    2.8112   -1.0244   H         1 RES1   0.0000\\n     7 H4        0.6237    2.2358   -1.9452   H         1 RES1   0.0000\\n     8 O3       -1.6753   -0.7965   -1.4411   O.3       1 RES1   0.0000\\n     9 H5       -2.0675   -0.3322   -2.1883   H         1 RES1   0.0000\\n    10 H6       -2.1089   -1.6558   -1.4072   H         1 RES1   0.0000\\n    11 O4        1.6730    0.7968    1.4434   O.3       1 RES1   0.0000\\n    12 H7        2.0679    0.3304    2.1878   H         1 RES1   0.0000\\n    13 H8        2.1041    1.6574    1.4124   H         1 RES1   0.0000\\n    14 O5        1.6478   -0.8866   -1.4206   O.3       1 RES1   0.0000\\n    15 H9        2.6022   -0.8442   -1.2991   H         1 RES1   0.0000\\n    16 H10       1.5074   -1.3671   -2.2434   H         1 RES1   0.0000\\n    17 O6       -1.6466    0.8882    1.4198   O.3       1 RES1   0.0000\\n    18 H11      -1.5060    1.3656    2.2444   H         1 RES1   0.0000\\n    19 H12      -2.6010    0.8491    1.2969   H         1 RES1   0.0000\\n@<TRIPOS>BOND\\n     1     1     2    1\\n     2     1     5    1\\n     3     1     8    1\\n     4     1    11    1\\n     5     1    14    1\\n     6     1    17    1\\n     7     2     3    1\\n     8     2     4    1\\n     9     5     6    1\\n    10     5     7    1\\n    11     8     9    1\\n    12     8    10    1\\n    13    11    12    1\\n    14    11    13    1\\n    15    14    15    1\\n    16    14    16    1\\n    17    17    18    1\\n    18    17    19    1\\n@<TRIPOS>SUBSTRUCTURE\\n     1 RES1       19 GROUP             0 ****  ****    0  \\n\",\"mol2\");\n",
       "\tviewergrid_1689792530200327[0][0].addStyle({\"sphere\": {\"colorscheme\": \"Jmol\", \"scale\": 0.3}});\n",
       "\tviewergrid_1689792530200327[0][0].setStyle({\"elem\": \"Fe\"},{\"sphere\": {\"colorscheme\": \"Jmol\", \"scale\": 0.75}});\n",
       "\tviewergrid_1689792530200327[0][0].addStyle({\"stick\": {\"colorscheme\": \"Jmol\", \"radius\": 0.25}});\n",
       "\tviewergrid_1689792530200327[0][0].zoomTo();\n",
       "\tviewergrid_1689792530200327[0][1].addModel(\"@<TRIPOS>MOLECULE\\ntmp.mol2 Charge: 2 Unpaired_Electrons: 4 XTB_Unpaired_Electrons: 4 XTB_Charge: 2\\n    19    18     1     0     0\\nSMALL\\nNoCharges\\n****\\nGenerated from Architector\\n\\n@<TRIPOS>ATOM\\n     1 Fe1       0.0365   -0.0001    0.0000   Fe        1 RES1   0.0000\\n     2 O1        1.8222   -0.0037    1.5390   O.3       1 RES1   0.0000\\n     3 H1        1.7089   -0.0285    2.4950   H         1 RES1   0.0000\\n     4 H2        2.7732    0.0430    1.3941   H         1 RES1   0.0000\\n     5 O2       -0.9099    1.5423    1.4975   O.3       1 RES1   0.0000\\n     6 H3       -0.4133    2.1459    2.0593   H         1 RES1   0.0000\\n     7 H4       -1.8380    1.7263    1.6727   H         1 RES1   0.0000\\n     8 O3       -0.9115   -1.5378    1.5026   O.3       1 RES1   0.0000\\n     9 H5       -0.4146   -2.1355    2.0705   H         1 RES1   0.0000\\n    10 H6       -1.8388   -1.7459    1.6529   H         1 RES1   0.0000\\n    11 O4        1.8221    0.0043   -1.5391   O.3       1 RES1   0.0000\\n    12 H7        1.7084    0.0072   -2.4954   H         1 RES1   0.0000\\n    13 H8        2.7738   -0.0189   -1.3935   H         1 RES1   0.0000\\n    14 O5       -0.9117    1.5380   -1.5017   O.3       1 RES1   0.0000\\n    15 H9       -0.4142    2.1334   -2.0715   H         1 RES1   0.0000\\n    16 H10      -1.8388    1.7461   -1.6530   H         1 RES1   0.0000\\n    17 O6       -0.9098   -1.5421   -1.4983   O.3       1 RES1   0.0000\\n    18 H11      -0.4136   -2.1478   -2.0583   H         1 RES1   0.0000\\n    19 H12      -1.8380   -1.7263   -1.6727   H         1 RES1   0.0000\\n@<TRIPOS>BOND\\n     1     1     2    1\\n     2     1     5    1\\n     3     1     8    1\\n     4     1    11    1\\n     5     1    14    1\\n     6     1    17    1\\n     7     2     3    1\\n     8     2     4    1\\n     9     5     6    1\\n    10     5     7    1\\n    11     8     9    1\\n    12     8    10    1\\n    13    11    12    1\\n    14    11    13    1\\n    15    14    15    1\\n    16    14    16    1\\n    17    17    18    1\\n    18    17    19    1\\n@<TRIPOS>SUBSTRUCTURE\\n     1 RES1       19 GROUP             0 ****  ****    0  \\n\",\"mol2\");\n",
       "\tviewergrid_1689792530200327[0][1].addStyle({\"sphere\": {\"colorscheme\": \"Jmol\", \"scale\": 0.3}});\n",
       "\tviewergrid_1689792530200327[0][1].setStyle({\"elem\": \"Fe\"},{\"sphere\": {\"colorscheme\": \"Jmol\", \"scale\": 0.75}});\n",
       "\tviewergrid_1689792530200327[0][1].addStyle({\"stick\": {\"colorscheme\": \"Jmol\", \"radius\": 0.25}});\n",
       "\tviewergrid_1689792530200327[0][1].zoomTo();\n",
       "\tviewergrid_1689792530200327[0][2].addModel(\"@<TRIPOS>MOLECULE\\ntmp.mol2 Charge: 2 Unpaired_Electrons: 4 XTB_Unpaired_Electrons: 4 XTB_Charge: 2\\n    19    18     1     0     0\\nSMALL\\nNoCharges\\n****\\nGenerated from Architector\\n\\n@<TRIPOS>ATOM\\n     1 Fe1       0.0158    0.0006    0.2266   Fe        1 RES1   0.0000\\n     2 O1        0.0190    0.0101    2.5207   O.3       1 RES1   0.0000\\n     3 H1       -0.6133    0.4338    3.1104   H         1 RES1   0.0000\\n     4 H2        0.6864   -0.3778    3.0976   H         1 RES1   0.0000\\n     5 O2        2.3717   -0.0526   -0.0602   O.3       1 RES1   0.0000\\n     6 H3        2.8877   -0.4695   -0.7581   H         1 RES1   0.0000\\n     7 H4        2.9771    0.5380    0.4001   H         1 RES1   0.0000\\n     8 O3        0.7695    2.2273   -0.1387   O.3       1 RES1   0.0000\\n     9 H5        0.3114    2.9681    0.2730   H         1 RES1   0.0000\\n    10 H6        1.4147    2.6109   -0.7417   H         1 RES1   0.0000\\n    11 O4       -1.8630    1.4238   -0.0980   O.3       1 RES1   0.0000\\n    12 H7       -2.0558    2.0001   -0.8455   H         1 RES1   0.0000\\n    13 H8       -2.7033    1.2939    0.3554   H         1 RES1   0.0000\\n    14 O5       -1.9555   -1.3246   -0.0896   O.3       1 RES1   0.0000\\n    15 H9       -2.2106   -2.0310    0.5121   H         1 RES1   0.0000\\n    16 H10      -2.5083   -1.4269   -0.8704   H         1 RES1   0.0000\\n    17 O6        0.6839   -2.2487   -0.1537   O.3       1 RES1   0.0000\\n    18 H11       1.4782   -2.6213    0.2436   H         1 RES1   0.0000\\n    19 H12       0.2959   -2.9540   -0.6817   H         1 RES1   0.0000\\n@<TRIPOS>BOND\\n     1     1     2    1\\n     2     1     5    1\\n     3     1     8    1\\n     4     1    11    1\\n     5     1    14    1\\n     6     1    17    1\\n     7     2     3    1\\n     8     2     4    1\\n     9     5     6    1\\n    10     5     7    1\\n    11     8     9    1\\n    12     8    10    1\\n    13    11    12    1\\n    14    11    13    1\\n    15    14    15    1\\n    16    14    16    1\\n    17    17    18    1\\n    18    17    19    1\\n@<TRIPOS>SUBSTRUCTURE\\n     1 RES1       19 GROUP             0 ****  ****    0  \\n\",\"mol2\");\n",
       "\tviewergrid_1689792530200327[0][2].addStyle({\"sphere\": {\"colorscheme\": \"Jmol\", \"scale\": 0.3}});\n",
       "\tviewergrid_1689792530200327[0][2].setStyle({\"elem\": \"Fe\"},{\"sphere\": {\"colorscheme\": \"Jmol\", \"scale\": 0.75}});\n",
       "\tviewergrid_1689792530200327[0][2].addStyle({\"stick\": {\"colorscheme\": \"Jmol\", \"radius\": 0.25}});\n",
       "\tviewergrid_1689792530200327[0][2].zoomTo();\n",
       "viewergrid_1689792530200327[0][3].render();\n",
       "viewergrid_1689792530200327[0][2].render();\n",
       "viewergrid_1689792530200327[0][1].render();\n",
       "viewergrid_1689792530200327[0][0].render();\n",
       "});\n",
       "</script>"
      ]
     },
     "metadata": {},
     "output_type": "display_data"
    }
   ],
   "source": [
    "view_structures(out3)"
   ]
  },
  {
   "cell_type": "code",
   "execution_count": 16,
   "id": "97a6fa89",
   "metadata": {},
   "outputs": [
    {
     "name": "stdout",
     "output_type": "stream",
     "text": [
      "Conformer: 0 -892.714740569342\n",
      "Conformer: 1 -892.5601984027326\n",
      "Conformer: 2 -892.4178075717363\n"
     ]
    }
   ],
   "source": [
    "# Here, we fixed it - where the first conformer \n",
    "# (that had crest sampling) is now lower in energy.\n",
    "for i,(key,val) in enumerate(out3.items()):\n",
    "    print('Conformer:',i,val['energy'])"
   ]
  },
  {
   "cell_type": "code",
   "execution_count": 18,
   "id": "f862fda7",
   "metadata": {},
   "outputs": [],
   "source": [
    "# I wanted crest sampling on them all!\n",
    "# - Note - this runs for several minutes on my laptop\n",
    "out4 = build_complex({'core':{'metal':'Fe',\n",
    "                    'coreCN':6},\n",
    "                     'ligands':['water']*6,\n",
    "                     'parameters':{\n",
    "                         \"crest_sampling\": True,\n",
    "                         # Switch to GFN2/GFN2\n",
    "                         \"crest_options\":\"--gfn2 --noreftopo --nocross --quick\",\n",
    "                         # You can specify Crest sampling on up to N conformers:\n",
    "                         \"crest_sampling_n_conformers\": 3\n",
    "                     }})"
   ]
  },
  {
   "cell_type": "code",
   "execution_count": 19,
   "id": "73541281",
   "metadata": {},
   "outputs": [
    {
     "data": {
      "application/3dmoljs_load.v0": "<div id=\"3dmolviewer_1689793676888488\"  style=\"position: relative; width: 800px; height: 200px\">\n        <p id=\"3dmolwarning_1689793676888488\" style=\"background-color:#ffcccc;color:black\">You appear to be running in JupyterLab (or JavaScript failed to load for some other reason).  You need to install the 3dmol extension: <br>\n        <tt>jupyter labextension install jupyterlab_3dmol</tt></p>\n        </div>\n<script>\n\nvar loadScriptAsync = function(uri){\n  return new Promise((resolve, reject) => {\n    //this is to ignore the existence of requirejs amd\n    var savedexports, savedmodule;\n    if (typeof exports !== 'undefined') savedexports = exports;\n    else exports = {}\n    if (typeof module !== 'undefined') savedmodule = module;\n    else module = {}\n\n    var tag = document.createElement('script');\n    tag.src = uri;\n    tag.async = true;\n    tag.onload = () => {\n        exports = savedexports;\n        module = savedmodule;\n        resolve();\n    };\n  var firstScriptTag = document.getElementsByTagName('script')[0];\n  firstScriptTag.parentNode.insertBefore(tag, firstScriptTag);\n});\n};\n\nif(typeof $3Dmolpromise === 'undefined') {\n$3Dmolpromise = null;\n  $3Dmolpromise = loadScriptAsync('https://cdn.jsdelivr.net/npm/3dmol@latest/build/3Dmol-min.min.js');\n}\n\nvar viewer_1689793676888488 = null;\nvar warn = document.getElementById(\"3dmolwarning_1689793676888488\");\nif(warn) {\n    warn.parentNode.removeChild(warn);\n}\n$3Dmolpromise.then(function() {\nvar viewergrid_1689793676888488 = null;\nviewergrid_1689793676888488 = $3Dmol.createViewerGrid(document.getElementById(\"3dmolviewer_1689793676888488\"),{rows: 1, cols: 4, control_all: false},{backgroundColor:\"white\"});\nviewer_1689793676888488 = viewergrid_1689793676888488[0][0];\nviewergrid_1689793676888488[0][0].zoomTo();viewergrid_1689793676888488[0][1].zoomTo();viewergrid_1689793676888488[0][2].zoomTo();viewergrid_1689793676888488[0][3].zoomTo();\tviewergrid_1689793676888488[0][0].addModel(\"@<TRIPOS>MOLECULE\\ntmp.mol2 Charge: 2 Unpaired_Electrons: 4 XTB_Unpaired_Electrons: 4 XTB_Charge: 2\\n    19    18     1     0     0\\nSMALL\\nNoCharges\\n****\\nGenerated from Architector\\n\\n@<TRIPOS>ATOM\\n     1 Fe1      -0.0002    0.0003   -0.0008   Fe        1 RES1   0.0000\\n     2 O1        0.2274   -2.3088    0.3646   O.3       1 RES1   0.0000\\n     3 H1        0.8161   -2.9143   -0.0982   H         1 RES1   0.0000\\n     4 H2       -0.2479   -2.8436    1.0095   H         1 RES1   0.0000\\n     5 O2       -1.6658   -0.4170   -1.6037   O.3       1 RES1   0.0000\\n     6 H3       -2.1527    0.2355   -2.1180   H         1 RES1   0.0000\\n     7 H4       -2.0014   -1.2760   -1.8813   H         1 RES1   0.0000\\n     8 O3       -0.2292    2.3105   -0.3592   O.3       1 RES1   0.0000\\n     9 H5        0.2488    2.8489   -0.9989   H         1 RES1   0.0000\\n    10 H6       -0.8217    2.9130    0.1028   H         1 RES1   0.0000\\n    11 O4        1.6404   -0.1013   -1.6787   O.3       1 RES1   0.0000\\n    12 H7        2.5903    0.0140   -1.5685   H         1 RES1   0.0000\\n    13 H8        1.5013   -0.2653   -2.6175   H         1 RES1   0.0000\\n    14 O5       -1.6398    0.1007    1.6784   O.3       1 RES1   0.0000\\n    15 H9       -1.4992    0.2613    2.6176   H         1 RES1   0.0000\\n    16 H10      -2.5900   -0.0088    1.5687   H         1 RES1   0.0000\\n    17 O6        1.6675    0.4148    1.6007   O.3       1 RES1   0.0000\\n    18 H11       2.0038    1.2730    1.8797   H         1 RES1   0.0000\\n    19 H12       2.1552   -0.2394    2.1126   H         1 RES1   0.0000\\n@<TRIPOS>BOND\\n     1     1     2    1\\n     2     1     5    1\\n     3     1     8    1\\n     4     1    11    1\\n     5     1    14    1\\n     6     1    17    1\\n     7     2     3    1\\n     8     2     4    1\\n     9     5     6    1\\n    10     5     7    1\\n    11     8     9    1\\n    12     8    10    1\\n    13    11    12    1\\n    14    11    13    1\\n    15    14    15    1\\n    16    14    16    1\\n    17    17    18    1\\n    18    17    19    1\\n@<TRIPOS>SUBSTRUCTURE\\n     1 RES1       19 GROUP             0 ****  ****    0  \\n\",\"mol2\");\n\tviewergrid_1689793676888488[0][0].addStyle({\"sphere\": {\"colorscheme\": \"Jmol\", \"scale\": 0.3}});\n\tviewergrid_1689793676888488[0][0].setStyle({\"elem\": \"Fe\"},{\"sphere\": {\"colorscheme\": \"Jmol\", \"scale\": 0.75}});\n\tviewergrid_1689793676888488[0][0].addStyle({\"stick\": {\"colorscheme\": \"Jmol\", \"radius\": 0.25}});\n\tviewergrid_1689793676888488[0][0].zoomTo();\n\tviewergrid_1689793676888488[0][1].addModel(\"@<TRIPOS>MOLECULE\\ntmp.mol2 Charge: 2 Unpaired_Electrons: 4 XTB_Unpaired_Electrons: 4 XTB_Charge: 2\\n    19    18     1     0     0\\nSMALL\\nNoCharges\\n****\\nGenerated from Architector\\n\\n@<TRIPOS>ATOM\\n     1 Fe1      -0.0002   -0.0002   -0.0004   Fe        1 RES1   0.0000\\n     2 O1        1.3999   -1.1795   -1.4723   O.3       1 RES1   0.0000\\n     3 H1        2.2399   -1.6009   -1.2614   H         1 RES1   0.0000\\n     4 H2        1.2520   -1.3400   -2.4103   H         1 RES1   0.0000\\n     5 O2       -1.5013    0.4141   -1.7589   O.3       1 RES1   0.0000\\n     6 H3       -1.4961    1.1657   -2.3611   H         1 RES1   0.0000\\n     7 H4       -2.2471   -0.1334   -2.0263   H         1 RES1   0.0000\\n     8 O3        1.1444    1.9877   -0.5059   O.3       1 RES1   0.0000\\n     9 H5        0.9632    2.8664   -0.1559   H         1 RES1   0.0000\\n    10 H6        1.8887    2.0916   -1.1081   H         1 RES1   0.0000\\n    11 O4        1.5001   -0.4135    1.7592   O.3       1 RES1   0.0000\\n    12 H7        2.2386    0.1402    2.0339   H         1 RES1   0.0000\\n    13 H8        1.5024   -1.1710    2.3540   H         1 RES1   0.0000\\n    14 O5       -1.1422   -1.9888    0.5087   O.3       1 RES1   0.0000\\n    15 H9       -0.9686   -2.8656    0.1500   H         1 RES1   0.0000\\n    16 H10      -1.8797   -2.0944    1.1190   H         1 RES1   0.0000\\n    17 O6       -1.4001    1.1809    1.4704   O.3       1 RES1   0.0000\\n    18 H11      -1.2528    1.3417    2.4084   H         1 RES1   0.0000\\n    19 H12      -2.2403    1.6014    1.2591   H         1 RES1   0.0000\\n@<TRIPOS>BOND\\n     1     1     2    1\\n     2     1     5    1\\n     3     1     8    1\\n     4     1    11    1\\n     5     1    14    1\\n     6     1    17    1\\n     7     2     3    1\\n     8     2     4    1\\n     9     5     6    1\\n    10     5     7    1\\n    11     8     9    1\\n    12     8    10    1\\n    13    11    12    1\\n    14    11    13    1\\n    15    14    15    1\\n    16    14    16    1\\n    17    17    18    1\\n    18    17    19    1\\n@<TRIPOS>SUBSTRUCTURE\\n     1 RES1       19 GROUP             0 ****  ****    0  \\n\",\"mol2\");\n\tviewergrid_1689793676888488[0][1].addStyle({\"sphere\": {\"colorscheme\": \"Jmol\", \"scale\": 0.3}});\n\tviewergrid_1689793676888488[0][1].setStyle({\"elem\": \"Fe\"},{\"sphere\": {\"colorscheme\": \"Jmol\", \"scale\": 0.75}});\n\tviewergrid_1689793676888488[0][1].addStyle({\"stick\": {\"colorscheme\": \"Jmol\", \"radius\": 0.25}});\n\tviewergrid_1689793676888488[0][1].zoomTo();\n\tviewergrid_1689793676888488[0][2].addModel(\"@<TRIPOS>MOLECULE\\ntmp.mol2 Charge: 2 Unpaired_Electrons: 4 XTB_Unpaired_Electrons: 4 XTB_Charge: 2\\n    19    18     1     0     0\\nSMALL\\nNoCharges\\n****\\nGenerated from Architector\\n\\n@<TRIPOS>ATOM\\n     1 Fe1      -0.0001    0.0002   -0.0002   Fe        1 RES1   0.0000\\n     2 O1       -1.0350    2.1036    0.1474   O.3       1 RES1   0.0000\\n     3 H1       -0.7863    2.8336    0.7243   H         1 RES1   0.0000\\n     4 H2       -1.7963    2.4120   -0.3555   H         1 RES1   0.0000\\n     5 O2       -1.4356   -0.8236    1.6667   O.3       1 RES1   0.0000\\n     6 H3       -1.4505   -1.7146    2.0315   H         1 RES1   0.0000\\n     7 H4       -2.1298   -0.3389    2.1254   H         1 RES1   0.0000\\n     8 O3        1.5444    0.6432    1.6488   O.3       1 RES1   0.0000\\n     9 H5        2.3961    1.0710    1.5104   H         1 RES1   0.0000\\n    10 H6        1.4554    0.5340    2.6015   H         1 RES1   0.0000\\n    11 O4        1.4382    0.8229   -1.6651   O.3       1 RES1   0.0000\\n    12 H7        1.4555    1.7145   -2.0287   H         1 RES1   0.0000\\n    13 H8        2.1305    0.3367   -2.1252   H         1 RES1   0.0000\\n    14 O5        1.0332   -2.1042   -0.1484   O.3       1 RES1   0.0000\\n    15 H9        1.7947   -2.4132    0.3535   H         1 RES1   0.0000\\n    16 H10       0.7835   -2.8337   -0.7256   H         1 RES1   0.0000\\n    17 O6       -1.5449   -0.6425   -1.6489   O.3       1 RES1   0.0000\\n    18 H11      -2.3963   -1.0709   -1.5103   H         1 RES1   0.0000\\n    19 H12      -1.4572   -0.5311   -2.6014   H         1 RES1   0.0000\\n@<TRIPOS>BOND\\n     1     1     2    1\\n     2     1     5    1\\n     3     1     8    1\\n     4     1    11    1\\n     5     1    14    1\\n     6     1    17    1\\n     7     2     3    1\\n     8     2     4    1\\n     9     5     6    1\\n    10     5     7    1\\n    11     8     9    1\\n    12     8    10    1\\n    13    11    12    1\\n    14    11    13    1\\n    15    14    15    1\\n    16    14    16    1\\n    17    17    18    1\\n    18    17    19    1\\n@<TRIPOS>SUBSTRUCTURE\\n     1 RES1       19 GROUP             0 ****  ****    0  \\n\",\"mol2\");\n\tviewergrid_1689793676888488[0][2].addStyle({\"sphere\": {\"colorscheme\": \"Jmol\", \"scale\": 0.3}});\n\tviewergrid_1689793676888488[0][2].setStyle({\"elem\": \"Fe\"},{\"sphere\": {\"colorscheme\": \"Jmol\", \"scale\": 0.75}});\n\tviewergrid_1689793676888488[0][2].addStyle({\"stick\": {\"colorscheme\": \"Jmol\", \"radius\": 0.25}});\n\tviewergrid_1689793676888488[0][2].zoomTo();\nviewergrid_1689793676888488[0][3].render();\nviewergrid_1689793676888488[0][2].render();\nviewergrid_1689793676888488[0][1].render();\nviewergrid_1689793676888488[0][0].render();\n});\n</script>",
      "text/html": [
       "<div id=\"3dmolviewer_1689793676888488\"  style=\"position: relative; width: 800px; height: 200px\">\n",
       "        <p id=\"3dmolwarning_1689793676888488\" style=\"background-color:#ffcccc;color:black\">You appear to be running in JupyterLab (or JavaScript failed to load for some other reason).  You need to install the 3dmol extension: <br>\n",
       "        <tt>jupyter labextension install jupyterlab_3dmol</tt></p>\n",
       "        </div>\n",
       "<script>\n",
       "\n",
       "var loadScriptAsync = function(uri){\n",
       "  return new Promise((resolve, reject) => {\n",
       "    //this is to ignore the existence of requirejs amd\n",
       "    var savedexports, savedmodule;\n",
       "    if (typeof exports !== 'undefined') savedexports = exports;\n",
       "    else exports = {}\n",
       "    if (typeof module !== 'undefined') savedmodule = module;\n",
       "    else module = {}\n",
       "\n",
       "    var tag = document.createElement('script');\n",
       "    tag.src = uri;\n",
       "    tag.async = true;\n",
       "    tag.onload = () => {\n",
       "        exports = savedexports;\n",
       "        module = savedmodule;\n",
       "        resolve();\n",
       "    };\n",
       "  var firstScriptTag = document.getElementsByTagName('script')[0];\n",
       "  firstScriptTag.parentNode.insertBefore(tag, firstScriptTag);\n",
       "});\n",
       "};\n",
       "\n",
       "if(typeof $3Dmolpromise === 'undefined') {\n",
       "$3Dmolpromise = null;\n",
       "  $3Dmolpromise = loadScriptAsync('https://cdn.jsdelivr.net/npm/3dmol@latest/build/3Dmol-min.min.js');\n",
       "}\n",
       "\n",
       "var viewer_1689793676888488 = null;\n",
       "var warn = document.getElementById(\"3dmolwarning_1689793676888488\");\n",
       "if(warn) {\n",
       "    warn.parentNode.removeChild(warn);\n",
       "}\n",
       "$3Dmolpromise.then(function() {\n",
       "var viewergrid_1689793676888488 = null;\n",
       "viewergrid_1689793676888488 = $3Dmol.createViewerGrid(document.getElementById(\"3dmolviewer_1689793676888488\"),{rows: 1, cols: 4, control_all: false},{backgroundColor:\"white\"});\n",
       "viewer_1689793676888488 = viewergrid_1689793676888488[0][0];\n",
       "viewergrid_1689793676888488[0][0].zoomTo();viewergrid_1689793676888488[0][1].zoomTo();viewergrid_1689793676888488[0][2].zoomTo();viewergrid_1689793676888488[0][3].zoomTo();\tviewergrid_1689793676888488[0][0].addModel(\"@<TRIPOS>MOLECULE\\ntmp.mol2 Charge: 2 Unpaired_Electrons: 4 XTB_Unpaired_Electrons: 4 XTB_Charge: 2\\n    19    18     1     0     0\\nSMALL\\nNoCharges\\n****\\nGenerated from Architector\\n\\n@<TRIPOS>ATOM\\n     1 Fe1      -0.0002    0.0003   -0.0008   Fe        1 RES1   0.0000\\n     2 O1        0.2274   -2.3088    0.3646   O.3       1 RES1   0.0000\\n     3 H1        0.8161   -2.9143   -0.0982   H         1 RES1   0.0000\\n     4 H2       -0.2479   -2.8436    1.0095   H         1 RES1   0.0000\\n     5 O2       -1.6658   -0.4170   -1.6037   O.3       1 RES1   0.0000\\n     6 H3       -2.1527    0.2355   -2.1180   H         1 RES1   0.0000\\n     7 H4       -2.0014   -1.2760   -1.8813   H         1 RES1   0.0000\\n     8 O3       -0.2292    2.3105   -0.3592   O.3       1 RES1   0.0000\\n     9 H5        0.2488    2.8489   -0.9989   H         1 RES1   0.0000\\n    10 H6       -0.8217    2.9130    0.1028   H         1 RES1   0.0000\\n    11 O4        1.6404   -0.1013   -1.6787   O.3       1 RES1   0.0000\\n    12 H7        2.5903    0.0140   -1.5685   H         1 RES1   0.0000\\n    13 H8        1.5013   -0.2653   -2.6175   H         1 RES1   0.0000\\n    14 O5       -1.6398    0.1007    1.6784   O.3       1 RES1   0.0000\\n    15 H9       -1.4992    0.2613    2.6176   H         1 RES1   0.0000\\n    16 H10      -2.5900   -0.0088    1.5687   H         1 RES1   0.0000\\n    17 O6        1.6675    0.4148    1.6007   O.3       1 RES1   0.0000\\n    18 H11       2.0038    1.2730    1.8797   H         1 RES1   0.0000\\n    19 H12       2.1552   -0.2394    2.1126   H         1 RES1   0.0000\\n@<TRIPOS>BOND\\n     1     1     2    1\\n     2     1     5    1\\n     3     1     8    1\\n     4     1    11    1\\n     5     1    14    1\\n     6     1    17    1\\n     7     2     3    1\\n     8     2     4    1\\n     9     5     6    1\\n    10     5     7    1\\n    11     8     9    1\\n    12     8    10    1\\n    13    11    12    1\\n    14    11    13    1\\n    15    14    15    1\\n    16    14    16    1\\n    17    17    18    1\\n    18    17    19    1\\n@<TRIPOS>SUBSTRUCTURE\\n     1 RES1       19 GROUP             0 ****  ****    0  \\n\",\"mol2\");\n",
       "\tviewergrid_1689793676888488[0][0].addStyle({\"sphere\": {\"colorscheme\": \"Jmol\", \"scale\": 0.3}});\n",
       "\tviewergrid_1689793676888488[0][0].setStyle({\"elem\": \"Fe\"},{\"sphere\": {\"colorscheme\": \"Jmol\", \"scale\": 0.75}});\n",
       "\tviewergrid_1689793676888488[0][0].addStyle({\"stick\": {\"colorscheme\": \"Jmol\", \"radius\": 0.25}});\n",
       "\tviewergrid_1689793676888488[0][0].zoomTo();\n",
       "\tviewergrid_1689793676888488[0][1].addModel(\"@<TRIPOS>MOLECULE\\ntmp.mol2 Charge: 2 Unpaired_Electrons: 4 XTB_Unpaired_Electrons: 4 XTB_Charge: 2\\n    19    18     1     0     0\\nSMALL\\nNoCharges\\n****\\nGenerated from Architector\\n\\n@<TRIPOS>ATOM\\n     1 Fe1      -0.0002   -0.0002   -0.0004   Fe        1 RES1   0.0000\\n     2 O1        1.3999   -1.1795   -1.4723   O.3       1 RES1   0.0000\\n     3 H1        2.2399   -1.6009   -1.2614   H         1 RES1   0.0000\\n     4 H2        1.2520   -1.3400   -2.4103   H         1 RES1   0.0000\\n     5 O2       -1.5013    0.4141   -1.7589   O.3       1 RES1   0.0000\\n     6 H3       -1.4961    1.1657   -2.3611   H         1 RES1   0.0000\\n     7 H4       -2.2471   -0.1334   -2.0263   H         1 RES1   0.0000\\n     8 O3        1.1444    1.9877   -0.5059   O.3       1 RES1   0.0000\\n     9 H5        0.9632    2.8664   -0.1559   H         1 RES1   0.0000\\n    10 H6        1.8887    2.0916   -1.1081   H         1 RES1   0.0000\\n    11 O4        1.5001   -0.4135    1.7592   O.3       1 RES1   0.0000\\n    12 H7        2.2386    0.1402    2.0339   H         1 RES1   0.0000\\n    13 H8        1.5024   -1.1710    2.3540   H         1 RES1   0.0000\\n    14 O5       -1.1422   -1.9888    0.5087   O.3       1 RES1   0.0000\\n    15 H9       -0.9686   -2.8656    0.1500   H         1 RES1   0.0000\\n    16 H10      -1.8797   -2.0944    1.1190   H         1 RES1   0.0000\\n    17 O6       -1.4001    1.1809    1.4704   O.3       1 RES1   0.0000\\n    18 H11      -1.2528    1.3417    2.4084   H         1 RES1   0.0000\\n    19 H12      -2.2403    1.6014    1.2591   H         1 RES1   0.0000\\n@<TRIPOS>BOND\\n     1     1     2    1\\n     2     1     5    1\\n     3     1     8    1\\n     4     1    11    1\\n     5     1    14    1\\n     6     1    17    1\\n     7     2     3    1\\n     8     2     4    1\\n     9     5     6    1\\n    10     5     7    1\\n    11     8     9    1\\n    12     8    10    1\\n    13    11    12    1\\n    14    11    13    1\\n    15    14    15    1\\n    16    14    16    1\\n    17    17    18    1\\n    18    17    19    1\\n@<TRIPOS>SUBSTRUCTURE\\n     1 RES1       19 GROUP             0 ****  ****    0  \\n\",\"mol2\");\n",
       "\tviewergrid_1689793676888488[0][1].addStyle({\"sphere\": {\"colorscheme\": \"Jmol\", \"scale\": 0.3}});\n",
       "\tviewergrid_1689793676888488[0][1].setStyle({\"elem\": \"Fe\"},{\"sphere\": {\"colorscheme\": \"Jmol\", \"scale\": 0.75}});\n",
       "\tviewergrid_1689793676888488[0][1].addStyle({\"stick\": {\"colorscheme\": \"Jmol\", \"radius\": 0.25}});\n",
       "\tviewergrid_1689793676888488[0][1].zoomTo();\n",
       "\tviewergrid_1689793676888488[0][2].addModel(\"@<TRIPOS>MOLECULE\\ntmp.mol2 Charge: 2 Unpaired_Electrons: 4 XTB_Unpaired_Electrons: 4 XTB_Charge: 2\\n    19    18     1     0     0\\nSMALL\\nNoCharges\\n****\\nGenerated from Architector\\n\\n@<TRIPOS>ATOM\\n     1 Fe1      -0.0001    0.0002   -0.0002   Fe        1 RES1   0.0000\\n     2 O1       -1.0350    2.1036    0.1474   O.3       1 RES1   0.0000\\n     3 H1       -0.7863    2.8336    0.7243   H         1 RES1   0.0000\\n     4 H2       -1.7963    2.4120   -0.3555   H         1 RES1   0.0000\\n     5 O2       -1.4356   -0.8236    1.6667   O.3       1 RES1   0.0000\\n     6 H3       -1.4505   -1.7146    2.0315   H         1 RES1   0.0000\\n     7 H4       -2.1298   -0.3389    2.1254   H         1 RES1   0.0000\\n     8 O3        1.5444    0.6432    1.6488   O.3       1 RES1   0.0000\\n     9 H5        2.3961    1.0710    1.5104   H         1 RES1   0.0000\\n    10 H6        1.4554    0.5340    2.6015   H         1 RES1   0.0000\\n    11 O4        1.4382    0.8229   -1.6651   O.3       1 RES1   0.0000\\n    12 H7        1.4555    1.7145   -2.0287   H         1 RES1   0.0000\\n    13 H8        2.1305    0.3367   -2.1252   H         1 RES1   0.0000\\n    14 O5        1.0332   -2.1042   -0.1484   O.3       1 RES1   0.0000\\n    15 H9        1.7947   -2.4132    0.3535   H         1 RES1   0.0000\\n    16 H10       0.7835   -2.8337   -0.7256   H         1 RES1   0.0000\\n    17 O6       -1.5449   -0.6425   -1.6489   O.3       1 RES1   0.0000\\n    18 H11      -2.3963   -1.0709   -1.5103   H         1 RES1   0.0000\\n    19 H12      -1.4572   -0.5311   -2.6014   H         1 RES1   0.0000\\n@<TRIPOS>BOND\\n     1     1     2    1\\n     2     1     5    1\\n     3     1     8    1\\n     4     1    11    1\\n     5     1    14    1\\n     6     1    17    1\\n     7     2     3    1\\n     8     2     4    1\\n     9     5     6    1\\n    10     5     7    1\\n    11     8     9    1\\n    12     8    10    1\\n    13    11    12    1\\n    14    11    13    1\\n    15    14    15    1\\n    16    14    16    1\\n    17    17    18    1\\n    18    17    19    1\\n@<TRIPOS>SUBSTRUCTURE\\n     1 RES1       19 GROUP             0 ****  ****    0  \\n\",\"mol2\");\n",
       "\tviewergrid_1689793676888488[0][2].addStyle({\"sphere\": {\"colorscheme\": \"Jmol\", \"scale\": 0.3}});\n",
       "\tviewergrid_1689793676888488[0][2].setStyle({\"elem\": \"Fe\"},{\"sphere\": {\"colorscheme\": \"Jmol\", \"scale\": 0.75}});\n",
       "\tviewergrid_1689793676888488[0][2].addStyle({\"stick\": {\"colorscheme\": \"Jmol\", \"radius\": 0.25}});\n",
       "\tviewergrid_1689793676888488[0][2].zoomTo();\n",
       "viewergrid_1689793676888488[0][3].render();\n",
       "viewergrid_1689793676888488[0][2].render();\n",
       "viewergrid_1689793676888488[0][1].render();\n",
       "viewergrid_1689793676888488[0][0].render();\n",
       "});\n",
       "</script>"
      ]
     },
     "metadata": {},
     "output_type": "display_data"
    }
   ],
   "source": [
    "# Now all the structures look very similar:\n",
    "view_structures(out4)"
   ]
  },
  {
   "cell_type": "code",
   "execution_count": 20,
   "id": "663dfb86",
   "metadata": {},
   "outputs": [
    {
     "name": "stdout",
     "output_type": "stream",
     "text": [
      "Conformer: 0 -892.714735399176\n",
      "Conformer: 1 -892.7147375760879\n",
      "Conformer: 2 -892.714740841456\n"
     ]
    }
   ],
   "source": [
    "# Here, all output conformers should now be lower-in-energy:\n",
    "for i,(key,val) in enumerate(out4.items()):\n",
    "    print('Conformer:',i,val['energy'])"
   ]
  },
  {
   "cell_type": "code",
   "execution_count": null,
   "id": "bacc8161",
   "metadata": {},
   "outputs": [],
   "source": []
  }
 ],
 "metadata": {
  "kernelspec": {
   "display_name": "Python 3 (ipykernel)",
   "language": "python",
   "name": "python3"
  },
  "language_info": {
   "codemirror_mode": {
    "name": "ipython",
    "version": 3
   },
   "file_extension": ".py",
   "mimetype": "text/x-python",
   "name": "python",
   "nbconvert_exporter": "python",
   "pygments_lexer": "ipython3",
   "version": "3.10.8"
  }
 },
 "nbformat": 4,
 "nbformat_minor": 5
}
